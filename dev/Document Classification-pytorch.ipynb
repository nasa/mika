{
 "cells": [
  {
   "cell_type": "code",
   "execution_count": 1,
   "id": "48d33744",
   "metadata": {},
   "outputs": [],
   "source": [
    "import pandas as pd\n",
    "import os\n",
    "import numpy as np\n",
    "import string\n",
    "import matplotlib.pyplot as plt"
   ]
  },
  {
   "cell_type": "code",
   "execution_count": 2,
   "id": "026f578f",
   "metadata": {},
   "outputs": [],
   "source": [
    "#https://github.com/huggingface/notebooks/blob/main/examples/text_classification-tf.ipynb"
   ]
  },
  {
   "cell_type": "code",
   "execution_count": 3,
   "id": "2f1f0f3d",
   "metadata": {},
   "outputs": [
    {
     "name": "stderr",
     "output_type": "stream",
     "text": [
      "c:\\Users\\srandrad\\Anaconda3\\envs\\MIKA\\lib\\site-packages\\tqdm\\auto.py:22: TqdmWarning: IProgress not found. Please update jupyter and ipywidgets. See https://ipywidgets.readthedocs.io/en/stable/user_install.html\n",
      "  from .autonotebook import tqdm as notebook_tqdm\n"
     ]
    }
   ],
   "source": [
    "from transformers import TrainingArguments, Trainer\n",
    "from transformers import AutoModelForSequenceClassification, AutoTokenizer\n",
    "import datasets\n",
    "from datasets import Dataset, concatenate_datasets, DatasetDict\n",
    "from sklearn.model_selection import train_test_split \n",
    "from sklearn.metrics import confusion_matrix, classification_report, precision_recall_fscore_support, accuracy_score\n",
    "\n",
    "import seaborn as sns"
   ]
  },
  {
   "cell_type": "code",
   "execution_count": 4,
   "id": "864555a3",
   "metadata": {},
   "outputs": [
    {
     "name": "stderr",
     "output_type": "stream",
     "text": [
      "c:\\Users\\srandrad\\Anaconda3\\envs\\MIKA\\lib\\site-packages\\bertopic\\_utils.py:4: DeprecationWarning: Please use `csr_matrix` from the `scipy.sparse` namespace, the `scipy.sparse.csr` namespace is deprecated.\n",
      "  from scipy.sparse.csr import csr_matrix\n",
      "c:\\Users\\srandrad\\smart_nlp\\dev\\..\\mika\\kd\\NER.py:22: MatplotlibDeprecationWarning: The seaborn styles shipped by Matplotlib are deprecated since 3.6, as they no longer correspond to the styles shipped by seaborn. However, they will remain available as 'seaborn-v0_8-<style>'. Alternatively, directly use the seaborn API instead.\n",
      "  matplotlib.style.use(\"seaborn\")\n"
     ]
    }
   ],
   "source": [
    "import sys, os\n",
    "sys.path.append(os.path.join(\"..\"))\n",
    "from mika.utils import Data\n",
    "from mika.kd.NER import plot_eval_results\n",
    "os.environ[\"CUDA_LAUNCH_BLOCKING\"] = \"1\""
   ]
  },
  {
   "cell_type": "code",
   "execution_count": 8,
   "id": "44f57e57",
   "metadata": {},
   "outputs": [],
   "source": [
    "# filename = r\"C:\\Users\\srandrad\\smart_nlp\\models\\SafeAeroBERT\\checkpoint-1000\\trainer_state.json\" # os.path.join(os.path.abspath(os.path.join(os.getcwd(), os.pardir, os.pardir, os.pardir, os.pardir)),\"models\", \"FMEA-ner-model\", \"checkpoint-\"+str(num_steps), \"trainer_state.json\")\n",
    "# plot_eval_results(filename, save=True, savepath='', metrics=False)"
   ]
  },
  {
   "cell_type": "markdown",
   "id": "9cf77937",
   "metadata": {
    "id": "pDNKfAXbDnJH"
   },
   "source": [
    "## Load in Data"
   ]
  },
  {
   "cell_type": "code",
   "execution_count": 5,
   "id": "c973e2cd",
   "metadata": {},
   "outputs": [
    {
     "name": "stderr",
     "output_type": "stream",
     "text": [
      "..\\mika\\utils\\Data.py:126: DtypeWarning: Columns (1,2,6,7,8,9,10,16,20,21,36,37,38,41,42,59,60,64,68,69,70,71,72,73,74,75,76,77,78,79,80,81,84,85,86,88,89,90,101,111,112,124) have mixed types. Specify dtype option on import or set low_memory=False.\n",
      "  self.data_df = pd.read_csv(open(filename,encoding='utf8',errors='ignore'), **kwargs)\n",
      "Combining Columns…: 100%|███████████████████████████████████████████████████| 262935/262935 [00:05<00:00, 51955.95it/s]"
     ]
    },
    {
     "name": "stdout",
     "output_type": "stream",
     "text": [
      "data preparation:  0.08 minutes \n",
      "\n"
     ]
    },
    {
     "name": "stderr",
     "output_type": "stream",
     "text": [
      "\n",
      "..\\mika\\utils\\Data.py:214: PerformanceWarning: DataFrame is highly fragmented.  This is usually the result of calling `frame.insert` many times, which has poor performance.  Consider joining all columns at once using pd.concat(axis=1) instead. To get a de-fragmented frame, use `newframe = frame.copy()`\n",
      "  self.data_df[\"Combined Text\"] = combined_text\n"
     ]
    }
   ],
   "source": [
    "ASRS_file = os.path.join(os.path.abspath(os.path.join(os.getcwd(), os.pardir)),'data/ASRS/ASRS_1988_2022.csv')\n",
    "ASRS_id_col = 'ACN'\n",
    "ASRS_text_cols = ['Report 1', 'Report 1.1', 'Report 2',\t'Report 2.1', 'Report 1.2']\n",
    "ASRS = Data()\n",
    "ASRS.load(ASRS_file, id_col=ASRS_id_col, text_columns=ASRS_text_cols)\n",
    "ASRS.prepare_data(combine_columns=ASRS_text_cols, remove_incomplete_rows=False)\n",
    "ASRS_df = ASRS.data_df"
   ]
  },
  {
   "cell_type": "code",
   "execution_count": 6,
   "id": "318abed5",
   "metadata": {},
   "outputs": [
    {
     "data": {
      "text/html": [
       "<div>\n",
       "<style scoped>\n",
       "    .dataframe tbody tr th:only-of-type {\n",
       "        vertical-align: middle;\n",
       "    }\n",
       "\n",
       "    .dataframe tbody tr th {\n",
       "        vertical-align: top;\n",
       "    }\n",
       "\n",
       "    .dataframe thead th {\n",
       "        text-align: right;\n",
       "    }\n",
       "</style>\n",
       "<table border=\"1\" class=\"dataframe\">\n",
       "  <thead>\n",
       "    <tr style=\"text-align: right;\">\n",
       "      <th></th>\n",
       "      <th>ACN</th>\n",
       "      <th>Time</th>\n",
       "      <th>Time.1</th>\n",
       "      <th>Place</th>\n",
       "      <th>Place.1</th>\n",
       "      <th>Place.2</th>\n",
       "      <th>Place.3</th>\n",
       "      <th>Place.4</th>\n",
       "      <th>Place.5</th>\n",
       "      <th>Place.6</th>\n",
       "      <th>...</th>\n",
       "      <th>Events.4</th>\n",
       "      <th>Events.5</th>\n",
       "      <th>Assessments</th>\n",
       "      <th>Assessments.1</th>\n",
       "      <th>Report 1</th>\n",
       "      <th>Report 1.1</th>\n",
       "      <th>Report 2</th>\n",
       "      <th>Report 2.1</th>\n",
       "      <th>Report 1.2</th>\n",
       "      <th>Combined Text</th>\n",
       "    </tr>\n",
       "  </thead>\n",
       "  <tbody>\n",
       "    <tr>\n",
       "      <th>0</th>\n",
       "      <td>79866</td>\n",
       "      <td>198801</td>\n",
       "      <td>1801-2400</td>\n",
       "      <td>CVG</td>\n",
       "      <td>OH</td>\n",
       "      <td>60</td>\n",
       "      <td>35</td>\n",
       "      <td></td>\n",
       "      <td>31000</td>\n",
       "      <td></td>\n",
       "      <td>...</td>\n",
       "      <td></td>\n",
       "      <td>Air Traffic Control Issued New Clearance</td>\n",
       "      <td></td>\n",
       "      <td>Human Factors</td>\n",
       "      <td>WE WERE IN OUR CLB FROM CMH TO DFW; WITH A CLR...</td>\n",
       "      <td></td>\n",
       "      <td></td>\n",
       "      <td></td>\n",
       "      <td>AFTER LEAVING FL320 MLG INSTRUCTED TO DES TO F...</td>\n",
       "      <td>WE WERE IN OUR CLB FROM CMH TO DFW; WITH A CLR...</td>\n",
       "    </tr>\n",
       "    <tr>\n",
       "      <th>1</th>\n",
       "      <td>79912</td>\n",
       "      <td>198801</td>\n",
       "      <td>1201-1800</td>\n",
       "      <td>SEA; BFI</td>\n",
       "      <td>WA</td>\n",
       "      <td></td>\n",
       "      <td>6</td>\n",
       "      <td></td>\n",
       "      <td>900</td>\n",
       "      <td></td>\n",
       "      <td>...</td>\n",
       "      <td></td>\n",
       "      <td>Flight Crew Exited Penetrated Airspace</td>\n",
       "      <td></td>\n",
       "      <td>Human Factors</td>\n",
       "      <td>THIS WAS MY FIRST DEP FROM BFI ON 31L. MY TURN...</td>\n",
       "      <td></td>\n",
       "      <td></td>\n",
       "      <td></td>\n",
       "      <td>SMA PENETRATED TCA ON CLIMB OUT.</td>\n",
       "      <td>THIS WAS MY FIRST DEP FROM BFI ON 31L. MY TURN...</td>\n",
       "    </tr>\n",
       "    <tr>\n",
       "      <th>2</th>\n",
       "      <td>79965</td>\n",
       "      <td>198801</td>\n",
       "      <td>1201-1800</td>\n",
       "      <td>DEN</td>\n",
       "      <td>CO</td>\n",
       "      <td></td>\n",
       "      <td>20</td>\n",
       "      <td></td>\n",
       "      <td>7500</td>\n",
       "      <td></td>\n",
       "      <td>...</td>\n",
       "      <td></td>\n",
       "      <td>General None Reported / Taken</td>\n",
       "      <td></td>\n",
       "      <td>Human Factors</td>\n",
       "      <td>A VFR FLT; BEING CONDUCTED UNDER FAR PART 91; ...</td>\n",
       "      <td></td>\n",
       "      <td></td>\n",
       "      <td></td>\n",
       "      <td>SMT PLT DESCENDED TO ARPT UNDERLYING TCA; ACCU...</td>\n",
       "      <td>A VFR FLT; BEING CONDUCTED UNDER FAR PART 91; ...</td>\n",
       "    </tr>\n",
       "    <tr>\n",
       "      <th>3</th>\n",
       "      <td>79997</td>\n",
       "      <td>198801</td>\n",
       "      <td>1201-1800</td>\n",
       "      <td>LUK</td>\n",
       "      <td>OH</td>\n",
       "      <td></td>\n",
       "      <td>5</td>\n",
       "      <td>0</td>\n",
       "      <td></td>\n",
       "      <td></td>\n",
       "      <td>...</td>\n",
       "      <td></td>\n",
       "      <td>General None Reported / Taken</td>\n",
       "      <td></td>\n",
       "      <td>Human Factors</td>\n",
       "      <td>SITUATION BEGAN ON A ROUTINE VFR PLEASURE FLT ...</td>\n",
       "      <td></td>\n",
       "      <td></td>\n",
       "      <td></td>\n",
       "      <td>ATCT LCL CTLR MIXES UP CALL SIGNS.</td>\n",
       "      <td>SITUATION BEGAN ON A ROUTINE VFR PLEASURE FLT ...</td>\n",
       "    </tr>\n",
       "    <tr>\n",
       "      <th>4</th>\n",
       "      <td>79998</td>\n",
       "      <td>198801</td>\n",
       "      <td>1201-1800</td>\n",
       "      <td>PUT; BOS</td>\n",
       "      <td>MA</td>\n",
       "      <td></td>\n",
       "      <td>20</td>\n",
       "      <td></td>\n",
       "      <td>28000</td>\n",
       "      <td></td>\n",
       "      <td>...</td>\n",
       "      <td></td>\n",
       "      <td>Air Traffic Control Issued New Clearance; Flig...</td>\n",
       "      <td></td>\n",
       "      <td>Human Factors</td>\n",
       "      <td>CLRD DIRECT PVT VOR AFTER TKOF BOS. USING R NA...</td>\n",
       "      <td></td>\n",
       "      <td></td>\n",
       "      <td></td>\n",
       "      <td>FMS STEERED ACFT SOME 20-25 MI OFF COURSE WITH...</td>\n",
       "      <td>CLRD DIRECT PVT VOR AFTER TKOF BOS. USING R NA...</td>\n",
       "    </tr>\n",
       "    <tr>\n",
       "      <th>...</th>\n",
       "      <td>...</td>\n",
       "      <td>...</td>\n",
       "      <td>...</td>\n",
       "      <td>...</td>\n",
       "      <td>...</td>\n",
       "      <td>...</td>\n",
       "      <td>...</td>\n",
       "      <td>...</td>\n",
       "      <td>...</td>\n",
       "      <td>...</td>\n",
       "      <td>...</td>\n",
       "      <td>...</td>\n",
       "      <td>...</td>\n",
       "      <td>...</td>\n",
       "      <td>...</td>\n",
       "      <td>...</td>\n",
       "      <td>...</td>\n",
       "      <td>...</td>\n",
       "      <td>...</td>\n",
       "      <td>...</td>\n",
       "      <td>...</td>\n",
       "    </tr>\n",
       "    <tr>\n",
       "      <th>262930</th>\n",
       "      <td>1917014</td>\n",
       "      <td>202207</td>\n",
       "      <td>0601-1200</td>\n",
       "      <td>ZLC.ARTCC</td>\n",
       "      <td>UT</td>\n",
       "      <td></td>\n",
       "      <td></td>\n",
       "      <td></td>\n",
       "      <td>11500.0</td>\n",
       "      <td></td>\n",
       "      <td>...</td>\n",
       "      <td>In-flight</td>\n",
       "      <td>General None Reported / Taken</td>\n",
       "      <td>Chart Or Publication; Environment - Non Weathe...</td>\n",
       "      <td>Chart Or Publication</td>\n",
       "      <td>I cleared Aircraft X for an ILS Approach at WY...</td>\n",
       "      <td></td>\n",
       "      <td></td>\n",
       "      <td></td>\n",
       "      <td>ZLC Center Controller reported an aircraft des...</td>\n",
       "      <td>I cleared Aircraft X for an ILS Approach at WY...</td>\n",
       "    </tr>\n",
       "    <tr>\n",
       "      <th>262931</th>\n",
       "      <td>1917514</td>\n",
       "      <td>202207</td>\n",
       "      <td>0601-1200</td>\n",
       "      <td>ZZZ.Tower</td>\n",
       "      <td>US</td>\n",
       "      <td></td>\n",
       "      <td>0.0</td>\n",
       "      <td>150.0</td>\n",
       "      <td></td>\n",
       "      <td></td>\n",
       "      <td>...</td>\n",
       "      <td>In-flight</td>\n",
       "      <td>Air Traffic Control Provided Assistance; Fligh...</td>\n",
       "      <td>Aircraft</td>\n",
       "      <td>Aircraft</td>\n",
       "      <td>During a normal take off roll after liftoff at...</td>\n",
       "      <td></td>\n",
       "      <td></td>\n",
       "      <td></td>\n",
       "      <td>CE-441 pilot reported during initial climbout ...</td>\n",
       "      <td>During a normal take off roll after liftoff at...</td>\n",
       "    </tr>\n",
       "    <tr>\n",
       "      <th>262932</th>\n",
       "      <td>1917537</td>\n",
       "      <td>202207</td>\n",
       "      <td></td>\n",
       "      <td>TSP.Airport</td>\n",
       "      <td>CA</td>\n",
       "      <td></td>\n",
       "      <td></td>\n",
       "      <td></td>\n",
       "      <td></td>\n",
       "      <td></td>\n",
       "      <td>...</td>\n",
       "      <td></td>\n",
       "      <td>General None Reported / Taken</td>\n",
       "      <td>Airport; Airspace Structure; Procedure; Human ...</td>\n",
       "      <td>Airspace Structure</td>\n",
       "      <td>Our concern here in the Tehachapi Valley are t...</td>\n",
       "      <td></td>\n",
       "      <td></td>\n",
       "      <td></td>\n",
       "      <td>Local pilot at TSP reported the County designa...</td>\n",
       "      <td>Our concern here in the Tehachapi Valley are t...</td>\n",
       "    </tr>\n",
       "    <tr>\n",
       "      <th>262933</th>\n",
       "      <td>1917705</td>\n",
       "      <td>202207</td>\n",
       "      <td></td>\n",
       "      <td>ZJX.ARTCC</td>\n",
       "      <td>FL</td>\n",
       "      <td></td>\n",
       "      <td></td>\n",
       "      <td></td>\n",
       "      <td>29000.0</td>\n",
       "      <td></td>\n",
       "      <td>...</td>\n",
       "      <td></td>\n",
       "      <td>Air Traffic Control Issued New Clearance; Air ...</td>\n",
       "      <td>Human Factors; Chart Or Publication; Airspace ...</td>\n",
       "      <td>Chart Or Publication</td>\n",
       "      <td>Summer flying dodging T storms on descent into...</td>\n",
       "      <td></td>\n",
       "      <td></td>\n",
       "      <td></td>\n",
       "      <td>An air carrier pilot descending into MCO repor...</td>\n",
       "      <td>Summer flying dodging T storms on descent into...</td>\n",
       "    </tr>\n",
       "    <tr>\n",
       "      <th>262934</th>\n",
       "      <td>1917794</td>\n",
       "      <td>202207</td>\n",
       "      <td>1201-1800</td>\n",
       "      <td>ZLA.ARTCC</td>\n",
       "      <td>CA</td>\n",
       "      <td></td>\n",
       "      <td></td>\n",
       "      <td></td>\n",
       "      <td></td>\n",
       "      <td></td>\n",
       "      <td>...</td>\n",
       "      <td>In-flight</td>\n",
       "      <td>Air Traffic Control Issued New Clearance; Air ...</td>\n",
       "      <td>Airspace Structure; Chart Or Publication; Huma...</td>\n",
       "      <td>Procedure</td>\n",
       "      <td>Filed flight plan and clearance did not includ...</td>\n",
       "      <td></td>\n",
       "      <td>Flying the route from BASIC to COKTL as filled...</td>\n",
       "      <td></td>\n",
       "      <td>Flight crew inbound to LAS reported they notic...</td>\n",
       "      <td>Filed flight plan and clearance did not includ...</td>\n",
       "    </tr>\n",
       "  </tbody>\n",
       "</table>\n",
       "<p>262935 rows × 126 columns</p>\n",
       "</div>"
      ],
      "text/plain": [
       "            ACN    Time     Time.1        Place Place.1 Place.2 Place.3  \\\n",
       "0         79866  198801  1801-2400          CVG      OH      60      35   \n",
       "1         79912  198801  1201-1800     SEA; BFI      WA               6   \n",
       "2         79965  198801  1201-1800          DEN      CO              20   \n",
       "3         79997  198801  1201-1800          LUK      OH               5   \n",
       "4         79998  198801  1201-1800     PUT; BOS      MA              20   \n",
       "...         ...     ...        ...          ...     ...     ...     ...   \n",
       "262930  1917014  202207  0601-1200    ZLC.ARTCC      UT                   \n",
       "262931  1917514  202207  0601-1200    ZZZ.Tower      US             0.0   \n",
       "262932  1917537  202207             TSP.Airport      CA                   \n",
       "262933  1917705  202207               ZJX.ARTCC      FL                   \n",
       "262934  1917794  202207  1201-1800    ZLA.ARTCC      CA                   \n",
       "\n",
       "       Place.4  Place.5 Place.6  ...   Events.4  \\\n",
       "0                 31000          ...              \n",
       "1                   900          ...              \n",
       "2                  7500          ...              \n",
       "3            0                   ...              \n",
       "4                 28000          ...              \n",
       "...        ...      ...     ...  ...        ...   \n",
       "262930          11500.0          ...  In-flight   \n",
       "262931   150.0                   ...  In-flight   \n",
       "262932                           ...              \n",
       "262933          29000.0          ...              \n",
       "262934                           ...  In-flight   \n",
       "\n",
       "                                                 Events.5  \\\n",
       "0                Air Traffic Control Issued New Clearance   \n",
       "1                  Flight Crew Exited Penetrated Airspace   \n",
       "2                           General None Reported / Taken   \n",
       "3                           General None Reported / Taken   \n",
       "4       Air Traffic Control Issued New Clearance; Flig...   \n",
       "...                                                   ...   \n",
       "262930                      General None Reported / Taken   \n",
       "262931  Air Traffic Control Provided Assistance; Fligh...   \n",
       "262932                      General None Reported / Taken   \n",
       "262933  Air Traffic Control Issued New Clearance; Air ...   \n",
       "262934  Air Traffic Control Issued New Clearance; Air ...   \n",
       "\n",
       "                                              Assessments  \\\n",
       "0                                                           \n",
       "1                                                           \n",
       "2                                                           \n",
       "3                                                           \n",
       "4                                                           \n",
       "...                                                   ...   \n",
       "262930  Chart Or Publication; Environment - Non Weathe...   \n",
       "262931                                           Aircraft   \n",
       "262932  Airport; Airspace Structure; Procedure; Human ...   \n",
       "262933  Human Factors; Chart Or Publication; Airspace ...   \n",
       "262934  Airspace Structure; Chart Or Publication; Huma...   \n",
       "\n",
       "               Assessments.1  \\\n",
       "0              Human Factors   \n",
       "1              Human Factors   \n",
       "2              Human Factors   \n",
       "3              Human Factors   \n",
       "4              Human Factors   \n",
       "...                      ...   \n",
       "262930  Chart Or Publication   \n",
       "262931              Aircraft   \n",
       "262932    Airspace Structure   \n",
       "262933  Chart Or Publication   \n",
       "262934             Procedure   \n",
       "\n",
       "                                                 Report 1 Report 1.1  \\\n",
       "0       WE WERE IN OUR CLB FROM CMH TO DFW; WITH A CLR...              \n",
       "1       THIS WAS MY FIRST DEP FROM BFI ON 31L. MY TURN...              \n",
       "2       A VFR FLT; BEING CONDUCTED UNDER FAR PART 91; ...              \n",
       "3       SITUATION BEGAN ON A ROUTINE VFR PLEASURE FLT ...              \n",
       "4       CLRD DIRECT PVT VOR AFTER TKOF BOS. USING R NA...              \n",
       "...                                                   ...        ...   \n",
       "262930  I cleared Aircraft X for an ILS Approach at WY...              \n",
       "262931  During a normal take off roll after liftoff at...              \n",
       "262932  Our concern here in the Tehachapi Valley are t...              \n",
       "262933  Summer flying dodging T storms on descent into...              \n",
       "262934  Filed flight plan and clearance did not includ...              \n",
       "\n",
       "                                                 Report 2 Report 2.1  \\\n",
       "0                                                                      \n",
       "1                                                                      \n",
       "2                                                                      \n",
       "3                                                                      \n",
       "4                                                                      \n",
       "...                                                   ...        ...   \n",
       "262930                                                                 \n",
       "262931                                                                 \n",
       "262932                                                                 \n",
       "262933                                                                 \n",
       "262934  Flying the route from BASIC to COKTL as filled...              \n",
       "\n",
       "                                               Report 1.2  \\\n",
       "0       AFTER LEAVING FL320 MLG INSTRUCTED TO DES TO F...   \n",
       "1                        SMA PENETRATED TCA ON CLIMB OUT.   \n",
       "2       SMT PLT DESCENDED TO ARPT UNDERLYING TCA; ACCU...   \n",
       "3                      ATCT LCL CTLR MIXES UP CALL SIGNS.   \n",
       "4       FMS STEERED ACFT SOME 20-25 MI OFF COURSE WITH...   \n",
       "...                                                   ...   \n",
       "262930  ZLC Center Controller reported an aircraft des...   \n",
       "262931  CE-441 pilot reported during initial climbout ...   \n",
       "262932  Local pilot at TSP reported the County designa...   \n",
       "262933  An air carrier pilot descending into MCO repor...   \n",
       "262934  Flight crew inbound to LAS reported they notic...   \n",
       "\n",
       "                                            Combined Text  \n",
       "0       WE WERE IN OUR CLB FROM CMH TO DFW; WITH A CLR...  \n",
       "1       THIS WAS MY FIRST DEP FROM BFI ON 31L. MY TURN...  \n",
       "2       A VFR FLT; BEING CONDUCTED UNDER FAR PART 91; ...  \n",
       "3       SITUATION BEGAN ON A ROUTINE VFR PLEASURE FLT ...  \n",
       "4       CLRD DIRECT PVT VOR AFTER TKOF BOS. USING R NA...  \n",
       "...                                                   ...  \n",
       "262930  I cleared Aircraft X for an ILS Approach at WY...  \n",
       "262931  During a normal take off roll after liftoff at...  \n",
       "262932  Our concern here in the Tehachapi Valley are t...  \n",
       "262933  Summer flying dodging T storms on descent into...  \n",
       "262934  Filed flight plan and clearance did not includ...  \n",
       "\n",
       "[262935 rows x 126 columns]"
      ]
     },
     "execution_count": 6,
     "metadata": {},
     "output_type": "execute_result"
    }
   ],
   "source": [
    "ASRS_df"
   ]
  },
  {
   "cell_type": "code",
   "execution_count": 7,
   "id": "355fd4c7",
   "metadata": {},
   "outputs": [
    {
     "name": "stdout",
     "output_type": "stream",
     "text": [
      "(array(['', 'ATC Equipment / Nav Facility / Buildings', 'Aircraft',\n",
      "       'Airport', 'Airspace Structure', 'Chart Or Publication',\n",
      "       'Company Policy', 'Contributing Factors / Situations',\n",
      "       'Environment - Non Weather Related', 'Equipment / Tooling',\n",
      "       'Human Factors', 'Incorrect / Not Installed / Unavailable Part',\n",
      "       'Logbook Entry', 'MEL', 'Manuals', 'Procedure',\n",
      "       'Software and Automation', 'Staffing', 'Weather'], dtype='<U44'), array([ 85916,   7346,  68440,  18530,  14277,  15141,  24635,     76,\n",
      "        18443,   1659, 118600,   2697,   4597,   1165,   4594,  38502,\n",
      "          334,   1677,  18305], dtype=int64))\n"
     ]
    }
   ],
   "source": [
    "contributing_factors = [f for factors in ASRS_df['Assessments'].tolist() if type(factors) is str for f in factors.split(\"; \") ]\n",
    "print(np.unique(contributing_factors, return_counts=True))\n",
    "factor, counts = np.unique(contributing_factors, return_counts=True)"
   ]
  },
  {
   "cell_type": "code",
   "execution_count": 8,
   "id": "aaff1c7e",
   "metadata": {},
   "outputs": [
    {
     "data": {
      "image/png": "[encoded data removed]",
      "text/plain": [
       "<Figure size 576x396 with 1 Axes>"
      ]
     },
     "metadata": {},
     "output_type": "display_data"
    }
   ],
   "source": [
    "fig, ax = plt.subplots()\n",
    "plt.bar(x=[i for i in range(len(counts))], height=counts, tick_label=factor)\n",
    "ax.set_xticklabels(ax.get_xticklabels(), rotation=40, ha=\"right\")\n",
    "plt.show()"
   ]
  },
  {
   "cell_type": "code",
   "execution_count": 9,
   "id": "f136bc40",
   "metadata": {},
   "outputs": [
    {
     "name": "stdout",
     "output_type": "stream",
     "text": [
      "262935 262935\n"
     ]
    }
   ],
   "source": [
    "doc_cats = ['Human Factors', 'Weather', 'Software and Automation', 'Procedure', 'Airport', 'Airspace Structure', 'Aircraft', 'Environment - Non Weather Related']\n",
    "cat_indicators = {cat:[] for cat in doc_cats}\n",
    "for i in range(len(ASRS_df)):\n",
    "    for cat in cat_indicators:\n",
    "        if cat in str(ASRS_df.at[i,'Assessments']):\n",
    "            cat_indicators[cat].append(1)\n",
    "        else:\n",
    "            cat_indicators[cat].append(0)\n",
    "X = ASRS_df[\"Combined Text\"]\n",
    "y = pd.DataFrame(cat_indicators)\n",
    "print(len(X), len(y))"
   ]
  },
  {
   "cell_type": "code",
   "execution_count": 10,
   "id": "fde7782e",
   "metadata": {},
   "outputs": [],
   "source": [
    "def split_data(X, y, category, train_size=0.6, test_size=0.2, val_size=0.2, random_state=0):\n",
    "    X_train_val, X_test, y_train_val, y_test = train_test_split(X, y, test_size=test_size, train_size=train_size+val_size, random_state=random_state, stratify=y[category])\n",
    "    X_train, X_val, y_train, y_val = train_test_split(X_train_val, y_train_val, test_size=val_size/(train_size+val_size), random_state=random_state, stratify=y_train_val[category])\n",
    "    return X_train, X_test, X_val, y_train, y_test, y_val"
   ]
  },
  {
   "cell_type": "code",
   "execution_count": 11,
   "id": "88ba6903",
   "metadata": {},
   "outputs": [],
   "source": [
    "train_size = 8000\n",
    "test_size = 1000\n",
    "val_size = 1000"
   ]
  },
  {
   "cell_type": "code",
   "execution_count": 12,
   "id": "b55df85b",
   "metadata": {},
   "outputs": [],
   "source": [
    "X_train = {cat:[] for cat in doc_cats}\n",
    "X_test = {cat:[] for cat in doc_cats}\n",
    "X_val = {cat:[] for cat in doc_cats}\n",
    "y_train = {cat:[] for cat in doc_cats}\n",
    "y_test = {cat:[] for cat in doc_cats}\n",
    "y_val = {cat:[] for cat in doc_cats}\n",
    "for cat in doc_cats:\n",
    "    X_train_temp, X_test_temp, X_val_temp, y_train_temp, y_test_temp, y_val_temp = split_data(X, y, cat, train_size, test_size, val_size)\n",
    "    X_train[cat] = X_train_temp\n",
    "    X_test[cat] = X_test_temp\n",
    "    X_val[cat] = X_val_temp\n",
    "    y_train[cat] = y_train_temp\n",
    "    y_test[cat] = y_test_temp\n",
    "    y_val[cat] = y_val_temp\n",
    "    "
   ]
  },
  {
   "cell_type": "code",
   "execution_count": 13,
   "id": "09c6fece",
   "metadata": {},
   "outputs": [
    {
     "data": {
      "text/html": [
       "<div>\n",
       "<style scoped>\n",
       "    .dataframe tbody tr th:only-of-type {\n",
       "        vertical-align: middle;\n",
       "    }\n",
       "\n",
       "    .dataframe tbody tr th {\n",
       "        vertical-align: top;\n",
       "    }\n",
       "\n",
       "    .dataframe thead th {\n",
       "        text-align: right;\n",
       "    }\n",
       "</style>\n",
       "<table border=\"1\" class=\"dataframe\">\n",
       "  <thead>\n",
       "    <tr style=\"text-align: right;\">\n",
       "      <th></th>\n",
       "      <th></th>\n",
       "      <th>Human Factors</th>\n",
       "      <th>Weather</th>\n",
       "      <th>Software and Automation</th>\n",
       "      <th>Procedure</th>\n",
       "      <th>Airport</th>\n",
       "      <th>Airspace Structure</th>\n",
       "      <th>Aircraft</th>\n",
       "      <th>Environment - Non Weather Related</th>\n",
       "    </tr>\n",
       "  </thead>\n",
       "  <tbody>\n",
       "    <tr>\n",
       "      <th rowspan=\"3\" valign=\"top\">Train</th>\n",
       "      <th>0</th>\n",
       "      <td>4391</td>\n",
       "      <td>6965</td>\n",
       "      <td>7990</td>\n",
       "      <td>6828</td>\n",
       "      <td>7436</td>\n",
       "      <td>7565</td>\n",
       "      <td>5917</td>\n",
       "      <td>7439</td>\n",
       "    </tr>\n",
       "    <tr>\n",
       "      <th>1</th>\n",
       "      <td>3609</td>\n",
       "      <td>1035</td>\n",
       "      <td>10</td>\n",
       "      <td>1172</td>\n",
       "      <td>564</td>\n",
       "      <td>435</td>\n",
       "      <td>2083</td>\n",
       "      <td>561</td>\n",
       "    </tr>\n",
       "    <tr>\n",
       "      <th>total</th>\n",
       "      <td>8000</td>\n",
       "      <td>8000</td>\n",
       "      <td>8000</td>\n",
       "      <td>8000</td>\n",
       "      <td>8000</td>\n",
       "      <td>8000</td>\n",
       "      <td>8000</td>\n",
       "      <td>8000</td>\n",
       "    </tr>\n",
       "    <tr>\n",
       "      <th rowspan=\"3\" valign=\"top\">Validation</th>\n",
       "      <th>0</th>\n",
       "      <td>549</td>\n",
       "      <td>871</td>\n",
       "      <td>999</td>\n",
       "      <td>854</td>\n",
       "      <td>930</td>\n",
       "      <td>946</td>\n",
       "      <td>740</td>\n",
       "      <td>930</td>\n",
       "    </tr>\n",
       "    <tr>\n",
       "      <th>1</th>\n",
       "      <td>451</td>\n",
       "      <td>129</td>\n",
       "      <td>1</td>\n",
       "      <td>146</td>\n",
       "      <td>70</td>\n",
       "      <td>54</td>\n",
       "      <td>260</td>\n",
       "      <td>70</td>\n",
       "    </tr>\n",
       "    <tr>\n",
       "      <th>total</th>\n",
       "      <td>1000</td>\n",
       "      <td>1000</td>\n",
       "      <td>1000</td>\n",
       "      <td>1000</td>\n",
       "      <td>1000</td>\n",
       "      <td>1000</td>\n",
       "      <td>1000</td>\n",
       "      <td>1000</td>\n",
       "    </tr>\n",
       "    <tr>\n",
       "      <th rowspan=\"3\" valign=\"top\">Test</th>\n",
       "      <th>0</th>\n",
       "      <td>549</td>\n",
       "      <td>871</td>\n",
       "      <td>999</td>\n",
       "      <td>854</td>\n",
       "      <td>930</td>\n",
       "      <td>946</td>\n",
       "      <td>740</td>\n",
       "      <td>930</td>\n",
       "    </tr>\n",
       "    <tr>\n",
       "      <th>1</th>\n",
       "      <td>451</td>\n",
       "      <td>129</td>\n",
       "      <td>1</td>\n",
       "      <td>146</td>\n",
       "      <td>70</td>\n",
       "      <td>54</td>\n",
       "      <td>260</td>\n",
       "      <td>70</td>\n",
       "    </tr>\n",
       "    <tr>\n",
       "      <th>total</th>\n",
       "      <td>1000</td>\n",
       "      <td>1000</td>\n",
       "      <td>1000</td>\n",
       "      <td>1000</td>\n",
       "      <td>1000</td>\n",
       "      <td>1000</td>\n",
       "      <td>1000</td>\n",
       "      <td>1000</td>\n",
       "    </tr>\n",
       "  </tbody>\n",
       "</table>\n",
       "</div>"
      ],
      "text/plain": [
       "                  Human Factors  Weather  Software and Automation  Procedure  \\\n",
       "Train      0               4391     6965                     7990       6828   \n",
       "           1               3609     1035                       10       1172   \n",
       "           total           8000     8000                     8000       8000   \n",
       "Validation 0                549      871                      999        854   \n",
       "           1                451      129                        1        146   \n",
       "           total           1000     1000                     1000       1000   \n",
       "Test       0                549      871                      999        854   \n",
       "           1                451      129                        1        146   \n",
       "           total           1000     1000                     1000       1000   \n",
       "\n",
       "                  Airport  Airspace Structure  Aircraft  \\\n",
       "Train      0         7436                7565      5917   \n",
       "           1          564                 435      2083   \n",
       "           total     8000                8000      8000   \n",
       "Validation 0          930                 946       740   \n",
       "           1           70                  54       260   \n",
       "           total     1000                1000      1000   \n",
       "Test       0          930                 946       740   \n",
       "           1           70                  54       260   \n",
       "           total     1000                1000      1000   \n",
       "\n",
       "                  Environment - Non Weather Related  \n",
       "Train      0                                   7439  \n",
       "           1                                    561  \n",
       "           total                               8000  \n",
       "Validation 0                                    930  \n",
       "           1                                     70  \n",
       "           total                               1000  \n",
       "Test       0                                    930  \n",
       "           1                                     70  \n",
       "           total                               1000  "
      ]
     },
     "execution_count": 13,
     "metadata": {},
     "output_type": "execute_result"
    }
   ],
   "source": [
    "iterables = [[\"Train\", \"Validation\", \"Test\"], [\"0\", \"1\", \"total\"]]\n",
    "\n",
    "ind = pd.MultiIndex.from_product(iterables)\n",
    "\n",
    "pd.DataFrame([[len(y_train[cat].loc[y_train[cat][cat]==0]) for cat in doc_cats],\n",
    "              [len(y_train[cat].loc[y_train[cat][cat]==1]) for cat in doc_cats],\n",
    "              [len(X_train[cat]) for cat in doc_cats],\n",
    "              [len(y_val[cat].loc[y_val[cat][cat]==0]) for cat in doc_cats],\n",
    "              [len(y_val[cat].loc[y_val[cat][cat]==1]) for cat in doc_cats],\n",
    "              [len(X_val[cat]) for cat in doc_cats],\n",
    "              [len(y_test[cat].loc[y_test[cat][cat]==0]) for cat in doc_cats],\n",
    "              [len(y_test[cat].loc[y_test[cat][cat]==1]) for cat in doc_cats],\n",
    "              [len(X_test[cat]) for cat in doc_cats]],\n",
    "              index = ind, columns = doc_cats)"
   ]
  },
  {
   "cell_type": "markdown",
   "id": "da64619c",
   "metadata": {
    "id": "pDNKfAXbDnJH"
   },
   "source": [
    "## Load in SafeAeroBERT"
   ]
  },
  {
   "cell_type": "code",
   "execution_count": 14,
   "id": "3e768c63",
   "metadata": {},
   "outputs": [
    {
     "name": "stderr",
     "output_type": "stream",
     "text": [
      "Some weights of the model checkpoint at C:\\Users\\srandrad\\Documents\\smart_nlp\\models\\SafeAeroBERT\\checkpoint-1000 were not used when initializing BertForSequenceClassification: ['cls.predictions.transform.LayerNorm.weight', 'cls.predictions.decoder.bias', 'cls.predictions.decoder.weight', 'cls.predictions.bias', 'cls.predictions.transform.dense.weight', 'cls.predictions.transform.dense.bias', 'cls.predictions.transform.LayerNorm.bias']\n",
      "- This IS expected if you are initializing BertForSequenceClassification from the checkpoint of a model trained on another task or with another architecture (e.g. initializing a BertForSequenceClassification model from a BertForPreTraining model).\n",
      "- This IS NOT expected if you are initializing BertForSequenceClassification from the checkpoint of a model that you expect to be exactly identical (initializing a BertForSequenceClassification model from a BertForSequenceClassification model).\n",
      "Some weights of BertForSequenceClassification were not initialized from the model checkpoint at C:\\Users\\srandrad\\Documents\\smart_nlp\\models\\SafeAeroBERT\\checkpoint-1000 and are newly initialized: ['classifier.bias', 'classifier.weight', 'bert.pooler.dense.bias', 'bert.pooler.dense.weight']\n",
      "You should probably TRAIN this model on a down-stream task to be able to use it for predictions and inference.\n"
     ]
    }
   ],
   "source": [
    "model_checkpoint = os.path.join(os.path.abspath(os.path.join(os.getcwd(), os.pardir)),\"models\", \"SafeAeroBERT\", \"checkpoint-1000\")\n",
    "##\"bert-base-uncased\"#\"distilbert-base-uncased\"\n",
    "#\"allenai/scibert_scivocab_uncased\" \n",
    "model = AutoModelForSequenceClassification.from_pretrained(\n",
    "    model_checkpoint, num_labels=2)\n",
    "\n",
    "tokenizer = AutoTokenizer.from_pretrained(\"bert-base-uncased\")#model_checkpoint)"
   ]
  },
  {
   "cell_type": "markdown",
   "id": "2f33cf6b",
   "metadata": {
    "id": "WbUWoZMwc302"
   },
   "source": [
    "## Model training\n",
    "\n",
    "You now have all the pieces to train a model, including the preprocessing module, BERT encoder, data, and classifier."
   ]
  },
  {
   "cell_type": "markdown",
   "id": "cec9bde8",
   "metadata": {
    "id": "WpJ3xcwDT56v"
   },
   "source": [
    "### Loss function\n",
    "\n",
    "Since this is a binary classification problem and the model outputs a probability (a single-unit layer), you'll use `losses.BinaryCrossentropy` loss function.\n"
   ]
  },
  {
   "cell_type": "code",
   "execution_count": 15,
   "id": "5644c3df",
   "metadata": {},
   "outputs": [],
   "source": [
    "contributing_factor = 'Procedure'#'Human Factors'"
   ]
  },
  {
   "cell_type": "code",
   "execution_count": 16,
   "id": "95bbd570",
   "metadata": {},
   "outputs": [],
   "source": [
    "x_train = X_train[contributing_factor]\n",
    "y_train = y_train[contributing_factor][contributing_factor]\n",
    "x_valid = X_val[contributing_factor]\n",
    "y_valid = y_val[contributing_factor][contributing_factor]\n",
    "x_test = X_test[contributing_factor]\n",
    "y_test = y_test[contributing_factor][contributing_factor]"
   ]
  },
  {
   "cell_type": "code",
   "execution_count": 17,
   "id": "3ce3176c",
   "metadata": {},
   "outputs": [],
   "source": [
    "def tokenize(text_df, tokenizer):\n",
    "    tokenized_inputs = tokenizer(text_df[\"Combined Text\"],truncation=True)\n",
    "    return tokenized_inputs"
   ]
  },
  {
   "cell_type": "code",
   "execution_count": 18,
   "id": "4cfe2af6",
   "metadata": {},
   "outputs": [
    {
     "data": {
      "application/vnd.jupyter.widget-view+json": {
       "model_id": "ce4531db69204814bb33cc8ea7edbcb4",
       "version_major": 2,
       "version_minor": 0
      },
      "text/plain": [
       "  0%|          | 0/8000 [00:00<?, ?ex/s]"
      ]
     },
     "metadata": {},
     "output_type": "display_data"
    },
    {
     "data": {
      "application/vnd.jupyter.widget-view+json": {
       "model_id": "b29b9b0ce2bd4257b05a2a2190887c96",
       "version_major": 2,
       "version_minor": 0
      },
      "text/plain": [
       "  0%|          | 0/1000 [00:00<?, ?ex/s]"
      ]
     },
     "metadata": {},
     "output_type": "display_data"
    },
    {
     "data": {
      "application/vnd.jupyter.widget-view+json": {
       "model_id": "3fadaaa598ca4886822b2ce502b87a77",
       "version_major": 2,
       "version_minor": 0
      },
      "text/plain": [
       "  0%|          | 0/1000 [00:00<?, ?ex/s]"
      ]
     },
     "metadata": {},
     "output_type": "display_data"
    },
    {
     "data": {
      "application/vnd.jupyter.widget-view+json": {
       "model_id": "160470990e694cc392f069ce88742615",
       "version_major": 2,
       "version_minor": 0
      },
      "text/plain": [
       "  0%|          | 0/8000 [00:00<?, ?ex/s]"
      ]
     },
     "metadata": {},
     "output_type": "display_data"
    },
    {
     "data": {
      "application/vnd.jupyter.widget-view+json": {
       "model_id": "167beac0060b4cbeade8589578cae9eb",
       "version_major": 2,
       "version_minor": 0
      },
      "text/plain": [
       "  0%|          | 0/1000 [00:00<?, ?ex/s]"
      ]
     },
     "metadata": {},
     "output_type": "display_data"
    },
    {
     "data": {
      "application/vnd.jupyter.widget-view+json": {
       "model_id": "6b8e00e742e94006a0ca2444da8b121b",
       "version_major": 2,
       "version_minor": 0
      },
      "text/plain": [
       "  0%|          | 0/1000 [00:00<?, ?ex/s]"
      ]
     },
     "metadata": {},
     "output_type": "display_data"
    }
   ],
   "source": [
    "train = Dataset.from_pandas(x_train.to_frame()).map(lambda example: {'idx': example['__index_level_0__']}, remove_columns=['__index_level_0__'])\n",
    "valid = Dataset.from_pandas(x_valid.to_frame()).map(lambda example: {'idx': example['__index_level_0__']}, remove_columns=['__index_level_0__'])\n",
    "test = Dataset.from_pandas(x_test.to_frame()).map(lambda example: {'idx': example['__index_level_0__']}, remove_columns=['__index_level_0__'])\n",
    "train_labels = Dataset.from_pandas(y_train.to_frame()).map(lambda example: {'label': example[contributing_factor]}, remove_columns=['__index_level_0__', contributing_factor])\n",
    "valid_labels = Dataset.from_pandas(y_valid.to_frame()).map(lambda example: {'label': example[contributing_factor]}, remove_columns=['__index_level_0__', contributing_factor])\n",
    "test_labels = Dataset.from_pandas(y_test.to_frame()).map(lambda example: {'label': example[contributing_factor]}, remove_columns=['__index_level_0__', contributing_factor])\n",
    "test_data = concatenate_datasets([test, test_labels], axis=1)\n",
    "train_data = concatenate_datasets([train, train_labels], axis=1)\n",
    "valid_data = concatenate_datasets([valid, valid_labels], axis=1)"
   ]
  },
  {
   "cell_type": "code",
   "execution_count": 19,
   "id": "ac03268e",
   "metadata": {},
   "outputs": [
    {
     "data": {
      "text/plain": [
       "Dataset({\n",
       "    features: ['Combined Text', 'idx', 'label'],\n",
       "    num_rows: 8000\n",
       "})"
      ]
     },
     "execution_count": 19,
     "metadata": {},
     "output_type": "execute_result"
    }
   ],
   "source": [
    "train_data"
   ]
  },
  {
   "cell_type": "code",
   "execution_count": 20,
   "id": "3292196f",
   "metadata": {},
   "outputs": [
    {
     "data": {
      "application/vnd.jupyter.widget-view+json": {
       "model_id": "a91d6016a55c415fbca1a6cfc3cd4b3e",
       "version_major": 2,
       "version_minor": 0
      },
      "text/plain": [
       "  0%|          | 0/8 [00:00<?, ?ba/s]"
      ]
     },
     "metadata": {},
     "output_type": "display_data"
    },
    {
     "data": {
      "application/vnd.jupyter.widget-view+json": {
       "model_id": "8f81e4bd840747ddadc39cdb1537b55b",
       "version_major": 2,
       "version_minor": 0
      },
      "text/plain": [
       "  0%|          | 0/1 [00:00<?, ?ba/s]"
      ]
     },
     "metadata": {},
     "output_type": "display_data"
    },
    {
     "data": {
      "application/vnd.jupyter.widget-view+json": {
       "model_id": "09bb94cd3ec744d5aded374f3d139201",
       "version_major": 2,
       "version_minor": 0
      },
      "text/plain": [
       "  0%|          | 0/1 [00:00<?, ?ba/s]"
      ]
     },
     "metadata": {},
     "output_type": "display_data"
    }
   ],
   "source": [
    "dataset = DatasetDict({'train': train_data,\n",
    "                      'valid': valid_data,\n",
    "                      'test': test_data})\n",
    "\n",
    "encoded_dataset = dataset.map(tokenize, fn_kwargs={'tokenizer':tokenizer}, batched=True)"
   ]
  },
  {
   "cell_type": "code",
   "execution_count": 21,
   "id": "a2ae87a7",
   "metadata": {},
   "outputs": [
    {
     "data": {
      "text/plain": [
       "Value(dtype='int64', id=None)"
      ]
     },
     "execution_count": 21,
     "metadata": {},
     "output_type": "execute_result"
    }
   ],
   "source": [
    "encoded_dataset[\"train\"].features[\"label\"]"
   ]
  },
  {
   "cell_type": "code",
   "execution_count": 22,
   "id": "d5ed5b8d",
   "metadata": {},
   "outputs": [],
   "source": [
    "model_name = model_checkpoint.split(\"/\")[-1]\n",
    "batch_size = 2\n",
    "args = TrainingArguments(\n",
    "    f\"{model_name}-finetuned\",\n",
    "    evaluation_strategy = \"epoch\",\n",
    "    #save_strategy = \"epoch\",\n",
    "    learning_rate=2e-5,\n",
    "    per_device_train_batch_size=batch_size,\n",
    "    per_device_eval_batch_size=batch_size,\n",
    "    num_train_epochs=5,\n",
    "    weight_decay=0.01,\n",
    "    #load_best_model_at_end=True,\n",
    "    push_to_hub=False,\n",
    ")"
   ]
  },
  {
   "cell_type": "markdown",
   "id": "53b0bca4",
   "metadata": {
    "id": "SqlarlpC_v0g"
   },
   "source": [
    "### Loading the BERT model and training\n",
    "\n",
    "Using the `classifier_model` you created earlier, you can compile the model with the loss, metric and optimizer."
   ]
  },
  {
   "cell_type": "code",
   "execution_count": 23,
   "id": "11bb42c1",
   "metadata": {},
   "outputs": [],
   "source": [
    "def compute_metrics(eval_predictions):\n",
    "    predictions, labels = eval_predictions\n",
    "    predictions = np.argmax(predictions, axis=1)\n",
    "    precision, recall, fscore, support = precision_recall_fscore_support(labels, predictions, average='weighted')\n",
    "    accuracy = accuracy_score(labels, predictions)\n",
    "    return {\"precision\": precision, #all_metrics[\"overall_precision\"],\n",
    "            \"recall\": recall, #all_metrics[\"overall_recall\"],\n",
    "            \"f1\": fscore, #all_metrics[\"overall_f1\"],\n",
    "            \"accuracy\": accuracy} #all_metrics[\"overall_accuracy\"]}"
   ]
  },
  {
   "cell_type": "code",
   "execution_count": 24,
   "id": "627394a0",
   "metadata": {
    "scrolled": true
   },
   "outputs": [
    {
     "name": "stderr",
     "output_type": "stream",
     "text": [
      "C:\\Users\\srandrad\\Anaconda3\\lib\\site-packages\\torch\\utils\\tensorboard\\__init__.py:4: DeprecationWarning: distutils Version classes are deprecated. Use packaging.version instead.\n",
      "  if not hasattr(tensorboard, \"__version__\") or LooseVersion(\n",
      "C:\\Users\\srandrad\\Anaconda3\\lib\\site-packages\\torch\\utils\\tensorboard\\__init__.py:6: DeprecationWarning: distutils Version classes are deprecated. Use packaging.version instead.\n",
      "  ) < LooseVersion(\"1.15\"):\n"
     ]
    }
   ],
   "source": [
    "trainer = Trainer(\n",
    "    model,\n",
    "    args,\n",
    "    train_dataset=encoded_dataset[\"train\"],\n",
    "    eval_dataset=encoded_dataset[\"valid\"],\n",
    "    tokenizer=tokenizer,\n",
    "    compute_metrics=compute_metrics\n",
    ")"
   ]
  },
  {
   "cell_type": "code",
   "execution_count": 25,
   "id": "01936936",
   "metadata": {},
   "outputs": [
    {
     "data": {
      "text/plain": [
       "512"
      ]
     },
     "execution_count": 25,
     "metadata": {},
     "output_type": "execute_result"
    }
   ],
   "source": [
    "max([len(encoded_dataset[\"train\"][i]['input_ids']) for i in range(8000)])"
   ]
  },
  {
   "cell_type": "code",
   "execution_count": 26,
   "id": "6aae9a51",
   "metadata": {},
   "outputs": [
    {
     "data": {
      "text/plain": [
       "dict_keys(['Combined Text', 'idx', 'label', 'input_ids', 'token_type_ids', 'attention_mask'])"
      ]
     },
     "execution_count": 26,
     "metadata": {},
     "output_type": "execute_result"
    }
   ],
   "source": [
    "encoded_dataset[\"train\"][0].keys()"
   ]
  },
  {
   "cell_type": "code",
   "execution_count": 27,
   "id": "bdd24656",
   "metadata": {
    "execution": {
     "iopub.execute_input": "2022-03-29T12:30:33.643759Z",
     "iopub.status.busy": "2022-03-29T12:30:33.643317Z",
     "iopub.status.idle": "2022-03-29T12:37:37.231432Z",
     "shell.execute_reply": "2022-03-29T12:37:37.230870Z"
    },
    "id": "HtfDFAnN_Neu",
    "scrolled": true
   },
   "outputs": [
    {
     "name": "stderr",
     "output_type": "stream",
     "text": [
      "The following columns in the training set don't have a corresponding argument in `BertForSequenceClassification.forward` and have been ignored: Combined Text, idx. If Combined Text, idx are not expected by `BertForSequenceClassification.forward`,  you can safely ignore this message.\n",
      "***** Running training *****\n",
      "  Num examples = 8000\n",
      "  Num Epochs = 5\n",
      "  Instantaneous batch size per device = 2\n",
      "  Total train batch size (w. parallel, distributed & accumulation) = 2\n",
      "  Gradient Accumulation steps = 1\n",
      "  Total optimization steps = 20000\n"
     ]
    },
    {
     "data": {
      "text/html": [
       "\n",
       "    <div>\n",
       "      \n",
       "      <progress value='20000' max='20000' style='width:300px; height:20px; vertical-align: middle;'></progress>\n",
       "      [20000/20000 3:02:31, Epoch 5/5]\n",
       "    </div>\n",
       "    <table border=\"1\" class=\"dataframe\">\n",
       "  <thead>\n",
       " <tr style=\"text-align: left;\">\n",
       "      <th>Epoch</th>\n",
       "      <th>Training Loss</th>\n",
       "      <th>Validation Loss</th>\n",
       "      <th>Precision</th>\n",
       "      <th>Recall</th>\n",
       "      <th>F1</th>\n",
       "      <th>Accuracy</th>\n",
       "    </tr>\n",
       "  </thead>\n",
       "  <tbody>\n",
       "    <tr>\n",
       "      <td>1</td>\n",
       "      <td>0.526300</td>\n",
       "      <td>0.499020</td>\n",
       "      <td>0.876778</td>\n",
       "      <td>0.856000</td>\n",
       "      <td>0.791544</td>\n",
       "      <td>0.856000</td>\n",
       "    </tr>\n",
       "    <tr>\n",
       "      <td>2</td>\n",
       "      <td>0.494200</td>\n",
       "      <td>0.579709</td>\n",
       "      <td>0.857514</td>\n",
       "      <td>0.866000</td>\n",
       "      <td>0.819748</td>\n",
       "      <td>0.866000</td>\n",
       "    </tr>\n",
       "    <tr>\n",
       "      <td>3</td>\n",
       "      <td>0.479300</td>\n",
       "      <td>0.450920</td>\n",
       "      <td>0.882462</td>\n",
       "      <td>0.890000</td>\n",
       "      <td>0.885054</td>\n",
       "      <td>0.890000</td>\n",
       "    </tr>\n",
       "    <tr>\n",
       "      <td>4</td>\n",
       "      <td>0.338900</td>\n",
       "      <td>0.600862</td>\n",
       "      <td>0.871808</td>\n",
       "      <td>0.885000</td>\n",
       "      <td>0.872910</td>\n",
       "      <td>0.885000</td>\n",
       "    </tr>\n",
       "    <tr>\n",
       "      <td>5</td>\n",
       "      <td>0.429600</td>\n",
       "      <td>0.552927</td>\n",
       "      <td>0.879020</td>\n",
       "      <td>0.890000</td>\n",
       "      <td>0.880684</td>\n",
       "      <td>0.890000</td>\n",
       "    </tr>\n",
       "  </tbody>\n",
       "</table><p>"
      ],
      "text/plain": [
       "<IPython.core.display.HTML object>"
      ]
     },
     "metadata": {},
     "output_type": "display_data"
    },
    {
     "name": "stderr",
     "output_type": "stream",
     "text": [
      "Saving model checkpoint to C:\\Users\\srandrad\\Documents\\smart_nlp\\models\\SafeAeroBERT\\checkpoint-1000-finetuned\\checkpoint-500\n",
      "Configuration saved in C:\\Users\\srandrad\\Documents\\smart_nlp\\models\\SafeAeroBERT\\checkpoint-1000-finetuned\\checkpoint-500\\config.json\n",
      "Model weights saved in C:\\Users\\srandrad\\Documents\\smart_nlp\\models\\SafeAeroBERT\\checkpoint-1000-finetuned\\checkpoint-500\\pytorch_model.bin\n",
      "tokenizer config file saved in C:\\Users\\srandrad\\Documents\\smart_nlp\\models\\SafeAeroBERT\\checkpoint-1000-finetuned\\checkpoint-500\\tokenizer_config.json\n",
      "Special tokens file saved in C:\\Users\\srandrad\\Documents\\smart_nlp\\models\\SafeAeroBERT\\checkpoint-1000-finetuned\\checkpoint-500\\special_tokens_map.json\n",
      "Saving model checkpoint to C:\\Users\\srandrad\\Documents\\smart_nlp\\models\\SafeAeroBERT\\checkpoint-1000-finetuned\\checkpoint-1000\n",
      "Configuration saved in C:\\Users\\srandrad\\Documents\\smart_nlp\\models\\SafeAeroBERT\\checkpoint-1000-finetuned\\checkpoint-1000\\config.json\n",
      "Model weights saved in C:\\Users\\srandrad\\Documents\\smart_nlp\\models\\SafeAeroBERT\\checkpoint-1000-finetuned\\checkpoint-1000\\pytorch_model.bin\n",
      "tokenizer config file saved in C:\\Users\\srandrad\\Documents\\smart_nlp\\models\\SafeAeroBERT\\checkpoint-1000-finetuned\\checkpoint-1000\\tokenizer_config.json\n",
      "Special tokens file saved in C:\\Users\\srandrad\\Documents\\smart_nlp\\models\\SafeAeroBERT\\checkpoint-1000-finetuned\\checkpoint-1000\\special_tokens_map.json\n",
      "Saving model checkpoint to C:\\Users\\srandrad\\Documents\\smart_nlp\\models\\SafeAeroBERT\\checkpoint-1000-finetuned\\checkpoint-1500\n",
      "Configuration saved in C:\\Users\\srandrad\\Documents\\smart_nlp\\models\\SafeAeroBERT\\checkpoint-1000-finetuned\\checkpoint-1500\\config.json\n",
      "Model weights saved in C:\\Users\\srandrad\\Documents\\smart_nlp\\models\\SafeAeroBERT\\checkpoint-1000-finetuned\\checkpoint-1500\\pytorch_model.bin\n",
      "tokenizer config file saved in C:\\Users\\srandrad\\Documents\\smart_nlp\\models\\SafeAeroBERT\\checkpoint-1000-finetuned\\checkpoint-1500\\tokenizer_config.json\n",
      "Special tokens file saved in C:\\Users\\srandrad\\Documents\\smart_nlp\\models\\SafeAeroBERT\\checkpoint-1000-finetuned\\checkpoint-1500\\special_tokens_map.json\n",
      "Saving model checkpoint to C:\\Users\\srandrad\\Documents\\smart_nlp\\models\\SafeAeroBERT\\checkpoint-1000-finetuned\\checkpoint-2000\n",
      "Configuration saved in C:\\Users\\srandrad\\Documents\\smart_nlp\\models\\SafeAeroBERT\\checkpoint-1000-finetuned\\checkpoint-2000\\config.json\n",
      "Model weights saved in C:\\Users\\srandrad\\Documents\\smart_nlp\\models\\SafeAeroBERT\\checkpoint-1000-finetuned\\checkpoint-2000\\pytorch_model.bin\n",
      "tokenizer config file saved in C:\\Users\\srandrad\\Documents\\smart_nlp\\models\\SafeAeroBERT\\checkpoint-1000-finetuned\\checkpoint-2000\\tokenizer_config.json\n",
      "Special tokens file saved in C:\\Users\\srandrad\\Documents\\smart_nlp\\models\\SafeAeroBERT\\checkpoint-1000-finetuned\\checkpoint-2000\\special_tokens_map.json\n",
      "Saving model checkpoint to C:\\Users\\srandrad\\Documents\\smart_nlp\\models\\SafeAeroBERT\\checkpoint-1000-finetuned\\checkpoint-2500\n",
      "Configuration saved in C:\\Users\\srandrad\\Documents\\smart_nlp\\models\\SafeAeroBERT\\checkpoint-1000-finetuned\\checkpoint-2500\\config.json\n",
      "Model weights saved in C:\\Users\\srandrad\\Documents\\smart_nlp\\models\\SafeAeroBERT\\checkpoint-1000-finetuned\\checkpoint-2500\\pytorch_model.bin\n",
      "tokenizer config file saved in C:\\Users\\srandrad\\Documents\\smart_nlp\\models\\SafeAeroBERT\\checkpoint-1000-finetuned\\checkpoint-2500\\tokenizer_config.json\n",
      "Special tokens file saved in C:\\Users\\srandrad\\Documents\\smart_nlp\\models\\SafeAeroBERT\\checkpoint-1000-finetuned\\checkpoint-2500\\special_tokens_map.json\n",
      "Saving model checkpoint to C:\\Users\\srandrad\\Documents\\smart_nlp\\models\\SafeAeroBERT\\checkpoint-1000-finetuned\\checkpoint-3000\n",
      "Configuration saved in C:\\Users\\srandrad\\Documents\\smart_nlp\\models\\SafeAeroBERT\\checkpoint-1000-finetuned\\checkpoint-3000\\config.json\n",
      "Model weights saved in C:\\Users\\srandrad\\Documents\\smart_nlp\\models\\SafeAeroBERT\\checkpoint-1000-finetuned\\checkpoint-3000\\pytorch_model.bin\n",
      "tokenizer config file saved in C:\\Users\\srandrad\\Documents\\smart_nlp\\models\\SafeAeroBERT\\checkpoint-1000-finetuned\\checkpoint-3000\\tokenizer_config.json\n",
      "Special tokens file saved in C:\\Users\\srandrad\\Documents\\smart_nlp\\models\\SafeAeroBERT\\checkpoint-1000-finetuned\\checkpoint-3000\\special_tokens_map.json\n",
      "Saving model checkpoint to C:\\Users\\srandrad\\Documents\\smart_nlp\\models\\SafeAeroBERT\\checkpoint-1000-finetuned\\checkpoint-3500\n",
      "Configuration saved in C:\\Users\\srandrad\\Documents\\smart_nlp\\models\\SafeAeroBERT\\checkpoint-1000-finetuned\\checkpoint-3500\\config.json\n",
      "Model weights saved in C:\\Users\\srandrad\\Documents\\smart_nlp\\models\\SafeAeroBERT\\checkpoint-1000-finetuned\\checkpoint-3500\\pytorch_model.bin\n",
      "tokenizer config file saved in C:\\Users\\srandrad\\Documents\\smart_nlp\\models\\SafeAeroBERT\\checkpoint-1000-finetuned\\checkpoint-3500\\tokenizer_config.json\n",
      "Special tokens file saved in C:\\Users\\srandrad\\Documents\\smart_nlp\\models\\SafeAeroBERT\\checkpoint-1000-finetuned\\checkpoint-3500\\special_tokens_map.json\n",
      "Saving model checkpoint to C:\\Users\\srandrad\\Documents\\smart_nlp\\models\\SafeAeroBERT\\checkpoint-1000-finetuned\\checkpoint-4000\n",
      "Configuration saved in C:\\Users\\srandrad\\Documents\\smart_nlp\\models\\SafeAeroBERT\\checkpoint-1000-finetuned\\checkpoint-4000\\config.json\n",
      "Model weights saved in C:\\Users\\srandrad\\Documents\\smart_nlp\\models\\SafeAeroBERT\\checkpoint-1000-finetuned\\checkpoint-4000\\pytorch_model.bin\n",
      "tokenizer config file saved in C:\\Users\\srandrad\\Documents\\smart_nlp\\models\\SafeAeroBERT\\checkpoint-1000-finetuned\\checkpoint-4000\\tokenizer_config.json\n",
      "Special tokens file saved in C:\\Users\\srandrad\\Documents\\smart_nlp\\models\\SafeAeroBERT\\checkpoint-1000-finetuned\\checkpoint-4000\\special_tokens_map.json\n",
      "The following columns in the evaluation set don't have a corresponding argument in `BertForSequenceClassification.forward` and have been ignored: Combined Text, idx. If Combined Text, idx are not expected by `BertForSequenceClassification.forward`,  you can safely ignore this message.\n",
      "***** Running Evaluation *****\n",
      "  Num examples = 1000\n",
      "  Batch size = 2\n",
      "Saving model checkpoint to C:\\Users\\srandrad\\Documents\\smart_nlp\\models\\SafeAeroBERT\\checkpoint-1000-finetuned\\checkpoint-4500\n",
      "Configuration saved in C:\\Users\\srandrad\\Documents\\smart_nlp\\models\\SafeAeroBERT\\checkpoint-1000-finetuned\\checkpoint-4500\\config.json\n",
      "Model weights saved in C:\\Users\\srandrad\\Documents\\smart_nlp\\models\\SafeAeroBERT\\checkpoint-1000-finetuned\\checkpoint-4500\\pytorch_model.bin\n",
      "tokenizer config file saved in C:\\Users\\srandrad\\Documents\\smart_nlp\\models\\SafeAeroBERT\\checkpoint-1000-finetuned\\checkpoint-4500\\tokenizer_config.json\n",
      "Special tokens file saved in C:\\Users\\srandrad\\Documents\\smart_nlp\\models\\SafeAeroBERT\\checkpoint-1000-finetuned\\checkpoint-4500\\special_tokens_map.json\n",
      "Saving model checkpoint to C:\\Users\\srandrad\\Documents\\smart_nlp\\models\\SafeAeroBERT\\checkpoint-1000-finetuned\\checkpoint-5000\n",
      "Configuration saved in C:\\Users\\srandrad\\Documents\\smart_nlp\\models\\SafeAeroBERT\\checkpoint-1000-finetuned\\checkpoint-5000\\config.json\n",
      "Model weights saved in C:\\Users\\srandrad\\Documents\\smart_nlp\\models\\SafeAeroBERT\\checkpoint-1000-finetuned\\checkpoint-5000\\pytorch_model.bin\n",
      "tokenizer config file saved in C:\\Users\\srandrad\\Documents\\smart_nlp\\models\\SafeAeroBERT\\checkpoint-1000-finetuned\\checkpoint-5000\\tokenizer_config.json\n",
      "Special tokens file saved in C:\\Users\\srandrad\\Documents\\smart_nlp\\models\\SafeAeroBERT\\checkpoint-1000-finetuned\\checkpoint-5000\\special_tokens_map.json\n",
      "Saving model checkpoint to C:\\Users\\srandrad\\Documents\\smart_nlp\\models\\SafeAeroBERT\\checkpoint-1000-finetuned\\checkpoint-5500\n",
      "Configuration saved in C:\\Users\\srandrad\\Documents\\smart_nlp\\models\\SafeAeroBERT\\checkpoint-1000-finetuned\\checkpoint-5500\\config.json\n",
      "Model weights saved in C:\\Users\\srandrad\\Documents\\smart_nlp\\models\\SafeAeroBERT\\checkpoint-1000-finetuned\\checkpoint-5500\\pytorch_model.bin\n",
      "tokenizer config file saved in C:\\Users\\srandrad\\Documents\\smart_nlp\\models\\SafeAeroBERT\\checkpoint-1000-finetuned\\checkpoint-5500\\tokenizer_config.json\n",
      "Special tokens file saved in C:\\Users\\srandrad\\Documents\\smart_nlp\\models\\SafeAeroBERT\\checkpoint-1000-finetuned\\checkpoint-5500\\special_tokens_map.json\n",
      "Saving model checkpoint to C:\\Users\\srandrad\\Documents\\smart_nlp\\models\\SafeAeroBERT\\checkpoint-1000-finetuned\\checkpoint-6000\n"
     ]
    },
    {
     "name": "stderr",
     "output_type": "stream",
     "text": [
      "Configuration saved in C:\\Users\\srandrad\\Documents\\smart_nlp\\models\\SafeAeroBERT\\checkpoint-1000-finetuned\\checkpoint-6000\\config.json\n",
      "Model weights saved in C:\\Users\\srandrad\\Documents\\smart_nlp\\models\\SafeAeroBERT\\checkpoint-1000-finetuned\\checkpoint-6000\\pytorch_model.bin\n",
      "tokenizer config file saved in C:\\Users\\srandrad\\Documents\\smart_nlp\\models\\SafeAeroBERT\\checkpoint-1000-finetuned\\checkpoint-6000\\tokenizer_config.json\n",
      "Special tokens file saved in C:\\Users\\srandrad\\Documents\\smart_nlp\\models\\SafeAeroBERT\\checkpoint-1000-finetuned\\checkpoint-6000\\special_tokens_map.json\n",
      "Saving model checkpoint to C:\\Users\\srandrad\\Documents\\smart_nlp\\models\\SafeAeroBERT\\checkpoint-1000-finetuned\\checkpoint-6500\n",
      "Configuration saved in C:\\Users\\srandrad\\Documents\\smart_nlp\\models\\SafeAeroBERT\\checkpoint-1000-finetuned\\checkpoint-6500\\config.json\n",
      "Model weights saved in C:\\Users\\srandrad\\Documents\\smart_nlp\\models\\SafeAeroBERT\\checkpoint-1000-finetuned\\checkpoint-6500\\pytorch_model.bin\n",
      "tokenizer config file saved in C:\\Users\\srandrad\\Documents\\smart_nlp\\models\\SafeAeroBERT\\checkpoint-1000-finetuned\\checkpoint-6500\\tokenizer_config.json\n",
      "Special tokens file saved in C:\\Users\\srandrad\\Documents\\smart_nlp\\models\\SafeAeroBERT\\checkpoint-1000-finetuned\\checkpoint-6500\\special_tokens_map.json\n",
      "Saving model checkpoint to C:\\Users\\srandrad\\Documents\\smart_nlp\\models\\SafeAeroBERT\\checkpoint-1000-finetuned\\checkpoint-7000\n",
      "Configuration saved in C:\\Users\\srandrad\\Documents\\smart_nlp\\models\\SafeAeroBERT\\checkpoint-1000-finetuned\\checkpoint-7000\\config.json\n",
      "Model weights saved in C:\\Users\\srandrad\\Documents\\smart_nlp\\models\\SafeAeroBERT\\checkpoint-1000-finetuned\\checkpoint-7000\\pytorch_model.bin\n",
      "tokenizer config file saved in C:\\Users\\srandrad\\Documents\\smart_nlp\\models\\SafeAeroBERT\\checkpoint-1000-finetuned\\checkpoint-7000\\tokenizer_config.json\n",
      "Special tokens file saved in C:\\Users\\srandrad\\Documents\\smart_nlp\\models\\SafeAeroBERT\\checkpoint-1000-finetuned\\checkpoint-7000\\special_tokens_map.json\n",
      "Saving model checkpoint to C:\\Users\\srandrad\\Documents\\smart_nlp\\models\\SafeAeroBERT\\checkpoint-1000-finetuned\\checkpoint-7500\n",
      "Configuration saved in C:\\Users\\srandrad\\Documents\\smart_nlp\\models\\SafeAeroBERT\\checkpoint-1000-finetuned\\checkpoint-7500\\config.json\n",
      "Model weights saved in C:\\Users\\srandrad\\Documents\\smart_nlp\\models\\SafeAeroBERT\\checkpoint-1000-finetuned\\checkpoint-7500\\pytorch_model.bin\n",
      "tokenizer config file saved in C:\\Users\\srandrad\\Documents\\smart_nlp\\models\\SafeAeroBERT\\checkpoint-1000-finetuned\\checkpoint-7500\\tokenizer_config.json\n",
      "Special tokens file saved in C:\\Users\\srandrad\\Documents\\smart_nlp\\models\\SafeAeroBERT\\checkpoint-1000-finetuned\\checkpoint-7500\\special_tokens_map.json\n",
      "Saving model checkpoint to C:\\Users\\srandrad\\Documents\\smart_nlp\\models\\SafeAeroBERT\\checkpoint-1000-finetuned\\checkpoint-8000\n",
      "Configuration saved in C:\\Users\\srandrad\\Documents\\smart_nlp\\models\\SafeAeroBERT\\checkpoint-1000-finetuned\\checkpoint-8000\\config.json\n",
      "Model weights saved in C:\\Users\\srandrad\\Documents\\smart_nlp\\models\\SafeAeroBERT\\checkpoint-1000-finetuned\\checkpoint-8000\\pytorch_model.bin\n",
      "tokenizer config file saved in C:\\Users\\srandrad\\Documents\\smart_nlp\\models\\SafeAeroBERT\\checkpoint-1000-finetuned\\checkpoint-8000\\tokenizer_config.json\n",
      "Special tokens file saved in C:\\Users\\srandrad\\Documents\\smart_nlp\\models\\SafeAeroBERT\\checkpoint-1000-finetuned\\checkpoint-8000\\special_tokens_map.json\n",
      "The following columns in the evaluation set don't have a corresponding argument in `BertForSequenceClassification.forward` and have been ignored: Combined Text, idx. If Combined Text, idx are not expected by `BertForSequenceClassification.forward`,  you can safely ignore this message.\n",
      "***** Running Evaluation *****\n",
      "  Num examples = 1000\n",
      "  Batch size = 2\n",
      "Saving model checkpoint to C:\\Users\\srandrad\\Documents\\smart_nlp\\models\\SafeAeroBERT\\checkpoint-1000-finetuned\\checkpoint-8500\n",
      "Configuration saved in C:\\Users\\srandrad\\Documents\\smart_nlp\\models\\SafeAeroBERT\\checkpoint-1000-finetuned\\checkpoint-8500\\config.json\n",
      "Model weights saved in C:\\Users\\srandrad\\Documents\\smart_nlp\\models\\SafeAeroBERT\\checkpoint-1000-finetuned\\checkpoint-8500\\pytorch_model.bin\n",
      "tokenizer config file saved in C:\\Users\\srandrad\\Documents\\smart_nlp\\models\\SafeAeroBERT\\checkpoint-1000-finetuned\\checkpoint-8500\\tokenizer_config.json\n",
      "Special tokens file saved in C:\\Users\\srandrad\\Documents\\smart_nlp\\models\\SafeAeroBERT\\checkpoint-1000-finetuned\\checkpoint-8500\\special_tokens_map.json\n",
      "Saving model checkpoint to C:\\Users\\srandrad\\Documents\\smart_nlp\\models\\SafeAeroBERT\\checkpoint-1000-finetuned\\checkpoint-9000\n",
      "Configuration saved in C:\\Users\\srandrad\\Documents\\smart_nlp\\models\\SafeAeroBERT\\checkpoint-1000-finetuned\\checkpoint-9000\\config.json\n",
      "Model weights saved in C:\\Users\\srandrad\\Documents\\smart_nlp\\models\\SafeAeroBERT\\checkpoint-1000-finetuned\\checkpoint-9000\\pytorch_model.bin\n",
      "tokenizer config file saved in C:\\Users\\srandrad\\Documents\\smart_nlp\\models\\SafeAeroBERT\\checkpoint-1000-finetuned\\checkpoint-9000\\tokenizer_config.json\n",
      "Special tokens file saved in C:\\Users\\srandrad\\Documents\\smart_nlp\\models\\SafeAeroBERT\\checkpoint-1000-finetuned\\checkpoint-9000\\special_tokens_map.json\n",
      "Saving model checkpoint to C:\\Users\\srandrad\\Documents\\smart_nlp\\models\\SafeAeroBERT\\checkpoint-1000-finetuned\\checkpoint-9500\n",
      "Configuration saved in C:\\Users\\srandrad\\Documents\\smart_nlp\\models\\SafeAeroBERT\\checkpoint-1000-finetuned\\checkpoint-9500\\config.json\n",
      "Model weights saved in C:\\Users\\srandrad\\Documents\\smart_nlp\\models\\SafeAeroBERT\\checkpoint-1000-finetuned\\checkpoint-9500\\pytorch_model.bin\n",
      "tokenizer config file saved in C:\\Users\\srandrad\\Documents\\smart_nlp\\models\\SafeAeroBERT\\checkpoint-1000-finetuned\\checkpoint-9500\\tokenizer_config.json\n",
      "Special tokens file saved in C:\\Users\\srandrad\\Documents\\smart_nlp\\models\\SafeAeroBERT\\checkpoint-1000-finetuned\\checkpoint-9500\\special_tokens_map.json\n",
      "Saving model checkpoint to C:\\Users\\srandrad\\Documents\\smart_nlp\\models\\SafeAeroBERT\\checkpoint-1000-finetuned\\checkpoint-10000\n",
      "Configuration saved in C:\\Users\\srandrad\\Documents\\smart_nlp\\models\\SafeAeroBERT\\checkpoint-1000-finetuned\\checkpoint-10000\\config.json\n",
      "Model weights saved in C:\\Users\\srandrad\\Documents\\smart_nlp\\models\\SafeAeroBERT\\checkpoint-1000-finetuned\\checkpoint-10000\\pytorch_model.bin\n",
      "tokenizer config file saved in C:\\Users\\srandrad\\Documents\\smart_nlp\\models\\SafeAeroBERT\\checkpoint-1000-finetuned\\checkpoint-10000\\tokenizer_config.json\n",
      "Special tokens file saved in C:\\Users\\srandrad\\Documents\\smart_nlp\\models\\SafeAeroBERT\\checkpoint-1000-finetuned\\checkpoint-10000\\special_tokens_map.json\n",
      "Saving model checkpoint to C:\\Users\\srandrad\\Documents\\smart_nlp\\models\\SafeAeroBERT\\checkpoint-1000-finetuned\\checkpoint-10500\n",
      "Configuration saved in C:\\Users\\srandrad\\Documents\\smart_nlp\\models\\SafeAeroBERT\\checkpoint-1000-finetuned\\checkpoint-10500\\config.json\n",
      "Model weights saved in C:\\Users\\srandrad\\Documents\\smart_nlp\\models\\SafeAeroBERT\\checkpoint-1000-finetuned\\checkpoint-10500\\pytorch_model.bin\n",
      "tokenizer config file saved in C:\\Users\\srandrad\\Documents\\smart_nlp\\models\\SafeAeroBERT\\checkpoint-1000-finetuned\\checkpoint-10500\\tokenizer_config.json\n",
      "Special tokens file saved in C:\\Users\\srandrad\\Documents\\smart_nlp\\models\\SafeAeroBERT\\checkpoint-1000-finetuned\\checkpoint-10500\\special_tokens_map.json\n",
      "Saving model checkpoint to C:\\Users\\srandrad\\Documents\\smart_nlp\\models\\SafeAeroBERT\\checkpoint-1000-finetuned\\checkpoint-11000\n",
      "Configuration saved in C:\\Users\\srandrad\\Documents\\smart_nlp\\models\\SafeAeroBERT\\checkpoint-1000-finetuned\\checkpoint-11000\\config.json\n",
      "Model weights saved in C:\\Users\\srandrad\\Documents\\smart_nlp\\models\\SafeAeroBERT\\checkpoint-1000-finetuned\\checkpoint-11000\\pytorch_model.bin\n",
      "tokenizer config file saved in C:\\Users\\srandrad\\Documents\\smart_nlp\\models\\SafeAeroBERT\\checkpoint-1000-finetuned\\checkpoint-11000\\tokenizer_config.json\n",
      "Special tokens file saved in C:\\Users\\srandrad\\Documents\\smart_nlp\\models\\SafeAeroBERT\\checkpoint-1000-finetuned\\checkpoint-11000\\special_tokens_map.json\n",
      "Saving model checkpoint to C:\\Users\\srandrad\\Documents\\smart_nlp\\models\\SafeAeroBERT\\checkpoint-1000-finetuned\\checkpoint-11500\n",
      "Configuration saved in C:\\Users\\srandrad\\Documents\\smart_nlp\\models\\SafeAeroBERT\\checkpoint-1000-finetuned\\checkpoint-11500\\config.json\n"
     ]
    },
    {
     "name": "stderr",
     "output_type": "stream",
     "text": [
      "Model weights saved in C:\\Users\\srandrad\\Documents\\smart_nlp\\models\\SafeAeroBERT\\checkpoint-1000-finetuned\\checkpoint-11500\\pytorch_model.bin\n",
      "tokenizer config file saved in C:\\Users\\srandrad\\Documents\\smart_nlp\\models\\SafeAeroBERT\\checkpoint-1000-finetuned\\checkpoint-11500\\tokenizer_config.json\n",
      "Special tokens file saved in C:\\Users\\srandrad\\Documents\\smart_nlp\\models\\SafeAeroBERT\\checkpoint-1000-finetuned\\checkpoint-11500\\special_tokens_map.json\n",
      "Saving model checkpoint to C:\\Users\\srandrad\\Documents\\smart_nlp\\models\\SafeAeroBERT\\checkpoint-1000-finetuned\\checkpoint-12000\n",
      "Configuration saved in C:\\Users\\srandrad\\Documents\\smart_nlp\\models\\SafeAeroBERT\\checkpoint-1000-finetuned\\checkpoint-12000\\config.json\n",
      "Model weights saved in C:\\Users\\srandrad\\Documents\\smart_nlp\\models\\SafeAeroBERT\\checkpoint-1000-finetuned\\checkpoint-12000\\pytorch_model.bin\n",
      "tokenizer config file saved in C:\\Users\\srandrad\\Documents\\smart_nlp\\models\\SafeAeroBERT\\checkpoint-1000-finetuned\\checkpoint-12000\\tokenizer_config.json\n",
      "Special tokens file saved in C:\\Users\\srandrad\\Documents\\smart_nlp\\models\\SafeAeroBERT\\checkpoint-1000-finetuned\\checkpoint-12000\\special_tokens_map.json\n",
      "The following columns in the evaluation set don't have a corresponding argument in `BertForSequenceClassification.forward` and have been ignored: Combined Text, idx. If Combined Text, idx are not expected by `BertForSequenceClassification.forward`,  you can safely ignore this message.\n",
      "***** Running Evaluation *****\n",
      "  Num examples = 1000\n",
      "  Batch size = 2\n",
      "Saving model checkpoint to C:\\Users\\srandrad\\Documents\\smart_nlp\\models\\SafeAeroBERT\\checkpoint-1000-finetuned\\checkpoint-12500\n",
      "Configuration saved in C:\\Users\\srandrad\\Documents\\smart_nlp\\models\\SafeAeroBERT\\checkpoint-1000-finetuned\\checkpoint-12500\\config.json\n",
      "Model weights saved in C:\\Users\\srandrad\\Documents\\smart_nlp\\models\\SafeAeroBERT\\checkpoint-1000-finetuned\\checkpoint-12500\\pytorch_model.bin\n",
      "tokenizer config file saved in C:\\Users\\srandrad\\Documents\\smart_nlp\\models\\SafeAeroBERT\\checkpoint-1000-finetuned\\checkpoint-12500\\tokenizer_config.json\n",
      "Special tokens file saved in C:\\Users\\srandrad\\Documents\\smart_nlp\\models\\SafeAeroBERT\\checkpoint-1000-finetuned\\checkpoint-12500\\special_tokens_map.json\n",
      "Saving model checkpoint to C:\\Users\\srandrad\\Documents\\smart_nlp\\models\\SafeAeroBERT\\checkpoint-1000-finetuned\\checkpoint-13000\n",
      "Configuration saved in C:\\Users\\srandrad\\Documents\\smart_nlp\\models\\SafeAeroBERT\\checkpoint-1000-finetuned\\checkpoint-13000\\config.json\n",
      "Model weights saved in C:\\Users\\srandrad\\Documents\\smart_nlp\\models\\SafeAeroBERT\\checkpoint-1000-finetuned\\checkpoint-13000\\pytorch_model.bin\n",
      "tokenizer config file saved in C:\\Users\\srandrad\\Documents\\smart_nlp\\models\\SafeAeroBERT\\checkpoint-1000-finetuned\\checkpoint-13000\\tokenizer_config.json\n",
      "Special tokens file saved in C:\\Users\\srandrad\\Documents\\smart_nlp\\models\\SafeAeroBERT\\checkpoint-1000-finetuned\\checkpoint-13000\\special_tokens_map.json\n",
      "Saving model checkpoint to C:\\Users\\srandrad\\Documents\\smart_nlp\\models\\SafeAeroBERT\\checkpoint-1000-finetuned\\checkpoint-13500\n",
      "Configuration saved in C:\\Users\\srandrad\\Documents\\smart_nlp\\models\\SafeAeroBERT\\checkpoint-1000-finetuned\\checkpoint-13500\\config.json\n",
      "Model weights saved in C:\\Users\\srandrad\\Documents\\smart_nlp\\models\\SafeAeroBERT\\checkpoint-1000-finetuned\\checkpoint-13500\\pytorch_model.bin\n",
      "tokenizer config file saved in C:\\Users\\srandrad\\Documents\\smart_nlp\\models\\SafeAeroBERT\\checkpoint-1000-finetuned\\checkpoint-13500\\tokenizer_config.json\n",
      "Special tokens file saved in C:\\Users\\srandrad\\Documents\\smart_nlp\\models\\SafeAeroBERT\\checkpoint-1000-finetuned\\checkpoint-13500\\special_tokens_map.json\n",
      "Saving model checkpoint to C:\\Users\\srandrad\\Documents\\smart_nlp\\models\\SafeAeroBERT\\checkpoint-1000-finetuned\\checkpoint-14000\n",
      "Configuration saved in C:\\Users\\srandrad\\Documents\\smart_nlp\\models\\SafeAeroBERT\\checkpoint-1000-finetuned\\checkpoint-14000\\config.json\n",
      "Model weights saved in C:\\Users\\srandrad\\Documents\\smart_nlp\\models\\SafeAeroBERT\\checkpoint-1000-finetuned\\checkpoint-14000\\pytorch_model.bin\n",
      "tokenizer config file saved in C:\\Users\\srandrad\\Documents\\smart_nlp\\models\\SafeAeroBERT\\checkpoint-1000-finetuned\\checkpoint-14000\\tokenizer_config.json\n",
      "Special tokens file saved in C:\\Users\\srandrad\\Documents\\smart_nlp\\models\\SafeAeroBERT\\checkpoint-1000-finetuned\\checkpoint-14000\\special_tokens_map.json\n",
      "Saving model checkpoint to C:\\Users\\srandrad\\Documents\\smart_nlp\\models\\SafeAeroBERT\\checkpoint-1000-finetuned\\checkpoint-14500\n",
      "Configuration saved in C:\\Users\\srandrad\\Documents\\smart_nlp\\models\\SafeAeroBERT\\checkpoint-1000-finetuned\\checkpoint-14500\\config.json\n",
      "Model weights saved in C:\\Users\\srandrad\\Documents\\smart_nlp\\models\\SafeAeroBERT\\checkpoint-1000-finetuned\\checkpoint-14500\\pytorch_model.bin\n",
      "tokenizer config file saved in C:\\Users\\srandrad\\Documents\\smart_nlp\\models\\SafeAeroBERT\\checkpoint-1000-finetuned\\checkpoint-14500\\tokenizer_config.json\n",
      "Special tokens file saved in C:\\Users\\srandrad\\Documents\\smart_nlp\\models\\SafeAeroBERT\\checkpoint-1000-finetuned\\checkpoint-14500\\special_tokens_map.json\n",
      "Saving model checkpoint to C:\\Users\\srandrad\\Documents\\smart_nlp\\models\\SafeAeroBERT\\checkpoint-1000-finetuned\\checkpoint-15000\n",
      "Configuration saved in C:\\Users\\srandrad\\Documents\\smart_nlp\\models\\SafeAeroBERT\\checkpoint-1000-finetuned\\checkpoint-15000\\config.json\n",
      "Model weights saved in C:\\Users\\srandrad\\Documents\\smart_nlp\\models\\SafeAeroBERT\\checkpoint-1000-finetuned\\checkpoint-15000\\pytorch_model.bin\n",
      "tokenizer config file saved in C:\\Users\\srandrad\\Documents\\smart_nlp\\models\\SafeAeroBERT\\checkpoint-1000-finetuned\\checkpoint-15000\\tokenizer_config.json\n",
      "Special tokens file saved in C:\\Users\\srandrad\\Documents\\smart_nlp\\models\\SafeAeroBERT\\checkpoint-1000-finetuned\\checkpoint-15000\\special_tokens_map.json\n",
      "Saving model checkpoint to C:\\Users\\srandrad\\Documents\\smart_nlp\\models\\SafeAeroBERT\\checkpoint-1000-finetuned\\checkpoint-15500\n",
      "Configuration saved in C:\\Users\\srandrad\\Documents\\smart_nlp\\models\\SafeAeroBERT\\checkpoint-1000-finetuned\\checkpoint-15500\\config.json\n",
      "Model weights saved in C:\\Users\\srandrad\\Documents\\smart_nlp\\models\\SafeAeroBERT\\checkpoint-1000-finetuned\\checkpoint-15500\\pytorch_model.bin\n",
      "tokenizer config file saved in C:\\Users\\srandrad\\Documents\\smart_nlp\\models\\SafeAeroBERT\\checkpoint-1000-finetuned\\checkpoint-15500\\tokenizer_config.json\n",
      "Special tokens file saved in C:\\Users\\srandrad\\Documents\\smart_nlp\\models\\SafeAeroBERT\\checkpoint-1000-finetuned\\checkpoint-15500\\special_tokens_map.json\n",
      "Saving model checkpoint to C:\\Users\\srandrad\\Documents\\smart_nlp\\models\\SafeAeroBERT\\checkpoint-1000-finetuned\\checkpoint-16000\n",
      "Configuration saved in C:\\Users\\srandrad\\Documents\\smart_nlp\\models\\SafeAeroBERT\\checkpoint-1000-finetuned\\checkpoint-16000\\config.json\n",
      "Model weights saved in C:\\Users\\srandrad\\Documents\\smart_nlp\\models\\SafeAeroBERT\\checkpoint-1000-finetuned\\checkpoint-16000\\pytorch_model.bin\n",
      "tokenizer config file saved in C:\\Users\\srandrad\\Documents\\smart_nlp\\models\\SafeAeroBERT\\checkpoint-1000-finetuned\\checkpoint-16000\\tokenizer_config.json\n",
      "Special tokens file saved in C:\\Users\\srandrad\\Documents\\smart_nlp\\models\\SafeAeroBERT\\checkpoint-1000-finetuned\\checkpoint-16000\\special_tokens_map.json\n",
      "The following columns in the evaluation set don't have a corresponding argument in `BertForSequenceClassification.forward` and have been ignored: Combined Text, idx. If Combined Text, idx are not expected by `BertForSequenceClassification.forward`,  you can safely ignore this message.\n",
      "***** Running Evaluation *****\n",
      "  Num examples = 1000\n",
      "  Batch size = 2\n",
      "Saving model checkpoint to C:\\Users\\srandrad\\Documents\\smart_nlp\\models\\SafeAeroBERT\\checkpoint-1000-finetuned\\checkpoint-16500\n",
      "Configuration saved in C:\\Users\\srandrad\\Documents\\smart_nlp\\models\\SafeAeroBERT\\checkpoint-1000-finetuned\\checkpoint-16500\\config.json\n",
      "Model weights saved in C:\\Users\\srandrad\\Documents\\smart_nlp\\models\\SafeAeroBERT\\checkpoint-1000-finetuned\\checkpoint-16500\\pytorch_model.bin\n",
      "tokenizer config file saved in C:\\Users\\srandrad\\Documents\\smart_nlp\\models\\SafeAeroBERT\\checkpoint-1000-finetuned\\checkpoint-16500\\tokenizer_config.json\n",
      "Special tokens file saved in C:\\Users\\srandrad\\Documents\\smart_nlp\\models\\SafeAeroBERT\\checkpoint-1000-finetuned\\checkpoint-16500\\special_tokens_map.json\n"
     ]
    },
    {
     "name": "stderr",
     "output_type": "stream",
     "text": [
      "Saving model checkpoint to C:\\Users\\srandrad\\Documents\\smart_nlp\\models\\SafeAeroBERT\\checkpoint-1000-finetuned\\checkpoint-17000\n",
      "Configuration saved in C:\\Users\\srandrad\\Documents\\smart_nlp\\models\\SafeAeroBERT\\checkpoint-1000-finetuned\\checkpoint-17000\\config.json\n",
      "Model weights saved in C:\\Users\\srandrad\\Documents\\smart_nlp\\models\\SafeAeroBERT\\checkpoint-1000-finetuned\\checkpoint-17000\\pytorch_model.bin\n",
      "tokenizer config file saved in C:\\Users\\srandrad\\Documents\\smart_nlp\\models\\SafeAeroBERT\\checkpoint-1000-finetuned\\checkpoint-17000\\tokenizer_config.json\n",
      "Special tokens file saved in C:\\Users\\srandrad\\Documents\\smart_nlp\\models\\SafeAeroBERT\\checkpoint-1000-finetuned\\checkpoint-17000\\special_tokens_map.json\n",
      "Saving model checkpoint to C:\\Users\\srandrad\\Documents\\smart_nlp\\models\\SafeAeroBERT\\checkpoint-1000-finetuned\\checkpoint-17500\n",
      "Configuration saved in C:\\Users\\srandrad\\Documents\\smart_nlp\\models\\SafeAeroBERT\\checkpoint-1000-finetuned\\checkpoint-17500\\config.json\n",
      "Model weights saved in C:\\Users\\srandrad\\Documents\\smart_nlp\\models\\SafeAeroBERT\\checkpoint-1000-finetuned\\checkpoint-17500\\pytorch_model.bin\n",
      "tokenizer config file saved in C:\\Users\\srandrad\\Documents\\smart_nlp\\models\\SafeAeroBERT\\checkpoint-1000-finetuned\\checkpoint-17500\\tokenizer_config.json\n",
      "Special tokens file saved in C:\\Users\\srandrad\\Documents\\smart_nlp\\models\\SafeAeroBERT\\checkpoint-1000-finetuned\\checkpoint-17500\\special_tokens_map.json\n",
      "Saving model checkpoint to C:\\Users\\srandrad\\Documents\\smart_nlp\\models\\SafeAeroBERT\\checkpoint-1000-finetuned\\checkpoint-18000\n",
      "Configuration saved in C:\\Users\\srandrad\\Documents\\smart_nlp\\models\\SafeAeroBERT\\checkpoint-1000-finetuned\\checkpoint-18000\\config.json\n",
      "Model weights saved in C:\\Users\\srandrad\\Documents\\smart_nlp\\models\\SafeAeroBERT\\checkpoint-1000-finetuned\\checkpoint-18000\\pytorch_model.bin\n",
      "tokenizer config file saved in C:\\Users\\srandrad\\Documents\\smart_nlp\\models\\SafeAeroBERT\\checkpoint-1000-finetuned\\checkpoint-18000\\tokenizer_config.json\n",
      "Special tokens file saved in C:\\Users\\srandrad\\Documents\\smart_nlp\\models\\SafeAeroBERT\\checkpoint-1000-finetuned\\checkpoint-18000\\special_tokens_map.json\n",
      "Saving model checkpoint to C:\\Users\\srandrad\\Documents\\smart_nlp\\models\\SafeAeroBERT\\checkpoint-1000-finetuned\\checkpoint-18500\n",
      "Configuration saved in C:\\Users\\srandrad\\Documents\\smart_nlp\\models\\SafeAeroBERT\\checkpoint-1000-finetuned\\checkpoint-18500\\config.json\n",
      "Model weights saved in C:\\Users\\srandrad\\Documents\\smart_nlp\\models\\SafeAeroBERT\\checkpoint-1000-finetuned\\checkpoint-18500\\pytorch_model.bin\n",
      "tokenizer config file saved in C:\\Users\\srandrad\\Documents\\smart_nlp\\models\\SafeAeroBERT\\checkpoint-1000-finetuned\\checkpoint-18500\\tokenizer_config.json\n",
      "Special tokens file saved in C:\\Users\\srandrad\\Documents\\smart_nlp\\models\\SafeAeroBERT\\checkpoint-1000-finetuned\\checkpoint-18500\\special_tokens_map.json\n",
      "Saving model checkpoint to C:\\Users\\srandrad\\Documents\\smart_nlp\\models\\SafeAeroBERT\\checkpoint-1000-finetuned\\checkpoint-19000\n",
      "Configuration saved in C:\\Users\\srandrad\\Documents\\smart_nlp\\models\\SafeAeroBERT\\checkpoint-1000-finetuned\\checkpoint-19000\\config.json\n",
      "Model weights saved in C:\\Users\\srandrad\\Documents\\smart_nlp\\models\\SafeAeroBERT\\checkpoint-1000-finetuned\\checkpoint-19000\\pytorch_model.bin\n",
      "tokenizer config file saved in C:\\Users\\srandrad\\Documents\\smart_nlp\\models\\SafeAeroBERT\\checkpoint-1000-finetuned\\checkpoint-19000\\tokenizer_config.json\n",
      "Special tokens file saved in C:\\Users\\srandrad\\Documents\\smart_nlp\\models\\SafeAeroBERT\\checkpoint-1000-finetuned\\checkpoint-19000\\special_tokens_map.json\n",
      "Saving model checkpoint to C:\\Users\\srandrad\\Documents\\smart_nlp\\models\\SafeAeroBERT\\checkpoint-1000-finetuned\\checkpoint-19500\n",
      "Configuration saved in C:\\Users\\srandrad\\Documents\\smart_nlp\\models\\SafeAeroBERT\\checkpoint-1000-finetuned\\checkpoint-19500\\config.json\n",
      "Model weights saved in C:\\Users\\srandrad\\Documents\\smart_nlp\\models\\SafeAeroBERT\\checkpoint-1000-finetuned\\checkpoint-19500\\pytorch_model.bin\n",
      "tokenizer config file saved in C:\\Users\\srandrad\\Documents\\smart_nlp\\models\\SafeAeroBERT\\checkpoint-1000-finetuned\\checkpoint-19500\\tokenizer_config.json\n",
      "Special tokens file saved in C:\\Users\\srandrad\\Documents\\smart_nlp\\models\\SafeAeroBERT\\checkpoint-1000-finetuned\\checkpoint-19500\\special_tokens_map.json\n",
      "Saving model checkpoint to C:\\Users\\srandrad\\Documents\\smart_nlp\\models\\SafeAeroBERT\\checkpoint-1000-finetuned\\checkpoint-20000\n",
      "Configuration saved in C:\\Users\\srandrad\\Documents\\smart_nlp\\models\\SafeAeroBERT\\checkpoint-1000-finetuned\\checkpoint-20000\\config.json\n",
      "Model weights saved in C:\\Users\\srandrad\\Documents\\smart_nlp\\models\\SafeAeroBERT\\checkpoint-1000-finetuned\\checkpoint-20000\\pytorch_model.bin\n",
      "tokenizer config file saved in C:\\Users\\srandrad\\Documents\\smart_nlp\\models\\SafeAeroBERT\\checkpoint-1000-finetuned\\checkpoint-20000\\tokenizer_config.json\n",
      "Special tokens file saved in C:\\Users\\srandrad\\Documents\\smart_nlp\\models\\SafeAeroBERT\\checkpoint-1000-finetuned\\checkpoint-20000\\special_tokens_map.json\n",
      "The following columns in the evaluation set don't have a corresponding argument in `BertForSequenceClassification.forward` and have been ignored: Combined Text, idx. If Combined Text, idx are not expected by `BertForSequenceClassification.forward`,  you can safely ignore this message.\n",
      "***** Running Evaluation *****\n",
      "  Num examples = 1000\n",
      "  Batch size = 2\n",
      "\n",
      "\n",
      "Training completed. Do not forget to share your model on huggingface.co/models =)\n",
      "\n",
      "\n"
     ]
    }
   ],
   "source": [
    "history = trainer.train()"
   ]
  },
  {
   "cell_type": "markdown",
   "id": "c945f85d",
   "metadata": {
    "id": "uBthMlTSV8kn"
   },
   "source": [
    "### Evaluate the model\n",
    "\n",
    "Let's see how the model performs. Two values will be returned. Loss (a number which represents the error, lower values are better), and accuracy."
   ]
  },
  {
   "cell_type": "code",
   "execution_count": 28,
   "id": "e4221175",
   "metadata": {},
   "outputs": [
    {
     "name": "stderr",
     "output_type": "stream",
     "text": [
      "The following columns in the test set don't have a corresponding argument in `BertForSequenceClassification.forward` and have been ignored: Combined Text, idx. If Combined Text, idx are not expected by `BertForSequenceClassification.forward`,  you can safely ignore this message.\n",
      "***** Running Prediction *****\n",
      "  Num examples = 1000\n",
      "  Batch size = 2\n"
     ]
    },
    {
     "data": {
      "text/html": [],
      "text/plain": [
       "<IPython.core.display.HTML object>"
      ]
     },
     "metadata": {},
     "output_type": "display_data"
    },
    {
     "name": "stderr",
     "output_type": "stream",
     "text": [
      "The following columns in the test set don't have a corresponding argument in `BertForSequenceClassification.forward` and have been ignored: Combined Text, idx. If Combined Text, idx are not expected by `BertForSequenceClassification.forward`,  you can safely ignore this message.\n",
      "***** Running Prediction *****\n",
      "  Num examples = 8000\n",
      "  Batch size = 2\n"
     ]
    },
    {
     "data": {
      "text/html": [],
      "text/plain": [
       "<IPython.core.display.HTML object>"
      ]
     },
     "metadata": {},
     "output_type": "display_data"
    }
   ],
   "source": [
    "preds, label_ids, pred_metric = trainer.predict(encoded_dataset[\"valid\"])\n",
    "val_pred = np.argmax(preds, axis=1)\n",
    "preds, label_ids, pred_metric = trainer.predict(encoded_dataset[\"train\"])\n",
    "train_pred = np.argmax(preds, axis=1)"
   ]
  },
  {
   "cell_type": "code",
   "execution_count": 29,
   "id": "de19ed66",
   "metadata": {},
   "outputs": [
    {
     "name": "stdout",
     "output_type": "stream",
     "text": [
      "              precision    recall  f1-score   support\n",
      "\n",
      "           0       0.94      0.98      0.96      6828\n",
      "           1       0.85      0.64      0.73      1172\n",
      "\n",
      "    accuracy                           0.93      8000\n",
      "   macro avg       0.90      0.81      0.84      8000\n",
      "weighted avg       0.93      0.93      0.93      8000\n",
      "\n"
     ]
    }
   ],
   "source": [
    "print(classification_report(encoded_dataset[\"train\"]['label'], train_pred))"
   ]
  },
  {
   "cell_type": "code",
   "execution_count": 30,
   "id": "a54b4cc7",
   "metadata": {
    "scrolled": false
   },
   "outputs": [
    {
     "name": "stdout",
     "output_type": "stream",
     "text": [
      "              precision    recall  f1-score   support\n",
      "\n",
      "           0       0.91      0.96      0.94       854\n",
      "           1       0.68      0.46      0.55       146\n",
      "\n",
      "    accuracy                           0.89      1000\n",
      "   macro avg       0.80      0.71      0.74      1000\n",
      "weighted avg       0.88      0.89      0.88      1000\n",
      "\n"
     ]
    }
   ],
   "source": [
    "print(classification_report(encoded_dataset[\"valid\"]['label'], val_pred))"
   ]
  },
  {
   "cell_type": "code",
   "execution_count": 31,
   "id": "493f232e",
   "metadata": {},
   "outputs": [
    {
     "data": {
      "image/png": "[encoded data removed]",
      "text/plain": [
       "<Figure size 576x396 with 2 Axes>"
      ]
     },
     "metadata": {},
     "output_type": "display_data"
    }
   ],
   "source": [
    "cm = confusion_matrix(encoded_dataset[\"valid\"]['label'], val_pred, normalize='true')  \n",
    "sns.heatmap(cm, annot=True, annot_kws={\"size\": 16})\n",
    "plt.ylabel(\"True\")\n",
    "plt.xlabel(\"Predicted\")\n",
    "plt.show()"
   ]
  },
  {
   "cell_type": "code",
   "execution_count": 32,
   "id": "aa253cc9",
   "metadata": {},
   "outputs": [
    {
     "name": "stderr",
     "output_type": "stream",
     "text": [
      "The following columns in the test set don't have a corresponding argument in `BertForSequenceClassification.forward` and have been ignored: Combined Text, idx. If Combined Text, idx are not expected by `BertForSequenceClassification.forward`,  you can safely ignore this message.\n",
      "***** Running Prediction *****\n",
      "  Num examples = 1000\n",
      "  Batch size = 2\n"
     ]
    },
    {
     "data": {
      "text/html": [],
      "text/plain": [
       "<IPython.core.display.HTML object>"
      ]
     },
     "metadata": {},
     "output_type": "display_data"
    },
    {
     "name": "stdout",
     "output_type": "stream",
     "text": [
      "              precision    recall  f1-score   support\n",
      "\n",
      "           0       0.91      0.95      0.93       854\n",
      "           1       0.60      0.44      0.51       146\n",
      "\n",
      "    accuracy                           0.88      1000\n",
      "   macro avg       0.76      0.69      0.72      1000\n",
      "weighted avg       0.86      0.88      0.87      1000\n",
      "\n"
     ]
    },
    {
     "data": {
      "image/png": "[encoded data removed]",
      "text/plain": [
       "<Figure size 576x396 with 2 Axes>"
      ]
     },
     "metadata": {},
     "output_type": "display_data"
    }
   ],
   "source": [
    "preds, label_ids, pred_metric = trainer.predict(encoded_dataset[\"test\"])\n",
    "test_pred = np.argmax(preds, axis=1)\n",
    "print(classification_report(encoded_dataset[\"test\"]['label'], test_pred))\n",
    "cm = confusion_matrix(encoded_dataset[\"test\"]['label'], test_pred, normalize='true')  \n",
    "sns.heatmap(cm, annot=True, annot_kws={\"size\": 16})\n",
    "plt.ylabel(\"True\")\n",
    "plt.xlabel(\"Predicted\")\n",
    "plt.show()"
   ]
  },
  {
   "cell_type": "code",
   "execution_count": null,
   "id": "423758a9",
   "metadata": {},
   "outputs": [],
   "source": []
  },
  {
   "cell_type": "code",
   "execution_count": null,
   "id": "9d581596",
   "metadata": {},
   "outputs": [],
   "source": []
  },
  {
   "cell_type": "code",
   "execution_count": null,
   "id": "068e7811",
   "metadata": {},
   "outputs": [],
   "source": []
  },
  {
   "cell_type": "code",
   "execution_count": null,
   "id": "9e858f23",
   "metadata": {},
   "outputs": [],
   "source": []
  },
  {
   "cell_type": "code",
   "execution_count": null,
   "id": "e07a63cf",
   "metadata": {},
   "outputs": [],
   "source": []
  },
  {
   "cell_type": "code",
   "execution_count": null,
   "id": "e3ec359a",
   "metadata": {},
   "outputs": [],
   "source": []
  },
  {
   "cell_type": "code",
   "execution_count": null,
   "id": "08151fd1",
   "metadata": {},
   "outputs": [],
   "source": []
  },
  {
   "cell_type": "code",
   "execution_count": null,
   "id": "ac491bdb",
   "metadata": {},
   "outputs": [],
   "source": []
  }
 ],
 "metadata": {
  "kernelspec": {
   "display_name": "Python 3 (ipykernel)",
   "language": "python",
   "name": "python3"
  },
  "language_info": {
   "codemirror_mode": {
    "name": "ipython",
    "version": 3
   },
   "file_extension": ".py",
   "mimetype": "text/x-python",
   "name": "python",
   "nbconvert_exporter": "python",
   "pygments_lexer": "ipython3",
   "version": "3.8.16"
  }
 },
 "nbformat": 4,
 "nbformat_minor": 5
}
