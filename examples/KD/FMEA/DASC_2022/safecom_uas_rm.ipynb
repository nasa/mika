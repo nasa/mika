{
 "cells": [
  {
   "cell_type": "code",
   "execution_count": 1,
   "metadata": {},
   "outputs": [],
   "source": [
    "import pandas as pd\n",
    "import numpy as np\n",
    "%matplotlib inline\n",
    "import matplotlib.style\n",
    "matplotlib.style.use(\"seaborn-v0_8\")\n",
    "import matplotlib.pyplot as plt\n",
    "import matplotlib.cm as cm\n",
    "import textwrap\n",
    "import seaborn as sn\n",
    "sn.color_palette(\"hls\", 17)\n",
    "import scipy.stats as st\n",
    "import math\n",
    "from sklearn.metrics import cohen_kappa_score\n",
    "import pingouin as pg\n",
    "plt.rcParams[\"font.family\"] = \"Times New Roman\""
   ]
  },
  {
   "cell_type": "code",
   "execution_count": 2,
   "metadata": {},
   "outputs": [],
   "source": [
    "import sys\n",
    "import os\n",
    "sys.path.append(os.path.join(\"..\", \"..\", \"..\", \"..\"))\n",
    "\n",
    "from mika.kd.trend_analysis import *\n",
    "from mika.utils import Data\n",
    "from mika.utils.SAFECOM import get_SAFECOM_severity_USFS"
   ]
  },
  {
   "cell_type": "code",
   "execution_count": 3,
   "metadata": {},
   "outputs": [],
   "source": [
    "file = os.path.join(os.path.abspath(os.path.join(os.getcwd(), os.pardir, os.pardir, os.pardir, os.pardir)),\"data/SAFECOM/SAFECOM_UAS_fire_data.csv\")"
   ]
  },
  {
   "cell_type": "code",
   "execution_count": 4,
   "metadata": {},
   "outputs": [],
   "source": [
    "list_of_attributes = ['Narrative']\n",
    "extra_cols = ['Agency', 'Region', 'Location', 'Date', 'Date Submitted', 'Tracking #',\n",
    "              'Mission Type', 'Persons Onboard', 'Departure Point', 'Destination',\n",
    "              'Special Use', 'Damages', 'Injuries', 'Hazardous Materials', 'Other Mission Type',\n",
    "              'Type', 'Manufacturer', 'Model', 'Hazard', 'Incident Management',\n",
    "              'UAS', 'Accident', 'Airspace', 'Maintenance', 'Mishap Prevention'\n",
    "              ]\n",
    "document_id_col = 'Tracking #'\n",
    "safecom = Data()\n",
    "safecom.load(file, preprocessed=True, id_col=document_id_col, text_columns=list_of_attributes)\n",
    "preprocessed_df = safecom.data_df"
   ]
  },
  {
   "cell_type": "code",
   "execution_count": 5,
   "metadata": {},
   "outputs": [],
   "source": [
    "#extract event occurrence year\n",
    "preprocessed_df['Year'] = [preprocessed_df.at[i,'Date'].split('/')[-1] for i in range(len(preprocessed_df))]\n",
    "preprocessed_df['Day'] = [preprocessed_df.at[i,'Date'].split('/')[1] for i in range(len(preprocessed_df))]\n",
    "preprocessed_df['Month'] = [preprocessed_df.at[i,'Date'].split('/')[0] for i in range(len(preprocessed_df))]"
   ]
  },
  {
   "cell_type": "code",
   "execution_count": 8,
   "metadata": {},
   "outputs": [],
   "source": [
    "cluster = []\n",
    "grouping_col = \"Mode\"\n",
    "manual_groups = pd.read_excel(\"SAFECOM_UAS_clusters_v1.xlsx\")\n",
    "id_col = \"Tracking #\"\n",
    "new_data_df = preprocessed_df.copy()\n",
    "rows_added = 0\n",
    "for i in range(len(preprocessed_df)):\n",
    "    id_ = preprocessed_df.iloc[i][id_col]\n",
    "    group = manual_groups.loc[manual_groups[id_col]==id_].reset_index(drop=True)\n",
    "    if len(group) == 1: #reports with one hazard\n",
    "        cluster.append(group.at[0,grouping_col])\n",
    "    elif len(group) == 0: #reports with no hazards\n",
    "        cluster.append('misc')\n",
    "    elif len(group) >= 2: #reports with 2 or more hazards #something is wrong here!!\n",
    "        for j in range(len(group)):\n",
    "            cluster.append(group.at[j,grouping_col])\n",
    "            if j>0:\n",
    "                new_data_df = pd.concat([new_data_df.iloc[:i+rows_added][:],preprocessed_df.iloc[i:i+1][:], new_data_df.iloc[i+rows_added:][:]]).reset_index(drop=True)\n",
    "                rows_added += 1\n",
    "data_df_all_rows = new_data_df\n",
    "data_df_all_rows[\"cluster\"] = cluster #need to add extra rows to data df for documents in multiple clusters"
   ]
  },
  {
   "cell_type": "code",
   "execution_count": 13,
   "metadata": {},
   "outputs": [],
   "source": [
    "def calc_severity(df):\n",
    "    severities = []\n",
    "    for i in range(len(df)):\n",
    "        severities.append(safecom_severity(df.iloc[i]['Hazardous Materials'], df.iloc[i]['Injuries'], df.iloc[i]['Damages']))\n",
    "    df['severity'] = severities\n",
    "    return df\n",
    "\n",
    "def safecom_severity(hazardous_mat, injury, damage):\n",
    "    key_dict = {\"No\":0, \"Yes\":1}\n",
    "    severity = key_dict[hazardous_mat] + key_dict[injury] + key_dict[damage]\n",
    "    if np.isnan(severity):\n",
    "        severity=0\n",
    "    return severity"
   ]
  },
  {
   "cell_type": "code",
   "execution_count": 14,
   "metadata": {},
   "outputs": [],
   "source": [
    "frequency, docs_per_row = identify_docs_per_fmea_row(data_df_all_rows, 'cluster', 'Year', id_col)\n",
    "data_df_all_rows = calc_severity(data_df_all_rows)"
   ]
  },
  {
   "cell_type": "code",
   "execution_count": 15,
   "metadata": {},
   "outputs": [],
   "source": [
    "severities, total_severities_hazard = calc_severity_per_hazard(docs_per_row, data_df_all_rows, id_col, metric='max')"
   ]
  },
  {
   "cell_type": "code",
   "execution_count": 17,
   "metadata": {},
   "outputs": [
    {
     "data": {
      "text/plain": [
       "{'UAS Intrusion': 1,\n",
       " 'Hobbyist offers services': 0,\n",
       " 'Employee personal drone usage without certification/official approval': 0,\n",
       " 'Communications/flight navigation with UAS failed': 0,\n",
       " 'Battery': 1,\n",
       " 'Loss of control': 1,\n",
       " 'High wind pushes UAS off course': 1,\n",
       " 'Loss of GPS on UAS': 1,\n",
       " 'Propellor arm disconnect (sheared bolt heads or snaps)': 1,\n",
       " 'Fight plan error': 1,\n",
       " 'Motor failure': 1,\n",
       " 'Pilot Error': 1,\n",
       " 'Manned Aircraft Intrusion': 0,\n",
       " 'Engine Failure': 1,\n",
       " 'Hang Fire': 0,\n",
       " 'Loss of LOS': 1,\n",
       " 'UAS airspace separation issue': 0,\n",
       " 'Casing dislodged': 0,\n",
       " 'Motor Mount Failure': 2,\n",
       " 'Pins or needles dislodged': 0,\n",
       " 'Loss of GCS': 1,\n",
       " 'Inappropriate Landing Site': 1}"
      ]
     },
     "execution_count": 17,
     "metadata": {},
     "output_type": "execute_result"
    }
   ],
   "source": [
    "total_severities_hazard"
   ]
  },
  {
   "cell_type": "code",
   "execution_count": null,
   "metadata": {},
   "outputs": [],
   "source": [
    "severities_USFS = get_SAFECOM_severity_USFS(severities)\n",
    "likelihood = get_likelihood_USFS(rates)"
   ]
  }
 ],
 "metadata": {
  "kernelspec": {
   "display_name": "MIKA",
   "language": "python",
   "name": "python3"
  },
  "language_info": {
   "codemirror_mode": {
    "name": "ipython",
    "version": 3
   },
   "file_extension": ".py",
   "mimetype": "text/x-python",
   "name": "python",
   "nbconvert_exporter": "python",
   "pygments_lexer": "ipython3",
   "version": "3.8.16"
  },
  "orig_nbformat": 4
 },
 "nbformat": 4,
 "nbformat_minor": 2
}
