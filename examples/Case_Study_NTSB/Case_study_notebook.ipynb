{
 "cells": [
  {
   "cell_type": "markdown",
   "metadata": {},
   "source": [
    "# Case Study: NTSB Reports\n",
    "\n",
    "This notebook provides an example of MIKA capabilties via a case study on NTSB reports.\n",
    "The capabilities shown in this example include:\n",
    "- Information Retrieval \n",
    "- Topic Modeling\n",
    "- FMEA extraction through custom NER\n",
    "- Trend Analysis"
   ]
  },
  {
   "cell_type": "markdown",
   "metadata": {},
   "source": [
    "## Case Study set up:\n",
    "\n",
    "- Package imports\n",
    "- Data import"
   ]
  },
  {
   "cell_type": "code",
   "execution_count": 5,
   "metadata": {},
   "outputs": [
    {
     "name": "stderr",
     "output_type": "stream",
     "text": [
      "C:\\Users\\srandrad\\AppData\\Roaming\\Python\\Python38\\site-packages\\matplotlib\\__init__.py:152: DeprecationWarning: distutils Version classes are deprecated. Use packaging.version instead.\n",
      "  if LooseVersion(module.__version__) < minver:\n",
      "c:\\Users\\srandrad\\Anaconda3\\lib\\site-packages\\setuptools\\_distutils\\version.py:346: DeprecationWarning: distutils Version classes are deprecated. Use packaging.version instead.\n",
      "  other = LooseVersion(other)\n",
      "C:\\Users\\srandrad\\AppData\\Roaming\\Python\\Python38\\site-packages\\matplotlib\\__init__.py:152: DeprecationWarning: distutils Version classes are deprecated. Use packaging.version instead.\n",
      "  if LooseVersion(module.__version__) < minver:\n",
      "c:\\Users\\srandrad\\Anaconda3\\lib\\site-packages\\setuptools\\_distutils\\version.py:346: DeprecationWarning: distutils Version classes are deprecated. Use packaging.version instead.\n",
      "  other = LooseVersion(other)\n",
      "C:\\Users\\srandrad\\AppData\\Roaming\\Python\\Python38\\site-packages\\matplotlib\\__init__.py:152: DeprecationWarning: distutils Version classes are deprecated. Use packaging.version instead.\n",
      "  if LooseVersion(module.__version__) < minver:\n",
      "c:\\Users\\srandrad\\Anaconda3\\lib\\site-packages\\setuptools\\_distutils\\version.py:346: DeprecationWarning: distutils Version classes are deprecated. Use packaging.version instead.\n",
      "  other = LooseVersion(other)\n",
      "C:\\Users\\srandrad\\AppData\\Roaming\\Python\\Python38\\site-packages\\matplotlib\\__init__.py:152: DeprecationWarning: distutils Version classes are deprecated. Use packaging.version instead.\n",
      "  if LooseVersion(module.__version__) < minver:\n",
      "c:\\Users\\srandrad\\Anaconda3\\lib\\site-packages\\setuptools\\_distutils\\version.py:346: DeprecationWarning: distutils Version classes are deprecated. Use packaging.version instead.\n",
      "  other = LooseVersion(other)\n",
      "C:\\Users\\srandrad\\AppData\\Roaming\\Python\\Python38\\site-packages\\matplotlib\\__init__.py:152: DeprecationWarning: distutils Version classes are deprecated. Use packaging.version instead.\n",
      "  if LooseVersion(module.__version__) < minver:\n",
      "c:\\Users\\srandrad\\Anaconda3\\lib\\site-packages\\setuptools\\_distutils\\version.py:346: DeprecationWarning: distutils Version classes are deprecated. Use packaging.version instead.\n",
      "  other = LooseVersion(other)\n",
      "c:\\Users\\srandrad\\Anaconda3\\lib\\site-packages\\xarray\\core\\pycompat.py:22: DeprecationWarning: distutils Version classes are deprecated. Use packaging.version instead.\n",
      "  duck_array_version = LooseVersion(duck_array_module.__version__)\n",
      "c:\\Users\\srandrad\\Anaconda3\\lib\\site-packages\\xarray\\core\\pycompat.py:37: DeprecationWarning: distutils Version classes are deprecated. Use packaging.version instead.\n",
      "  duck_array_version = LooseVersion(\"0.0.0\")\n",
      "c:\\Users\\srandrad\\Anaconda3\\lib\\site-packages\\xarray\\core\\pycompat.py:37: DeprecationWarning: distutils Version classes are deprecated. Use packaging.version instead.\n",
      "  duck_array_version = LooseVersion(\"0.0.0\")\n",
      "c:\\Users\\srandrad\\Anaconda3\\lib\\site-packages\\setuptools\\_distutils\\version.py:346: DeprecationWarning: distutils Version classes are deprecated. Use packaging.version instead.\n",
      "  other = LooseVersion(other)\n",
      "c:\\Users\\srandrad\\Anaconda3\\lib\\site-packages\\setuptools\\_distutils\\version.py:346: DeprecationWarning: distutils Version classes are deprecated. Use packaging.version instead.\n",
      "  other = LooseVersion(other)\n",
      "c:\\Users\\srandrad\\Anaconda3\\lib\\site-packages\\xarray\\core\\npcompat.py:82: DeprecationWarning: distutils Version classes are deprecated. Use packaging.version instead.\n",
      "  if LooseVersion(np.__version__) >= \"1.20.0\":\n",
      "c:\\Users\\srandrad\\Anaconda3\\lib\\site-packages\\setuptools\\_distutils\\version.py:346: DeprecationWarning: distutils Version classes are deprecated. Use packaging.version instead.\n",
      "  other = LooseVersion(other)\n",
      "c:\\Users\\srandrad\\Anaconda3\\lib\\site-packages\\xarray\\core\\pdcompat.py:45: DeprecationWarning: distutils Version classes are deprecated. Use packaging.version instead.\n",
      "  if LooseVersion(pd.__version__) < \"0.25.0\":\n",
      "c:\\Users\\srandrad\\Anaconda3\\lib\\site-packages\\setuptools\\_distutils\\version.py:346: DeprecationWarning: distutils Version classes are deprecated. Use packaging.version instead.\n",
      "  other = LooseVersion(other)\n",
      "c:\\Users\\srandrad\\Anaconda3\\lib\\site-packages\\plotly\\graph_objs\\__init__.py:288: DeprecationWarning: distutils Version classes are deprecated. Use packaging.version instead.\n",
      "  if LooseVersion(ipywidgets.__version__) >= LooseVersion(\"7.0.0\"):\n",
      "c:\\Users\\srandrad\\Anaconda3\\lib\\site-packages\\plotly\\graph_objs\\__init__.py:288: DeprecationWarning: distutils Version classes are deprecated. Use packaging.version instead.\n",
      "  if LooseVersion(ipywidgets.__version__) >= LooseVersion(\"7.0.0\"):\n",
      "c:\\Users\\srandrad\\Anaconda3\\lib\\site-packages\\plotly\\graph_objs\\__init__.py:288: DeprecationWarning: distutils Version classes are deprecated. Use packaging.version instead.\n",
      "  if LooseVersion(ipywidgets.__version__) >= LooseVersion(\"7.0.0\"):\n",
      "c:\\Users\\srandrad\\Anaconda3\\lib\\site-packages\\plotly\\graph_objs\\__init__.py:288: DeprecationWarning: distutils Version classes are deprecated. Use packaging.version instead.\n",
      "  if LooseVersion(ipywidgets.__version__) >= LooseVersion(\"7.0.0\"):\n",
      "c:\\Users\\srandrad\\Anaconda3\\lib\\site-packages\\scipy\\sparse\\sparsetools.py:21: DeprecationWarning: `scipy.sparse.sparsetools` is deprecated!\n",
      "scipy.sparse.sparsetools is a private module for scipy.sparse, and should not be used.\n",
      "  _deprecated()\n",
      "c:\\Users\\srandrad\\Anaconda3\\lib\\site-packages\\seaborn\\rcmod.py:82: DeprecationWarning: distutils Version classes are deprecated. Use packaging.version instead.\n",
      "  if LooseVersion(mpl.__version__) >= \"3.0\":\n",
      "c:\\Users\\srandrad\\Anaconda3\\lib\\site-packages\\setuptools\\_distutils\\version.py:346: DeprecationWarning: distutils Version classes are deprecated. Use packaging.version instead.\n",
      "  other = LooseVersion(other)\n"
     ]
    }
   ],
   "source": [
    "\n",
    "import sys, os\n",
    "#sys.path.append(os.path.join(os.path.dirname(os.path.realpath(__file__)),\"..\",\"..\"))\n",
    "sys.path.append(os.path.join(\"..\",\"..\"))\n",
    "import numpy as np\n",
    "import pandas as pd\n",
    "from mika.utils import Data\n",
    "from mika.ir import search\n",
    "from datetime import datetime as dt\n",
    "from mika.kd.topic_model_plus import Topic_Model_plus\n",
    "from mika.kd import trend_analysis\n",
    "from mika.kd import FMEA\n",
    "from sklearn.feature_extraction.text import CountVectorizer\n",
    "from torch import cuda"
   ]
  },
  {
   "cell_type": "code",
   "execution_count": 9,
   "metadata": {},
   "outputs": [
    {
     "data": {
      "text/plain": [
       "'c:\\\\Users\\\\srandrad\\\\smart_nlp'"
      ]
     },
     "execution_count": 9,
     "metadata": {},
     "output_type": "execute_result"
    }
   ],
   "source": [
    "os.getcwd()\n",
    "os.chdir('../')\n",
    "os.chdir('../')\n",
    "os.getcwd()"
   ]
  },
  {
   "cell_type": "code",
   "execution_count": 16,
   "metadata": {},
   "outputs": [
    {
     "name": "stderr",
     "output_type": "stream",
     "text": [
      "..\\..\\mika\\utils\\Data.py:67: PerformanceWarning: DataFrame is highly fragmented.  This is usually the result of calling `frame.insert` many times, which has poor performance.  Consider joining all columns at once using pd.concat(axis=1) instead.  To get a de-fragmented frame, use `newframe = frame.copy()`\n",
      "  self.data_df['index'] = self.data_df.index\n",
      "Combining Columns…: 100%|██████████| 243/243 [00:00<?, ?it/s]\n",
      "..\\..\\mika\\utils\\Data.py:214: PerformanceWarning: DataFrame is highly fragmented.  This is usually the result of calling `frame.insert` many times, which has poor performance.  Consider joining all columns at once using pd.concat(axis=1) instead.  To get a de-fragmented frame, use `newframe = frame.copy()`\n",
      "  self.data_df[\"Combined Text\"] = combined_text\n",
      "Creating Unique IDs…: 100%|██████████| 243/243 [00:00<00:00, 2026.35it/s]"
     ]
    },
    {
     "name": "stdout",
     "output_type": "stream",
     "text": [
      "data preparation:  0.0 minutes \n",
      "\n"
     ]
    },
    {
     "name": "stderr",
     "output_type": "stream",
     "text": [
      "\n",
      "..\\..\\mika\\utils\\Data.py:257: PerformanceWarning: DataFrame is highly fragmented.  This is usually the result of calling `frame.insert` many times, which has poor performance.  Consider joining all columns at once using pd.concat(axis=1) instead.  To get a de-fragmented frame, use `newframe = frame.copy()`\n",
      "  self.data_df[\"Unique IDs\"] = unique_ids\n"
     ]
    }
   ],
   "source": [
    "ntsb_filepath = os.path.join(\"data/NTSB/ntsb_full.csv\")\n",
    "ntsb_data = Data()\n",
    "ntsb_text_columns = ['narr_cause', 'narr_accf'] # narrative accident cause and narrative accident final\n",
    "ntsb_document_id_col = 'id'\n",
    "ntsb_database_name = 'NTSB'\n",
    "ntsb_data.load(ntsb_filepath, preprocessed=False, text_columns=ntsb_text_columns, name=ntsb_database_name, load_kwargs={'dtype':str}) # way to load as str?\n",
    "ntsb_data.prepare_data(create_ids=True, combine_columns=ntsb_text_columns, remove_incomplete_rows=False)"
   ]
  },
  {
   "cell_type": "markdown",
   "metadata": {},
   "source": [
    "## Information Retrieval\n",
    "Two model options are available for IR:\n",
    "1. fine-tuned model\n",
    "2. pre-trained distilroberta model"
   ]
  },
  {
   "cell_type": "code",
   "execution_count": null,
   "metadata": {},
   "outputs": [],
   "source": [
    "# fine tuned model\n",
    "model = os.path.join('models', 'fine_tuned_llis_model')\n",
    "query = 'fatigue crack'\n",
    "ir_ntsb = search(ntsb_data, model)\n",
    "embeddings_path = os.path.join('data', 'LLIS', 'llis_sentence_embeddings_finetune.npy')\n",
    "#ir_ntsb.get_sentence_embeddings(embeddings_path) # comment this out if the embeddings already exist\n",
    "ir_ntsb.load_sentence_embeddings(embeddings_path) # uncomment this if you wish to load sentence embeddings that already exist\n",
    "print(ir_ntsb.run_search(query,return_k=5))"
   ]
  },
  {
   "cell_type": "code",
   "execution_count": null,
   "metadata": {},
   "outputs": [],
   "source": [
    "# pretrained model\n",
    "model = 'all-distilroberta-v1'\n",
    "query = 'fatigue crack'\n",
    "ir_ntsb = search(ntsb_data, model)\n",
    "embeddings_path = os.path.join('data', 'LLIS', 'llis_sentence_embeddings.npy')\n",
    "#ir_ntsb.get_sentence_embeddings(embeddings_path) # comment this out if the embeddings already exist\n",
    "ir_ntsb.load_sentence_embeddings(embeddings_path) # uncomment this if you wish to load sentence embeddings that already exist\n",
    "print(ir_ntsb.run_search(query,return_k=5))"
   ]
  },
  {
   "cell_type": "markdown",
   "metadata": {},
   "source": [
    "# Topic Modeling\n",
    "\n",
    "Here we implement BERtopic via topic model plus to create a taxonomy of failure information."
   ]
  },
  {
   "cell_type": "code",
   "execution_count": null,
   "metadata": {},
   "outputs": [],
   "source": [
    "tm = Topic_Model_plus(text_columns=ntsb_text_columns, data=ntsb_data)\n",
    "vectorizer_model = CountVectorizer(ngram_range=(1, 3), stop_words=\"english\") #removes stopwords\n",
    "tm.bert_topic(sentence_transformer_model=None, umap=None, hdbscan=None, count_vectorizor=vectorizer_model, ngram_range=(1,3), BERTkwargs={}, from_probs=False, thresh=0.01)\n",
    "tm.save_bert_model()\n",
    "\n",
    "BERTkwargs={\"top_n_words\": 20, 'min_topic_size':150}\n",
    "tm.bert_topic(count_vectorizor=vectorizer_model, BERTkwargs=BERTkwargs, from_probs=True) #why is bertopic performed twice\n",
    "tm.save_bert_results(from_probs=True)\n",
    "tm.save_bert_taxonomy()"
   ]
  },
  {
   "cell_type": "code",
   "execution_count": null,
   "metadata": {},
   "outputs": [],
   "source": []
  },
  {
   "cell_type": "markdown",
   "metadata": {},
   "source": [
    "# FMEA using Named-Entity Recognition"
   ]
  },
  {
   "cell_type": "code",
   "execution_count": null,
   "metadata": {},
   "outputs": [],
   "source": [
    "#definted according to FAA order 8040.4B: https://www.faa.gov/documentLibrary/media/Order/FAA_Order_8040.4B.pdf\n",
    "def NTSB_severity(damage, inj_level, inj_tot_f, persons_onboard): #damage, ev_highest_injury, inj_tot_f\t\n",
    "    if int(persons_onboard) == 0:\n",
    "        persons_onboard = inj_tot_f\n",
    "    pct_fatal = inj_tot_f/persons_onboard\n",
    "    #minimal: no injuries, no damage. \n",
    "    if inj_level == 'NONE' and damage == 'UKN':\n",
    "        severity = 'Minimal'\n",
    "    #minor: slight (MINR) damage, physical discomfort\n",
    "    elif inj_level == 'MINR' or inj_level == 'NONE':\n",
    "        if damage == 'MINR':\n",
    "            severity = 'Minor'\n",
    "        #major: substaintail (SUBS) damage, injuries\n",
    "        elif damage == 'SUBS':\n",
    "            severity = 'Major' \n",
    "        elif damage == 'DEST':\n",
    "            severity = 'Hazardous'\n",
    "    #hazardous: multiple serious injuries, fatalities<2, hull loss (DEST)\n",
    "    elif inj_level == 'SERS' or (inj_level == 'FATL' and (inj_tot_f <= 2 or pct_fatal < 0.75)) or damage == 'DEST':\n",
    "        severity = 'Hazardous'\n",
    "    #catatrophic: fatalities > 2, or num person on board= num fatalities,  hull loss (DEST)\n",
    "    elif inj_level == 'FATL' and (inj_tot_f > 2 or pct_fatal > 0.75):\n",
    "        severity = 'Catastrophic'\n",
    "    return severity\n",
    "    \n",
    "def severity_func(df):\n",
    "    severities = []\n",
    "    for i in range(len(df)):\n",
    "        severities.append(NTSB_severity(df.iloc[i]['Hazardous Materials'], df.iloc[i]['Injuries'], df.iloc[i]['Damages']))\n",
    "    df['severity'] = severities\n",
    "    return df"
   ]
  },
  {
   "cell_type": "code",
   "execution_count": null,
   "metadata": {},
   "outputs": [],
   "source": [
    "model_checkpoint = os.path.join(\"models\", \"FMEA-ner-model\", \"checkpoint-1424\")\n",
    "print(model_checkpoint)\n",
    "\n",
    "device = 'cuda' if cuda.is_available() else 'cpu'\n",
    "cuda.empty_cache()\n",
    "print(device)\n",
    "\n",
    "fmea = FMEA()\n",
    "fmea.load_model(model_checkpoint)\n",
    "print(\"loaded model\")\n",
    "input_data = fmea.load_data('Combined Text', ntsb_document_id_col, filepath=ntsb_filepath, formatted=False)\n",
    "\n",
    "print(\"loaded data\")\n",
    "preds = fmea.predict()\n",
    "df = fmea.get_entities_per_doc()\n",
    "fmea.group_docs_with_meta(grouping_col='Occurrence_Description', additional_cols=['phase_no'])\n",
    "fmea.grouped_df.to_csv(os.path.join(os.getcwd(),\"ntsb_fmea_raw.csv\"))\n",
    "fmea.calc_severity(severity_func, from_file=False)\n",
    "fmea.test_class.calc_frequency(year_col=\"ev_year\") #add year column\n",
    "fmea.test_class.calc_risk()\n",
    "fmea.test_class.post_process_fmea(phase_name='additional', id_name='test', max_words=1)\n",
    "fmea.fmea_df.to_csv(os.path.join(os.getcwd(),\"NTSB_FMEA.csv\"))"
   ]
  }
 ],
 "metadata": {
  "kernelspec": {
   "display_name": "Python 3.8.5 ('base')",
   "language": "python",
   "name": "python3"
  },
  "language_info": {
   "codemirror_mode": {
    "name": "ipython",
    "version": 3
   },
   "file_extension": ".py",
   "mimetype": "text/x-python",
   "name": "python",
   "nbconvert_exporter": "python",
   "pygments_lexer": "ipython3",
   "version": "3.8.5"
  },
  "orig_nbformat": 4,
  "vscode": {
   "interpreter": {
    "hash": "b38e68980d6034fa1978c58439aaaea1d36f0e25f63150e0c5b6db389ca7fd78"
   }
  }
 },
 "nbformat": 4,
 "nbformat_minor": 2
}
