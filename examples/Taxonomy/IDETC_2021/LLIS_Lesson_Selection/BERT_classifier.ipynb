{
 "cells": [
  {
   "cell_type": "code",
   "execution_count": 1,
   "id": "9113eaeb",
   "metadata": {},
   "outputs": [],
   "source": [
    "import pandas as pd\n",
    "import os\n",
    "from NLP_LLIS_files.lesson_selection_functions import *\n",
    "import numpy as np\n",
    "from keras import backend as K\n",
    "datasheet_path = os.path.join(os.getcwd(),'LLIS datasheets','')\n",
    "from nltk.corpus import stopwords\n",
    "import string\n",
    "import matplotlib.pyplot as plt\n",
    "stopwords = stopwords.words('english')"
   ]
  },
  {
   "cell_type": "code",
   "execution_count": 2,
   "id": "21b8baa2",
   "metadata": {},
   "outputs": [],
   "source": [
    "topic_stopwords =   [\"ames\",\"armstrong\",\"glenn\",\"goddard\",\"katherine\",\"johnson\",\n",
    "                    \"jpl\",\"kennedy\",\"langley\",\"marshall\",\"michoud\",\"nasa\",\"plum\",\n",
    "                    \"brook\",\"stennis\",\"wallops\",\"white\",\"sands\",\"sand\",\"sandusky\",\n",
    "                    \"ohio\",\"cleveland\",\"fairmont\",\"west\",\"virginia\",\"greenbelt\",\n",
    "                    \"maryland\",\"virginia\",\"washington\",\"hampton\",\"florida\",\n",
    "                    \"huntsville\",\"alabama\",\"mississippi\",\"orleans\",\"louisiana\",\n",
    "                    \"houston\",\"texas\",\"las\",\"cruces\",\"mexico\",\"dryden\",\"edwards\",\n",
    "                    \"california\",\"pasadena\",\"moffett\",\"field\",\"york\",\"albuquerque\",\n",
    "                    \"robert\",\"moscow\",\"sofia\", \"january\", \"february\", \"march\", \n",
    "                    \"april\", \"may\",\"june\", \"july\", \"august\", \"september\", \"october\", \n",
    "                    \"november\", \"december\", \"csoc\", \"gsfc\", \"cofr\", \"keyword\",\n",
    "                    \"germany\", \"russia\", \"inch\", \"meter\", \"usml\", \"morning\",\n",
    "                    \"also\", \"lesson\", \"learn\", \"lockheed\", \"martin\", \"northrop\", \"grumman\",\n",
    "                    \"determine\", \"pick\", \"canoga\", \"park\", \"william\", \"think\", \"please\",\n",
    "                    \"refer\", \"totally\", \"month\", \"day\", \"year\", \"vandenberg\", \"senior\",\n",
    "                    \"msfc\",\"cause\"]\n",
    "STOPLIST = set(stopwords + topic_stopwords)\n",
    "SYMBOLS = \" \".join(string.punctuation).split(\" \") + [\"-\", \"...\", \"”\", \"”\"]"
   ]
  },
  {
   "cell_type": "code",
   "execution_count": 3,
   "id": "976314ca",
   "metadata": {},
   "outputs": [],
   "source": [
    "def encode (df):\n",
    "    target_names = []\n",
    "    for i in range(0, len(df)):\n",
    "        target_names.append(df.iloc[i]['use'])\n",
    "        if df.iloc[i]['use'] == \"use\":\n",
    "            df.at[i,'use']=float(1)\n",
    "        else: df.at[i,'use']= float(0)\n",
    "    df[\"target names\"] = target_names"
   ]
  },
  {
   "cell_type": "code",
   "execution_count": 4,
   "id": "f331636a",
   "metadata": {},
   "outputs": [
    {
     "data": {
      "text/html": [
       "<div>\n",
       "<style scoped>\n",
       "    .dataframe tbody tr th:only-of-type {\n",
       "        vertical-align: middle;\n",
       "    }\n",
       "\n",
       "    .dataframe tbody tr th {\n",
       "        vertical-align: top;\n",
       "    }\n",
       "\n",
       "    .dataframe thead th {\n",
       "        text-align: right;\n",
       "    }\n",
       "</style>\n",
       "<table border=\"1\" class=\"dataframe\">\n",
       "  <thead>\n",
       "    <tr style=\"text-align: right;\">\n",
       "      <th></th>\n",
       "      <th>Lesson ID</th>\n",
       "      <th>use</th>\n",
       "      <th>text</th>\n",
       "    </tr>\n",
       "  </thead>\n",
       "  <tbody>\n",
       "    <tr>\n",
       "      <th>0</th>\n",
       "      <td>28105</td>\n",
       "      <td>use</td>\n",
       "      <td>high oxidizer vapor content may cause vapor r...</td>\n",
       "    </tr>\n",
       "    <tr>\n",
       "      <th>1</th>\n",
       "      <td>25503</td>\n",
       "      <td>use</td>\n",
       "      <td>highly configurable software architecture all...</td>\n",
       "    </tr>\n",
       "    <tr>\n",
       "      <th>2</th>\n",
       "      <td>24403</td>\n",
       "      <td>use</td>\n",
       "      <td>bird-strike hazard outside of landing takeoff...</td>\n",
       "    </tr>\n",
       "    <tr>\n",
       "      <th>3</th>\n",
       "      <td>23701</td>\n",
       "      <td>use</td>\n",
       "      <td>robot li-ion battery fire a non-flight robot ...</td>\n",
       "    </tr>\n",
       "    <tr>\n",
       "      <th>4</th>\n",
       "      <td>23201</td>\n",
       "      <td>use</td>\n",
       "      <td>rapidscat power subsystem failure the failure...</td>\n",
       "    </tr>\n",
       "    <tr>\n",
       "      <th>...</th>\n",
       "      <td>...</td>\n",
       "      <td>...</td>\n",
       "      <td>...</td>\n",
       "    </tr>\n",
       "    <tr>\n",
       "      <th>294</th>\n",
       "      <td>389</td>\n",
       "      <td>use</td>\n",
       "      <td>in-flight power converter failure during a sw...</td>\n",
       "    </tr>\n",
       "    <tr>\n",
       "      <th>295</th>\n",
       "      <td>308</td>\n",
       "      <td>use</td>\n",
       "      <td>solder balls in flight modules because a desi...</td>\n",
       "    </tr>\n",
       "    <tr>\n",
       "      <th>296</th>\n",
       "      <td>378</td>\n",
       "      <td>use</td>\n",
       "      <td>untestable system mode in flight an essential...</td>\n",
       "    </tr>\n",
       "    <tr>\n",
       "      <th>297</th>\n",
       "      <td>374</td>\n",
       "      <td>use</td>\n",
       "      <td>higher data rates possible through station ar...</td>\n",
       "    </tr>\n",
       "    <tr>\n",
       "      <th>298</th>\n",
       "      <td>380</td>\n",
       "      <td>use</td>\n",
       "      <td>inadequate knowledge of spacecraft tape recor...</td>\n",
       "    </tr>\n",
       "  </tbody>\n",
       "</table>\n",
       "<p>299 rows × 3 columns</p>\n",
       "</div>"
      ],
      "text/plain": [
       "     Lesson ID  use                                               text\n",
       "0        28105  use   high oxidizer vapor content may cause vapor r...\n",
       "1        25503  use   highly configurable software architecture all...\n",
       "2        24403  use   bird-strike hazard outside of landing takeoff...\n",
       "3        23701  use   robot li-ion battery fire a non-flight robot ...\n",
       "4        23201  use   rapidscat power subsystem failure the failure...\n",
       "..         ...  ...                                                ...\n",
       "294        389  use   in-flight power converter failure during a sw...\n",
       "295        308  use   solder balls in flight modules because a desi...\n",
       "296        378  use   untestable system mode in flight an essential...\n",
       "297        374  use   higher data rates possible through station ar...\n",
       "298        380  use   inadequate knowledge of spacecraft tape recor...\n",
       "\n",
       "[299 rows x 3 columns]"
      ]
     },
     "execution_count": 4,
     "metadata": {},
     "output_type": "execute_result"
    }
   ],
   "source": [
    "train_df = preprocessing(datasheet_path+\"train_set_expanded_H.csv\")#os.path.join(os.getcwd(),\"LLIS datasheets\",\"train_set_expanded_H.csv\"))\n",
    "#calculating features for 1 add encoding\n",
    "train_df"
   ]
  },
  {
   "cell_type": "code",
   "execution_count": 5,
   "id": "9070b189",
   "metadata": {},
   "outputs": [
    {
     "data": {
      "text/html": [
       "<div>\n",
       "<style scoped>\n",
       "    .dataframe tbody tr th:only-of-type {\n",
       "        vertical-align: middle;\n",
       "    }\n",
       "\n",
       "    .dataframe tbody tr th {\n",
       "        vertical-align: top;\n",
       "    }\n",
       "\n",
       "    .dataframe thead th {\n",
       "        text-align: right;\n",
       "    }\n",
       "</style>\n",
       "<table border=\"1\" class=\"dataframe\">\n",
       "  <thead>\n",
       "    <tr style=\"text-align: right;\">\n",
       "      <th></th>\n",
       "      <th>Lesson ID</th>\n",
       "      <th>use</th>\n",
       "      <th>text</th>\n",
       "    </tr>\n",
       "  </thead>\n",
       "  <tbody>\n",
       "    <tr>\n",
       "      <th>0</th>\n",
       "      <td>17802</td>\n",
       "      <td>use</td>\n",
       "      <td>msfc case study: x-34 fastrac - memorandums o...</td>\n",
       "    </tr>\n",
       "    <tr>\n",
       "      <th>1</th>\n",
       "      <td>16901</td>\n",
       "      <td>use</td>\n",
       "      <td>propellant tank protection against orbital de...</td>\n",
       "    </tr>\n",
       "    <tr>\n",
       "      <th>2</th>\n",
       "      <td>16501</td>\n",
       "      <td>use</td>\n",
       "      <td>smap reflector deployment test anomaly (desig...</td>\n",
       "    </tr>\n",
       "    <tr>\n",
       "      <th>3</th>\n",
       "      <td>15301</td>\n",
       "      <td>use</td>\n",
       "      <td>fidelity of the dawn thrust gimbal assembly l...</td>\n",
       "    </tr>\n",
       "    <tr>\n",
       "      <th>4</th>\n",
       "      <td>1710</td>\n",
       "      <td>use</td>\n",
       "      <td>uninhabited aerial vehicle (uav), flight test...</td>\n",
       "    </tr>\n",
       "    <tr>\n",
       "      <th>...</th>\n",
       "      <td>...</td>\n",
       "      <td>...</td>\n",
       "      <td>...</td>\n",
       "    </tr>\n",
       "    <tr>\n",
       "      <th>94</th>\n",
       "      <td>1</td>\n",
       "      <td>use</td>\n",
       "      <td>implementation of procedural controls in addi...</td>\n",
       "    </tr>\n",
       "    <tr>\n",
       "      <th>95</th>\n",
       "      <td>385</td>\n",
       "      <td>use</td>\n",
       "      <td>hydra-set* applications and hazards lifting i...</td>\n",
       "    </tr>\n",
       "    <tr>\n",
       "      <th>96</th>\n",
       "      <td>392</td>\n",
       "      <td>use</td>\n",
       "      <td>galileo aacs excessive memory keep alive (mka...</td>\n",
       "    </tr>\n",
       "    <tr>\n",
       "      <th>97</th>\n",
       "      <td>383</td>\n",
       "      <td>use</td>\n",
       "      <td>galileo aacs computer memory access contentio...</td>\n",
       "    </tr>\n",
       "    <tr>\n",
       "      <th>98</th>\n",
       "      <td>262</td>\n",
       "      <td>use</td>\n",
       "      <td>concurrent real-time operations and advanced ...</td>\n",
       "    </tr>\n",
       "  </tbody>\n",
       "</table>\n",
       "<p>99 rows × 3 columns</p>\n",
       "</div>"
      ],
      "text/plain": [
       "    Lesson ID  use                                               text\n",
       "0       17802  use   msfc case study: x-34 fastrac - memorandums o...\n",
       "1       16901  use   propellant tank protection against orbital de...\n",
       "2       16501  use   smap reflector deployment test anomaly (desig...\n",
       "3       15301  use   fidelity of the dawn thrust gimbal assembly l...\n",
       "4        1710  use   uninhabited aerial vehicle (uav), flight test...\n",
       "..        ...  ...                                                ...\n",
       "94          1  use   implementation of procedural controls in addi...\n",
       "95        385  use   hydra-set* applications and hazards lifting i...\n",
       "96        392  use   galileo aacs excessive memory keep alive (mka...\n",
       "97        383  use   galileo aacs computer memory access contentio...\n",
       "98        262  use   concurrent real-time operations and advanced ...\n",
       "\n",
       "[99 rows x 3 columns]"
      ]
     },
     "metadata": {},
     "output_type": "display_data"
    }
   ],
   "source": [
    "df_validation = preprocessing(datasheet_path+\"validation_set_final_H.csv\")\n",
    "display(df_validation)"
   ]
  },
  {
   "cell_type": "code",
   "execution_count": null,
   "id": "6223e2e2",
   "metadata": {},
   "outputs": [],
   "source": []
  },
  {
   "cell_type": "code",
   "execution_count": null,
   "id": "de8bae39",
   "metadata": {},
   "outputs": [],
   "source": []
  },
  {
   "cell_type": "code",
   "execution_count": null,
   "id": "4d371ae9",
   "metadata": {},
   "outputs": [],
   "source": []
  },
  {
   "cell_type": "code",
   "execution_count": null,
   "id": "891a0996",
   "metadata": {},
   "outputs": [],
   "source": []
  },
  {
   "cell_type": "code",
   "execution_count": null,
   "id": "a61eb1fd",
   "metadata": {},
   "outputs": [],
   "source": []
  },
  {
   "cell_type": "markdown",
   "id": "cb98afe4",
   "metadata": {},
   "source": [
    "# BERT for document classification"
   ]
  },
  {
   "cell_type": "code",
   "execution_count": 6,
   "id": "ee142f0c",
   "metadata": {},
   "outputs": [
    {
     "name": "stderr",
     "output_type": "stream",
     "text": [
      "C:\\Users\\srandrad\\Anaconda3\\lib\\site-packages\\tensorflow_addons\\utils\\ensure_tf_install.py:53: UserWarning: Tensorflow Addons supports using Python ops for all Tensorflow versions above or equal to 2.5.0 and strictly below 2.8.0 (nightly versions are not supported). \n",
      " The versions of TensorFlow you are currently using is 2.8.1 and is not supported. \n",
      "Some things might work, some things might not.\n",
      "If you were to encounter a bug, do not file an issue.\n",
      "If you want to make sure you're using a tested and supported configuration, either change the TensorFlow version or the TensorFlow Addons's version. \n",
      "You can find the compatibility matrix in TensorFlow Addon's readme:\n",
      "https://github.com/tensorflow/addons\n",
      "  warnings.warn(\n"
     ]
    }
   ],
   "source": [
    "import tensorflow as tf\n",
    "import tensorflow_hub as hub\n",
    "import tensorflow_text as text\n",
    "import tensorflow_addons as tfa \n",
    "from sklearn.model_selection import train_test_split \n",
    "from sklearn.metrics import classification_report\n",
    "from sklearn.metrics import confusion_matrix\n",
    "from sklearn.utils import resample\n",
    "import seaborn as sns"
   ]
  },
  {
   "cell_type": "markdown",
   "id": "6d30deaa",
   "metadata": {},
   "source": [
    "## Prepare data: split into train, test, and valid"
   ]
  },
  {
   "cell_type": "code",
   "execution_count": 7,
   "id": "1102a53f",
   "metadata": {},
   "outputs": [],
   "source": [
    "mapping = {'not use':0, 'use':1}\n",
    "x_train = train_df['text']\n",
    "y_train = pd.Series([mapping[y] for y in train_df['use']])\n",
    "x_valid = df_validation['text']\n",
    "y_valid = pd.Series([mapping[y] for y in df_validation['use']])"
   ]
  },
  {
   "cell_type": "code",
   "execution_count": 8,
   "id": "7ec7fdb4",
   "metadata": {},
   "outputs": [
    {
     "name": "stdout",
     "output_type": "stream",
     "text": [
      "(299,) (99,)\n"
     ]
    }
   ],
   "source": [
    "print(np.shape(x_train), np.shape(x_valid))"
   ]
  },
  {
   "cell_type": "code",
   "execution_count": 9,
   "id": "dd26c944",
   "metadata": {},
   "outputs": [
    {
     "data": {
      "text/plain": [
       "1    241\n",
       "0     58\n",
       "dtype: int64"
      ]
     },
     "execution_count": 9,
     "metadata": {},
     "output_type": "execute_result"
    }
   ],
   "source": [
    "pd.Series(y_train).value_counts()"
   ]
  },
  {
   "cell_type": "markdown",
   "id": "9cf77937",
   "metadata": {
    "id": "pDNKfAXbDnJH"
   },
   "source": [
    "## Define your model\n",
    "\n",
    "You will create a very simple fine-tuned model, with the preprocessing model, the selected BERT model, one Dense and a Dropout layer.\n",
    "\n",
    "Note: for more information about the base model's input and output you can follow the model's URL for documentation. Here specifically, you don't need to worry about it because the preprocessing model will take care of that for you.\n"
   ]
  },
  {
   "cell_type": "code",
   "execution_count": 11,
   "id": "1cd2083f",
   "metadata": {},
   "outputs": [],
   "source": [
    "tfhub_handle_encoder = \"https://tfhub.dev/tensorflow/small_bert/bert_en_uncased_L-2_H-128_A-2/1\" #\"https://tfhub.dev/tensorflow/bert_en_uncased_L-12_H-768_A-12/3\"\n",
    "tfhub_handle_preprocess = \"https://tfhub.dev/tensorflow/bert_en_uncased_preprocess/3\" #\"https://tfhub.dev/tensorflow/bert_en_uncased_preprocess/3\""
   ]
  },
  {
   "cell_type": "code",
   "execution_count": 12,
   "id": "59d6c547",
   "metadata": {
    "execution": {
     "iopub.execute_input": "2022-03-29T12:30:26.711934Z",
     "iopub.status.busy": "2022-03-29T12:30:26.711712Z",
     "iopub.status.idle": "2022-03-29T12:30:26.716508Z",
     "shell.execute_reply": "2022-03-29T12:30:26.715939Z"
    },
    "id": "aksj743St9ga"
   },
   "outputs": [],
   "source": [
    "def build_classifier_model():\n",
    "    text_input = tf.keras.layers.Input(shape=(), dtype=tf.string, name='text')\n",
    "    preprocessing_layer = hub.KerasLayer(tfhub_handle_preprocess, name='preprocessing')\n",
    "    encoder_inputs = preprocessing_layer(text_input)\n",
    "    encoder = hub.KerasLayer(tfhub_handle_encoder, trainable=True, name='BERT_encoder')\n",
    "    outputs = encoder(encoder_inputs)\n",
    "    net = outputs['pooled_output']\n",
    "    net = tf.keras.layers.Dropout(0.1)(net)\n",
    "    net = tf.keras.layers.Dense(1, activation='sigmoid', name='classifier')(net)\n",
    "    return tf.keras.Model(text_input, net)"
   ]
  },
  {
   "cell_type": "markdown",
   "id": "2f33cf6b",
   "metadata": {
    "id": "WbUWoZMwc302"
   },
   "source": [
    "## Model training\n",
    "\n",
    "You now have all the pieces to train a model, including the preprocessing module, BERT encoder, data, and classifier."
   ]
  },
  {
   "cell_type": "markdown",
   "id": "cec9bde8",
   "metadata": {
    "id": "WpJ3xcwDT56v"
   },
   "source": [
    "### Loss function\n",
    "\n",
    "Since this is a binary classification problem and the model outputs a probability (a single-unit layer), you'll use `losses.BinaryCrossentropy` loss function.\n"
   ]
  },
  {
   "cell_type": "code",
   "execution_count": 13,
   "id": "b6d6edcd",
   "metadata": {
    "execution": {
     "iopub.execute_input": "2022-03-29T12:30:33.611866Z",
     "iopub.status.busy": "2022-03-29T12:30:33.611329Z",
     "iopub.status.idle": "2022-03-29T12:30:33.621515Z",
     "shell.execute_reply": "2022-03-29T12:30:33.620990Z"
    },
    "id": "OWPOZE-L3AgE"
   },
   "outputs": [],
   "source": [
    "loss = tf.keras.losses.BinaryCrossentropy(from_logits=True)\n",
    "def recall_m(y_true, y_pred):\n",
    "    true_positives = K.sum(K.round(K.clip(y_true * y_pred, 0, 1)))\n",
    "    possible_positives = K.sum(K.round(K.clip(y_true, 0, 1)))\n",
    "    recall = true_positives / (possible_positives + K.epsilon())\n",
    "    return recall\n",
    "\n",
    "def precision_m(y_true, y_pred):\n",
    "    true_positives = K.sum(K.round(K.clip(y_true * y_pred, 0, 1)))\n",
    "    predicted_positives = K.sum(K.round(K.clip(y_pred, 0, 1)))\n",
    "    precision = true_positives / (predicted_positives + K.epsilon())\n",
    "    return precision\n",
    "def f1_m(y_true, y_pred):\n",
    "    precision = precision_m(y_true, y_pred)\n",
    "    recall = recall_m(y_true, y_pred)\n",
    "    return 2*((precision*recall)/(precision+recall+K.epsilon()))\n",
    "\n",
    "metrics = [tf.metrics.BinaryAccuracy(), tf.metrics.Precision(), tf.metrics.Recall(), f1_m]#tfa.metrics.F1Score(num_classes=2, average=\"micro\")]"
   ]
  },
  {
   "cell_type": "code",
   "execution_count": 14,
   "id": "8c096876",
   "metadata": {
    "execution": {
     "iopub.execute_input": "2022-03-29T12:30:33.624696Z",
     "iopub.status.busy": "2022-03-29T12:30:33.624232Z",
     "iopub.status.idle": "2022-03-29T12:30:33.628769Z",
     "shell.execute_reply": "2022-03-29T12:30:33.628248Z"
    },
    "id": "P9eP2y9dbw32"
   },
   "outputs": [],
   "source": [
    "epochs = 15\n",
    "mini_batch = 16\n",
    "init_lr = 3e-5\n",
    "optimizer = tf.keras.optimizers.Adam(learning_rate=init_lr)"
   ]
  },
  {
   "cell_type": "markdown",
   "id": "53b0bca4",
   "metadata": {
    "id": "SqlarlpC_v0g"
   },
   "source": [
    "### Loading the BERT model and training\n",
    "\n",
    "Using the `classifier_model` you created earlier, you can compile the model with the loss, metric and optimizer."
   ]
  },
  {
   "cell_type": "code",
   "execution_count": 15,
   "id": "1c81d19f",
   "metadata": {
    "execution": {
     "iopub.execute_input": "2022-03-29T12:30:33.631424Z",
     "iopub.status.busy": "2022-03-29T12:30:33.631013Z",
     "iopub.status.idle": "2022-03-29T12:30:33.640619Z",
     "shell.execute_reply": "2022-03-29T12:30:33.640151Z"
    },
    "id": "-7GPDhR98jsD"
   },
   "outputs": [],
   "source": [
    "classifier_model = build_classifier_model()\n",
    "classifier_model.compile(optimizer=optimizer,\n",
    "                         loss=loss,\n",
    "                         metrics=metrics)"
   ]
  },
  {
   "cell_type": "code",
   "execution_count": 16,
   "id": "d3c5f422",
   "metadata": {
    "execution": {
     "iopub.execute_input": "2022-03-29T12:30:33.486539Z",
     "iopub.status.busy": "2022-03-29T12:30:33.486005Z",
     "iopub.status.idle": "2022-03-29T12:30:33.607583Z",
     "shell.execute_reply": "2022-03-29T12:30:33.606965Z"
    },
    "id": "0EmzyHZXKIpm"
   },
   "outputs": [
    {
     "data": {
      "image/png": "[encoded data removed]",
      "text/plain": [
       "<IPython.core.display.Image object>"
      ]
     },
     "execution_count": 16,
     "metadata": {},
     "output_type": "execute_result"
    }
   ],
   "source": [
    "tf.keras.utils.plot_model(classifier_model)"
   ]
  },
  {
   "cell_type": "markdown",
   "id": "e84ee6df",
   "metadata": {
    "id": "CpBuV5j2cS_b"
   },
   "source": [
    "Note: training time will vary depending on the complexity of the BERT model you have selected."
   ]
  },
  {
   "cell_type": "code",
   "execution_count": 17,
   "id": "bdd24656",
   "metadata": {
    "execution": {
     "iopub.execute_input": "2022-03-29T12:30:33.643759Z",
     "iopub.status.busy": "2022-03-29T12:30:33.643317Z",
     "iopub.status.idle": "2022-03-29T12:37:37.231432Z",
     "shell.execute_reply": "2022-03-29T12:37:37.230870Z"
    },
    "id": "HtfDFAnN_Neu"
   },
   "outputs": [
    {
     "name": "stdout",
     "output_type": "stream",
     "text": [
      "Training model with https://tfhub.dev/tensorflow/small_bert/bert_en_uncased_L-2_H-128_A-2/1\n",
      "Epoch 1/15\n"
     ]
    },
    {
     "name": "stderr",
     "output_type": "stream",
     "text": [
      "C:\\Users\\srandrad\\Anaconda3\\lib\\site-packages\\tensorflow\\python\\util\\dispatch.py:1082: UserWarning: \"`binary_crossentropy` received `from_logits=True`, but the `output` argument was produced by a sigmoid or softmax activation and thus does not represent logits. Was this intended?\"\n",
      "  return dispatch_target(*args, **kwargs)\n"
     ]
    },
    {
     "name": "stdout",
     "output_type": "stream",
     "text": [
      "19/19 [==============================] - 7s 190ms/step - loss: 1.3214 - binary_accuracy: 0.4615 - precision: 0.8279 - recall: 0.4191 - f1_m: 0.5473 - val_loss: 0.5985 - val_binary_accuracy: 0.6869 - val_precision: 0.9492 - val_recall: 0.6667 - val_f1_m: 0.7511\n",
      "Epoch 2/15\n",
      "19/19 [==============================] - 3s 167ms/step - loss: 1.1171 - binary_accuracy: 0.5987 - precision: 0.8854 - recall: 0.5768 - f1_m: 0.6823 - val_loss: 0.4849 - val_binary_accuracy: 0.8788 - val_precision: 0.9390 - val_recall: 0.9167 - val_f1_m: 0.9075\n",
      "Epoch 3/15\n",
      "19/19 [==============================] - 3s 163ms/step - loss: 1.0093 - binary_accuracy: 0.7090 - precision: 0.9326 - recall: 0.6888 - f1_m: 0.7800 - val_loss: 0.4732 - val_binary_accuracy: 0.8485 - val_precision: 0.9859 - val_recall: 0.8333 - val_f1_m: 0.8407\n",
      "Epoch 4/15\n",
      "19/19 [==============================] - 3s 162ms/step - loss: 0.8940 - binary_accuracy: 0.7492 - precision: 0.9511 - recall: 0.7261 - f1_m: 0.8178 - val_loss: 0.3925 - val_binary_accuracy: 0.8687 - val_precision: 0.9610 - val_recall: 0.8810 - val_f1_m: 0.8778\n",
      "Epoch 5/15\n",
      "19/19 [==============================] - 3s 162ms/step - loss: 0.8156 - binary_accuracy: 0.7993 - precision: 0.9594 - recall: 0.7842 - f1_m: 0.8592 - val_loss: 0.3738 - val_binary_accuracy: 0.8586 - val_precision: 0.9605 - val_recall: 0.8690 - val_f1_m: 0.8621\n",
      "Epoch 6/15\n",
      "19/19 [==============================] - 3s 162ms/step - loss: 0.7980 - binary_accuracy: 0.8194 - precision: 0.9474 - recall: 0.8216 - f1_m: 0.8758 - val_loss: 0.3795 - val_binary_accuracy: 0.8687 - val_precision: 0.9733 - val_recall: 0.8690 - val_f1_m: 0.8667\n",
      "Epoch 7/15\n",
      "19/19 [==============================] - 3s 161ms/step - loss: 0.6488 - binary_accuracy: 0.8428 - precision: 0.9755 - recall: 0.8257 - f1_m: 0.8913 - val_loss: 0.3550 - val_binary_accuracy: 0.8586 - val_precision: 0.9605 - val_recall: 0.8690 - val_f1_m: 0.8621\n",
      "Epoch 8/15\n",
      "19/19 [==============================] - 3s 158ms/step - loss: 0.6294 - binary_accuracy: 0.8495 - precision: 0.9804 - recall: 0.8299 - f1_m: 0.8929 - val_loss: 0.3063 - val_binary_accuracy: 0.8687 - val_precision: 0.9494 - val_recall: 0.8929 - val_f1_m: 0.8854\n",
      "Epoch 9/15\n",
      "19/19 [==============================] - 3s 162ms/step - loss: 0.5659 - binary_accuracy: 0.8863 - precision: 0.9726 - recall: 0.8838 - f1_m: 0.9221 - val_loss: 0.3104 - val_binary_accuracy: 0.8687 - val_precision: 0.9494 - val_recall: 0.8929 - val_f1_m: 0.8854\n",
      "Epoch 10/15\n",
      "19/19 [==============================] - 3s 159ms/step - loss: 0.5390 - binary_accuracy: 0.8696 - precision: 0.9720 - recall: 0.8631 - f1_m: 0.9083 - val_loss: 0.2937 - val_binary_accuracy: 0.8687 - val_precision: 0.9494 - val_recall: 0.8929 - val_f1_m: 0.8854\n",
      "Epoch 11/15\n",
      "19/19 [==============================] - 3s 162ms/step - loss: 0.5424 - binary_accuracy: 0.8428 - precision: 0.9709 - recall: 0.8299 - f1_m: 0.8944 - val_loss: 0.2837 - val_binary_accuracy: 0.8687 - val_precision: 0.9494 - val_recall: 0.8929 - val_f1_m: 0.8854\n",
      "Epoch 12/15\n",
      "19/19 [==============================] - 3s 167ms/step - loss: 0.4562 - binary_accuracy: 0.8997 - precision: 0.9817 - recall: 0.8921 - f1_m: 0.9333 - val_loss: 0.3129 - val_binary_accuracy: 0.8586 - val_precision: 0.9487 - val_recall: 0.8810 - val_f1_m: 0.8723\n",
      "Epoch 13/15\n",
      "19/19 [==============================] - 3s 164ms/step - loss: 0.3768 - binary_accuracy: 0.9264 - precision: 0.9910 - recall: 0.9170 - f1_m: 0.9503 - val_loss: 0.2525 - val_binary_accuracy: 0.8788 - val_precision: 0.9390 - val_recall: 0.9167 - val_f1_m: 0.8963\n",
      "Epoch 14/15\n",
      "19/19 [==============================] - 4s 221ms/step - loss: 0.3716 - binary_accuracy: 0.9130 - precision: 0.9864 - recall: 0.9046 - f1_m: 0.9414 - val_loss: 0.2673 - val_binary_accuracy: 0.8889 - val_precision: 0.9506 - val_recall: 0.9167 - val_f1_m: 0.9019\n",
      "Epoch 15/15\n",
      "19/19 [==============================] - 3s 181ms/step - loss: 0.3181 - binary_accuracy: 0.9465 - precision: 0.9913 - recall: 0.9419 - f1_m: 0.9636 - val_loss: 0.3046 - val_binary_accuracy: 0.8687 - val_precision: 0.9494 - val_recall: 0.8929 - val_f1_m: 0.8854\n"
     ]
    }
   ],
   "source": [
    "print(f'Training model with {tfhub_handle_encoder}')\n",
    "history = classifier_model.fit(x=x_train, y=y_train,\n",
    "                               validation_data=(x_valid, y_valid),\n",
    "                               epochs=epochs, batch_size=mini_batch, class_weight={1:1, 0:5})"
   ]
  },
  {
   "cell_type": "markdown",
   "id": "c945f85d",
   "metadata": {
    "id": "uBthMlTSV8kn"
   },
   "source": [
    "### Evaluate the model\n",
    "\n",
    "Let's see how the model performs. Two values will be returned. Loss (a number which represents the error, lower values are better), and accuracy."
   ]
  },
  {
   "cell_type": "code",
   "execution_count": 18,
   "id": "e4221175",
   "metadata": {},
   "outputs": [],
   "source": [
    "valid_pred = np.round(classifier_model.predict(x_valid))\n",
    "train_pred = np.round(classifier_model.predict(x_train))"
   ]
  },
  {
   "cell_type": "code",
   "execution_count": 19,
   "id": "de19ed66",
   "metadata": {},
   "outputs": [
    {
     "name": "stdout",
     "output_type": "stream",
     "text": [
      "              precision    recall  f1-score   support\n",
      "\n",
      "           0       0.88      0.98      0.93        58\n",
      "           1       1.00      0.97      0.98       241\n",
      "\n",
      "    accuracy                           0.97       299\n",
      "   macro avg       0.94      0.97      0.95       299\n",
      "weighted avg       0.97      0.97      0.97       299\n",
      "\n"
     ]
    }
   ],
   "source": [
    "print(classification_report(y_train, train_pred))"
   ]
  },
  {
   "cell_type": "code",
   "execution_count": 20,
   "id": "a54b4cc7",
   "metadata": {
    "scrolled": true
   },
   "outputs": [
    {
     "name": "stdout",
     "output_type": "stream",
     "text": [
      "              precision    recall  f1-score   support\n",
      "\n",
      "           0       0.55      0.73      0.63        15\n",
      "           1       0.95      0.89      0.92        84\n",
      "\n",
      "    accuracy                           0.87        99\n",
      "   macro avg       0.75      0.81      0.77        99\n",
      "weighted avg       0.89      0.87      0.88        99\n",
      "\n"
     ]
    }
   ],
   "source": [
    "print(classification_report(y_valid, valid_pred))"
   ]
  },
  {
   "cell_type": "code",
   "execution_count": 21,
   "id": "493f232e",
   "metadata": {},
   "outputs": [
    {
     "data": {
      "image/png": "[encoded data removed]",
      "text/plain": [
       "<Figure size 432x288 with 2 Axes>"
      ]
     },
     "metadata": {
      "needs_background": "light"
     },
     "output_type": "display_data"
    }
   ],
   "source": [
    "cm = confusion_matrix(y_valid, valid_pred)#, normalize='true')  \n",
    "sns.heatmap(cm, annot=True, annot_kws={\"size\": 16})\n",
    "plt.ylabel(\"True\")\n",
    "plt.xlabel(\"Predicted\")\n",
    "plt.show()"
   ]
  },
  {
   "cell_type": "markdown",
   "id": "f52abfe5",
   "metadata": {
    "id": "uttWpgmSfzq9"
   },
   "source": [
    "### Plot the accuracy and loss over time\n",
    "\n",
    "Based on the `History` object returned by `model.fit()`. You can plot the training and validation loss for comparison, as well as the training and validation accuracy:"
   ]
  },
  {
   "cell_type": "code",
   "execution_count": 22,
   "id": "b98504c3",
   "metadata": {
    "execution": {
     "iopub.execute_input": "2022-03-29T12:38:36.132081Z",
     "iopub.status.busy": "2022-03-29T12:38:36.131630Z",
     "iopub.status.idle": "2022-03-29T12:38:36.424503Z",
     "shell.execute_reply": "2022-03-29T12:38:36.424018Z"
    },
    "id": "fiythcODf0xo"
   },
   "outputs": [
    {
     "name": "stdout",
     "output_type": "stream",
     "text": [
      "dict_keys(['loss', 'binary_accuracy', 'precision', 'recall', 'f1_m', 'val_loss', 'val_binary_accuracy', 'val_precision', 'val_recall', 'val_f1_m'])\n"
     ]
    },
    {
     "data": {
      "text/plain": [
       "<matplotlib.legend.Legend at 0x2309be9f490>"
      ]
     },
     "execution_count": 22,
     "metadata": {},
     "output_type": "execute_result"
    },
    {
     "data": {
      "image/png": "[encoded data removed]",
      "text/plain": [
       "<Figure size 720x1440 with 3 Axes>"
      ]
     },
     "metadata": {
      "needs_background": "light"
     },
     "output_type": "display_data"
    }
   ],
   "source": [
    "history_dict = history.history\n",
    "print(history_dict.keys())\n",
    "\n",
    "acc = history_dict['binary_accuracy']\n",
    "val_acc = history_dict['val_binary_accuracy']\n",
    "pre = history_dict['precision']\n",
    "val_pre = history_dict['val_precision']\n",
    "recall = history_dict['recall']\n",
    "val_recall = history_dict['val_recall']\n",
    "f1 = history_dict['f1_m']\n",
    "val_f1 = history_dict['val_f1_m']\n",
    "loss = history_dict['loss']\n",
    "val_loss = history_dict['val_loss']\n",
    "\n",
    "epochs = range(1, len(acc) + 1)\n",
    "fig = plt.figure(figsize=(10, 20))\n",
    "fig.tight_layout()\n",
    "\n",
    "plt.subplot(3, 1, 1)\n",
    "# r is for \"solid red line\"\n",
    "plt.plot(epochs, loss, 'r', label='Training loss')\n",
    "# b is for \"solid blue line\"\n",
    "plt.plot(epochs, val_loss, 'b', label='Validation loss')\n",
    "plt.title('Training and validation loss')\n",
    "# plt.xlabel('Epochs')\n",
    "plt.ylabel('Loss')\n",
    "plt.legend()\n",
    "\n",
    "plt.subplot(3, 1, 2)\n",
    "plt.plot(epochs, acc, 'r', label='Training Acc')\n",
    "plt.plot(epochs, val_acc, 'b', label='Validation Acc')\n",
    "# plt.plot(epochs, pre, 'b', label='Training Precision')\n",
    "# plt.plot(epochs, val_pre, 'b', linestyle='dashed', label='Validation Precision')\n",
    "# plt.plot(epochs, recall, 'g', label='Training Recall')\n",
    "# plt.plot(epochs, val_recall, 'g', linestyle='dashed', label='Validation Recall')\n",
    "# plt.plot(epochs, f1, 'y', label='Training F1')\n",
    "# plt.plot(epochs, val_f1, 'y', linestyle='dashed', label='Validation F1')\n",
    "plt.title('Training and validation accuracy')\n",
    "plt.xlabel('Epochs')\n",
    "plt.ylabel('Accuracy')\n",
    "plt.legend(loc='lower right')\n",
    "\n",
    "plt.subplot(3, 1, 3)\n",
    "#plt.plot(epochs, acc, 'r', label='Training Acc')\n",
    "plt.plot(epochs, val_acc, 'r', label='Validation Acc')\n",
    "# plt.plot(epochs, pre, 'b', label='Training Precision')\n",
    "plt.plot(epochs, val_pre, 'b', label='Validation Precision')\n",
    "# plt.plot(epochs, recall, 'g', label='Training Recall')\n",
    "plt.plot(epochs, val_recall, 'g', label='Validation Recall')\n",
    "# plt.plot(epochs, f1, 'y', label='Training F1')\n",
    "plt.plot(epochs, val_f1, 'y', label='Validation F1')\n",
    "plt.title('Validation Metrics')\n",
    "plt.xlabel('Epochs')\n",
    "plt.ylabel('Metric Value')\n",
    "plt.legend(loc='lower right')"
   ]
  },
  {
   "cell_type": "markdown",
   "id": "4d841523",
   "metadata": {
    "id": "WzJZCo-cf-Jf"
   },
   "source": [
    "In this plot, the red lines represent the training loss and accuracy, and the blue lines are the validation loss and accuracy."
   ]
  },
  {
   "cell_type": "markdown",
   "id": "2d71f51a",
   "metadata": {
    "id": "Rtn7jewb6dg4"
   },
   "source": [
    "## Export for inference\n",
    "\n",
    "Now you just save your fine-tuned model for later use."
   ]
  },
  {
   "cell_type": "code",
   "execution_count": 23,
   "id": "8c809d02",
   "metadata": {
    "execution": {
     "iopub.execute_input": "2022-03-29T12:38:36.428146Z",
     "iopub.status.busy": "2022-03-29T12:38:36.427717Z",
     "iopub.status.idle": "2022-03-29T12:38:42.015407Z",
     "shell.execute_reply": "2022-03-29T12:38:42.014764Z"
    },
    "id": "ShcvqJAgVera"
   },
   "outputs": [],
   "source": [
    "# dataset_name = 'llis'\n",
    "# saved_model_path = './{}_bert'.format(dataset_name.replace('/', '_'))\n",
    "\n",
    "# classifier_model.save(saved_model_path, include_optimizer=False)"
   ]
  },
  {
   "cell_type": "markdown",
   "id": "608cb49c",
   "metadata": {
    "id": "PbI25bS1vD7s"
   },
   "source": [
    "Let's reload the model, so you can try it side by side with the model that is still in memory."
   ]
  },
  {
   "cell_type": "code",
   "execution_count": 24,
   "id": "c19e404c",
   "metadata": {
    "execution": {
     "iopub.execute_input": "2022-03-29T12:38:42.019271Z",
     "iopub.status.busy": "2022-03-29T12:38:42.018826Z",
     "iopub.status.idle": "2022-03-29T12:38:48.305286Z",
     "shell.execute_reply": "2022-03-29T12:38:48.304688Z"
    },
    "id": "gUEWVskZjEF0"
   },
   "outputs": [],
   "source": [
    "# reloaded_model = tf.saved_model.load(saved_model_path)"
   ]
  },
  {
   "cell_type": "markdown",
   "id": "33b800fe",
   "metadata": {},
   "source": [
    "## Next: class imbalances\n",
    "- weighted loss function\n",
    "- down sampling of majority class in training data"
   ]
  },
  {
   "cell_type": "code",
   "execution_count": null,
   "id": "5042f88a",
   "metadata": {},
   "outputs": [],
   "source": []
  },
  {
   "cell_type": "code",
   "execution_count": null,
   "id": "ae29f03b",
   "metadata": {},
   "outputs": [],
   "source": []
  }
 ],
 "metadata": {
  "kernelspec": {
   "display_name": "Python 3 (ipykernel)",
   "language": "python",
   "name": "python3"
  },
  "language_info": {
   "codemirror_mode": {
    "name": "ipython",
    "version": 3
   },
   "file_extension": ".py",
   "mimetype": "text/x-python",
   "name": "python",
   "nbconvert_exporter": "python",
   "pygments_lexer": "ipython3",
   "version": "3.8.5"
  }
 },
 "nbformat": 4,
 "nbformat_minor": 5
}
