{
 "cells": [
  {
   "cell_type": "markdown",
   "metadata": {},
   "source": [
    "# Hazard Extraction\n",
    "There are multiple levels of clustering:\n",
    "1. hazard present vs. hazard not present\n",
    "2. within hazards, there are general systems in which these occur\n",
    "3. within each system, there are specific hazards that occur"
   ]
  },
  {
   "cell_type": "code",
   "execution_count": 1,
   "metadata": {},
   "outputs": [],
   "source": [
    "import pandas as pd\n",
    "import numpy as np\n",
    "import matplotlib.pyplot as plt\n",
    "from sklearn.cluster import KMeans, DBSCAN\n",
    "from sklearn import metrics\n",
    "from sklearn.feature_extraction.text import TfidfVectorizer\n",
    "from sklearn.decomposition import PCA, TruncatedSVD\n",
    "import tomotopy as tp"
   ]
  },
  {
   "cell_type": "code",
   "execution_count": 2,
   "metadata": {},
   "outputs": [],
   "source": [
    "import sys\n",
    "import os\n",
    "\n",
    "from sys import platform\n",
    "if platform == \"darwin\":\n",
    "    sys.path.append(os.path.dirname(os.path.realpath(__file__)) + \"/..\")\n",
    "    smart_nlp_path = ''\n",
    "elif platform == \"win32\":\n",
    "    sys.path.append('../')\n",
    "    smart_nlp_path = os.getcwd()\n",
    "    smart_nlp_path = \"\\\\\".join([smart_nlp_path.split(\"\\\\\")[i] for i in range(0,len(smart_nlp_path.split(\"\\\\\"))-1)]+[\"/\"])"
   ]
  },
  {
   "cell_type": "code",
   "execution_count": 3,
   "metadata": {},
   "outputs": [],
   "source": [
    "from module.topic_model_plus_class import Topic_Model_plus"
   ]
  },
  {
   "cell_type": "markdown",
   "metadata": {},
   "source": [
    "### Known Hazards:\n"
   ]
  },
  {
   "cell_type": "code",
   "execution_count": 4,
   "metadata": {},
   "outputs": [
    {
     "name": "stdout",
     "output_type": "stream",
     "text": [
      "8 28\n",
      "[3, 1, 1, 1, 1, 13, 5, 3]\n"
     ]
    },
    {
     "name": "stderr",
     "output_type": "stream",
     "text": [
      "C:\\Users\\srandrad\\Anaconda3\\lib\\site-packages\\ipykernel\\ipkernel.py:283: DeprecationWarning: `should_run_async` will not call `transform_cell` automatically in the future. Please pass the result to `transformed_cell` argument and any exception that happen during thetransform in `preprocessing_exc_tuple` in IPython 7.17 and above.\n",
      "  and should_run_async(code)\n"
     ]
    }
   ],
   "source": [
    "subsystems = [\"Avionics\", \"Aircraft Type\", \"Performance Standards\", \"Contracting\", \"Fuel\",\n",
    "             \"Mission\", \"Airspace\", \"Communication\"]\n",
    "total_hazards = {\n",
    "    \"Avionics\": [\"avionics failure\", \"avionics package insufficient for mission complexity\", \"contract pilot unfamiliar with avionics\"],\n",
    "    \"Aircraft Type\":[\"reduced field of view for the flight crew\"], \n",
    "    \"Performance Standards\": [\"poor engine performance\"], \n",
    "    \"Contracting\":[\"contract pilot skill/fire experience leading to substandard performance\"], \n",
    "    \"Fuel\":[\"capacity, prodcedure, groundfueling errors\"],\n",
    "    \"Mission\":[\"restricted visibility\", \"wake turbulence\", \"weather\", \"poor fuel management\", \"controlled flight into terrain due to low-level ops\",\n",
    "              \"collision potential / close proximity to other aircraft\", \"overly reliant on technology\", \"aircraft emergency\",\n",
    "              \"exceeded span of control\", \"unclear objectives/tasks\", \"ATGS performance results in hazardous operations\",\n",
    "              \"unnecessary exposure due to inefficient operational use of tactical aircraft\", \"aircraft operating without aerial supervison\",], \n",
    "    \"Airspace\":[\"Aircraft not complying with FTA procedures\", \"multiple IA incidents in same area cause confusion\",\n",
    "               \"special use airspace, aircraft not coordinating with controlling agency\", \"non-incident aircraft intrusion in TFR\",\n",
    "               \"fires in proximity of airport/strip, potential for MAC\"], \n",
    "    \"Communication\":[\"radio frequency congestion\", \"resources on different bandwidth\", \"hazardous air operations due to inaccurate information in dispatch system\"]\n",
    "}\n",
    "\n",
    "general_systems = len(subsystems)\n",
    "per_subsystem = [len(total_hazards[subsystem]) for subsystem in total_hazards]\n",
    "total_specific = sum(per_subsystem)\n",
    "print(general_systems, total_specific)\n",
    "print(per_subsystem)\n"
   ]
  },
  {
   "cell_type": "markdown",
   "metadata": {},
   "source": [
    "## Prepare Data"
   ]
  },
  {
   "cell_type": "code",
   "execution_count": 11,
   "metadata": {},
   "outputs": [
    {
     "name": "stderr",
     "output_type": "stream",
     "text": [
      "C:\\Users\\srandrad\\Anaconda3\\lib\\site-packages\\ipykernel\\ipkernel.py:283: DeprecationWarning: `should_run_async` will not call `transform_cell` automatically in the future. Please pass the result to `transformed_cell` argument and any exception that happen during thetransform in `preprocessing_exc_tuple` in IPython 7.17 and above.\n",
      "  and should_run_async(code)\n",
      "Combining Columns…: 100%|████████████████████████████████████████████████████| 120804/120804 [01:37<00:00, 1240.40it/s]\n"
     ]
    },
    {
     "name": "stdout",
     "output_type": "stream",
     "text": [
      "data preparation:  1.683281421661377 minutes \n",
      "\n"
     ]
    }
   ],
   "source": [
    "#data_file = r\"C:\\Users\\srandrad\\smart_nlp\\input data\\ICS_filtered_preprocessed_combined.csv\"\n",
    "#list_of_attributes = [\"Combined Text\"]\n",
    "list_of_attributes = [\"REMARKS\", \"SIGNIF_EVENTS_SUMMARY\", \"MAJOR_PROBLEMS\"]\n",
    "document_id_col = \"INCIDENT_ID\"\n",
    "extra_cols = [\"CY\",\"DISCOVERY_DATE\", \"START_YEAR\", \"REPORT_DOY\", \"DISCOVERY_DOY\",\n",
    "              \"TOTAL_PERSONNEL\", \"TOTAL_AERIAL\", \"PCT_CONTAINED_COMPLETED\"]\n",
    "name = smart_nlp_path+r\"\\input data\\ICS_clustering_tests\"\n",
    "file_name = smart_nlp_path+r\"\\input data\\209-PLUS\\ics209-plus-wildfire\\ics209-plus-wildfire\\ics209-plus-wf_sitreps_1999to2014.csv\"\n",
    "data_ICS = Topic_Model_plus(document_id_col=document_id_col, extra_cols=extra_cols, csv_file=file_name, list_of_attributes=list_of_attributes, name=name, combine_cols=True)\n",
    "data_ICS.prepare_data(dtype=str)\n",
    "#data_ICS.ngrams = \"custom\"\n",
    "#data_ICS.extract_preprocessed_data(data_file)\n",
    "data = data_ICS.data_df\n"
   ]
  },
  {
   "cell_type": "code",
   "execution_count": 59,
   "metadata": {},
   "outputs": [
    {
     "name": "stderr",
     "output_type": "stream",
     "text": [
      "C:\\Users\\srandrad\\Anaconda3\\lib\\site-packages\\ipykernel\\ipkernel.py:283: DeprecationWarning: `should_run_async` will not call `transform_cell` automatically in the future. Please pass the result to `transformed_cell` argument and any exception that happen during thetransform in `preprocessing_exc_tuple` in IPython 7.17 and above.\n",
      "  and should_run_async(code)\n"
     ]
    },
    {
     "name": "stdout",
     "output_type": "stream",
     "text": [
      "9872 9872\n"
     ]
    },
    {
     "data": {
      "text/html": [
       "<div>\n",
       "<style scoped>\n",
       "    .dataframe tbody tr th:only-of-type {\n",
       "        vertical-align: middle;\n",
       "    }\n",
       "\n",
       "    .dataframe tbody tr th {\n",
       "        vertical-align: top;\n",
       "    }\n",
       "\n",
       "    .dataframe thead th {\n",
       "        text-align: right;\n",
       "    }\n",
       "</style>\n",
       "<table border=\"1\" class=\"dataframe\">\n",
       "  <thead>\n",
       "    <tr style=\"text-align: right;\">\n",
       "      <th></th>\n",
       "      <th>Unnamed: 0</th>\n",
       "      <th>CY</th>\n",
       "      <th>DISCOVERY_DATE</th>\n",
       "      <th>INCIDENT_ID</th>\n",
       "      <th>PCT_CONTAINED_COMPLETED</th>\n",
       "      <th>START_YEAR</th>\n",
       "      <th>TOTAL_AERIAL</th>\n",
       "      <th>TOTAL_PERSONNEL</th>\n",
       "      <th>REPORT_DOY</th>\n",
       "      <th>DISCOVERY_DOY</th>\n",
       "      <th>Combined Text</th>\n",
       "    </tr>\n",
       "  </thead>\n",
       "  <tbody>\n",
       "    <tr>\n",
       "      <th>0</th>\n",
       "      <td>0</td>\n",
       "      <td>2010</td>\n",
       "      <td>2010-07-15 15:00:00</td>\n",
       "      <td>2000_CA-RRU-062485_VALLEY COMPLEX</td>\n",
       "      <td>80.0</td>\n",
       "      <td>2010.0</td>\n",
       "      <td>5.000000</td>\n",
       "      <td>230.000000</td>\n",
       "      <td>197</td>\n",
       "      <td>196</td>\n",
       "      <td>[resource, cactus, share]</td>\n",
       "    </tr>\n",
       "    <tr>\n",
       "      <th>1</th>\n",
       "      <td>1</td>\n",
       "      <td>2010</td>\n",
       "      <td>2010-07-15 15:00:00</td>\n",
       "      <td>2000_CA-RRU-062485_VALLEY COMPLEX</td>\n",
       "      <td>60.0</td>\n",
       "      <td>2010.0</td>\n",
       "      <td>5.000000</td>\n",
       "      <td>230.000000</td>\n",
       "      <td>197</td>\n",
       "      <td>196</td>\n",
       "      <td>[resource, lightning strike, predict, cactus, ...</td>\n",
       "    </tr>\n",
       "    <tr>\n",
       "      <th>2</th>\n",
       "      <td>2</td>\n",
       "      <td>2010</td>\n",
       "      <td>2010-07-15 15:00:00</td>\n",
       "      <td>2000_CA-RRU-062485_VALLEY COMPLEX</td>\n",
       "      <td>30.0</td>\n",
       "      <td>2010.0</td>\n",
       "      <td>4.000000</td>\n",
       "      <td>165.000000</td>\n",
       "      <td>197</td>\n",
       "      <td>196</td>\n",
       "      <td>[resource, lightning strike, predict, cactus, ...</td>\n",
       "    </tr>\n",
       "    <tr>\n",
       "      <th>3</th>\n",
       "      <td>3</td>\n",
       "      <td>2010</td>\n",
       "      <td>2010-07-15 15:00:00</td>\n",
       "      <td>2000_CA-RRU-062485_VALLEY COMPLEX</td>\n",
       "      <td>30.0</td>\n",
       "      <td>2010.0</td>\n",
       "      <td>4.333333</td>\n",
       "      <td>192.333333</td>\n",
       "      <td>197</td>\n",
       "      <td>196</td>\n",
       "      <td>[valley, resource, lightning strike, become, c...</td>\n",
       "    </tr>\n",
       "    <tr>\n",
       "      <th>4</th>\n",
       "      <td>4</td>\n",
       "      <td>2010</td>\n",
       "      <td>2010-07-15 15:00:00</td>\n",
       "      <td>2000_CA-RRU-062485_VALLEY COMPLEX</td>\n",
       "      <td>100.0</td>\n",
       "      <td>2010.0</td>\n",
       "      <td>4.333333</td>\n",
       "      <td>192.333333</td>\n",
       "      <td>197</td>\n",
       "      <td>196</td>\n",
       "      <td>[valley, resource, become, cactus, make, compl...</td>\n",
       "    </tr>\n",
       "    <tr>\n",
       "      <th>...</th>\n",
       "      <td>...</td>\n",
       "      <td>...</td>\n",
       "      <td>...</td>\n",
       "      <td>...</td>\n",
       "      <td>...</td>\n",
       "      <td>...</td>\n",
       "      <td>...</td>\n",
       "      <td>...</td>\n",
       "      <td>...</td>\n",
       "      <td>...</td>\n",
       "      <td>...</td>\n",
       "    </tr>\n",
       "    <tr>\n",
       "      <th>53249</th>\n",
       "      <td>53249</td>\n",
       "      <td>2014</td>\n",
       "      <td>2014-03-21 13:00:00</td>\n",
       "      <td>2014_VAVAS1406043_PINE CREEK</td>\n",
       "      <td>100.0</td>\n",
       "      <td>2014.0</td>\n",
       "      <td>0.000000</td>\n",
       "      <td>14.000000</td>\n",
       "      <td>82</td>\n",
       "      <td>80</td>\n",
       "      <td>[fuel]</td>\n",
       "    </tr>\n",
       "    <tr>\n",
       "      <th>53250</th>\n",
       "      <td>53250</td>\n",
       "      <td>2014</td>\n",
       "      <td>2014-03-21 13:00:00</td>\n",
       "      <td>2014_VAVAS1406043_PINE CREEK</td>\n",
       "      <td>100.0</td>\n",
       "      <td>2014.0</td>\n",
       "      <td>0.000000</td>\n",
       "      <td>14.000000</td>\n",
       "      <td>82</td>\n",
       "      <td>80</td>\n",
       "      <td>[fuel]</td>\n",
       "    </tr>\n",
       "    <tr>\n",
       "      <th>53251</th>\n",
       "      <td>53251</td>\n",
       "      <td>2014</td>\n",
       "      <td>2014-08-20 13:00:00</td>\n",
       "      <td>2014_WA-WFS-513_SAND RIDGE</td>\n",
       "      <td>0.0</td>\n",
       "      <td>2014.0</td>\n",
       "      <td>1.000000</td>\n",
       "      <td>95.000000</td>\n",
       "      <td>234</td>\n",
       "      <td>232</td>\n",
       "      <td>[edge, lack, disc, heavy, come, agriculture, v...</td>\n",
       "    </tr>\n",
       "    <tr>\n",
       "      <th>53252</th>\n",
       "      <td>53252</td>\n",
       "      <td>2014</td>\n",
       "      <td>2014-08-20 13:00:00</td>\n",
       "      <td>2014_WA-WFS-513_SAND RIDGE</td>\n",
       "      <td>86.0</td>\n",
       "      <td>2014.0</td>\n",
       "      <td>1.000000</td>\n",
       "      <td>120.000000</td>\n",
       "      <td>235</td>\n",
       "      <td>232</td>\n",
       "      <td>[perimeter, create, swing, accord, standard, d...</td>\n",
       "    </tr>\n",
       "    <tr>\n",
       "      <th>53253</th>\n",
       "      <td>53253</td>\n",
       "      <td>2014</td>\n",
       "      <td>2014-08-20 13:00:00</td>\n",
       "      <td>2014_WA-WFS-513_SAND RIDGE</td>\n",
       "      <td>100.0</td>\n",
       "      <td>2014.0</td>\n",
       "      <td>0.000000</td>\n",
       "      <td>46.000000</td>\n",
       "      <td>235</td>\n",
       "      <td>232</td>\n",
       "      <td>[test, report, overnight, incident]</td>\n",
       "    </tr>\n",
       "  </tbody>\n",
       "</table>\n",
       "<p>53254 rows × 11 columns</p>\n",
       "</div>"
      ],
      "text/plain": [
       "       Unnamed: 0    CY       DISCOVERY_DATE  \\\n",
       "0               0  2010  2010-07-15 15:00:00   \n",
       "1               1  2010  2010-07-15 15:00:00   \n",
       "2               2  2010  2010-07-15 15:00:00   \n",
       "3               3  2010  2010-07-15 15:00:00   \n",
       "4               4  2010  2010-07-15 15:00:00   \n",
       "...           ...   ...                  ...   \n",
       "53249       53249  2014  2014-03-21 13:00:00   \n",
       "53250       53250  2014  2014-03-21 13:00:00   \n",
       "53251       53251  2014  2014-08-20 13:00:00   \n",
       "53252       53252  2014  2014-08-20 13:00:00   \n",
       "53253       53253  2014  2014-08-20 13:00:00   \n",
       "\n",
       "                             INCIDENT_ID  PCT_CONTAINED_COMPLETED  START_YEAR  \\\n",
       "0      2000_CA-RRU-062485_VALLEY COMPLEX                     80.0      2010.0   \n",
       "1      2000_CA-RRU-062485_VALLEY COMPLEX                     60.0      2010.0   \n",
       "2      2000_CA-RRU-062485_VALLEY COMPLEX                     30.0      2010.0   \n",
       "3      2000_CA-RRU-062485_VALLEY COMPLEX                     30.0      2010.0   \n",
       "4      2000_CA-RRU-062485_VALLEY COMPLEX                    100.0      2010.0   \n",
       "...                                  ...                      ...         ...   \n",
       "53249       2014_VAVAS1406043_PINE CREEK                    100.0      2014.0   \n",
       "53250       2014_VAVAS1406043_PINE CREEK                    100.0      2014.0   \n",
       "53251         2014_WA-WFS-513_SAND RIDGE                      0.0      2014.0   \n",
       "53252         2014_WA-WFS-513_SAND RIDGE                     86.0      2014.0   \n",
       "53253         2014_WA-WFS-513_SAND RIDGE                    100.0      2014.0   \n",
       "\n",
       "       TOTAL_AERIAL  TOTAL_PERSONNEL  REPORT_DOY  DISCOVERY_DOY  \\\n",
       "0          5.000000       230.000000         197            196   \n",
       "1          5.000000       230.000000         197            196   \n",
       "2          4.000000       165.000000         197            196   \n",
       "3          4.333333       192.333333         197            196   \n",
       "4          4.333333       192.333333         197            196   \n",
       "...             ...              ...         ...            ...   \n",
       "53249      0.000000        14.000000          82             80   \n",
       "53250      0.000000        14.000000          82             80   \n",
       "53251      1.000000        95.000000         234            232   \n",
       "53252      1.000000       120.000000         235            232   \n",
       "53253      0.000000        46.000000         235            232   \n",
       "\n",
       "                                           Combined Text  \n",
       "0                              [resource, cactus, share]  \n",
       "1      [resource, lightning strike, predict, cactus, ...  \n",
       "2      [resource, lightning strike, predict, cactus, ...  \n",
       "3      [valley, resource, lightning strike, become, c...  \n",
       "4      [valley, resource, become, cactus, make, compl...  \n",
       "...                                                  ...  \n",
       "53249                                             [fuel]  \n",
       "53250                                             [fuel]  \n",
       "53251  [edge, lack, disc, heavy, come, agriculture, v...  \n",
       "53252  [perimeter, create, swing, accord, standard, d...  \n",
       "53253                [test, report, overnight, incident]  \n",
       "\n",
       "[53254 rows x 11 columns]"
      ]
     },
     "execution_count": 59,
     "metadata": {},
     "output_type": "execute_result"
    }
   ],
   "source": [
    "file = smart_nlp_path+r\"\\input data\\ICS_filtered_preprocessed_combined.csv\"\n",
    "filtered_df = pd.read_csv(file)\n",
    "filtered_ids = filtered_df['INCIDENT_ID'].unique()\n",
    "data_ICS.data_df = data_ICS.data_df.loc[data_ICS.data_df[\"INCIDENT_ID\"].isin(filtered_ids)].reset_index(drop=True) \n",
    "data = data_ICS.data_df\n",
    "data_ids = data[\"INCIDENT_ID\"].unique()\n",
    "print(len(filtered_ids), len(data_ids))\n",
    "data \n"
   ]
  },
  {
   "cell_type": "code",
   "execution_count": 8,
   "metadata": {},
   "outputs": [
    {
     "name": "stdout",
     "output_type": "stream",
     "text": [
      "<class 'list'>\n"
     ]
    },
    {
     "name": "stderr",
     "output_type": "stream",
     "text": [
      "C:\\Users\\srandrad\\Anaconda3\\lib\\site-packages\\ipykernel\\ipkernel.py:283: DeprecationWarning: `should_run_async` will not call `transform_cell` automatically in the future. Please pass the result to `transformed_cell` argument and any exception that happen during thetransform in `preprocessing_exc_tuple` in IPython 7.17 and above.\n",
      "  and should_run_async(code)\n"
     ]
    }
   ],
   "source": [
    "print(type(data.iloc[0][\"Combined Text\"]))"
   ]
  },
  {
   "cell_type": "code",
   "execution_count": 13,
   "metadata": {},
   "outputs": [
    {
     "name": "stderr",
     "output_type": "stream",
     "text": [
      "C:\\Users\\srandrad\\Anaconda3\\lib\\site-packages\\ipykernel\\ipkernel.py:283: DeprecationWarning: `should_run_async` will not call `transform_cell` automatically in the future. Please pass the result to `transformed_cell` argument and any exception that happen during thetransform in `preprocessing_exc_tuple` in IPython 7.17 and above.\n",
      "  and should_run_async(code)\n"
     ]
    }
   ],
   "source": [
    "vectorizer = TfidfVectorizer(sublinear_tf=True, max_df=0.5,stop_words='english', min_df=5)\n",
    "X = vectorizer.fit_transform(data[\"Combined Text\"])"
   ]
  },
  {
   "cell_type": "markdown",
   "metadata": {},
   "source": [
    "## Level 1 Clustering"
   ]
  },
  {
   "cell_type": "code",
   "execution_count": 14,
   "metadata": {},
   "outputs": [
    {
     "name": "stderr",
     "output_type": "stream",
     "text": [
      "C:\\Users\\srandrad\\Anaconda3\\lib\\site-packages\\ipykernel\\ipkernel.py:283: DeprecationWarning: `should_run_async` will not call `transform_cell` automatically in the future. Please pass the result to `transformed_cell` argument and any exception that happen during thetransform in `preprocessing_exc_tuple` in IPython 7.17 and above.\n",
      "  and should_run_async(code)\n"
     ]
    },
    {
     "data": {
      "image/png": "[encoded data removed]",
      "text/plain": [
       "<Figure size 432x288 with 1 Axes>"
      ]
     },
     "metadata": {
      "needs_background": "light"
     },
     "output_type": "display_data"
    }
   ],
   "source": [
    "kmeans = KMeans(n_clusters=2, random_state=33)\n",
    "kmeans.fit(X)\n",
    "predictions = kmeans.predict(X)\n",
    "\n",
    "pca = TruncatedSVD(n_components=2).fit(X)\n",
    "data2D = pca.transform(X)\n",
    "plt.scatter(data2D[:,0], data2D[:,1], c=predictions)\n",
    "plt.show()        "
   ]
  },
  {
   "cell_type": "markdown",
   "metadata": {},
   "source": [
    "## Level 2 Clustering"
   ]
  },
  {
   "cell_type": "code",
   "execution_count": 15,
   "metadata": {},
   "outputs": [
    {
     "name": "stderr",
     "output_type": "stream",
     "text": [
      "C:\\Users\\srandrad\\Anaconda3\\lib\\site-packages\\ipykernel\\ipkernel.py:283: DeprecationWarning: `should_run_async` will not call `transform_cell` automatically in the future. Please pass the result to `transformed_cell` argument and any exception that happen during thetransform in `preprocessing_exc_tuple` in IPython 7.17 and above.\n",
      "  and should_run_async(code)\n"
     ]
    },
    {
     "data": {
      "image/png": "[encoded data removed]",
      "text/plain": [
       "<Figure size 432x288 with 1 Axes>"
      ]
     },
     "metadata": {
      "needs_background": "light"
     },
     "output_type": "display_data"
    }
   ],
   "source": [
    "kmeans = KMeans(n_clusters=9, random_state=33)\n",
    "kmeans.fit(X)\n",
    "predictions = kmeans.predict(X)\n",
    "\n",
    "pca = TruncatedSVD(n_components=2).fit(X)\n",
    "data2D = pca.transform(X)\n",
    "plt.scatter(data2D[:,0], data2D[:,1], c=predictions)\n",
    "plt.show() "
   ]
  },
  {
   "cell_type": "markdown",
   "metadata": {},
   "source": [
    "## Level 3 Clustering"
   ]
  },
  {
   "cell_type": "code",
   "execution_count": 16,
   "metadata": {},
   "outputs": [
    {
     "name": "stderr",
     "output_type": "stream",
     "text": [
      "C:\\Users\\srandrad\\Anaconda3\\lib\\site-packages\\ipykernel\\ipkernel.py:283: DeprecationWarning: `should_run_async` will not call `transform_cell` automatically in the future. Please pass the result to `transformed_cell` argument and any exception that happen during thetransform in `preprocessing_exc_tuple` in IPython 7.17 and above.\n",
      "  and should_run_async(code)\n"
     ]
    },
    {
     "data": {
      "image/png": "[encoded data removed]",
      "text/plain": [
       "<Figure size 432x288 with 1 Axes>"
      ]
     },
     "metadata": {
      "needs_background": "light"
     },
     "output_type": "display_data"
    }
   ],
   "source": [
    "kmeans = KMeans(n_clusters=29, random_state=33)\n",
    "kmeans.fit(X)\n",
    "predictions = kmeans.predict(X)\n",
    "\n",
    "pca = TruncatedSVD(n_components=2).fit(X)\n",
    "data2D = pca.transform(X)\n",
    "plt.scatter(data2D[:,0], data2D[:,1], c=predictions)\n",
    "plt.show() "
   ]
  },
  {
   "cell_type": "markdown",
   "metadata": {},
   "source": [
    "## Experimental"
   ]
  },
  {
   "cell_type": "code",
   "execution_count": 63,
   "metadata": {},
   "outputs": [
    {
     "name": "stderr",
     "output_type": "stream",
     "text": [
      "C:\\Users\\srandrad\\Anaconda3\\lib\\site-packages\\ipykernel\\ipkernel.py:283: DeprecationWarning: `should_run_async` will not call `transform_cell` automatically in the future. Please pass the result to `transformed_cell` argument and any exception that happen during thetransform in `preprocessing_exc_tuple` in IPython 7.17 and above.\n",
      "  and should_run_async(code)\n"
     ]
    },
    {
     "data": {
      "image/png": "[encoded data removed]",
      "text/plain": [
       "<Figure size 432x288 with 1 Axes>"
      ]
     },
     "metadata": {
      "needs_background": "light"
     },
     "output_type": "display_data"
    },
    {
     "name": "stdout",
     "output_type": "stream",
     "text": [
      "Estimated number of clusters: 279\n",
      "Estimated number of noise points: 54298\n",
      "Silhouette Coefficient: -0.205\n"
     ]
    }
   ],
   "source": [
    "db = DBSCAN(eps=0.600, min_samples=10, p=np.shape(X)[1], metric = 'l2').fit(X)\n",
    "labels = db.labels_\n",
    "#core_samples_mask = np.zeros_like(db.labels_, dtype=bool)\n",
    "#core_samples_mask[db.core_sample_indices_] = True\n",
    "pca = TruncatedSVD(n_components=2).fit(X)\n",
    "data2D = pca.transform(X)\n",
    "plt.scatter(data2D[:,0], data2D[:,1], c=predictions)\n",
    "plt.show() \n",
    "\n",
    "n_clusters_ = len(set(labels)) - (1 if -1 in labels else 0)\n",
    "n_noise_ = list(labels).count(-1)\n",
    "\n",
    "print('Estimated number of clusters: %d' % n_clusters_)\n",
    "print('Estimated number of noise points: %d' % n_noise_)\n",
    "print(\"Silhouette Coefficient: %0.3f\"\n",
    "      % metrics.silhouette_score(X, labels))"
   ]
  },
  {
   "cell_type": "code",
   "execution_count": 24,
   "metadata": {},
   "outputs": [
    {
     "data": {
      "text/plain": [
       "5319"
      ]
     },
     "execution_count": 24,
     "metadata": {},
     "output_type": "execute_result"
    }
   ],
   "source": [
    "np.shape(X)[1]"
   ]
  },
  {
   "cell_type": "code",
   "execution_count": 26,
   "metadata": {},
   "outputs": [
    {
     "name": "stdout",
     "output_type": "stream",
     "text": [
      "Estimated number of clusters: 309\n",
      "Estimated number of noise points: 46894\n",
      "Silhouette Coefficient: -0.185\n",
      "\n",
      "<class 'scipy.sparse.csr.csr_matrix'> <class 'scipy.sparse.csr.csr_matrix'> <class 'scipy.sparse.csr.csr_matrix'>\n",
      "<class 'scipy.sparse.csr.csr_matrix'> <class 'scipy.sparse.csr.csr_matrix'> <class 'scipy.sparse.csr.csr_matrix'>\n",
      " \n"
     ]
    },
    {
     "ename": "ValueError",
     "evalue": "setting an array element with a sequence.",
     "output_type": "error",
     "traceback": [
      "\u001b[1;31m---------------------------------------------------------------------------\u001b[0m",
      "\u001b[1;31mTypeError\u001b[0m                                 Traceback (most recent call last)",
      "\u001b[1;31mTypeError\u001b[0m: float() argument must be a string or a number, not 'csr_matrix'",
      "\nThe above exception was the direct cause of the following exception:\n",
      "\u001b[1;31mValueError\u001b[0m                                Traceback (most recent call last)",
      "\u001b[1;32m<ipython-input-26-fda4de33c886>\u001b[0m in \u001b[0;36m<module>\u001b[1;34m\u001b[0m\n\u001b[0;32m     32\u001b[0m     \u001b[0mprint\u001b[0m\u001b[1;33m(\u001b[0m\u001b[0mtype\u001b[0m\u001b[1;33m(\u001b[0m\u001b[0mxy\u001b[0m\u001b[1;33m)\u001b[0m\u001b[1;33m,\u001b[0m \u001b[0mtype\u001b[0m\u001b[1;33m(\u001b[0m\u001b[0mlist\u001b[0m\u001b[1;33m(\u001b[0m\u001b[0mxy\u001b[0m\u001b[1;33m[\u001b[0m\u001b[1;33m:\u001b[0m\u001b[1;33m,\u001b[0m\u001b[1;36m0\u001b[0m\u001b[1;33m]\u001b[0m\u001b[1;33m)\u001b[0m\u001b[1;33m[\u001b[0m\u001b[1;36m0\u001b[0m\u001b[1;33m]\u001b[0m\u001b[1;33m)\u001b[0m\u001b[1;33m,\u001b[0m \u001b[0mtype\u001b[0m\u001b[1;33m(\u001b[0m\u001b[0mlist\u001b[0m\u001b[1;33m(\u001b[0m\u001b[0mxy\u001b[0m\u001b[1;33m[\u001b[0m\u001b[1;33m:\u001b[0m\u001b[1;33m,\u001b[0m\u001b[1;36m1\u001b[0m\u001b[1;33m]\u001b[0m\u001b[1;33m)\u001b[0m\u001b[1;33m[\u001b[0m\u001b[1;36m0\u001b[0m\u001b[1;33m]\u001b[0m\u001b[1;33m)\u001b[0m\u001b[1;33m)\u001b[0m\u001b[1;33m\u001b[0m\u001b[1;33m\u001b[0m\u001b[0m\n\u001b[0;32m     33\u001b[0m     \u001b[0mprint\u001b[0m\u001b[1;33m(\u001b[0m\u001b[0mxy\u001b[0m\u001b[1;33m[\u001b[0m\u001b[1;33m:\u001b[0m\u001b[1;33m,\u001b[0m\u001b[1;36m0\u001b[0m\u001b[1;33m]\u001b[0m\u001b[1;33m,\u001b[0m \u001b[0mxy\u001b[0m\u001b[1;33m[\u001b[0m\u001b[1;33m:\u001b[0m\u001b[1;33m,\u001b[0m\u001b[1;36m1\u001b[0m\u001b[1;33m]\u001b[0m\u001b[1;33m)\u001b[0m\u001b[1;33m\u001b[0m\u001b[1;33m\u001b[0m\u001b[0m\n\u001b[1;32m---> 34\u001b[1;33m     plt.plot(list(xy[:, 0]), list(xy[:, 1]), 'o', markerfacecolor=tuple(col),\n\u001b[0m\u001b[0;32m     35\u001b[0m              markeredgecolor='k', markersize=14)\n\u001b[0;32m     36\u001b[0m \u001b[1;33m\u001b[0m\u001b[0m\n",
      "\u001b[1;32m~\\Anaconda3\\lib\\site-packages\\matplotlib\\pyplot.py\u001b[0m in \u001b[0;36mplot\u001b[1;34m(scalex, scaley, data, *args, **kwargs)\u001b[0m\n\u001b[0;32m   2838\u001b[0m \u001b[1;33m@\u001b[0m\u001b[0m_copy_docstring_and_deprecators\u001b[0m\u001b[1;33m(\u001b[0m\u001b[0mAxes\u001b[0m\u001b[1;33m.\u001b[0m\u001b[0mplot\u001b[0m\u001b[1;33m)\u001b[0m\u001b[1;33m\u001b[0m\u001b[1;33m\u001b[0m\u001b[0m\n\u001b[0;32m   2839\u001b[0m \u001b[1;32mdef\u001b[0m \u001b[0mplot\u001b[0m\u001b[1;33m(\u001b[0m\u001b[1;33m*\u001b[0m\u001b[0margs\u001b[0m\u001b[1;33m,\u001b[0m \u001b[0mscalex\u001b[0m\u001b[1;33m=\u001b[0m\u001b[1;32mTrue\u001b[0m\u001b[1;33m,\u001b[0m \u001b[0mscaley\u001b[0m\u001b[1;33m=\u001b[0m\u001b[1;32mTrue\u001b[0m\u001b[1;33m,\u001b[0m \u001b[0mdata\u001b[0m\u001b[1;33m=\u001b[0m\u001b[1;32mNone\u001b[0m\u001b[1;33m,\u001b[0m \u001b[1;33m**\u001b[0m\u001b[0mkwargs\u001b[0m\u001b[1;33m)\u001b[0m\u001b[1;33m:\u001b[0m\u001b[1;33m\u001b[0m\u001b[1;33m\u001b[0m\u001b[0m\n\u001b[1;32m-> 2840\u001b[1;33m     return gca().plot(\n\u001b[0m\u001b[0;32m   2841\u001b[0m         \u001b[1;33m*\u001b[0m\u001b[0margs\u001b[0m\u001b[1;33m,\u001b[0m \u001b[0mscalex\u001b[0m\u001b[1;33m=\u001b[0m\u001b[0mscalex\u001b[0m\u001b[1;33m,\u001b[0m \u001b[0mscaley\u001b[0m\u001b[1;33m=\u001b[0m\u001b[0mscaley\u001b[0m\u001b[1;33m,\u001b[0m\u001b[1;33m\u001b[0m\u001b[1;33m\u001b[0m\u001b[0m\n\u001b[0;32m   2842\u001b[0m         **({\"data\": data} if data is not None else {}), **kwargs)\n",
      "\u001b[1;32m~\\Anaconda3\\lib\\site-packages\\matplotlib\\axes\\_axes.py\u001b[0m in \u001b[0;36mplot\u001b[1;34m(self, scalex, scaley, data, *args, **kwargs)\u001b[0m\n\u001b[0;32m   1743\u001b[0m         \u001b[0mlines\u001b[0m \u001b[1;33m=\u001b[0m \u001b[1;33m[\u001b[0m\u001b[1;33m*\u001b[0m\u001b[0mself\u001b[0m\u001b[1;33m.\u001b[0m\u001b[0m_get_lines\u001b[0m\u001b[1;33m(\u001b[0m\u001b[1;33m*\u001b[0m\u001b[0margs\u001b[0m\u001b[1;33m,\u001b[0m \u001b[0mdata\u001b[0m\u001b[1;33m=\u001b[0m\u001b[0mdata\u001b[0m\u001b[1;33m,\u001b[0m \u001b[1;33m**\u001b[0m\u001b[0mkwargs\u001b[0m\u001b[1;33m)\u001b[0m\u001b[1;33m]\u001b[0m\u001b[1;33m\u001b[0m\u001b[1;33m\u001b[0m\u001b[0m\n\u001b[0;32m   1744\u001b[0m         \u001b[1;32mfor\u001b[0m \u001b[0mline\u001b[0m \u001b[1;32min\u001b[0m \u001b[0mlines\u001b[0m\u001b[1;33m:\u001b[0m\u001b[1;33m\u001b[0m\u001b[1;33m\u001b[0m\u001b[0m\n\u001b[1;32m-> 1745\u001b[1;33m             \u001b[0mself\u001b[0m\u001b[1;33m.\u001b[0m\u001b[0madd_line\u001b[0m\u001b[1;33m(\u001b[0m\u001b[0mline\u001b[0m\u001b[1;33m)\u001b[0m\u001b[1;33m\u001b[0m\u001b[1;33m\u001b[0m\u001b[0m\n\u001b[0m\u001b[0;32m   1746\u001b[0m         \u001b[0mself\u001b[0m\u001b[1;33m.\u001b[0m\u001b[0m_request_autoscale_view\u001b[0m\u001b[1;33m(\u001b[0m\u001b[0mscalex\u001b[0m\u001b[1;33m=\u001b[0m\u001b[0mscalex\u001b[0m\u001b[1;33m,\u001b[0m \u001b[0mscaley\u001b[0m\u001b[1;33m=\u001b[0m\u001b[0mscaley\u001b[0m\u001b[1;33m)\u001b[0m\u001b[1;33m\u001b[0m\u001b[1;33m\u001b[0m\u001b[0m\n\u001b[0;32m   1747\u001b[0m         \u001b[1;32mreturn\u001b[0m \u001b[0mlines\u001b[0m\u001b[1;33m\u001b[0m\u001b[1;33m\u001b[0m\u001b[0m\n",
      "\u001b[1;32m~\\Anaconda3\\lib\\site-packages\\matplotlib\\axes\\_base.py\u001b[0m in \u001b[0;36madd_line\u001b[1;34m(self, line)\u001b[0m\n\u001b[0;32m   1962\u001b[0m             \u001b[0mline\u001b[0m\u001b[1;33m.\u001b[0m\u001b[0mset_clip_path\u001b[0m\u001b[1;33m(\u001b[0m\u001b[0mself\u001b[0m\u001b[1;33m.\u001b[0m\u001b[0mpatch\u001b[0m\u001b[1;33m)\u001b[0m\u001b[1;33m\u001b[0m\u001b[1;33m\u001b[0m\u001b[0m\n\u001b[0;32m   1963\u001b[0m \u001b[1;33m\u001b[0m\u001b[0m\n\u001b[1;32m-> 1964\u001b[1;33m         \u001b[0mself\u001b[0m\u001b[1;33m.\u001b[0m\u001b[0m_update_line_limits\u001b[0m\u001b[1;33m(\u001b[0m\u001b[0mline\u001b[0m\u001b[1;33m)\u001b[0m\u001b[1;33m\u001b[0m\u001b[1;33m\u001b[0m\u001b[0m\n\u001b[0m\u001b[0;32m   1965\u001b[0m         \u001b[1;32mif\u001b[0m \u001b[1;32mnot\u001b[0m \u001b[0mline\u001b[0m\u001b[1;33m.\u001b[0m\u001b[0mget_label\u001b[0m\u001b[1;33m(\u001b[0m\u001b[1;33m)\u001b[0m\u001b[1;33m:\u001b[0m\u001b[1;33m\u001b[0m\u001b[1;33m\u001b[0m\u001b[0m\n\u001b[0;32m   1966\u001b[0m             \u001b[0mline\u001b[0m\u001b[1;33m.\u001b[0m\u001b[0mset_label\u001b[0m\u001b[1;33m(\u001b[0m\u001b[1;34m'_line%d'\u001b[0m \u001b[1;33m%\u001b[0m \u001b[0mlen\u001b[0m\u001b[1;33m(\u001b[0m\u001b[0mself\u001b[0m\u001b[1;33m.\u001b[0m\u001b[0mlines\u001b[0m\u001b[1;33m)\u001b[0m\u001b[1;33m)\u001b[0m\u001b[1;33m\u001b[0m\u001b[1;33m\u001b[0m\u001b[0m\n",
      "\u001b[1;32m~\\Anaconda3\\lib\\site-packages\\matplotlib\\axes\\_base.py\u001b[0m in \u001b[0;36m_update_line_limits\u001b[1;34m(self, line)\u001b[0m\n\u001b[0;32m   1984\u001b[0m         \u001b[0mFigures\u001b[0m \u001b[0mout\u001b[0m \u001b[0mthe\u001b[0m \u001b[0mdata\u001b[0m \u001b[0mlimit\u001b[0m \u001b[0mof\u001b[0m \u001b[0mthe\u001b[0m \u001b[0mgiven\u001b[0m \u001b[0mline\u001b[0m\u001b[1;33m,\u001b[0m \u001b[0mupdating\u001b[0m \u001b[0mself\u001b[0m\u001b[1;33m.\u001b[0m\u001b[0mdataLim\u001b[0m\u001b[1;33m.\u001b[0m\u001b[1;33m\u001b[0m\u001b[1;33m\u001b[0m\u001b[0m\n\u001b[0;32m   1985\u001b[0m         \"\"\"\n\u001b[1;32m-> 1986\u001b[1;33m         \u001b[0mpath\u001b[0m \u001b[1;33m=\u001b[0m \u001b[0mline\u001b[0m\u001b[1;33m.\u001b[0m\u001b[0mget_path\u001b[0m\u001b[1;33m(\u001b[0m\u001b[1;33m)\u001b[0m\u001b[1;33m\u001b[0m\u001b[1;33m\u001b[0m\u001b[0m\n\u001b[0m\u001b[0;32m   1987\u001b[0m         \u001b[1;32mif\u001b[0m \u001b[0mpath\u001b[0m\u001b[1;33m.\u001b[0m\u001b[0mvertices\u001b[0m\u001b[1;33m.\u001b[0m\u001b[0msize\u001b[0m \u001b[1;33m==\u001b[0m \u001b[1;36m0\u001b[0m\u001b[1;33m:\u001b[0m\u001b[1;33m\u001b[0m\u001b[1;33m\u001b[0m\u001b[0m\n\u001b[0;32m   1988\u001b[0m             \u001b[1;32mreturn\u001b[0m\u001b[1;33m\u001b[0m\u001b[1;33m\u001b[0m\u001b[0m\n",
      "\u001b[1;32m~\\Anaconda3\\lib\\site-packages\\matplotlib\\lines.py\u001b[0m in \u001b[0;36mget_path\u001b[1;34m(self)\u001b[0m\n\u001b[0;32m   1009\u001b[0m         \"\"\"\n\u001b[0;32m   1010\u001b[0m         \u001b[1;32mif\u001b[0m \u001b[0mself\u001b[0m\u001b[1;33m.\u001b[0m\u001b[0m_invalidy\u001b[0m \u001b[1;32mor\u001b[0m \u001b[0mself\u001b[0m\u001b[1;33m.\u001b[0m\u001b[0m_invalidx\u001b[0m\u001b[1;33m:\u001b[0m\u001b[1;33m\u001b[0m\u001b[1;33m\u001b[0m\u001b[0m\n\u001b[1;32m-> 1011\u001b[1;33m             \u001b[0mself\u001b[0m\u001b[1;33m.\u001b[0m\u001b[0mrecache\u001b[0m\u001b[1;33m(\u001b[0m\u001b[1;33m)\u001b[0m\u001b[1;33m\u001b[0m\u001b[1;33m\u001b[0m\u001b[0m\n\u001b[0m\u001b[0;32m   1012\u001b[0m         \u001b[1;32mreturn\u001b[0m \u001b[0mself\u001b[0m\u001b[1;33m.\u001b[0m\u001b[0m_path\u001b[0m\u001b[1;33m\u001b[0m\u001b[1;33m\u001b[0m\u001b[0m\n\u001b[0;32m   1013\u001b[0m \u001b[1;33m\u001b[0m\u001b[0m\n",
      "\u001b[1;32m~\\Anaconda3\\lib\\site-packages\\matplotlib\\lines.py\u001b[0m in \u001b[0;36mrecache\u001b[1;34m(self, always)\u001b[0m\n\u001b[0;32m    651\u001b[0m         \u001b[1;32mif\u001b[0m \u001b[0malways\u001b[0m \u001b[1;32mor\u001b[0m \u001b[0mself\u001b[0m\u001b[1;33m.\u001b[0m\u001b[0m_invalidx\u001b[0m\u001b[1;33m:\u001b[0m\u001b[1;33m\u001b[0m\u001b[1;33m\u001b[0m\u001b[0m\n\u001b[0;32m    652\u001b[0m             \u001b[0mxconv\u001b[0m \u001b[1;33m=\u001b[0m \u001b[0mself\u001b[0m\u001b[1;33m.\u001b[0m\u001b[0mconvert_xunits\u001b[0m\u001b[1;33m(\u001b[0m\u001b[0mself\u001b[0m\u001b[1;33m.\u001b[0m\u001b[0m_xorig\u001b[0m\u001b[1;33m)\u001b[0m\u001b[1;33m\u001b[0m\u001b[1;33m\u001b[0m\u001b[0m\n\u001b[1;32m--> 653\u001b[1;33m             \u001b[0mx\u001b[0m \u001b[1;33m=\u001b[0m \u001b[0m_to_unmasked_float_array\u001b[0m\u001b[1;33m(\u001b[0m\u001b[0mxconv\u001b[0m\u001b[1;33m)\u001b[0m\u001b[1;33m.\u001b[0m\u001b[0mravel\u001b[0m\u001b[1;33m(\u001b[0m\u001b[1;33m)\u001b[0m\u001b[1;33m\u001b[0m\u001b[1;33m\u001b[0m\u001b[0m\n\u001b[0m\u001b[0;32m    654\u001b[0m         \u001b[1;32melse\u001b[0m\u001b[1;33m:\u001b[0m\u001b[1;33m\u001b[0m\u001b[1;33m\u001b[0m\u001b[0m\n\u001b[0;32m    655\u001b[0m             \u001b[0mx\u001b[0m \u001b[1;33m=\u001b[0m \u001b[0mself\u001b[0m\u001b[1;33m.\u001b[0m\u001b[0m_x\u001b[0m\u001b[1;33m\u001b[0m\u001b[1;33m\u001b[0m\u001b[0m\n",
      "\u001b[1;32m~\\Anaconda3\\lib\\site-packages\\matplotlib\\cbook\\__init__.py\u001b[0m in \u001b[0;36m_to_unmasked_float_array\u001b[1;34m(x)\u001b[0m\n\u001b[0;32m   1287\u001b[0m         \u001b[1;32mreturn\u001b[0m \u001b[0mnp\u001b[0m\u001b[1;33m.\u001b[0m\u001b[0mma\u001b[0m\u001b[1;33m.\u001b[0m\u001b[0masarray\u001b[0m\u001b[1;33m(\u001b[0m\u001b[0mx\u001b[0m\u001b[1;33m,\u001b[0m \u001b[0mfloat\u001b[0m\u001b[1;33m)\u001b[0m\u001b[1;33m.\u001b[0m\u001b[0mfilled\u001b[0m\u001b[1;33m(\u001b[0m\u001b[0mnp\u001b[0m\u001b[1;33m.\u001b[0m\u001b[0mnan\u001b[0m\u001b[1;33m)\u001b[0m\u001b[1;33m\u001b[0m\u001b[1;33m\u001b[0m\u001b[0m\n\u001b[0;32m   1288\u001b[0m     \u001b[1;32melse\u001b[0m\u001b[1;33m:\u001b[0m\u001b[1;33m\u001b[0m\u001b[1;33m\u001b[0m\u001b[0m\n\u001b[1;32m-> 1289\u001b[1;33m         \u001b[1;32mreturn\u001b[0m \u001b[0mnp\u001b[0m\u001b[1;33m.\u001b[0m\u001b[0masarray\u001b[0m\u001b[1;33m(\u001b[0m\u001b[0mx\u001b[0m\u001b[1;33m,\u001b[0m \u001b[0mfloat\u001b[0m\u001b[1;33m)\u001b[0m\u001b[1;33m\u001b[0m\u001b[1;33m\u001b[0m\u001b[0m\n\u001b[0m\u001b[0;32m   1290\u001b[0m \u001b[1;33m\u001b[0m\u001b[0m\n\u001b[0;32m   1291\u001b[0m \u001b[1;33m\u001b[0m\u001b[0m\n",
      "\u001b[1;32m~\\Anaconda3\\lib\\site-packages\\numpy\\core\\_asarray.py\u001b[0m in \u001b[0;36masarray\u001b[1;34m(a, dtype, order)\u001b[0m\n\u001b[0;32m     81\u001b[0m \u001b[1;33m\u001b[0m\u001b[0m\n\u001b[0;32m     82\u001b[0m     \"\"\"\n\u001b[1;32m---> 83\u001b[1;33m     \u001b[1;32mreturn\u001b[0m \u001b[0marray\u001b[0m\u001b[1;33m(\u001b[0m\u001b[0ma\u001b[0m\u001b[1;33m,\u001b[0m \u001b[0mdtype\u001b[0m\u001b[1;33m,\u001b[0m \u001b[0mcopy\u001b[0m\u001b[1;33m=\u001b[0m\u001b[1;32mFalse\u001b[0m\u001b[1;33m,\u001b[0m \u001b[0morder\u001b[0m\u001b[1;33m=\u001b[0m\u001b[0morder\u001b[0m\u001b[1;33m)\u001b[0m\u001b[1;33m\u001b[0m\u001b[1;33m\u001b[0m\u001b[0m\n\u001b[0m\u001b[0;32m     84\u001b[0m \u001b[1;33m\u001b[0m\u001b[0m\n\u001b[0;32m     85\u001b[0m \u001b[1;33m\u001b[0m\u001b[0m\n",
      "\u001b[1;31mValueError\u001b[0m: setting an array element with a sequence."
     ]
    },
    {
     "data": {
      "image/png": "[encoded data removed]",
      "text/plain": [
       "<Figure size 432x288 with 1 Axes>"
      ]
     },
     "metadata": {
      "needs_background": "light"
     },
     "output_type": "display_data"
    }
   ],
   "source": [
    "db = DBSCAN(eps=0.5, min_samples=10).fit(X)\n",
    "core_samples_mask = np.zeros_like(db.labels_, dtype=bool)\n",
    "core_samples_mask[db.core_sample_indices_] = True\n",
    "labels = db.labels_\n",
    "\n",
    "# Number of clusters in labels, ignoring noise if present.\n",
    "n_clusters_ = len(set(labels)) - (1 if -1 in labels else 0)\n",
    "n_noise_ = list(labels).count(-1)\n",
    "\n",
    "print('Estimated number of clusters: %d' % n_clusters_)\n",
    "print('Estimated number of noise points: %d' % n_noise_)\n",
    "print(\"Silhouette Coefficient: %0.3f\"\n",
    "      % metrics.silhouette_score(X, labels))\n",
    "\n",
    "# #############################################################################\n",
    "# Plot result\n",
    "\n",
    "# Black removed and is used for noise instead.\n",
    "unique_labels = set(labels)\n",
    "colors = [plt.cm.Spectral(each)\n",
    "          for each in np.linspace(0, 1, len(unique_labels))]\n",
    "for k, col in zip(unique_labels, colors):\n",
    "    if k == -1:\n",
    "        # Black used for noise.\n",
    "        col = [0, 0, 0, 1]\n",
    "\n",
    "    class_member_mask = (labels == k)\n",
    "\n",
    "    xy = X[class_member_mask & core_samples_mask]\n",
    "    print(xy)\n",
    "    print(type(xy), type(xy[:,0]), type(xy[:,1]))\n",
    "    print(type(xy), type(list(xy[:,0])[0]), type(list(xy[:,1])[0]))\n",
    "    print(xy[:,0], xy[:,1])\n",
    "    plt.plot(list(xy[:, 0]), list(xy[:, 1]), 'o', markerfacecolor=tuple(col),\n",
    "             markeredgecolor='k', markersize=14)\n",
    "\n",
    "    xy = X[class_member_mask & ~core_samples_mask]\n",
    "    plt.plot(list(xy[:, 0]), list(xy[:, 1]), 'o', markerfacecolor=tuple(col),\n",
    "             markeredgecolor='k', markersize=6)\n",
    "\n",
    "plt.title('Estimated number of clusters: %d' % n_clusters_)\n",
    "plt.show()"
   ]
  },
  {
   "cell_type": "markdown",
   "metadata": {},
   "source": [
    "#### HDP"
   ]
  },
  {
   "cell_type": "code",
   "execution_count": 58,
   "metadata": {},
   "outputs": [
    {
     "name": "stderr",
     "output_type": "stream",
     "text": [
      "C:\\Users\\srandrad\\Anaconda3\\lib\\site-packages\\ipykernel\\ipkernel.py:283: DeprecationWarning: `should_run_async` will not call `transform_cell` automatically in the future. Please pass the result to `transformed_cell` argument and any exception that happen during thetransform in `preprocessing_exc_tuple` in IPython 7.17 and above.\n",
      "  and should_run_async(code)\n"
     ]
    },
    {
     "name": "stdout",
     "output_type": "stream",
     "text": [
      "Preprocessed data extracted from:  C:\\Users\\srandrad\\smart_nlp\\input data\\ICS_filtered_preprocessed_combined.csv\n"
     ]
    },
    {
     "data": {
      "text/html": [
       "<div>\n",
       "<style scoped>\n",
       "    .dataframe tbody tr th:only-of-type {\n",
       "        vertical-align: middle;\n",
       "    }\n",
       "\n",
       "    .dataframe tbody tr th {\n",
       "        vertical-align: top;\n",
       "    }\n",
       "\n",
       "    .dataframe thead th {\n",
       "        text-align: right;\n",
       "    }\n",
       "</style>\n",
       "<table border=\"1\" class=\"dataframe\">\n",
       "  <thead>\n",
       "    <tr style=\"text-align: right;\">\n",
       "      <th></th>\n",
       "      <th>Unnamed: 0</th>\n",
       "      <th>CY</th>\n",
       "      <th>DISCOVERY_DATE</th>\n",
       "      <th>INCIDENT_ID</th>\n",
       "      <th>PCT_CONTAINED_COMPLETED</th>\n",
       "      <th>START_YEAR</th>\n",
       "      <th>TOTAL_AERIAL</th>\n",
       "      <th>TOTAL_PERSONNEL</th>\n",
       "      <th>REPORT_DOY</th>\n",
       "      <th>DISCOVERY_DOY</th>\n",
       "      <th>Combined Text</th>\n",
       "    </tr>\n",
       "  </thead>\n",
       "  <tbody>\n",
       "    <tr>\n",
       "      <th>0</th>\n",
       "      <td>0</td>\n",
       "      <td>2010</td>\n",
       "      <td>2010-07-15 15:00:00</td>\n",
       "      <td>2000_CA-RRU-062485_VALLEY COMPLEX</td>\n",
       "      <td>80.0</td>\n",
       "      <td>2010.0</td>\n",
       "      <td>5.000000</td>\n",
       "      <td>230.000000</td>\n",
       "      <td>197</td>\n",
       "      <td>196</td>\n",
       "      <td>[resource, cactus, share]</td>\n",
       "    </tr>\n",
       "    <tr>\n",
       "      <th>1</th>\n",
       "      <td>1</td>\n",
       "      <td>2010</td>\n",
       "      <td>2010-07-15 15:00:00</td>\n",
       "      <td>2000_CA-RRU-062485_VALLEY COMPLEX</td>\n",
       "      <td>60.0</td>\n",
       "      <td>2010.0</td>\n",
       "      <td>5.000000</td>\n",
       "      <td>230.000000</td>\n",
       "      <td>197</td>\n",
       "      <td>196</td>\n",
       "      <td>[resource, lightning strike, predict, cactus, ...</td>\n",
       "    </tr>\n",
       "    <tr>\n",
       "      <th>2</th>\n",
       "      <td>2</td>\n",
       "      <td>2010</td>\n",
       "      <td>2010-07-15 15:00:00</td>\n",
       "      <td>2000_CA-RRU-062485_VALLEY COMPLEX</td>\n",
       "      <td>30.0</td>\n",
       "      <td>2010.0</td>\n",
       "      <td>4.000000</td>\n",
       "      <td>165.000000</td>\n",
       "      <td>197</td>\n",
       "      <td>196</td>\n",
       "      <td>[resource, lightning strike, predict, cactus, ...</td>\n",
       "    </tr>\n",
       "    <tr>\n",
       "      <th>3</th>\n",
       "      <td>3</td>\n",
       "      <td>2010</td>\n",
       "      <td>2010-07-15 15:00:00</td>\n",
       "      <td>2000_CA-RRU-062485_VALLEY COMPLEX</td>\n",
       "      <td>30.0</td>\n",
       "      <td>2010.0</td>\n",
       "      <td>4.333333</td>\n",
       "      <td>192.333333</td>\n",
       "      <td>197</td>\n",
       "      <td>196</td>\n",
       "      <td>[valley, resource, lightning strike, become, c...</td>\n",
       "    </tr>\n",
       "    <tr>\n",
       "      <th>4</th>\n",
       "      <td>4</td>\n",
       "      <td>2010</td>\n",
       "      <td>2010-07-15 15:00:00</td>\n",
       "      <td>2000_CA-RRU-062485_VALLEY COMPLEX</td>\n",
       "      <td>100.0</td>\n",
       "      <td>2010.0</td>\n",
       "      <td>4.333333</td>\n",
       "      <td>192.333333</td>\n",
       "      <td>197</td>\n",
       "      <td>196</td>\n",
       "      <td>[valley, resource, become, cactus, make, compl...</td>\n",
       "    </tr>\n",
       "    <tr>\n",
       "      <th>...</th>\n",
       "      <td>...</td>\n",
       "      <td>...</td>\n",
       "      <td>...</td>\n",
       "      <td>...</td>\n",
       "      <td>...</td>\n",
       "      <td>...</td>\n",
       "      <td>...</td>\n",
       "      <td>...</td>\n",
       "      <td>...</td>\n",
       "      <td>...</td>\n",
       "      <td>...</td>\n",
       "    </tr>\n",
       "    <tr>\n",
       "      <th>53249</th>\n",
       "      <td>53249</td>\n",
       "      <td>2014</td>\n",
       "      <td>2014-03-21 13:00:00</td>\n",
       "      <td>2014_VAVAS1406043_PINE CREEK</td>\n",
       "      <td>100.0</td>\n",
       "      <td>2014.0</td>\n",
       "      <td>0.000000</td>\n",
       "      <td>14.000000</td>\n",
       "      <td>82</td>\n",
       "      <td>80</td>\n",
       "      <td>[fuel]</td>\n",
       "    </tr>\n",
       "    <tr>\n",
       "      <th>53250</th>\n",
       "      <td>53250</td>\n",
       "      <td>2014</td>\n",
       "      <td>2014-03-21 13:00:00</td>\n",
       "      <td>2014_VAVAS1406043_PINE CREEK</td>\n",
       "      <td>100.0</td>\n",
       "      <td>2014.0</td>\n",
       "      <td>0.000000</td>\n",
       "      <td>14.000000</td>\n",
       "      <td>82</td>\n",
       "      <td>80</td>\n",
       "      <td>[fuel]</td>\n",
       "    </tr>\n",
       "    <tr>\n",
       "      <th>53251</th>\n",
       "      <td>53251</td>\n",
       "      <td>2014</td>\n",
       "      <td>2014-08-20 13:00:00</td>\n",
       "      <td>2014_WA-WFS-513_SAND RIDGE</td>\n",
       "      <td>0.0</td>\n",
       "      <td>2014.0</td>\n",
       "      <td>1.000000</td>\n",
       "      <td>95.000000</td>\n",
       "      <td>234</td>\n",
       "      <td>232</td>\n",
       "      <td>[edge, lack, disc, heavy, come, agriculture, v...</td>\n",
       "    </tr>\n",
       "    <tr>\n",
       "      <th>53252</th>\n",
       "      <td>53252</td>\n",
       "      <td>2014</td>\n",
       "      <td>2014-08-20 13:00:00</td>\n",
       "      <td>2014_WA-WFS-513_SAND RIDGE</td>\n",
       "      <td>86.0</td>\n",
       "      <td>2014.0</td>\n",
       "      <td>1.000000</td>\n",
       "      <td>120.000000</td>\n",
       "      <td>235</td>\n",
       "      <td>232</td>\n",
       "      <td>[perimeter, create, swing, accord, standard, d...</td>\n",
       "    </tr>\n",
       "    <tr>\n",
       "      <th>53253</th>\n",
       "      <td>53253</td>\n",
       "      <td>2014</td>\n",
       "      <td>2014-08-20 13:00:00</td>\n",
       "      <td>2014_WA-WFS-513_SAND RIDGE</td>\n",
       "      <td>100.0</td>\n",
       "      <td>2014.0</td>\n",
       "      <td>0.000000</td>\n",
       "      <td>46.000000</td>\n",
       "      <td>235</td>\n",
       "      <td>232</td>\n",
       "      <td>[test, report, overnight, incident]</td>\n",
       "    </tr>\n",
       "  </tbody>\n",
       "</table>\n",
       "<p>53254 rows × 11 columns</p>\n",
       "</div>"
      ],
      "text/plain": [
       "       Unnamed: 0    CY       DISCOVERY_DATE  \\\n",
       "0               0  2010  2010-07-15 15:00:00   \n",
       "1               1  2010  2010-07-15 15:00:00   \n",
       "2               2  2010  2010-07-15 15:00:00   \n",
       "3               3  2010  2010-07-15 15:00:00   \n",
       "4               4  2010  2010-07-15 15:00:00   \n",
       "...           ...   ...                  ...   \n",
       "53249       53249  2014  2014-03-21 13:00:00   \n",
       "53250       53250  2014  2014-03-21 13:00:00   \n",
       "53251       53251  2014  2014-08-20 13:00:00   \n",
       "53252       53252  2014  2014-08-20 13:00:00   \n",
       "53253       53253  2014  2014-08-20 13:00:00   \n",
       "\n",
       "                             INCIDENT_ID  PCT_CONTAINED_COMPLETED  START_YEAR  \\\n",
       "0      2000_CA-RRU-062485_VALLEY COMPLEX                     80.0      2010.0   \n",
       "1      2000_CA-RRU-062485_VALLEY COMPLEX                     60.0      2010.0   \n",
       "2      2000_CA-RRU-062485_VALLEY COMPLEX                     30.0      2010.0   \n",
       "3      2000_CA-RRU-062485_VALLEY COMPLEX                     30.0      2010.0   \n",
       "4      2000_CA-RRU-062485_VALLEY COMPLEX                    100.0      2010.0   \n",
       "...                                  ...                      ...         ...   \n",
       "53249       2014_VAVAS1406043_PINE CREEK                    100.0      2014.0   \n",
       "53250       2014_VAVAS1406043_PINE CREEK                    100.0      2014.0   \n",
       "53251         2014_WA-WFS-513_SAND RIDGE                      0.0      2014.0   \n",
       "53252         2014_WA-WFS-513_SAND RIDGE                     86.0      2014.0   \n",
       "53253         2014_WA-WFS-513_SAND RIDGE                    100.0      2014.0   \n",
       "\n",
       "       TOTAL_AERIAL  TOTAL_PERSONNEL  REPORT_DOY  DISCOVERY_DOY  \\\n",
       "0          5.000000       230.000000         197            196   \n",
       "1          5.000000       230.000000         197            196   \n",
       "2          4.000000       165.000000         197            196   \n",
       "3          4.333333       192.333333         197            196   \n",
       "4          4.333333       192.333333         197            196   \n",
       "...             ...              ...         ...            ...   \n",
       "53249      0.000000        14.000000          82             80   \n",
       "53250      0.000000        14.000000          82             80   \n",
       "53251      1.000000        95.000000         234            232   \n",
       "53252      1.000000       120.000000         235            232   \n",
       "53253      0.000000        46.000000         235            232   \n",
       "\n",
       "                                           Combined Text  \n",
       "0                              [resource, cactus, share]  \n",
       "1      [resource, lightning strike, predict, cactus, ...  \n",
       "2      [resource, lightning strike, predict, cactus, ...  \n",
       "3      [valley, resource, lightning strike, become, c...  \n",
       "4      [valley, resource, become, cactus, make, compl...  \n",
       "...                                                  ...  \n",
       "53249                                             [fuel]  \n",
       "53250                                             [fuel]  \n",
       "53251  [edge, lack, disc, heavy, come, agriculture, v...  \n",
       "53252  [perimeter, create, swing, accord, standard, d...  \n",
       "53253                [test, report, overnight, incident]  \n",
       "\n",
       "[53254 rows x 11 columns]"
      ]
     },
     "execution_count": 58,
     "metadata": {},
     "output_type": "execute_result"
    }
   ],
   "source": [
    "data_file = r\"C:\\Users\\srandrad\\smart_nlp\\input data\\ICS_filtered_preprocessed_combined.csv\"\n",
    "list_of_attributes = [\"Combined Text\"]\n",
    "document_id_col = \"INCIDENT_ID\"\n",
    "extra_cols = [\"CY\",\"DISCOVERY_DATE\", \"START_YEAR\", \"REPORT_DOY\", \"DISCOVERY_DOY\",\n",
    "              \"TOTAL_PERSONNEL\", \"TOTAL_AERIAL\", \"PCT_CONTAINED_COMPLETED\"]\n",
    "name = smart_nlp_path+r\"\\input data\\HDP_tests\"\n",
    "data_ICS = Topic_Model_plus(document_id_col=document_id_col, extra_cols=extra_cols, list_of_attributes=list_of_attributes, name=name, combine_cols=True)\n",
    "data_ICS.ngrams = \"custom\"\n",
    "data_ICS.extract_preprocessed_data(data_file)\n",
    "data = data_ICS.data_df\n",
    "data"
   ]
  },
  {
   "cell_type": "code",
   "execution_count": 30,
   "metadata": {},
   "outputs": [
    {
     "name": "stderr",
     "output_type": "stream",
     "text": [
      "C:\\Users\\srandrad\\Anaconda3\\lib\\site-packages\\ipykernel\\ipkernel.py:283: DeprecationWarning: `should_run_async` will not call `transform_cell` automatically in the future. Please pass the result to `transformed_cell` argument and any exception that happen during thetransform in `preprocessing_exc_tuple` in IPython 7.17 and above.\n",
      "  and should_run_async(code)\n"
     ]
    }
   ],
   "source": [
    "mdl = tp.HDPModel(tw = tp.TermWeight.IDF)\n",
    "texts = data[\"Combined Text\"].tolist()\n",
    "for text in texts:\n",
    "    mdl.add_doc(text)\n",
    "for i in range(0, 1000, 10):\n",
    "    mdl.train(10)\n",
    "results = {}\n",
    "results[\"topic number\"]=[]\n",
    "results[\"number of words\"]=[]\n",
    "results[\"topic words\"]=[]\n",
    "#coh = tp.coherence.Coherence(mdl, coherence= \"c_v\")\n",
    "#results[\"coherence per topic\"] = [coh.get_score(topic_id=k) for k in range(mdl.k) if (mdl.is_live_topic(k))]\n",
    "for k in range(mdl.k):\n",
    "    if not mdl.is_live_topic(k):\n",
    "        continue\n",
    "    #results[\"number of documents in topic\"].append(mdl.num_docs_of_topic(k))\n",
    "    results[\"topic number\"].append(k)\n",
    "    results[\"number of words\"].append(mdl.get_count_by_topics()[k])\n",
    "    results[\"topic words\"].append(\", \".join([word[0] for word in mdl.get_topic_words(k, top_n=mdl.get_count_by_topics()[k])]))"
   ]
  },
  {
   "cell_type": "code",
   "execution_count": 31,
   "metadata": {},
   "outputs": [
    {
     "name": "stderr",
     "output_type": "stream",
     "text": [
      "C:\\Users\\srandrad\\Anaconda3\\lib\\site-packages\\ipykernel\\ipkernel.py:283: DeprecationWarning: `should_run_async` will not call `transform_cell` automatically in the future. Please pass the result to `transformed_cell` argument and any exception that happen during thetransform in `preprocessing_exc_tuple` in IPython 7.17 and above.\n",
      "  and should_run_async(code)\n"
     ]
    }
   ],
   "source": [
    "results_df = pd.DataFrame(results)"
   ]
  },
  {
   "cell_type": "code",
   "execution_count": 32,
   "metadata": {},
   "outputs": [
    {
     "name": "stdout",
     "output_type": "stream",
     "text": [
      "48\n"
     ]
    },
    {
     "name": "stderr",
     "output_type": "stream",
     "text": [
      "C:\\Users\\srandrad\\Anaconda3\\lib\\site-packages\\ipykernel\\ipkernel.py:283: DeprecationWarning: `should_run_async` will not call `transform_cell` automatically in the future. Please pass the result to `transformed_cell` argument and any exception that happen during thetransform in `preprocessing_exc_tuple` in IPython 7.17 and above.\n",
      "  and should_run_async(code)\n"
     ]
    }
   ],
   "source": [
    "print(mdl.k)"
   ]
  },
  {
   "cell_type": "code",
   "execution_count": 33,
   "metadata": {},
   "outputs": [
    {
     "name": "stderr",
     "output_type": "stream",
     "text": [
      "C:\\Users\\srandrad\\Anaconda3\\lib\\site-packages\\ipykernel\\ipkernel.py:283: DeprecationWarning: `should_run_async` will not call `transform_cell` automatically in the future. Please pass the result to `transformed_cell` argument and any exception that happen during thetransform in `preprocessing_exc_tuple` in IPython 7.17 and above.\n",
      "  and should_run_async(code)\n"
     ]
    }
   ],
   "source": [
    "new_lda_model, new_topic_id = mdl.convert_to_lda(topic_threshold=0.05)"
   ]
  },
  {
   "cell_type": "code",
   "execution_count": 34,
   "metadata": {},
   "outputs": [
    {
     "name": "stderr",
     "output_type": "stream",
     "text": [
      "C:\\Users\\srandrad\\Anaconda3\\lib\\site-packages\\ipykernel\\ipkernel.py:283: DeprecationWarning: `should_run_async` will not call `transform_cell` automatically in the future. Please pass the result to `transformed_cell` argument and any exception that happen during thetransform in `preprocessing_exc_tuple` in IPython 7.17 and above.\n",
      "  and should_run_async(code)\n"
     ]
    }
   ],
   "source": [
    "new_lda_model.save(\"HDP_to_LDA.bin\")"
   ]
  },
  {
   "cell_type": "code",
   "execution_count": 35,
   "metadata": {},
   "outputs": [
    {
     "name": "stderr",
     "output_type": "stream",
     "text": [
      "C:\\Users\\srandrad\\Anaconda3\\lib\\site-packages\\ipykernel\\ipkernel.py:283: DeprecationWarning: `should_run_async` will not call `transform_cell` automatically in the future. Please pass the result to `transformed_cell` argument and any exception that happen during thetransform in `preprocessing_exc_tuple` in IPython 7.17 and above.\n",
      "  and should_run_async(code)\n"
     ]
    },
    {
     "data": {
      "text/html": [
       "<div>\n",
       "<style scoped>\n",
       "    .dataframe tbody tr th:only-of-type {\n",
       "        vertical-align: middle;\n",
       "    }\n",
       "\n",
       "    .dataframe tbody tr th {\n",
       "        vertical-align: top;\n",
       "    }\n",
       "\n",
       "    .dataframe thead th {\n",
       "        text-align: right;\n",
       "    }\n",
       "</style>\n",
       "<table border=\"1\" class=\"dataframe\">\n",
       "  <thead>\n",
       "    <tr style=\"text-align: right;\">\n",
       "      <th></th>\n",
       "      <th>topic number</th>\n",
       "      <th>number of words</th>\n",
       "      <th>topic words</th>\n",
       "    </tr>\n",
       "  </thead>\n",
       "  <tbody>\n",
       "    <tr>\n",
       "      <th>0</th>\n",
       "      <td>0</td>\n",
       "      <td>215481</td>\n",
       "      <td>concern, continue, impact, closure, forest, in...</td>\n",
       "    </tr>\n",
       "    <tr>\n",
       "      <th>1</th>\n",
       "      <td>1</td>\n",
       "      <td>246131</td>\n",
       "      <td>continue, threaten, creek, resource, community...</td>\n",
       "    </tr>\n",
       "    <tr>\n",
       "      <th>2</th>\n",
       "      <td>2</td>\n",
       "      <td>2420</td>\n",
       "      <td>violation, possible violation, value possible ...</td>\n",
       "    </tr>\n",
       "    <tr>\n",
       "      <th>3</th>\n",
       "      <td>3</td>\n",
       "      <td>31301</td>\n",
       "      <td>unexploded, ordinance, unexploded ordinance, e...</td>\n",
       "    </tr>\n",
       "    <tr>\n",
       "      <th>4</th>\n",
       "      <td>4</td>\n",
       "      <td>102760</td>\n",
       "      <td>structure, closure, public, evacuation, privat...</td>\n",
       "    </tr>\n",
       "    <tr>\n",
       "      <th>5</th>\n",
       "      <td>5</td>\n",
       "      <td>20145</td>\n",
       "      <td>smokejumper, crew, secure, demote, continued, ...</td>\n",
       "    </tr>\n",
       "    <tr>\n",
       "      <th>6</th>\n",
       "      <td>6</td>\n",
       "      <td>109</td>\n",
       "      <td>riparian, core, methodius, lanx, eared, nail, ...</td>\n",
       "    </tr>\n",
       "    <tr>\n",
       "      <th>7</th>\n",
       "      <td>7</td>\n",
       "      <td>203</td>\n",
       "      <td>april, fill, acre, lark, complex, sister, roan...</td>\n",
       "    </tr>\n",
       "    <tr>\n",
       "      <th>8</th>\n",
       "      <td>8</td>\n",
       "      <td>112</td>\n",
       "      <td>final submit, submit, habitate, final, call, d...</td>\n",
       "    </tr>\n",
       "    <tr>\n",
       "      <th>9</th>\n",
       "      <td>9</td>\n",
       "      <td>126</td>\n",
       "      <td>grazing permit, loss forage, grazing, forage, ...</td>\n",
       "    </tr>\n",
       "    <tr>\n",
       "      <th>10</th>\n",
       "      <td>10</td>\n",
       "      <td>754</td>\n",
       "      <td>manage, benefit, objective, multiple, seaway, ...</td>\n",
       "    </tr>\n",
       "    <tr>\n",
       "      <th>11</th>\n",
       "      <td>11</td>\n",
       "      <td>33254</td>\n",
       "      <td>torch, creep, solder, creep solder, behavior, ...</td>\n",
       "    </tr>\n",
       "    <tr>\n",
       "      <th>12</th>\n",
       "      <td>12</td>\n",
       "      <td>3162</td>\n",
       "      <td>destroyed, outbuilding, shed, lose, trailer, e...</td>\n",
       "    </tr>\n",
       "    <tr>\n",
       "      <th>13</th>\n",
       "      <td>13</td>\n",
       "      <td>18444</td>\n",
       "      <td>soil, organic, organic soil, needle, cast, reb...</td>\n",
       "    </tr>\n",
       "    <tr>\n",
       "      <th>14</th>\n",
       "      <td>14</td>\n",
       "      <td>72</td>\n",
       "      <td>section township, township, section township r...</td>\n",
       "    </tr>\n",
       "    <tr>\n",
       "      <th>15</th>\n",
       "      <td>15</td>\n",
       "      <td>21826</td>\n",
       "      <td>receive, rain, monitor, smoke, precipitation, ...</td>\n",
       "    </tr>\n",
       "    <tr>\n",
       "      <th>16</th>\n",
       "      <td>16</td>\n",
       "      <td>12</td>\n",
       "      <td>personal hygiene, sanitation, rigorous, homele...</td>\n",
       "    </tr>\n",
       "    <tr>\n",
       "      <th>17</th>\n",
       "      <td>17</td>\n",
       "      <td>70</td>\n",
       "      <td>locate manage terkel, manage terkel, terkel, d...</td>\n",
       "    </tr>\n",
       "    <tr>\n",
       "      <th>18</th>\n",
       "      <td>18</td>\n",
       "      <td>65108</td>\n",
       "      <td>extreme, threaten, behavior, structure, evacua...</td>\n",
       "    </tr>\n",
       "    <tr>\n",
       "      <th>19</th>\n",
       "      <td>19</td>\n",
       "      <td>5187</td>\n",
       "      <td>mapping, accurate, accurate mapping, acreage, ...</td>\n",
       "    </tr>\n",
       "    <tr>\n",
       "      <th>20</th>\n",
       "      <td>20</td>\n",
       "      <td>74</td>\n",
       "      <td>fighter, fighter safety, historically, underwa...</td>\n",
       "    </tr>\n",
       "    <tr>\n",
       "      <th>21</th>\n",
       "      <td>21</td>\n",
       "      <td>193</td>\n",
       "      <td>stephen, suppression delegate, broken numerous...</td>\n",
       "    </tr>\n",
       "    <tr>\n",
       "      <th>22</th>\n",
       "      <td>22</td>\n",
       "      <td>4777</td>\n",
       "      <td>persistently, problem, create, persistently we...</td>\n",
       "    </tr>\n",
       "    <tr>\n",
       "      <th>23</th>\n",
       "      <td>24</td>\n",
       "      <td>59</td>\n",
       "      <td>transit, metro, magic, train, coca, leftward, ...</td>\n",
       "    </tr>\n",
       "    <tr>\n",
       "      <th>24</th>\n",
       "      <td>25</td>\n",
       "      <td>1081</td>\n",
       "      <td>compile, local compile, provide local compile,...</td>\n",
       "    </tr>\n",
       "    <tr>\n",
       "      <th>25</th>\n",
       "      <td>26</td>\n",
       "      <td>46</td>\n",
       "      <td>binoculars, stage complexity applies, revalida...</td>\n",
       "    </tr>\n",
       "    <tr>\n",
       "      <th>26</th>\n",
       "      <td>27</td>\n",
       "      <td>90747</td>\n",
       "      <td>roll, material, steep, roll material, terrain,...</td>\n",
       "    </tr>\n",
       "    <tr>\n",
       "      <th>27</th>\n",
       "      <td>28</td>\n",
       "      <td>55</td>\n",
       "      <td>parkway appalachian, appalachian, parkway, wat...</td>\n",
       "    </tr>\n",
       "    <tr>\n",
       "      <th>28</th>\n",
       "      <td>29</td>\n",
       "      <td>22</td>\n",
       "      <td>landowner, mcfadden, ringer, geraldine, boatwr...</td>\n",
       "    </tr>\n",
       "    <tr>\n",
       "      <th>29</th>\n",
       "      <td>30</td>\n",
       "      <td>166</td>\n",
       "      <td>shape file, shape, file, wildfire shape file, ...</td>\n",
       "    </tr>\n",
       "    <tr>\n",
       "      <th>30</th>\n",
       "      <td>31</td>\n",
       "      <td>38784</td>\n",
       "      <td>incident, evacuation, time, otherwise, note, t...</td>\n",
       "    </tr>\n",
       "    <tr>\n",
       "      <th>31</th>\n",
       "      <td>32</td>\n",
       "      <td>736</td>\n",
       "      <td>hospital, injury, treat, transport, transport ...</td>\n",
       "    </tr>\n",
       "    <tr>\n",
       "      <th>32</th>\n",
       "      <td>33</td>\n",
       "      <td>69872</td>\n",
       "      <td>transition, repair, suppression, type, continu...</td>\n",
       "    </tr>\n",
       "    <tr>\n",
       "      <th>33</th>\n",
       "      <td>34</td>\n",
       "      <td>42</td>\n",
       "      <td>season jalapa tribe, season jalapa, jalapa, tr...</td>\n",
       "    </tr>\n",
       "    <tr>\n",
       "      <th>34</th>\n",
       "      <td>35</td>\n",
       "      <td>28</td>\n",
       "      <td>walsingham, tracker, clarify, possum, briefly,...</td>\n",
       "    </tr>\n",
       "    <tr>\n",
       "      <th>35</th>\n",
       "      <td>36</td>\n",
       "      <td>26</td>\n",
       "      <td>phoebe, dice, slackware, nasty, razor, canon, ...</td>\n",
       "    </tr>\n",
       "    <tr>\n",
       "      <th>36</th>\n",
       "      <td>37</td>\n",
       "      <td>336996</td>\n",
       "      <td>terrain, steep, access, fuel, crew, make, heav...</td>\n",
       "    </tr>\n",
       "    <tr>\n",
       "      <th>37</th>\n",
       "      <td>38</td>\n",
       "      <td>6</td>\n",
       "      <td>periodic assessment, puma, periodic, indicate,...</td>\n",
       "    </tr>\n",
       "    <tr>\n",
       "      <th>38</th>\n",
       "      <td>39</td>\n",
       "      <td>9448</td>\n",
       "      <td>transition, type, patrol, demob, status, demot...</td>\n",
       "    </tr>\n",
       "    <tr>\n",
       "      <th>39</th>\n",
       "      <td>40</td>\n",
       "      <td>26</td>\n",
       "      <td>overgrazing, chile, subway, huber, grapevine, ...</td>\n",
       "    </tr>\n",
       "    <tr>\n",
       "      <th>40</th>\n",
       "      <td>41</td>\n",
       "      <td>1</td>\n",
       "      <td>troching</td>\n",
       "    </tr>\n",
       "    <tr>\n",
       "      <th>41</th>\n",
       "      <td>42</td>\n",
       "      <td>12</td>\n",
       "      <td>crichton, bomb, found, ammunition, holland, ex...</td>\n",
       "    </tr>\n",
       "    <tr>\n",
       "      <th>42</th>\n",
       "      <td>44</td>\n",
       "      <td>27</td>\n",
       "      <td>parashah, staghorn, laser, defendant, guilty, ...</td>\n",
       "    </tr>\n",
       "    <tr>\n",
       "      <th>43</th>\n",
       "      <td>45</td>\n",
       "      <td>11</td>\n",
       "      <td>kiwi, powdery, rookery, yamaha, thee, kiss, ha...</td>\n",
       "    </tr>\n",
       "  </tbody>\n",
       "</table>\n",
       "</div>"
      ],
      "text/plain": [
       "    topic number  number of words  \\\n",
       "0              0           215481   \n",
       "1              1           246131   \n",
       "2              2             2420   \n",
       "3              3            31301   \n",
       "4              4           102760   \n",
       "5              5            20145   \n",
       "6              6              109   \n",
       "7              7              203   \n",
       "8              8              112   \n",
       "9              9              126   \n",
       "10            10              754   \n",
       "11            11            33254   \n",
       "12            12             3162   \n",
       "13            13            18444   \n",
       "14            14               72   \n",
       "15            15            21826   \n",
       "16            16               12   \n",
       "17            17               70   \n",
       "18            18            65108   \n",
       "19            19             5187   \n",
       "20            20               74   \n",
       "21            21              193   \n",
       "22            22             4777   \n",
       "23            24               59   \n",
       "24            25             1081   \n",
       "25            26               46   \n",
       "26            27            90747   \n",
       "27            28               55   \n",
       "28            29               22   \n",
       "29            30              166   \n",
       "30            31            38784   \n",
       "31            32              736   \n",
       "32            33            69872   \n",
       "33            34               42   \n",
       "34            35               28   \n",
       "35            36               26   \n",
       "36            37           336996   \n",
       "37            38                6   \n",
       "38            39             9448   \n",
       "39            40               26   \n",
       "40            41                1   \n",
       "41            42               12   \n",
       "42            44               27   \n",
       "43            45               11   \n",
       "\n",
       "                                          topic words  \n",
       "0   concern, continue, impact, closure, forest, in...  \n",
       "1   continue, threaten, creek, resource, community...  \n",
       "2   violation, possible violation, value possible ...  \n",
       "3   unexploded, ordinance, unexploded ordinance, e...  \n",
       "4   structure, closure, public, evacuation, privat...  \n",
       "5   smokejumper, crew, secure, demote, continued, ...  \n",
       "6   riparian, core, methodius, lanx, eared, nail, ...  \n",
       "7   april, fill, acre, lark, complex, sister, roan...  \n",
       "8   final submit, submit, habitate, final, call, d...  \n",
       "9   grazing permit, loss forage, grazing, forage, ...  \n",
       "10  manage, benefit, objective, multiple, seaway, ...  \n",
       "11  torch, creep, solder, creep solder, behavior, ...  \n",
       "12  destroyed, outbuilding, shed, lose, trailer, e...  \n",
       "13  soil, organic, organic soil, needle, cast, reb...  \n",
       "14  section township, township, section township r...  \n",
       "15  receive, rain, monitor, smoke, precipitation, ...  \n",
       "16  personal hygiene, sanitation, rigorous, homele...  \n",
       "17  locate manage terkel, manage terkel, terkel, d...  \n",
       "18  extreme, threaten, behavior, structure, evacua...  \n",
       "19  mapping, accurate, accurate mapping, acreage, ...  \n",
       "20  fighter, fighter safety, historically, underwa...  \n",
       "21  stephen, suppression delegate, broken numerous...  \n",
       "22  persistently, problem, create, persistently we...  \n",
       "23  transit, metro, magic, train, coca, leftward, ...  \n",
       "24  compile, local compile, provide local compile,...  \n",
       "25  binoculars, stage complexity applies, revalida...  \n",
       "26  roll, material, steep, roll material, terrain,...  \n",
       "27  parkway appalachian, appalachian, parkway, wat...  \n",
       "28  landowner, mcfadden, ringer, geraldine, boatwr...  \n",
       "29  shape file, shape, file, wildfire shape file, ...  \n",
       "30  incident, evacuation, time, otherwise, note, t...  \n",
       "31  hospital, injury, treat, transport, transport ...  \n",
       "32  transition, repair, suppression, type, continu...  \n",
       "33  season jalapa tribe, season jalapa, jalapa, tr...  \n",
       "34  walsingham, tracker, clarify, possum, briefly,...  \n",
       "35  phoebe, dice, slackware, nasty, razor, canon, ...  \n",
       "36  terrain, steep, access, fuel, crew, make, heav...  \n",
       "37  periodic assessment, puma, periodic, indicate,...  \n",
       "38  transition, type, patrol, demob, status, demot...  \n",
       "39  overgrazing, chile, subway, huber, grapevine, ...  \n",
       "40                                           troching  \n",
       "41  crichton, bomb, found, ammunition, holland, ex...  \n",
       "42  parashah, staghorn, laser, defendant, guilty, ...  \n",
       "43  kiwi, powdery, rookery, yamaha, thee, kiss, ha...  "
      ]
     },
     "execution_count": 35,
     "metadata": {},
     "output_type": "execute_result"
    }
   ],
   "source": [
    "results_df"
   ]
  },
  {
   "cell_type": "code",
   "execution_count": null,
   "metadata": {},
   "outputs": [],
   "source": []
  }
 ],
 "metadata": {
  "kernelspec": {
   "display_name": "Python 3",
   "language": "python",
   "name": "python3"
  },
  "language_info": {
   "codemirror_mode": {
    "name": "ipython",
    "version": 3
   },
   "file_extension": ".py",
   "mimetype": "text/x-python",
   "name": "python",
   "nbconvert_exporter": "python",
   "pygments_lexer": "ipython3",
   "version": "3.8.5"
  }
 },
 "nbformat": 4,
 "nbformat_minor": 4
}
