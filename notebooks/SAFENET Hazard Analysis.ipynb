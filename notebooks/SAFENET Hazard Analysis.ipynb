{
 "cells": [
  {
   "cell_type": "code",
   "execution_count": 1,
   "id": "b47d43b2",
   "metadata": {},
   "outputs": [],
   "source": [
    "import pandas as pd\n",
    "import numpy as np\n",
    "%matplotlib inline\n",
    "import matplotlib.style\n",
    "matplotlib.style.use(\"seaborn\")\n",
    "import matplotlib.pyplot as plt\n",
    "import matplotlib.cm as cm\n",
    "import textwrap\n",
    "import seaborn as sn\n",
    "sn.color_palette(\"hls\", 17)\n",
    "import scipy.stats as st\n",
    "import math\n",
    "\n",
    "import pingouin as pg\n",
    "plt.rcParams[\"font.family\"] = \"Times New Roman\""
   ]
  },
  {
   "cell_type": "code",
   "execution_count": 2,
   "id": "f538be6f",
   "metadata": {},
   "outputs": [
    {
     "name": "stderr",
     "output_type": "stream",
     "text": [
      "C:\\Users\\srandrad\\Anaconda3\\lib\\site-packages\\plotly\\graph_objs\\__init__.py:287: DeprecationWarning: distutils Version classes are deprecated. Use packaging.version instead.\n",
      "  if LooseVersion(ipywidgets.__version__) >= LooseVersion(\"7.0.0\"):\n",
      "C:\\Users\\srandrad\\Anaconda3\\lib\\site-packages\\plotly\\graph_objs\\__init__.py:287: DeprecationWarning: distutils Version classes are deprecated. Use packaging.version instead.\n",
      "  if LooseVersion(ipywidgets.__version__) >= LooseVersion(\"7.0.0\"):\n",
      "C:\\Users\\srandrad\\Anaconda3\\lib\\site-packages\\plotly\\graph_objs\\__init__.py:287: DeprecationWarning: distutils Version classes are deprecated. Use packaging.version instead.\n",
      "  if LooseVersion(ipywidgets.__version__) >= LooseVersion(\"7.0.0\"):\n",
      "C:\\Users\\srandrad\\Anaconda3\\lib\\site-packages\\plotly\\graph_objs\\__init__.py:287: DeprecationWarning: distutils Version classes are deprecated. Use packaging.version instead.\n",
      "  if LooseVersion(ipywidgets.__version__) >= LooseVersion(\"7.0.0\"):\n",
      "C:\\Users\\srandrad\\Anaconda3\\lib\\site-packages\\geopandas\\_compat.py:18: DeprecationWarning: distutils Version classes are deprecated. Use packaging.version instead.\n",
      "  PANDAS_GE_10 = str(pd.__version__) >= LooseVersion(\"1.0.0\")\n",
      "C:\\Users\\srandrad\\Anaconda3\\lib\\site-packages\\setuptools\\_distutils\\version.py:351: DeprecationWarning: distutils Version classes are deprecated. Use packaging.version instead.\n",
      "  other = LooseVersion(other)\n",
      "C:\\Users\\srandrad\\Anaconda3\\lib\\site-packages\\geopandas\\_compat.py:19: DeprecationWarning: distutils Version classes are deprecated. Use packaging.version instead.\n",
      "  PANDAS_GE_11 = str(pd.__version__) >= LooseVersion(\"1.1.0\")\n",
      "C:\\Users\\srandrad\\Anaconda3\\lib\\site-packages\\setuptools\\_distutils\\version.py:351: DeprecationWarning: distutils Version classes are deprecated. Use packaging.version instead.\n",
      "  other = LooseVersion(other)\n",
      "C:\\Users\\srandrad\\Anaconda3\\lib\\site-packages\\geopandas\\_compat.py:20: DeprecationWarning: distutils Version classes are deprecated. Use packaging.version instead.\n",
      "  PANDAS_GE_115 = str(pd.__version__) >= LooseVersion(\"1.1.5\")\n",
      "C:\\Users\\srandrad\\Anaconda3\\lib\\site-packages\\setuptools\\_distutils\\version.py:351: DeprecationWarning: distutils Version classes are deprecated. Use packaging.version instead.\n",
      "  other = LooseVersion(other)\n",
      "C:\\Users\\srandrad\\Anaconda3\\lib\\site-packages\\geopandas\\_compat.py:21: DeprecationWarning: distutils Version classes are deprecated. Use packaging.version instead.\n",
      "  PANDAS_GE_12 = str(pd.__version__) >= LooseVersion(\"1.2.0\")\n",
      "C:\\Users\\srandrad\\Anaconda3\\lib\\site-packages\\setuptools\\_distutils\\version.py:351: DeprecationWarning: distutils Version classes are deprecated. Use packaging.version instead.\n",
      "  other = LooseVersion(other)\n",
      "C:\\Users\\srandrad\\Anaconda3\\lib\\site-packages\\geopandas\\_compat.py:29: DeprecationWarning: distutils Version classes are deprecated. Use packaging.version instead.\n",
      "  SHAPELY_GE_17 = str(shapely.__version__) >= LooseVersion(\"1.7.0\")\n",
      "C:\\Users\\srandrad\\Anaconda3\\lib\\site-packages\\setuptools\\_distutils\\version.py:351: DeprecationWarning: distutils Version classes are deprecated. Use packaging.version instead.\n",
      "  other = LooseVersion(other)\n",
      "C:\\Users\\srandrad\\Anaconda3\\lib\\site-packages\\geopandas\\_compat.py:30: DeprecationWarning: distutils Version classes are deprecated. Use packaging.version instead.\n",
      "  SHAPELY_GE_18 = str(shapely.__version__) >= LooseVersion(\"1.8\")\n",
      "C:\\Users\\srandrad\\Anaconda3\\lib\\site-packages\\setuptools\\_distutils\\version.py:351: DeprecationWarning: distutils Version classes are deprecated. Use packaging.version instead.\n",
      "  other = LooseVersion(other)\n",
      "C:\\Users\\srandrad\\Anaconda3\\lib\\site-packages\\geopandas\\_compat.py:31: DeprecationWarning: distutils Version classes are deprecated. Use packaging.version instead.\n",
      "  SHAPELY_GE_20 = str(shapely.__version__) >= LooseVersion(\"2.0\")\n",
      "C:\\Users\\srandrad\\Anaconda3\\lib\\site-packages\\setuptools\\_distutils\\version.py:351: DeprecationWarning: distutils Version classes are deprecated. Use packaging.version instead.\n",
      "  other = LooseVersion(other)\n",
      "C:\\Users\\srandrad\\Anaconda3\\lib\\site-packages\\geopandas\\_compat.py:153: DeprecationWarning: distutils Version classes are deprecated. Use packaging.version instead.\n",
      "  elif (str(np.__version__) >= LooseVersion(\"1.21\")) and not SHAPELY_GE_20:\n",
      "C:\\Users\\srandrad\\Anaconda3\\lib\\site-packages\\setuptools\\_distutils\\version.py:351: DeprecationWarning: distutils Version classes are deprecated. Use packaging.version instead.\n",
      "  other = LooseVersion(other)\n",
      "C:\\Users\\srandrad\\Anaconda3\\lib\\site-packages\\geopandas\\_compat.py:227: DeprecationWarning: distutils Version classes are deprecated. Use packaging.version instead.\n",
      "  PYPROJ_LT_3 = LooseVersion(pyproj.__version__) < LooseVersion(\"3\")\n",
      "C:\\Users\\srandrad\\Anaconda3\\lib\\site-packages\\geopandas\\_compat.py:227: DeprecationWarning: distutils Version classes are deprecated. Use packaging.version instead.\n",
      "  PYPROJ_LT_3 = LooseVersion(pyproj.__version__) < LooseVersion(\"3\")\n",
      "C:\\Users\\srandrad\\Anaconda3\\lib\\site-packages\\geopandas\\_compat.py:228: DeprecationWarning: distutils Version classes are deprecated. Use packaging.version instead.\n",
      "  PYPROJ_GE_31 = LooseVersion(pyproj.__version__) >= LooseVersion(\"3.1\")\n",
      "C:\\Users\\srandrad\\Anaconda3\\lib\\site-packages\\geopandas\\_compat.py:228: DeprecationWarning: distutils Version classes are deprecated. Use packaging.version instead.\n",
      "  PYPROJ_GE_31 = LooseVersion(pyproj.__version__) >= LooseVersion(\"3.1\")\n"
     ]
    }
   ],
   "source": [
    "import sys\n",
    "import os\n",
    "sys.path.append(os.path.join(\"..\"))\n",
    "\n",
    "from module.trend_analysis_functions import *\n",
    "from module.topic_model_plus_class import Topic_Model_plus"
   ]
  },
  {
   "cell_type": "code",
   "execution_count": 5,
   "id": "44192b67",
   "metadata": {},
   "outputs": [
    {
     "name": "stdout",
     "output_type": "stream",
     "text": [
      "2361\n",
      "2361\n"
     ]
    }
   ],
   "source": [
    "list_of_attributes = [\"Narrative\"]\n",
    "#file = os.path.join(\"data\",\"SAFENET\",\"SAFENET_1999_2021.csv\")\n",
    "file = os.path.join(os.path.dirname(os.getcwd()),\"results\", \"safenet_topics_May-04-2022\", 'preprocessed_data.csv')\n",
    "extra_cols = [\"Iteration\", \"Event Start Date\", \"Event Stop Date\", \"Incident Name\",\n",
    "              \"Incident Number\", \"Event State\", \"Event Jurisdiction\", \"Event Local Unit\",\n",
    "              \"Event Position Title\", \"Event Task\", \"Event Management Level\", \"Event Resources\", \n",
    "              \"Event Incident Type\", \"Event Incident Activity\", \"Event Incident Stage\", \"Contributing Factors\",\n",
    "              \"Human Factors\", \"Other Factors\", \"Narrative\", \"Immediate Action Taken\",  \"SAFENET Create Date\"\n",
    "              ]\n",
    "document_id_col = \"ID\"\n",
    "safenet = Topic_Model_plus(list_of_attributes=list_of_attributes, document_id_col=document_id_col, \n",
    "                        csv_file=\"\", database_name=\"safenet\", extra_cols=extra_cols)\n",
    "safenet.extract_preprocessed_data(file)\n",
    "df = safenet.data_df\n",
    "print(len(df))\n",
    "df = df.dropna(how='all', subset=['Narrative']).reset_index(drop=True)\n",
    "print(len(df))"
   ]
  },
  {
   "cell_type": "code",
   "execution_count": 6,
   "id": "768ab4bb",
   "metadata": {},
   "outputs": [],
   "source": [
    "df['Year'] = [df.at[i,'Event Start Date'].split('/')[-1].split(\" \")[0] for i in range(len(df))]\n",
    "df['Day'] = [df.at[i,'Event Start Date'].split('/')[1] for i in range(len(df))]\n",
    "df['Month'] = [df.at[i,'Event Start Date'].split('/')[0] for i in range(len(df))]"
   ]
  },
  {
   "cell_type": "code",
   "execution_count": 9,
   "id": "0ae0b75d",
   "metadata": {},
   "outputs": [],
   "source": [
    "hazard_file = os.path.join(os.path.dirname(os.getcwd()),\"results\", \"safenet_topics_May-04-2022\", 'hazard_interpretation.xlsx')\n",
    "results_file = os.path.join(os.path.dirname(os.getcwd()),\"results\", \"safenet_topics_May-04-2022\",'lda_results.xlsx')"
   ]
  },
  {
   "cell_type": "code",
   "execution_count": 10,
   "id": "116b7016",
   "metadata": {},
   "outputs": [
    {
     "ename": "IndexError",
     "evalue": "single positional indexer is out-of-bounds",
     "output_type": "error",
     "traceback": [
      "\u001b[1;31m---------------------------------------------------------------------------\u001b[0m",
      "\u001b[1;31mIndexError\u001b[0m                                Traceback (most recent call last)",
      "\u001b[1;32m~\\AppData\\Local\\Temp\\2\\ipykernel_7144\\2096911169.py\u001b[0m in \u001b[0;36m<module>\u001b[1;34m\u001b[0m\n\u001b[1;32m----> 1\u001b[1;33m \u001b[0mfrequency\u001b[0m\u001b[1;33m,\u001b[0m \u001b[0mdocs\u001b[0m \u001b[1;33m=\u001b[0m \u001b[0midentify_docs_per_hazard\u001b[0m\u001b[1;33m(\u001b[0m\u001b[0mhazard_file\u001b[0m\u001b[1;33m,\u001b[0m \u001b[0mdf\u001b[0m\u001b[1;33m,\u001b[0m \u001b[0mresults_file\u001b[0m\u001b[1;33m,\u001b[0m \u001b[1;34m'Narrative'\u001b[0m\u001b[1;33m,\u001b[0m \u001b[1;34m'Year'\u001b[0m\u001b[1;33m,\u001b[0m \u001b[1;34m\"ID\"\u001b[0m\u001b[1;33m,\u001b[0m \u001b[1;34m'Narrative'\u001b[0m\u001b[1;33m,\u001b[0m \u001b[0mdoc_topic_dist_field\u001b[0m\u001b[1;33m=\u001b[0m\u001b[1;34m'document topic distribution'\u001b[0m\u001b[1;33m,\u001b[0m \u001b[0mtopic_thresh\u001b[0m\u001b[1;33m=\u001b[0m\u001b[1;36m0.2\u001b[0m\u001b[1;33m,\u001b[0m  \u001b[0mids_to_drop\u001b[0m\u001b[1;33m=\u001b[0m\u001b[1;33m[\u001b[0m\u001b[1;33m]\u001b[0m\u001b[1;33m)\u001b[0m\u001b[1;33m\u001b[0m\u001b[1;33m\u001b[0m\u001b[0m\n\u001b[0m",
      "\u001b[1;32m~\\smart_nlp\\module\\trend_analysis_functions.py\u001b[0m in \u001b[0;36midentify_docs_per_hazard\u001b[1;34m(hazard_file, preprocessed_df, results_file, text_field, time_field, id_field, results_text_field, doc_topic_dist_field, topic_thresh, ids_to_drop)\u001b[0m\n\u001b[0;32m    451\u001b[0m                  \u001b[1;31m#check that topic prob> thres for at least one num\u001b[0m\u001b[1;33m\u001b[0m\u001b[1;33m\u001b[0m\u001b[1;33m\u001b[0m\u001b[0m\n\u001b[0;32m    452\u001b[0m                  \u001b[0mid_df\u001b[0m \u001b[1;33m=\u001b[0m \u001b[0mdoc_topic_distribution\u001b[0m\u001b[1;33m.\u001b[0m\u001b[0mloc\u001b[0m\u001b[1;33m[\u001b[0m\u001b[0mdoc_topic_distribution\u001b[0m\u001b[1;33m[\u001b[0m\u001b[1;34m'document number'\u001b[0m\u001b[1;33m]\u001b[0m\u001b[1;33m==\u001b[0m\u001b[0mid_\u001b[0m\u001b[1;33m]\u001b[0m\u001b[1;33m.\u001b[0m\u001b[0mreset_index\u001b[0m\u001b[1;33m(\u001b[0m\u001b[0mdrop\u001b[0m\u001b[1;33m=\u001b[0m\u001b[1;32mTrue\u001b[0m\u001b[1;33m)\u001b[0m\u001b[1;33m\u001b[0m\u001b[1;33m\u001b[0m\u001b[0m\n\u001b[1;32m--> 453\u001b[1;33m                  \u001b[0mprobs\u001b[0m \u001b[1;33m=\u001b[0m \u001b[1;33m[\u001b[0m\u001b[0mfloat\u001b[0m\u001b[1;33m(\u001b[0m\u001b[0mid_df\u001b[0m\u001b[1;33m.\u001b[0m\u001b[0miloc\u001b[0m\u001b[1;33m[\u001b[0m\u001b[1;36m0\u001b[0m\u001b[1;33m]\u001b[0m\u001b[1;33m[\u001b[0m\u001b[0mtext_field\u001b[0m\u001b[1;33m]\u001b[0m\u001b[1;33m.\u001b[0m\u001b[0mstrip\u001b[0m\u001b[1;33m(\u001b[0m\u001b[1;34m\"[]\"\u001b[0m\u001b[1;33m)\u001b[0m\u001b[1;33m.\u001b[0m\u001b[0msplit\u001b[0m\u001b[1;33m(\u001b[0m\u001b[1;34m\" \"\u001b[0m\u001b[1;33m)\u001b[0m\u001b[1;33m[\u001b[0m\u001b[0mnum\u001b[0m\u001b[1;33m]\u001b[0m\u001b[1;33m.\u001b[0m\u001b[0mstrip\u001b[0m\u001b[1;33m(\u001b[0m\u001b[1;34m\"\\n\"\u001b[0m\u001b[1;33m)\u001b[0m\u001b[1;33m)\u001b[0m \u001b[1;32mfor\u001b[0m \u001b[0mnum\u001b[0m \u001b[1;32min\u001b[0m \u001b[0mnums\u001b[0m\u001b[1;33m]\u001b[0m\u001b[1;33m\u001b[0m\u001b[1;33m\u001b[0m\u001b[0m\n\u001b[0m\u001b[0;32m    454\u001b[0m                  \u001b[0mmax_prob\u001b[0m \u001b[1;33m=\u001b[0m \u001b[0mmax\u001b[0m\u001b[1;33m(\u001b[0m\u001b[0mprobs\u001b[0m\u001b[1;33m)\u001b[0m\u001b[1;33m\u001b[0m\u001b[1;33m\u001b[0m\u001b[0m\n\u001b[0;32m    455\u001b[0m                  \u001b[1;32mif\u001b[0m \u001b[0mmax_prob\u001b[0m \u001b[1;33m>\u001b[0m \u001b[0mtopic_thresh\u001b[0m\u001b[1;33m:\u001b[0m\u001b[1;33m\u001b[0m\u001b[1;33m\u001b[0m\u001b[0m\n",
      "\u001b[1;32m~\\smart_nlp\\module\\trend_analysis_functions.py\u001b[0m in \u001b[0;36m<listcomp>\u001b[1;34m(.0)\u001b[0m\n\u001b[0;32m    451\u001b[0m                  \u001b[1;31m#check that topic prob> thres for at least one num\u001b[0m\u001b[1;33m\u001b[0m\u001b[1;33m\u001b[0m\u001b[1;33m\u001b[0m\u001b[0m\n\u001b[0;32m    452\u001b[0m                  \u001b[0mid_df\u001b[0m \u001b[1;33m=\u001b[0m \u001b[0mdoc_topic_distribution\u001b[0m\u001b[1;33m.\u001b[0m\u001b[0mloc\u001b[0m\u001b[1;33m[\u001b[0m\u001b[0mdoc_topic_distribution\u001b[0m\u001b[1;33m[\u001b[0m\u001b[1;34m'document number'\u001b[0m\u001b[1;33m]\u001b[0m\u001b[1;33m==\u001b[0m\u001b[0mid_\u001b[0m\u001b[1;33m]\u001b[0m\u001b[1;33m.\u001b[0m\u001b[0mreset_index\u001b[0m\u001b[1;33m(\u001b[0m\u001b[0mdrop\u001b[0m\u001b[1;33m=\u001b[0m\u001b[1;32mTrue\u001b[0m\u001b[1;33m)\u001b[0m\u001b[1;33m\u001b[0m\u001b[1;33m\u001b[0m\u001b[0m\n\u001b[1;32m--> 453\u001b[1;33m                  \u001b[0mprobs\u001b[0m \u001b[1;33m=\u001b[0m \u001b[1;33m[\u001b[0m\u001b[0mfloat\u001b[0m\u001b[1;33m(\u001b[0m\u001b[0mid_df\u001b[0m\u001b[1;33m.\u001b[0m\u001b[0miloc\u001b[0m\u001b[1;33m[\u001b[0m\u001b[1;36m0\u001b[0m\u001b[1;33m]\u001b[0m\u001b[1;33m[\u001b[0m\u001b[0mtext_field\u001b[0m\u001b[1;33m]\u001b[0m\u001b[1;33m.\u001b[0m\u001b[0mstrip\u001b[0m\u001b[1;33m(\u001b[0m\u001b[1;34m\"[]\"\u001b[0m\u001b[1;33m)\u001b[0m\u001b[1;33m.\u001b[0m\u001b[0msplit\u001b[0m\u001b[1;33m(\u001b[0m\u001b[1;34m\" \"\u001b[0m\u001b[1;33m)\u001b[0m\u001b[1;33m[\u001b[0m\u001b[0mnum\u001b[0m\u001b[1;33m]\u001b[0m\u001b[1;33m.\u001b[0m\u001b[0mstrip\u001b[0m\u001b[1;33m(\u001b[0m\u001b[1;34m\"\\n\"\u001b[0m\u001b[1;33m)\u001b[0m\u001b[1;33m)\u001b[0m \u001b[1;32mfor\u001b[0m \u001b[0mnum\u001b[0m \u001b[1;32min\u001b[0m \u001b[0mnums\u001b[0m\u001b[1;33m]\u001b[0m\u001b[1;33m\u001b[0m\u001b[1;33m\u001b[0m\u001b[0m\n\u001b[0m\u001b[0;32m    454\u001b[0m                  \u001b[0mmax_prob\u001b[0m \u001b[1;33m=\u001b[0m \u001b[0mmax\u001b[0m\u001b[1;33m(\u001b[0m\u001b[0mprobs\u001b[0m\u001b[1;33m)\u001b[0m\u001b[1;33m\u001b[0m\u001b[1;33m\u001b[0m\u001b[0m\n\u001b[0;32m    455\u001b[0m                  \u001b[1;32mif\u001b[0m \u001b[0mmax_prob\u001b[0m \u001b[1;33m>\u001b[0m \u001b[0mtopic_thresh\u001b[0m\u001b[1;33m:\u001b[0m\u001b[1;33m\u001b[0m\u001b[1;33m\u001b[0m\u001b[0m\n",
      "\u001b[1;32m~\\Anaconda3\\lib\\site-packages\\pandas\\core\\indexing.py\u001b[0m in \u001b[0;36m__getitem__\u001b[1;34m(self, key)\u001b[0m\n\u001b[0;32m    929\u001b[0m \u001b[1;33m\u001b[0m\u001b[0m\n\u001b[0;32m    930\u001b[0m             \u001b[0mmaybe_callable\u001b[0m \u001b[1;33m=\u001b[0m \u001b[0mcom\u001b[0m\u001b[1;33m.\u001b[0m\u001b[0mapply_if_callable\u001b[0m\u001b[1;33m(\u001b[0m\u001b[0mkey\u001b[0m\u001b[1;33m,\u001b[0m \u001b[0mself\u001b[0m\u001b[1;33m.\u001b[0m\u001b[0mobj\u001b[0m\u001b[1;33m)\u001b[0m\u001b[1;33m\u001b[0m\u001b[1;33m\u001b[0m\u001b[0m\n\u001b[1;32m--> 931\u001b[1;33m             \u001b[1;32mreturn\u001b[0m \u001b[0mself\u001b[0m\u001b[1;33m.\u001b[0m\u001b[0m_getitem_axis\u001b[0m\u001b[1;33m(\u001b[0m\u001b[0mmaybe_callable\u001b[0m\u001b[1;33m,\u001b[0m \u001b[0maxis\u001b[0m\u001b[1;33m=\u001b[0m\u001b[0maxis\u001b[0m\u001b[1;33m)\u001b[0m\u001b[1;33m\u001b[0m\u001b[1;33m\u001b[0m\u001b[0m\n\u001b[0m\u001b[0;32m    932\u001b[0m \u001b[1;33m\u001b[0m\u001b[0m\n\u001b[0;32m    933\u001b[0m     \u001b[1;32mdef\u001b[0m \u001b[0m_is_scalar_access\u001b[0m\u001b[1;33m(\u001b[0m\u001b[0mself\u001b[0m\u001b[1;33m,\u001b[0m \u001b[0mkey\u001b[0m\u001b[1;33m:\u001b[0m \u001b[0mtuple\u001b[0m\u001b[1;33m)\u001b[0m\u001b[1;33m:\u001b[0m\u001b[1;33m\u001b[0m\u001b[1;33m\u001b[0m\u001b[0m\n",
      "\u001b[1;32m~\\Anaconda3\\lib\\site-packages\\pandas\\core\\indexing.py\u001b[0m in \u001b[0;36m_getitem_axis\u001b[1;34m(self, key, axis)\u001b[0m\n\u001b[0;32m   1564\u001b[0m \u001b[1;33m\u001b[0m\u001b[0m\n\u001b[0;32m   1565\u001b[0m             \u001b[1;31m# validate the location\u001b[0m\u001b[1;33m\u001b[0m\u001b[1;33m\u001b[0m\u001b[1;33m\u001b[0m\u001b[0m\n\u001b[1;32m-> 1566\u001b[1;33m             \u001b[0mself\u001b[0m\u001b[1;33m.\u001b[0m\u001b[0m_validate_integer\u001b[0m\u001b[1;33m(\u001b[0m\u001b[0mkey\u001b[0m\u001b[1;33m,\u001b[0m \u001b[0maxis\u001b[0m\u001b[1;33m)\u001b[0m\u001b[1;33m\u001b[0m\u001b[1;33m\u001b[0m\u001b[0m\n\u001b[0m\u001b[0;32m   1567\u001b[0m \u001b[1;33m\u001b[0m\u001b[0m\n\u001b[0;32m   1568\u001b[0m             \u001b[1;32mreturn\u001b[0m \u001b[0mself\u001b[0m\u001b[1;33m.\u001b[0m\u001b[0mobj\u001b[0m\u001b[1;33m.\u001b[0m\u001b[0m_ixs\u001b[0m\u001b[1;33m(\u001b[0m\u001b[0mkey\u001b[0m\u001b[1;33m,\u001b[0m \u001b[0maxis\u001b[0m\u001b[1;33m=\u001b[0m\u001b[0maxis\u001b[0m\u001b[1;33m)\u001b[0m\u001b[1;33m\u001b[0m\u001b[1;33m\u001b[0m\u001b[0m\n",
      "\u001b[1;32m~\\Anaconda3\\lib\\site-packages\\pandas\\core\\indexing.py\u001b[0m in \u001b[0;36m_validate_integer\u001b[1;34m(self, key, axis)\u001b[0m\n\u001b[0;32m   1498\u001b[0m         \u001b[0mlen_axis\u001b[0m \u001b[1;33m=\u001b[0m \u001b[0mlen\u001b[0m\u001b[1;33m(\u001b[0m\u001b[0mself\u001b[0m\u001b[1;33m.\u001b[0m\u001b[0mobj\u001b[0m\u001b[1;33m.\u001b[0m\u001b[0m_get_axis\u001b[0m\u001b[1;33m(\u001b[0m\u001b[0maxis\u001b[0m\u001b[1;33m)\u001b[0m\u001b[1;33m)\u001b[0m\u001b[1;33m\u001b[0m\u001b[1;33m\u001b[0m\u001b[0m\n\u001b[0;32m   1499\u001b[0m         \u001b[1;32mif\u001b[0m \u001b[0mkey\u001b[0m \u001b[1;33m>=\u001b[0m \u001b[0mlen_axis\u001b[0m \u001b[1;32mor\u001b[0m \u001b[0mkey\u001b[0m \u001b[1;33m<\u001b[0m \u001b[1;33m-\u001b[0m\u001b[0mlen_axis\u001b[0m\u001b[1;33m:\u001b[0m\u001b[1;33m\u001b[0m\u001b[1;33m\u001b[0m\u001b[0m\n\u001b[1;32m-> 1500\u001b[1;33m             \u001b[1;32mraise\u001b[0m \u001b[0mIndexError\u001b[0m\u001b[1;33m(\u001b[0m\u001b[1;34m\"single positional indexer is out-of-bounds\"\u001b[0m\u001b[1;33m)\u001b[0m\u001b[1;33m\u001b[0m\u001b[1;33m\u001b[0m\u001b[0m\n\u001b[0m\u001b[0;32m   1501\u001b[0m \u001b[1;33m\u001b[0m\u001b[0m\n\u001b[0;32m   1502\u001b[0m     \u001b[1;31m# -------------------------------------------------------------------\u001b[0m\u001b[1;33m\u001b[0m\u001b[1;33m\u001b[0m\u001b[1;33m\u001b[0m\u001b[0m\n",
      "\u001b[1;31mIndexError\u001b[0m: single positional indexer is out-of-bounds"
     ]
    }
   ],
   "source": [
    "frequency, docs = identify_docs_per_hazard(hazard_file, df, results_file, 'Narrative', 'Year', \"ID\", 'Narrative', doc_topic_dist_field='document topic distribution', topic_thresh=0.2,  ids_to_drop=[])"
   ]
  },
  {
   "cell_type": "code",
   "execution_count": null,
   "id": "285f44fd",
   "metadata": {},
   "outputs": [],
   "source": [
    "def create_table(docs, frequency, preprocessed_df, id_field, categories, subcategories, hazards, time_field):#, accuracy_file):\n",
    "    table = pd.DataFrame({\"Category\": categories, \"Subcategory\": subcategories, \"Hazards\": hazards})\n",
    "    #accuracy_df = pd.read_excel(accuracy_file, sheet_name=['Summary'])['Summary']\n",
    "    time_period = preprocessed_df[time_field].unique()\n",
    "    severities = {name:{str(time_p):[] for time_p in time_period} for name in hazards}\n",
    "    rates = {name:{str(time_p):0 for time_p in time_period} for name in hazards}\n",
    "    total_docs_per_year = preprocessed_df[time_field].value_counts()\n",
    "    total_rates = {hazard:0 for hazard in hazards}\n",
    "    total_hazard_freq = {hazard:0 for hazard in hazards}\n",
    "    total_severities_hazard = {hazard:0 for hazard in hazards}\n",
    "    total_docs = len(preprocessed_df)\n",
    "    #precision = []\n",
    "    for hazard in hazards:\n",
    "        #hazard_precision = accuracy_df.loc[accuracy_df['Hazards']==hazard].reset_index(drop=True)['Accuracy'].tolist()[0]\n",
    "        #precision.append(round(hazard_precision,3))\n",
    "        for year in docs[hazard]:\n",
    "            year = str(year)\n",
    "            for doc in docs[hazard][year]:\n",
    "                doc_df = preprocessed_df.loc[preprocessed_df[id_field] == doc].reset_index(drop=True)\n",
    "                severities[hazard][year].append(safecom_severity(doc_df.iloc[0]['Persons Onboard'], doc_df.iloc[0]['Injuries'], doc_df.iloc[0]['Damages']))\n",
    "            rates[hazard][year] = frequency[hazard][year]/total_docs_per_year[year]\n",
    "            total_hazard_freq[hazard] += frequency[hazard][year]\n",
    "        total_rates[hazard] = round(total_hazard_freq[hazard]/len(time_period), 3)\n",
    "        total_severities_hazard[hazard] = round(np.average([sev for year in severities[hazard] for sev in severities[hazard][year]]),3)\n",
    "    table[\"Frequency\"] = [total_hazard_freq[hazard] for hazard in total_hazard_freq]\n",
    "    table[\"Rate\"] = [total_rates[hazard] for hazard in total_rates]\n",
    "    #table[\"Severity\"] = [total_severities_hazard[hazard] for hazard in total_severities_hazard]\n",
    "    #table[\"Precision\"] = precision\n",
    "    return table#, severities, rates"
   ]
  },
  {
   "cell_type": "code",
   "execution_count": null,
   "id": "d3fa11e2",
   "metadata": {},
   "outputs": [],
   "source": []
  }
 ],
 "metadata": {
  "kernelspec": {
   "display_name": "Python 3 (ipykernel)",
   "language": "python",
   "name": "python3"
  },
  "language_info": {
   "codemirror_mode": {
    "name": "ipython",
    "version": 3
   },
   "file_extension": ".py",
   "mimetype": "text/x-python",
   "name": "python",
   "nbconvert_exporter": "python",
   "pygments_lexer": "ipython3",
   "version": "3.8.5"
  }
 },
 "nbformat": 4,
 "nbformat_minor": 5
}
