{
 "cells": [
  {
   "cell_type": "code",
   "execution_count": 1,
   "metadata": {},
   "outputs": [],
   "source": [
    "import pandas as pd\n",
    "import numpy as np\n",
    "%matplotlib inline\n",
    "import matplotlib.style\n",
    "matplotlib.style.use(\"seaborn\")\n",
    "import matplotlib.pyplot as plt\n",
    "import matplotlib.cm as cm\n",
    "\n",
    "import seaborn as sn\n",
    "sn.color_palette(\"hls\", 17)\n",
    "import scipy.stats as st\n",
    "import math\n",
    "\n",
    "from pingouin import rcorr"
   ]
  },
  {
   "cell_type": "code",
   "execution_count": 2,
   "metadata": {},
   "outputs": [],
   "source": [
    "import sys\n",
    "import os\n",
    "\n",
    "from sys import platform\n",
    "if platform == \"darwin\":\n",
    "    sys.path.append(os.path.dirname(os.path.realpath(__file__)) + \"/..\")\n",
    "    smart_nlp_path = ''\n",
    "elif platform == \"win32\":\n",
    "    sys.path.append('../')\n",
    "    smart_nlp_path = os.getcwd()\n",
    "    smart_nlp_path = \"\\\\\".join([smart_nlp_path.split(\"\\\\\")[i] for i in range(0,len(smart_nlp_path.split(\"\\\\\"))-1)]+[\"/\"])\n",
    "\n",
    "from module.trend_analysis_functions import *\n",
    "from module.topic_model_plus_class import Topic_Model_plus"
   ]
  },
  {
   "cell_type": "code",
   "execution_count": 3,
   "metadata": {},
   "outputs": [
    {
     "name": "stderr",
     "output_type": "stream",
     "text": [
      "C:\\Users\\srandrad\\Anaconda3\\lib\\site-packages\\openpyxl\\compat\\numbers.py:41: DeprecationWarning: `np.float` is a deprecated alias for the builtin `float`. To silence this warning, use `float` by itself. Doing this will not modify any behavior and is safe. If you specifically wanted the numpy scalar type, use `np.float64` here.\n",
      "Deprecated in NumPy 1.20; for more details and guidance: https://numpy.org/devdocs/release/1.20.0-notes.html#deprecations\n",
      "  numpy.float,\n"
     ]
    },
    {
     "data": {
      "text/plain": [
       "2021    2543\n",
       "2020    1392\n",
       "2016     998\n",
       "2018     943\n",
       "2017     894\n",
       "2015     714\n",
       "2019     611\n",
       "2014       3\n",
       "2009       1\n",
       "Name: fiscal_year, dtype: int64"
      ]
     },
     "execution_count": 3,
     "metadata": {},
     "output_type": "execute_result"
    }
   ],
   "source": [
    "csv_file_name = smart_nlp_path+r\"/input data/safecom-2011-present-NASA.xlsx\" \n",
    "df = pd.read_excel(csv_file_name,sheet_name='safecom-2011-present-NASA')\n",
    "df['fiscal_year'].value_counts()"
   ]
  },
  {
   "cell_type": "code",
   "execution_count": 4,
   "metadata": {},
   "outputs": [
    {
     "name": "stdout",
     "output_type": "stream",
     "text": [
      "Preprocessed data extracted from:  C:\\Users\\srandrad\\smart_nlp\\//output data/test_safecom_topics-Sep-21-2021/preprocessed_data.csv\n"
     ]
    }
   ],
   "source": [
    "list_of_attributes = ['narr_public']#, 'corrective_public', 'notes']\n",
    "extra_cols = ['region', 'agency', 'duplicate_yn', 'completed_yn', 'rep_by_org',\n",
    "                   'air_number', 'air_type', 'air_model', 'air_manufacturer',\n",
    "                   'air_owner', 'mission_destination', 'mission_depart', 'mission_hazmat',\n",
    "                   'mission_special_use', 'mission_pax', 'mission_procurement_other',\n",
    "                   'mission_procurement', 'mission_type_other', 'mission_type',\n",
    "                   'event_damage', 'event_injuries', 'event_org', 'event_org_other',\n",
    "                   'event_state', 'event_location', 'event_time', 'event_date',\n",
    "                   'public_yn', 'sequence_number', 'fiscal_year', 'unitid', 'safecomid',\n",
    "                   'id']\n",
    "document_id_col = 'id'\n",
    "csv_file_name = smart_nlp_path+\"input data/safecom-2011-present-NASA.xlsx\" \n",
    "\n",
    "file = smart_nlp_path+r\"/output data/test_safecom_topics-Sep-21-2021/preprocessed_data.csv\"\n",
    "safecom = Topic_Model_plus(document_id_col=document_id_col, extra_cols=extra_cols, list_of_attributes=list_of_attributes, combine_cols=False)\n",
    "safecom.extract_preprocessed_data(file)\n",
    "preprocessed_df = safecom.data_df"
   ]
  },
  {
   "cell_type": "code",
   "execution_count": 5,
   "metadata": {},
   "outputs": [],
   "source": [
    "hazard_file = smart_nlp_path+r\"/output data/test_safecom_topics-Sep-21-2021/hazard_interpretation_SAFECOM_V0.xlsx\"\n",
    "results_file = smart_nlp_path+r\"/output data/test_safecom_topics-Sep-21-2021/lda_results.xlsx\""
   ]
  },
  {
   "cell_type": "code",
   "execution_count": 6,
   "metadata": {},
   "outputs": [],
   "source": [
    "frequency_new, docs = identify_docs_per_hazard(hazard_file, preprocessed_df, results_file, \"narr_public\", 'fiscal_year', \"id\")"
   ]
  },
  {
   "cell_type": "code",
   "execution_count": 7,
   "metadata": {},
   "outputs": [
    {
     "name": "stdout",
     "output_type": "stream",
     "text": [
      "{'Drone Incursion': {'2020': 39, '2015': 19, '2021': 19, '2018': 26, '2019': 14, '2016': 35, '2017': 41, '2014': 0}, 'Water Drop': {'2020': 157, '2015': 129, '2021': 119, '2018': 131, '2019': 65, '2016': 124, '2017': 120, '2014': 0}, 'Hydraulic Fluid Issues': {'2020': 25, '2015': 19, '2021': 23, '2018': 35, '2019': 12, '2016': 35, '2017': 28, '2014': 0}}\n"
     ]
    }
   ],
   "source": [
    "print(frequency_new)"
   ]
  }
 ],
 "metadata": {
  "kernelspec": {
   "display_name": "Python 3",
   "language": "python",
   "name": "python3"
  },
  "language_info": {
   "codemirror_mode": {
    "name": "ipython",
    "version": 3
   },
   "file_extension": ".py",
   "mimetype": "text/x-python",
   "name": "python",
   "nbconvert_exporter": "python",
   "pygments_lexer": "ipython3",
   "version": "3.8.5"
  }
 },
 "nbformat": 4,
 "nbformat_minor": 4
}
