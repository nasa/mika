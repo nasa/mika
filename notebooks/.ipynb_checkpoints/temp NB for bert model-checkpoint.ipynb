{
 "cells": [
  {
   "cell_type": "code",
   "execution_count": 1,
   "metadata": {},
   "outputs": [],
   "source": [
    "import pandas as pd\n",
    "import numpy as np\n",
    "%matplotlib inline\n",
    "import matplotlib.style\n",
    "matplotlib.style.use(\"seaborn\")\n",
    "import matplotlib.pyplot as plt\n",
    "import matplotlib.cm as cm\n",
    "\n",
    "from tqdm import tqdm\n",
    "\n",
    "import seaborn as sns\n",
    "sns.color_palette(\"hls\", 17)\n",
    "import scipy.stats as st\n",
    "import math\n",
    "\n",
    "from pingouin import rcorr\n",
    "import pingouin as pg\n",
    "from xgboost import XGBClassifier\n",
    "from sklearn.multiclass import OneVsRestClassifier\n",
    "from sklearn.pipeline import Pipeline\n",
    "from sklearn.multioutput import MultiOutputClassifier, ClassifierChain\n",
    "from sklearn.linear_model import LogisticRegression, RidgeClassifierCV, RidgeClassifier\n",
    "from sklearn.svm import SVC, LinearSVC\n",
    "from sklearn.gaussian_process import GaussianProcessClassifier\n",
    "from sklearn.gaussian_process.kernels import RBF\n",
    "from sklearn.tree import DecisionTreeClassifier\n",
    "from sklearn.ensemble import RandomForestClassifier, AdaBoostClassifier\n",
    "from sklearn.naive_bayes import GaussianNB\n",
    "from sklearn.discriminant_analysis import QuadraticDiscriminantAnalysis\n",
    "from sklearn.neighbors import KNeighborsClassifier\n",
    "from sklearn.neural_network import MLPClassifier\n",
    "#from sklearn.model_selection import KFold, StratifiedKFold, train_test_split, cross_validate, cross_val_score, learning_curve\n",
    "from sklearn.metrics import accuracy_score, classification_report, confusion_matrix, f1_score, precision_score, recall_score, plot_roc_curve, roc_curve, auc, roc_auc_score,precision_recall_curve, hamming_loss\n",
    "from sklearn.feature_extraction.text import TfidfVectorizer \n",
    "from sklearn.preprocessing import MinMaxScaler\n",
    "\n",
    "from sklearn import feature_selection #import chi2\n",
    "\n",
    "import gensim\n",
    "import gensim.downloader as gensim_api\n",
    "## for deep learning\n",
    "from tensorflow.keras import models, layers, preprocessing as kprocessing\n",
    "from tensorflow.keras import backend as K"
   ]
  },
  {
   "cell_type": "code",
   "execution_count": 2,
   "metadata": {},
   "outputs": [],
   "source": [
    "import sys\n",
    "import os\n",
    "\n",
    "from sys import platform\n",
    "if platform == \"darwin\":\n",
    "    sys.path.append(os.path.dirname(os.path.realpath(__file__)) + \"/..\")\n",
    "    smart_nlp_path = ''\n",
    "elif platform == \"win32\":\n",
    "    sys.path.append('../')\n",
    "    smart_nlp_path = os.getcwd()\n",
    "    smart_nlp_path = \"\\\\\".join([smart_nlp_path.split(\"\\\\\")[i] for i in range(0,len(smart_nlp_path.split(\"\\\\\"))-1)]+[\"/\"])\n",
    "\n",
    "from module.trend_analysis_functions import *\n",
    "from module.topic_model_plus_class import Topic_Model_plus"
   ]
  },
  {
   "cell_type": "code",
   "execution_count": 3,
   "metadata": {},
   "outputs": [],
   "source": [
    "test_data = pd.read_csv(os.path.join(os.path.dirname(os.getcwd()),'data','ICS_predictive_sitreps_test.csv')).drop([\"Unnamed: 0\"], axis=1)\n",
    "train_data = pd.read_csv(os.path.join(os.path.dirname(os.getcwd()),'data','ICS_predictive_sitreps_train.csv')).drop([\"Unnamed: 0\"], axis=1)\n",
    "val_data = pd.read_csv(os.path.join(os.path.dirname(os.getcwd()),'data','ICS_predictive_sitreps_val.csv')).drop([\"Unnamed: 0\"], axis=1)"
   ]
  },
  {
   "cell_type": "code",
   "execution_count": 4,
   "metadata": {},
   "outputs": [],
   "source": [
    "predictors = [\"TOTAL_PERSONNEL\", \"TOTAL_AERIAL\", \"PCT_CONTAINED_COMPLETED\",\n",
    "              \"ACRES\",  \"WF_FSR\", \"INJURIES\", \"FATALITIES\", \"EST_IM_COST_TO_DATE\", \"STR_DAMAGED\",\n",
    "              \"STR_DESTROYED\", \"NEW_ACRES\", \"EVACUATION_IN_PROGRESS\", \n",
    "              \"NUM_REPORTS\", \"DAYS_BURING\", 'Combined_Text', 'Incident_region_AICC', \n",
    "              'Incident_region_CA', 'Incident_region_EACC','Incident_region_GBCC', 'Incident_region_HICC', \n",
    "              'Incident_region_NRCC','Incident_region_NWCC', 'Incident_region_RMCC', 'Incident_region_SACC',\n",
    "              'Incident_region_SWCC', 'INC_MGMT_ORG_ABBREV_1', 'INC_MGMT_ORG_ABBREV_2','INC_MGMT_ORG_ABBREV_3', \n",
    "              'INC_MGMT_ORG_ABBREV_4','INC_MGMT_ORG_ABBREV_5', 'INC_MGMT_ORG_ABBREV_B','INC_MGMT_ORG_ABBREV_C', \n",
    "              'INC_MGMT_ORG_ABBREV_D','INC_MGMT_ORG_ABBREV_E', 'INC_MGMT_ORG_ABBREV_F']\n",
    "targets = [\"Traffic\",\"Command_Transitions\",\"Evacuations\", \"Inaccurate_Mapping\", \"Aerial_Grounding\", \n",
    "           \"Resource_Issues\", \"Injuries\", \"Cultural_Resources\",\"Livestock\", \"Law_Violations\", \"Military_Base\", \n",
    "           \"Infrastructure\", \"Extreme_Weather\", \"Ecological\", \"Hazardous_Terrain\", \"Floods\", \"Dry_Weather\"]"
   ]
  },
  {
   "cell_type": "markdown",
   "metadata": {},
   "source": [
    "# Prepare the Data"
   ]
  },
  {
   "cell_type": "code",
   "execution_count": 5,
   "metadata": {},
   "outputs": [],
   "source": [
    "def remove_quote_marks(word_list):\n",
    "    word_list = word_list.strip(\"[]\").split(\", \")\n",
    "    word_list = [w.replace(\"'\",\"\") for w in word_list]\n",
    "    word_list = \" \".join(word_list)\n",
    "    return word_list"
   ]
  },
  {
   "cell_type": "code",
   "execution_count": 6,
   "metadata": {},
   "outputs": [],
   "source": [
    "dfs = [train_data, val_data, test_data]\n",
    "for df in dfs:\n",
    "    cleaned_combined_text = []\n",
    "    for text in df['Combined_Text']:\n",
    "        cleaned_text = remove_quote_marks(text)\n",
    "        cleaned_combined_text.append(cleaned_text)\n",
    "    df['Combined_Text'] = cleaned_combined_text"
   ]
  },
  {
   "cell_type": "code",
   "execution_count": 7,
   "metadata": {},
   "outputs": [],
   "source": [
    "Xtrain = train_data['Combined_Text']; ytrain = train_data[targets]\n",
    "Xval = val_data['Combined_Text']; yval = val_data[targets]\n",
    "Xtest = test_data['Combined_Text']; ytest = test_data[targets]"
   ]
  },
  {
   "cell_type": "markdown",
   "metadata": {},
   "source": [
    "# Vectorize the data"
   ]
  },
  {
   "cell_type": "code",
   "execution_count": 8,
   "metadata": {
    "scrolled": true
   },
   "outputs": [],
   "source": [
    "from sentence_transformers import SentenceTransformer\n",
    "vec_model = SentenceTransformer('all-MiniLM-L6-v2')\n",
    "Xtrain_vec = vec_model.encode(Xtrain)\n",
    "Xval_vec = vec_model.encode(Xval)\n",
    "Xtest_vec = vec_model.encode(Xtest)"
   ]
  },
  {
   "cell_type": "code",
   "execution_count": 9,
   "metadata": {},
   "outputs": [
    {
     "data": {
      "text/plain": [
       "(2504, 384)"
      ]
     },
     "execution_count": 9,
     "metadata": {},
     "output_type": "execute_result"
    }
   ],
   "source": [
    "Xtest_vec.shape"
   ]
  },
  {
   "cell_type": "code",
   "execution_count": 10,
   "metadata": {},
   "outputs": [
    {
     "data": {
      "text/plain": [
       "(2504,)"
      ]
     },
     "execution_count": 10,
     "metadata": {},
     "output_type": "execute_result"
    }
   ],
   "source": [
    "Xtest.shape"
   ]
  },
  {
   "cell_type": "code",
   "execution_count": 11,
   "metadata": {
    "scrolled": true
   },
   "outputs": [
    {
     "data": {
      "text/plain": [
       "array([ 2.08430318e-03,  5.29891811e-02,  5.63805848e-02,  5.24846353e-02,\n",
       "       -1.98009294e-02, -5.37135340e-02, -2.94713005e-02,  3.00843758e-03,\n",
       "       -5.36048114e-02,  3.71615738e-02, -7.25085139e-02,  3.40168476e-02,\n",
       "       -2.22536419e-02,  2.83411741e-02, -2.35227887e-02,  6.15694299e-02,\n",
       "       -1.17620267e-01,  1.12996018e-02, -3.51913013e-02, -2.40760781e-02,\n",
       "       -1.79756782e-03,  7.55831748e-02, -5.51044494e-02,  5.87755553e-02,\n",
       "       -4.46466506e-02,  2.95554064e-02, -2.21362077e-02,  6.35944530e-02,\n",
       "        4.99554202e-02, -2.42515374e-02, -5.02032600e-03,  3.16083916e-02,\n",
       "       -6.29145056e-02,  7.50913890e-03,  7.35858306e-02,  3.09250131e-02,\n",
       "       -7.78815374e-02,  3.37398276e-02, -2.95815654e-02,  1.87330078e-02,\n",
       "        2.31621880e-02,  1.03461696e-02,  2.11322047e-02, -2.33576652e-02,\n",
       "        2.65683723e-03,  1.29131125e-02,  1.86523721e-02, -6.27204701e-02,\n",
       "        3.05400137e-03, -3.37219276e-02,  1.33483753e-01, -2.40058247e-02,\n",
       "       -2.51906421e-02, -4.39444780e-02, -1.06271636e-02, -4.97309081e-02,\n",
       "       -1.42324911e-02,  8.23995913e-04, -3.31145786e-02, -4.62822877e-02,\n",
       "       -7.17103062e-03, -7.63613805e-02, -6.72387853e-02, -4.80607338e-02,\n",
       "       -8.62815417e-03, -3.15124802e-02,  4.88145091e-02, -7.57788196e-02,\n",
       "        4.30273451e-02,  2.92592663e-02,  4.88664657e-02,  2.42073927e-02,\n",
       "       -1.04808351e-02, -7.27697313e-02, -2.85082869e-02, -1.65310614e-02,\n",
       "       -1.15277627e-02,  1.85072459e-02, -4.39558774e-02, -6.74263909e-02,\n",
       "        3.14448233e-04, -4.83881123e-02, -2.00697146e-02, -2.87526958e-02,\n",
       "       -1.34986099e-02,  3.83559838e-02,  7.01525668e-03,  8.57168622e-03,\n",
       "        1.00903206e-01,  9.56461057e-02,  1.54005149e-02,  2.36532073e-02,\n",
       "        1.64002571e-02,  1.15106776e-01, -4.11909670e-02, -4.64006513e-03,\n",
       "        6.18436113e-02, -4.62558083e-02,  3.06866504e-02, -3.56545746e-02,\n",
       "       -1.11673009e-02,  6.07820340e-02, -7.74833709e-02, -4.87452745e-03,\n",
       "        1.49760559e-01,  7.86600113e-02, -9.16749891e-03,  3.92603017e-02,\n",
       "       -9.78859141e-02,  3.72053646e-02,  1.13869151e-02,  1.03378752e-02,\n",
       "        4.94831502e-02, -4.02272167e-03, -1.74265895e-02,  3.65656465e-02,\n",
       "       -1.47575857e-02,  1.78181101e-02, -1.33176416e-01,  3.85666080e-02,\n",
       "       -7.00911283e-02,  1.53664602e-02, -4.45186347e-02, -1.14321709e-02,\n",
       "        2.86384393e-02, -1.04717147e-02,  5.51830158e-02,  3.11286847e-33,\n",
       "       -1.08811557e-02, -5.13342116e-03, -9.85986441e-02,  2.79446170e-02,\n",
       "        9.15343836e-02, -7.29463696e-02, -2.31522340e-02,  2.42708214e-02,\n",
       "       -7.78048635e-02,  2.25713104e-02, -6.76854774e-02, -7.49613857e-03,\n",
       "       -7.59417340e-02, -6.62006959e-02,  2.00724020e-03, -4.28132117e-02,\n",
       "        4.39742440e-03, -3.49177867e-02, -1.11875683e-01, -5.76096922e-02,\n",
       "       -4.22254503e-02,  6.37449138e-03,  4.63969931e-02, -1.82728935e-02,\n",
       "       -2.75393222e-02,  9.08286721e-02,  8.23188573e-02,  2.32912935e-02,\n",
       "        2.69498862e-02,  2.15010811e-02, -6.31593587e-03,  2.43021687e-03,\n",
       "        1.34510710e-03, -1.27706048e-03, -3.05065280e-03,  9.94008631e-02,\n",
       "       -1.55665874e-02, -4.29910645e-02, -2.99274968e-03,  6.25344887e-02,\n",
       "        1.74787268e-02, -3.34142148e-02, -4.95250635e-02, -3.69719433e-04,\n",
       "       -3.55922990e-02,  1.83073897e-02,  2.59823967e-02,  8.80916417e-02,\n",
       "       -5.58229163e-02,  1.23898070e-02, -3.45608480e-02,  2.70676035e-02,\n",
       "        2.08612960e-02,  1.39089359e-03, -6.67622164e-02,  2.70185526e-02,\n",
       "        2.79632956e-02, -3.02005578e-02,  2.93564312e-02,  1.16601296e-01,\n",
       "        3.53529751e-02,  6.83433786e-02,  4.78627011e-02,  2.46505029e-02,\n",
       "       -3.27479765e-02, -4.69128974e-02,  2.08778195e-02, -6.74908143e-03,\n",
       "       -3.56443487e-02, -5.99736981e-02,  5.26023470e-02,  6.96571842e-02,\n",
       "        4.00229637e-03,  9.79823153e-03,  6.63563563e-03, -2.73810700e-02,\n",
       "        1.03895515e-02,  3.80825996e-02,  3.93793248e-02, -7.06176227e-03,\n",
       "        1.56005947e-02, -5.74416183e-02, -2.85648350e-02, -7.34375194e-02,\n",
       "        4.81311530e-02, -6.51057856e-03,  2.91043031e-03, -3.71784121e-02,\n",
       "       -5.93525358e-02,  4.98611331e-02, -1.50260285e-01, -4.29891096e-03,\n",
       "        1.13715893e-02,  1.14687392e-02, -1.20858680e-02, -2.94943177e-33,\n",
       "       -3.77966054e-02,  3.41849811e-02,  1.43419188e-02,  6.54005557e-02,\n",
       "       -1.99184939e-02, -1.77238937e-02,  4.09887098e-02,  9.74217989e-03,\n",
       "       -5.74357882e-02,  8.10583606e-02, -1.00640528e-01,  6.75611570e-02,\n",
       "        6.86682910e-02, -2.14440245e-02, -1.67583507e-02, -1.13353677e-01,\n",
       "        1.15701780e-01, -4.10454161e-02, -1.10710189e-02, -3.43600698e-02,\n",
       "       -6.40740469e-02, -2.11614445e-02, -9.24584791e-02, -3.37473154e-02,\n",
       "       -6.07790425e-02,  3.62391248e-02, -5.69498017e-02, -4.40671593e-02,\n",
       "       -3.00548747e-02, -1.67739838e-02,  4.82981242e-02, -1.07863853e-02,\n",
       "        9.99375898e-03, -6.96848929e-02, -2.37882715e-02,  3.76398005e-02,\n",
       "        8.30032527e-02, -9.99439508e-04, -4.92167100e-03, -1.05407655e-01,\n",
       "        7.33151138e-02,  2.24641878e-02,  6.86527938e-02,  4.94345501e-02,\n",
       "        6.08903319e-02, -5.22346981e-02, -5.21471463e-02,  3.65736783e-02,\n",
       "        1.02739058e-01,  4.18874435e-02,  6.07543960e-02,  2.30338220e-02,\n",
       "        1.45692918e-02,  1.49115220e-01,  5.54545559e-02,  1.43790655e-02,\n",
       "        2.95463894e-02, -2.86818948e-02, -2.39198375e-02, -9.87585355e-03,\n",
       "        4.21090722e-02,  5.25814015e-03, -7.98488557e-02,  8.86593666e-03,\n",
       "        1.05719849e-01,  2.78503913e-03, -3.20841298e-02, -1.19730301e-01,\n",
       "       -3.69634596e-03,  4.12950665e-02, -1.91347618e-02, -5.96145215e-03,\n",
       "       -1.72253028e-02, -3.86939086e-02,  2.01474205e-02,  2.45857909e-02,\n",
       "       -5.13438210e-02,  6.41182140e-02,  6.28210977e-02,  4.19175671e-03,\n",
       "        4.57866527e-02, -1.44822299e-02,  2.08616797e-02,  1.05414443e-01,\n",
       "        2.03419793e-02, -2.46044807e-02, -3.85141820e-02, -4.19132337e-02,\n",
       "       -2.19933931e-02,  4.77623194e-02,  3.30188461e-02, -4.46598418e-02,\n",
       "       -1.14495829e-01,  5.27021550e-02, -6.95966706e-02, -1.86018863e-08,\n",
       "        2.94839451e-03,  2.94804526e-03, -4.50075492e-02,  5.18968962e-02,\n",
       "        7.84348398e-02, -6.42941743e-02,  1.24041587e-01,  8.00349638e-02,\n",
       "       -1.54170170e-02, -3.43156978e-02,  9.30194219e-04,  5.50674982e-02,\n",
       "        2.06357967e-02,  1.13526851e-01,  1.52827371e-02, -7.36761615e-02,\n",
       "       -1.79646574e-02, -3.22261304e-02, -3.55044603e-02, -4.76550274e-02,\n",
       "       -2.77820067e-03, -7.53326565e-02,  2.76412368e-02,  1.75950606e-03,\n",
       "        2.63161696e-02, -3.10544879e-03, -3.21909450e-02,  8.10773298e-02,\n",
       "       -1.60551332e-02, -7.35557750e-02,  1.62580889e-02, -8.30042213e-02,\n",
       "       -1.92205925e-02,  3.33503895e-02,  4.98932265e-02,  4.80933525e-02,\n",
       "       -3.90355056e-03,  4.05933522e-02,  1.10477857e-01,  5.76724336e-02,\n",
       "       -1.65078789e-02, -3.21178436e-02,  1.78444758e-01,  7.94559568e-02,\n",
       "        1.18735004e-02, -1.30359549e-02, -8.47104192e-02,  3.06554716e-02,\n",
       "        1.78217869e-02,  2.69877650e-02, -4.79016490e-02, -7.05472156e-02,\n",
       "        8.17286689e-03,  6.87584132e-02,  2.32856628e-02, -4.38511930e-02,\n",
       "        3.62598747e-02, -1.60287302e-02,  1.96631048e-02,  2.27314085e-02,\n",
       "        2.69666314e-02, -9.83932763e-02, -8.31165388e-02,  3.64611000e-02],\n",
       "      dtype=float32)"
      ]
     },
     "execution_count": 11,
     "metadata": {},
     "output_type": "execute_result"
    }
   ],
   "source": [
    "Xtest_vec[0]"
   ]
  },
  {
   "cell_type": "code",
   "execution_count": 12,
   "metadata": {},
   "outputs": [],
   "source": [
    "Xtest = test_data[predictors]"
   ]
  },
  {
   "cell_type": "code",
   "execution_count": 16,
   "metadata": {},
   "outputs": [
    {
     "name": "stderr",
     "output_type": "stream",
     "text": [
      "<ipython-input-16-6e9782489f05>:1: SettingWithCopyWarning: \n",
      "A value is trying to be set on a copy of a slice from a DataFrame.\n",
      "Try using .loc[row_indexer,col_indexer] = value instead\n",
      "\n",
      "See the caveats in the documentation: https://pandas.pydata.org/pandas-docs/stable/user_guide/indexing.html#returning-a-view-versus-a-copy\n",
      "  Xtest['Combined_Text'] = [a for a in Xtest_vec]\n"
     ]
    }
   ],
   "source": [
    "Xtest['Combined_Text'] = [a for a in Xtest_vec]"
   ]
  },
  {
   "cell_type": "code",
   "execution_count": 17,
   "metadata": {},
   "outputs": [
    {
     "data": {
      "text/plain": [
       "0       [0.0020843032, 0.05298918, 0.056380585, 0.0524...\n",
       "1       [-0.014200934, -0.019812403, 0.034033157, 0.01...\n",
       "2       [-0.08205955, 0.044193313, -0.05975568, 0.0192...\n",
       "3       [-0.022130225, 0.07685305, 0.11996939, 0.05023...\n",
       "4       [0.01735855, 0.015201129, 0.14353183, 0.004974...\n",
       "                              ...                        \n",
       "2499    [0.023895172, 0.032366198, 0.08411811, 0.05927...\n",
       "2500    [0.032280732, 0.03709234, 0.04344326, 0.068825...\n",
       "2501    [-0.073423855, 0.06858109, -0.032805484, 0.028...\n",
       "2502    [-0.104871266, 0.014583408, 0.037773974, 0.043...\n",
       "2503    [0.022372281, 0.13807611, -0.0038996136, -0.00...\n",
       "Name: Combined_Text, Length: 2504, dtype: object"
      ]
     },
     "execution_count": 17,
     "metadata": {},
     "output_type": "execute_result"
    }
   ],
   "source": [
    "Xtest['Combined_Text']"
   ]
  },
  {
   "cell_type": "code",
   "execution_count": 19,
   "metadata": {},
   "outputs": [],
   "source": [
    "import pickle"
   ]
  },
  {
   "cell_type": "code",
   "execution_count": 32,
   "metadata": {},
   "outputs": [],
   "source": [
    "filename = os.path.join(os.path.dirname(os.getcwd()),'models','sbert_model.sav')\n",
    "pickle.dump(vec_model, open(filename, 'wb'))"
   ]
  },
  {
   "cell_type": "code",
   "execution_count": 21,
   "metadata": {},
   "outputs": [],
   "source": [
    "loaded_model = pickle.load(open(filename, 'rb'))"
   ]
  },
  {
   "cell_type": "code",
   "execution_count": 33,
   "metadata": {},
   "outputs": [],
   "source": [
    "clf = MLPClassifier(random_state=1)\n",
    "classifier = ClassifierChain(clf)\n",
    "classifier.fit(Xtrain_vec, ytrain[targets])\n",
    "filename = os.path.join(os.path.dirname(os.getcwd()),'models','sbert_likelihood_model1.sav')\n",
    "pickle.dump(classifier, open(filename, 'wb'))"
   ]
  },
  {
   "cell_type": "code",
   "execution_count": 23,
   "metadata": {},
   "outputs": [],
   "source": [
    "training_probs = classifier.predict_proba(Xtrain_vec)"
   ]
  },
  {
   "cell_type": "code",
   "execution_count": 24,
   "metadata": {},
   "outputs": [
    {
     "data": {
      "text/plain": [
       "(18579, 17)"
      ]
     },
     "execution_count": 24,
     "metadata": {},
     "output_type": "execute_result"
    }
   ],
   "source": [
    "training_probs.shape"
   ]
  },
  {
   "cell_type": "code",
   "execution_count": 25,
   "metadata": {},
   "outputs": [],
   "source": [
    "probs_df = pd.DataFrame(training_probs, columns=targets)"
   ]
  },
  {
   "cell_type": "code",
   "execution_count": 28,
   "metadata": {},
   "outputs": [],
   "source": [
    "Xtrain_meta = train_data[predictors].drop([\"Combined_Text\"],axis=1)"
   ]
  },
  {
   "cell_type": "code",
   "execution_count": 29,
   "metadata": {},
   "outputs": [],
   "source": [
    "Xtrain_combined = pd.concat([Xtrain_meta, probs_df], axis=1)"
   ]
  },
  {
   "cell_type": "code",
   "execution_count": 30,
   "metadata": {},
   "outputs": [],
   "source": [
    "classifier_meta = ClassifierChain(LogisticRegression(max_iter=10000,multi_class='ovr'))\n",
    "classifier_meta.fit(Xtrain_combined, ytrain[targets])\n",
    "# predict\n",
    "Xtest_combined = pd.concat([Xtest.drop([\"Combined_Text\"],axis=1), pd.DataFrame(classifier.predict_proba(Xtest_vec), columns=targets)], axis=1)\n",
    "predictions = classifier_meta.predict(Xtest_combined)"
   ]
  },
  {
   "cell_type": "code",
   "execution_count": 31,
   "metadata": {},
   "outputs": [],
   "source": [
    "filename = os.path.join(os.path.dirname(os.getcwd()),'models','sbert_likelihood_model_2test.sav')\n",
    "pickle.dump(classifier_meta, open(filename, 'wb'))"
   ]
  },
  {
   "cell_type": "code",
   "execution_count": null,
   "metadata": {},
   "outputs": [],
   "source": []
  }
 ],
 "metadata": {
  "kernelspec": {
   "display_name": "Python 3",
   "language": "python",
   "name": "python3"
  },
  "language_info": {
   "codemirror_mode": {
    "name": "ipython",
    "version": 3
   },
   "file_extension": ".py",
   "mimetype": "text/x-python",
   "name": "python",
   "nbconvert_exporter": "python",
   "pygments_lexer": "ipython3",
   "version": "3.8.5"
  }
 },
 "nbformat": 4,
 "nbformat_minor": 4
}
