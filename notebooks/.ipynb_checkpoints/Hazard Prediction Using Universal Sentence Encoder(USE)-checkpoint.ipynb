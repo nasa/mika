{
 "cells": [
  {
   "cell_type": "code",
   "execution_count": 1,
   "id": "27549102",
   "metadata": {},
   "outputs": [],
   "source": [
    "import pandas as pd\n",
    "import numpy as np\n",
    "%matplotlib inline\n",
    "import matplotlib.style\n",
    "matplotlib.style.use(\"seaborn\")\n",
    "import matplotlib.pyplot as plt\n",
    "import matplotlib.cm as cm\n",
    "\n",
    "from tqdm.notebook import tqdm\n",
    "import tensorflow as tf\n",
    "\n",
    "import seaborn as sns\n",
    "sns.color_palette(\"hls\", 17)\n",
    "import scipy.stats as st\n",
    "import math\n",
    "\n",
    "from pingouin import rcorr\n",
    "import pingouin as pg\n",
    "from xgboost import XGBClassifier\n",
    "from sklearn.multiclass import OneVsRestClassifier\n",
    "from sklearn.pipeline import Pipeline\n",
    "from sklearn.multioutput import MultiOutputClassifier, ClassifierChain\n",
    "from sklearn.linear_model import LogisticRegression, RidgeClassifierCV, RidgeClassifier\n",
    "from sklearn.svm import SVC, LinearSVC\n",
    "from sklearn.gaussian_process import GaussianProcessClassifier\n",
    "from sklearn.gaussian_process.kernels import RBF\n",
    "from sklearn.tree import DecisionTreeClassifier\n",
    "from sklearn.ensemble import RandomForestClassifier, AdaBoostClassifier\n",
    "from sklearn.naive_bayes import GaussianNB\n",
    "from sklearn.discriminant_analysis import QuadraticDiscriminantAnalysis\n",
    "from sklearn.neighbors import KNeighborsClassifier\n",
    "from sklearn.neural_network import MLPClassifier\n",
    "#from sklearn.model_selection import KFold, StratifiedKFold, train_test_split, cross_validate, cross_val_score, learning_curve\n",
    "from sklearn.metrics import accuracy_score, classification_report, confusion_matrix, f1_score, precision_score, recall_score, plot_roc_curve, roc_curve, auc, roc_auc_score,precision_recall_curve, hamming_loss, multilabel_confusion_matrix\n",
    "\n",
    "\n",
    "from sklearn import feature_selection #import chi2\n",
    "\n",
    "## for deep learning\n",
    "from tensorflow.keras import models, layers, preprocessing as kprocessing\n",
    "from tensorflow.keras import backend as K"
   ]
  },
  {
   "cell_type": "code",
   "execution_count": 2,
   "id": "6ac8bdd7",
   "metadata": {},
   "outputs": [],
   "source": [
    "import sys\n",
    "import os\n",
    "sys.path.append('../')\n",
    "from module.trend_analysis_functions import *\n",
    "from module.topic_model_plus_class import Topic_Model_plus"
   ]
  },
  {
   "cell_type": "code",
   "execution_count": 3,
   "id": "a8eeb422",
   "metadata": {},
   "outputs": [],
   "source": [
    "test_data = pd.read_csv(os.path.join(os.path.dirname(os.getcwd()),'data','ICS_predictive_sitreps_full_test.csv')).drop([\"Unnamed: 0\"], axis=1)\n",
    "train_data = pd.read_csv(os.path.join(os.path.dirname(os.getcwd()),'data','ICS_predictive_sitreps_full_train.csv')).drop([\"Unnamed: 0\"], axis=1)\n",
    "val_data = pd.read_csv(os.path.join(os.path.dirname(os.getcwd()),'data','ICS_predictive_sitreps_full_val.csv')).drop([\"Unnamed: 0\"], axis=1)"
   ]
  },
  {
   "cell_type": "code",
   "execution_count": 4,
   "id": "c2d8ad69",
   "metadata": {},
   "outputs": [],
   "source": [
    "predictors = [\"TOTAL_PERSONNEL\", \"TOTAL_AERIAL\", \"PCT_CONTAINED_COMPLETED\",\n",
    "              \"ACRES\",  \"WF_FSR\", \"INJURIES\", \"FATALITIES\", \"EST_IM_COST_TO_DATE\", \"STR_DAMAGED\",\n",
    "              \"STR_DESTROYED\", \"NEW_ACRES\", \"EVACUATION_IN_PROGRESS\", \n",
    "              \"NUM_REPORTS\", \"DAYS_BURING\", #'Combined_Text', \n",
    "              'Incident_region_AICC', \n",
    "              'Incident_region_CA', 'Incident_region_EACC','Incident_region_GBCC', 'Incident_region_HICC', \n",
    "              'Incident_region_NRCC','Incident_region_NWCC', 'Incident_region_RMCC', 'Incident_region_SACC',\n",
    "              'Incident_region_SWCC', 'INC_MGMT_ORG_ABBREV_1', 'INC_MGMT_ORG_ABBREV_2','INC_MGMT_ORG_ABBREV_3', \n",
    "              'INC_MGMT_ORG_ABBREV_4','INC_MGMT_ORG_ABBREV_5', 'INC_MGMT_ORG_ABBREV_B','INC_MGMT_ORG_ABBREV_C', \n",
    "              'INC_MGMT_ORG_ABBREV_D','INC_MGMT_ORG_ABBREV_E', 'INC_MGMT_ORG_ABBREV_F']\n",
    "targets = [\"Traffic\",\"Command_Transitions\",\"Evacuations\", \"Inaccurate_Mapping\", \"Aerial_Grounding\", \n",
    "           \"Resource_Issues\", \"Injuries\", \"Cultural_Resources\",\"Livestock\", \"Law_Violations\", \"Military_Base\", \n",
    "           \"Infrastructure\", \"Extreme_Weather\", \"Ecological\", \"Hazardous_Terrain\", \"Floods\", \"Dry_Weather\"]"
   ]
  },
  {
   "cell_type": "markdown",
   "id": "e8fc03ee",
   "metadata": {},
   "source": [
    "# Prepare the Data"
   ]
  },
  {
   "cell_type": "code",
   "execution_count": 5,
   "id": "67c66a80",
   "metadata": {},
   "outputs": [],
   "source": [
    "def remove_quote_marks(word_list):\n",
    "    word_list = word_list.strip(\"[]\").split(\", \")\n",
    "    word_list = [w.replace(\"'\",\"\") for w in word_list]\n",
    "    word_list = \" \".join(word_list)\n",
    "    return word_list"
   ]
  },
  {
   "cell_type": "code",
   "execution_count": 6,
   "id": "f32de368",
   "metadata": {},
   "outputs": [],
   "source": [
    "dfs = [train_data, val_data, test_data]\n",
    "for df in dfs:\n",
    "    cleaned_combined_text = []\n",
    "    for text in df['Combined_Text']:\n",
    "        cleaned_text = remove_quote_marks(text)\n",
    "        cleaned_combined_text.append(cleaned_text)\n",
    "    df['Combined_Text'] = cleaned_combined_text"
   ]
  },
  {
   "cell_type": "code",
   "execution_count": 7,
   "id": "251bff48",
   "metadata": {},
   "outputs": [],
   "source": [
    "Xtrain = train_data['Raw_Combined_Text']; ytrain = train_data[targets]\n",
    "Xval = val_data['Raw_Combined_Text']; yval = val_data[targets]\n",
    "Xtest = test_data['Raw_Combined_Text']; ytest = test_data[targets]"
   ]
  },
  {
   "cell_type": "markdown",
   "id": "f3ba9be9",
   "metadata": {},
   "source": [
    "# Vectorize the data"
   ]
  },
  {
   "cell_type": "code",
   "execution_count": 8,
   "id": "b41472c1",
   "metadata": {
    "scrolled": true
   },
   "outputs": [],
   "source": [
    "import tensorflow_hub as hub\n",
    "\n",
    "embed = hub.load(\"https://tfhub.dev/google/universal-sentence-encoder/4\")\n",
    "\n",
    "Xtrain_vec = embed(Xtrain)\n",
    "Xval_vec = embed(Xval)\n",
    "Xtest_vec = embed(Xtest)"
   ]
  },
  {
   "cell_type": "code",
   "execution_count": 9,
   "id": "a657a868",
   "metadata": {},
   "outputs": [
    {
     "data": {
      "text/plain": [
       "TensorShape([4710, 512])"
      ]
     },
     "execution_count": 9,
     "metadata": {},
     "output_type": "execute_result"
    }
   ],
   "source": [
    "Xtest_vec.shape"
   ]
  },
  {
   "cell_type": "code",
   "execution_count": 10,
   "id": "e01b8ff1",
   "metadata": {},
   "outputs": [
    {
     "data": {
      "text/plain": [
       "(4710,)"
      ]
     },
     "execution_count": 10,
     "metadata": {},
     "output_type": "execute_result"
    }
   ],
   "source": [
    "Xtest.shape"
   ]
  },
  {
   "cell_type": "markdown",
   "id": "b12ae696",
   "metadata": {},
   "source": [
    "### Method: classifier chain\n",
    "Note: classifier chains tend to perform worse on larget sets of targets. Also the performance is highly dependent on the order of the chain, so all orderings would ideally be tested."
   ]
  },
  {
   "cell_type": "code",
   "execution_count": 11,
   "id": "bad6ae6a",
   "metadata": {},
   "outputs": [
    {
     "name": "stderr",
     "output_type": "stream",
     "text": [
      "C:\\Users\\srandrad\\Anaconda3\\lib\\site-packages\\sklearn\\neural_network\\_multilayer_perceptron.py:692: ConvergenceWarning: Stochastic Optimizer: Maximum iterations (200) reached and the optimization hasn't converged yet.\n",
      "  warnings.warn(\n",
      "C:\\Users\\srandrad\\Anaconda3\\lib\\site-packages\\sklearn\\neural_network\\_multilayer_perceptron.py:692: ConvergenceWarning: Stochastic Optimizer: Maximum iterations (200) reached and the optimization hasn't converged yet.\n",
      "  warnings.warn(\n",
      "C:\\Users\\srandrad\\Anaconda3\\lib\\site-packages\\sklearn\\neural_network\\_multilayer_perceptron.py:692: ConvergenceWarning: Stochastic Optimizer: Maximum iterations (200) reached and the optimization hasn't converged yet.\n",
      "  warnings.warn(\n"
     ]
    }
   ],
   "source": [
    "classifiers = [LogisticRegression(max_iter=10000,multi_class='ovr'), RandomForestClassifier(random_state=1),\n",
    "              KNeighborsClassifier(weights='distance'), MLPClassifier(random_state=1), RidgeClassifier()]\n",
    "classifier_names = ['logistic regression', 'random forest', 'knn', 'MLP NN', 'Ridge']\n",
    "test_hamming_loss = []; train_hamming_loss = []\n",
    "test_acc = []; train_acc = []\n",
    "test_f1 = []; train_f1 = []\n",
    "test_precision = []; train_precision = []\n",
    "test_recall = []; train_recall = []\n",
    "for clf in tqdm(classifiers):\n",
    "    classifier = ClassifierChain(clf)\n",
    "    classifier.fit(Xtrain_vec, ytrain[targets])\n",
    "    # predict\n",
    "    train_preds = classifier.predict(Xtrain_vec)\n",
    "    predictions = classifier.predict(Xtest_vec)\n",
    "    test_acc.append(round(accuracy_score(ytest,predictions),3)); train_acc.append(round(accuracy_score(ytrain,train_preds),3))\n",
    "    test_f1.append(round(f1_score(ytest,predictions, average='macro',zero_division=0),3))\n",
    "    train_f1.append(round(f1_score(ytrain,train_preds, average='macro',zero_division=0),3))\n",
    "    test_precision.append(round(precision_score(ytest,predictions, average='macro', zero_division=0),3))\n",
    "    train_precision.append(round(precision_score(ytrain,train_preds, average='macro', zero_division=0),3))\n",
    "    test_recall.append(round(recall_score(ytest,predictions, average='macro', zero_division=0),3))\n",
    "    train_recall.append(round(recall_score(ytrain,train_preds, average='macro', zero_division=0),3))\n",
    "    test_hamming_loss.append(round(hamming_loss(ytest,predictions),3))\n",
    "    train_hamming_loss.append(round(hamming_loss(ytrain,train_preds),3))\n",
    "    \n",
    "comparison = pd.DataFrame({\"Base Estimator\": classifier_names,\n",
    "                           \"train f1\": train_f1, \"test f1\": test_f1,\n",
    "                          \"train accuracy\":train_acc, \"test accuracy\": test_acc,\n",
    "                          \"train recall\": train_recall, \"test recall\": test_recall,\n",
    "                          \"train precision\": train_precision, \"test precision\": test_precision,\n",
    "                          \"train hamming loss\": train_hamming_loss, \"test hamming loss\": test_hamming_loss})\n",
    "                    "
   ]
  },
  {
   "cell_type": "code",
   "execution_count": 12,
   "id": "6b03badd",
   "metadata": {},
   "outputs": [
    {
     "data": {
      "text/html": [
       "<div>\n",
       "<style scoped>\n",
       "    .dataframe tbody tr th:only-of-type {\n",
       "        vertical-align: middle;\n",
       "    }\n",
       "\n",
       "    .dataframe tbody tr th {\n",
       "        vertical-align: top;\n",
       "    }\n",
       "\n",
       "    .dataframe thead th {\n",
       "        text-align: right;\n",
       "    }\n",
       "</style>\n",
       "<table border=\"1\" class=\"dataframe\">\n",
       "  <thead>\n",
       "    <tr style=\"text-align: right;\">\n",
       "      <th></th>\n",
       "      <th>Base Estimator</th>\n",
       "      <th>train f1</th>\n",
       "      <th>test f1</th>\n",
       "      <th>train accuracy</th>\n",
       "      <th>test accuracy</th>\n",
       "      <th>train recall</th>\n",
       "      <th>test recall</th>\n",
       "      <th>train precision</th>\n",
       "      <th>test precision</th>\n",
       "      <th>train hamming loss</th>\n",
       "      <th>test hamming loss</th>\n",
       "    </tr>\n",
       "  </thead>\n",
       "  <tbody>\n",
       "    <tr>\n",
       "      <th>0</th>\n",
       "      <td>logistic regression</td>\n",
       "      <td>0.335</td>\n",
       "      <td>0.164</td>\n",
       "      <td>0.424</td>\n",
       "      <td>0.405</td>\n",
       "      <td>0.243</td>\n",
       "      <td>0.122</td>\n",
       "      <td>0.642</td>\n",
       "      <td>0.272</td>\n",
       "      <td>0.098</td>\n",
       "      <td>0.105</td>\n",
       "    </tr>\n",
       "    <tr>\n",
       "      <th>1</th>\n",
       "      <td>random forest</td>\n",
       "      <td>1.000</td>\n",
       "      <td>0.101</td>\n",
       "      <td>1.000</td>\n",
       "      <td>0.413</td>\n",
       "      <td>1.000</td>\n",
       "      <td>0.067</td>\n",
       "      <td>1.000</td>\n",
       "      <td>0.294</td>\n",
       "      <td>0.000</td>\n",
       "      <td>0.100</td>\n",
       "    </tr>\n",
       "    <tr>\n",
       "      <th>2</th>\n",
       "      <td>knn</td>\n",
       "      <td>1.000</td>\n",
       "      <td>0.228</td>\n",
       "      <td>1.000</td>\n",
       "      <td>0.345</td>\n",
       "      <td>1.000</td>\n",
       "      <td>0.252</td>\n",
       "      <td>1.000</td>\n",
       "      <td>0.221</td>\n",
       "      <td>0.000</td>\n",
       "      <td>0.143</td>\n",
       "    </tr>\n",
       "    <tr>\n",
       "      <th>3</th>\n",
       "      <td>MLP NN</td>\n",
       "      <td>0.995</td>\n",
       "      <td>0.201</td>\n",
       "      <td>0.997</td>\n",
       "      <td>0.347</td>\n",
       "      <td>0.996</td>\n",
       "      <td>0.170</td>\n",
       "      <td>0.994</td>\n",
       "      <td>0.263</td>\n",
       "      <td>0.000</td>\n",
       "      <td>0.115</td>\n",
       "    </tr>\n",
       "    <tr>\n",
       "      <th>4</th>\n",
       "      <td>Ridge</td>\n",
       "      <td>0.199</td>\n",
       "      <td>0.131</td>\n",
       "      <td>0.422</td>\n",
       "      <td>0.410</td>\n",
       "      <td>0.141</td>\n",
       "      <td>0.091</td>\n",
       "      <td>0.628</td>\n",
       "      <td>0.276</td>\n",
       "      <td>0.099</td>\n",
       "      <td>0.101</td>\n",
       "    </tr>\n",
       "  </tbody>\n",
       "</table>\n",
       "</div>"
      ],
      "text/plain": [
       "        Base Estimator  train f1  test f1  train accuracy  test accuracy  \\\n",
       "0  logistic regression     0.335    0.164           0.424          0.405   \n",
       "1        random forest     1.000    0.101           1.000          0.413   \n",
       "2                  knn     1.000    0.228           1.000          0.345   \n",
       "3               MLP NN     0.995    0.201           0.997          0.347   \n",
       "4                Ridge     0.199    0.131           0.422          0.410   \n",
       "\n",
       "   train recall  test recall  train precision  test precision  \\\n",
       "0         0.243        0.122            0.642           0.272   \n",
       "1         1.000        0.067            1.000           0.294   \n",
       "2         1.000        0.252            1.000           0.221   \n",
       "3         0.996        0.170            0.994           0.263   \n",
       "4         0.141        0.091            0.628           0.276   \n",
       "\n",
       "   train hamming loss  test hamming loss  \n",
       "0               0.098              0.105  \n",
       "1               0.000              0.100  \n",
       "2               0.000              0.143  \n",
       "3               0.000              0.115  \n",
       "4               0.099              0.101  "
      ]
     },
     "execution_count": 12,
     "metadata": {},
     "output_type": "execute_result"
    }
   ],
   "source": [
    "comparison"
   ]
  },
  {
   "cell_type": "markdown",
   "id": "960c9789",
   "metadata": {},
   "source": [
    "### Method: multioutput classifier"
   ]
  },
  {
   "cell_type": "markdown",
   "id": "d9a26cd1",
   "metadata": {},
   "source": [
    "### Power set label \n",
    "problem transformation to multiclass"
   ]
  },
  {
   "cell_type": "code",
   "execution_count": 11,
   "id": "2f7cb65b",
   "metadata": {},
   "outputs": [
    {
     "name": "stderr",
     "output_type": "stream",
     "text": [
      "C:\\Users\\srandrad\\AppData\\Local\\Temp\\2/ipykernel_5656/443457025.py:1: SettingWithCopyWarning: \n",
      "A value is trying to be set on a copy of a slice from a DataFrame.\n",
      "Try using .loc[row_indexer,col_indexer] = value instead\n",
      "\n",
      "See the caveats in the documentation: https://pandas.pydata.org/pandas-docs/stable/user_guide/indexing.html#returning-a-view-versus-a-copy\n",
      "  ytrain['powerlabel'] = ytrain.apply(lambda x : sum([(2**i)*x[targets[i]] for i in range(len(targets))]),axis=1)\n",
      "C:\\Users\\srandrad\\AppData\\Local\\Temp\\2/ipykernel_5656/443457025.py:2: SettingWithCopyWarning: \n",
      "A value is trying to be set on a copy of a slice from a DataFrame.\n",
      "Try using .loc[row_indexer,col_indexer] = value instead\n",
      "\n",
      "See the caveats in the documentation: https://pandas.pydata.org/pandas-docs/stable/user_guide/indexing.html#returning-a-view-versus-a-copy\n",
      "  yval['powerlabel'] = yval.apply(lambda x : sum([(2**i)*x[targets[i]] for i in range(len(targets))]),axis=1)\n",
      "C:\\Users\\srandrad\\AppData\\Local\\Temp\\2/ipykernel_5656/443457025.py:3: SettingWithCopyWarning: \n",
      "A value is trying to be set on a copy of a slice from a DataFrame.\n",
      "Try using .loc[row_indexer,col_indexer] = value instead\n",
      "\n",
      "See the caveats in the documentation: https://pandas.pydata.org/pandas-docs/stable/user_guide/indexing.html#returning-a-view-versus-a-copy\n",
      "  ytest['powerlabel'] = ytest.apply(lambda x : sum([(2**i)*x[targets[i]] for i in range(len(targets))]),axis=1)\n"
     ]
    }
   ],
   "source": [
    "ytrain['powerlabel'] = ytrain.apply(lambda x : sum([(2**i)*x[targets[i]] for i in range(len(targets))]),axis=1)\n",
    "yval['powerlabel'] = yval.apply(lambda x : sum([(2**i)*x[targets[i]] for i in range(len(targets))]),axis=1)\n",
    "ytest['powerlabel'] = ytest.apply(lambda x : sum([(2**i)*x[targets[i]] for i in range(len(targets))]),axis=1)\n",
    "#ytrain['powerlabel'].hist(bins=np.unique(ytrain['powerlabel']))"
   ]
  },
  {
   "cell_type": "code",
   "execution_count": 12,
   "id": "f4059df1",
   "metadata": {},
   "outputs": [],
   "source": [
    "test_hamming_loss = []; train_hamming_loss = []\n",
    "test_acc = []; train_acc = []\n",
    "test_f1 = []; train_f1 = []\n",
    "test_precision = []; train_precision = []\n",
    "test_recall = []; train_recall = []"
   ]
  },
  {
   "cell_type": "code",
   "execution_count": 13,
   "id": "1616ab8e",
   "metadata": {},
   "outputs": [],
   "source": [
    "classifiers = [KNeighborsClassifier(weights='distance'),#SVC(kernel=\"linear\", C=0.025),SVC(gamma=2, C=1),\n",
    "               LinearSVC(multi_class='crammer_singer',max_iter=100000, class_weight='balanced'), DecisionTreeClassifier(),\n",
    "               RandomForestClassifier(random_state=1, n_estimators=200),LogisticRegression(max_iter=10000,multi_class='multinomial'),\n",
    "               MLPClassifier(alpha=1, max_iter=1000), RidgeClassifier(), AdaBoostClassifier()]\n",
    "               #GaussianNB(), QuadraticDiscriminantAnalysis()]\n",
    "total_names = ['Knn', #\"Linear SVM\", \"RBF SVM\",\n",
    "                \"Linear SVM\", \"Decision Tree\", \"Random Forest\", \n",
    "                   \"Logisitc Regression\", 'MLP NN', 'Ridge', 'Adaboost']#, 'Gaussian NB', 'QDA']"
   ]
  },
  {
   "cell_type": "code",
   "execution_count": 14,
   "id": "7c37b7d8",
   "metadata": {},
   "outputs": [
    {
     "name": "stderr",
     "output_type": "stream",
     "text": [
      " 12%|██████████▌                                                                         | 1/8 [00:37<04:23, 37.62s/it]C:\\Users\\srandrad\\Anaconda3\\lib\\site-packages\\sklearn\\svm\\_base.py:1206: ConvergenceWarning: Liblinear failed to converge, increase the number of iterations.\n",
      "  warnings.warn(\n",
      "100%|████████████████████████████████████████████████████████████████████████████████| 8/8 [2:52:14<00:00, 1291.85s/it]\n"
     ]
    }
   ],
   "source": [
    "for clf in tqdm(classifiers):\n",
    "    classifier = clf#, n_jobs=-1)\n",
    "    classifier.fit(Xtrain_vec, ytrain['powerlabel'])\n",
    "    predictions = classifier.predict(Xtest_vec)\n",
    "    train_preds = classifier.predict(Xtrain_vec)\n",
    "    test_acc.append(round(accuracy_score(ytest['powerlabel'],predictions),3)); train_acc.append(round(accuracy_score(ytrain['powerlabel'],train_preds),3))\n",
    "    test_f1.append(round(f1_score(ytest['powerlabel'],predictions, average='macro',zero_division=0),3))\n",
    "    train_f1.append(round(f1_score(ytrain['powerlabel'],train_preds, average='macro',zero_division=0),3))\n",
    "    test_precision.append(round(precision_score(ytest['powerlabel'],predictions, average='macro', zero_division=0),3))\n",
    "    train_precision.append(round(precision_score(ytrain['powerlabel'],train_preds, average='macro', zero_division=0),3))\n",
    "    test_recall.append(round(recall_score(ytest['powerlabel'],predictions, average='macro', zero_division=0),3))\n",
    "    train_recall.append(round(recall_score(ytrain['powerlabel'],train_preds, average='macro', zero_division=0),3))\n",
    "    test_hamming_loss.append(round(hamming_loss(ytest['powerlabel'],predictions),3))\n",
    "    train_hamming_loss.append(round(hamming_loss(ytrain['powerlabel'],train_preds),3))"
   ]
  },
  {
   "cell_type": "code",
   "execution_count": 15,
   "id": "c9fa3977",
   "metadata": {},
   "outputs": [
    {
     "data": {
      "text/html": [
       "<div>\n",
       "<style scoped>\n",
       "    .dataframe tbody tr th:only-of-type {\n",
       "        vertical-align: middle;\n",
       "    }\n",
       "\n",
       "    .dataframe tbody tr th {\n",
       "        vertical-align: top;\n",
       "    }\n",
       "\n",
       "    .dataframe thead th {\n",
       "        text-align: right;\n",
       "    }\n",
       "</style>\n",
       "<table border=\"1\" class=\"dataframe\">\n",
       "  <thead>\n",
       "    <tr style=\"text-align: right;\">\n",
       "      <th></th>\n",
       "      <th>Model</th>\n",
       "      <th>train f1</th>\n",
       "      <th>test f1</th>\n",
       "      <th>train accuracy</th>\n",
       "      <th>test accuracy</th>\n",
       "      <th>train recall</th>\n",
       "      <th>test recall</th>\n",
       "      <th>train precision</th>\n",
       "      <th>test precision</th>\n",
       "      <th>train hamming loss</th>\n",
       "      <th>test hamming loss</th>\n",
       "    </tr>\n",
       "  </thead>\n",
       "  <tbody>\n",
       "    <tr>\n",
       "      <th>0</th>\n",
       "      <td>Knn</td>\n",
       "      <td>1.000</td>\n",
       "      <td>0.003</td>\n",
       "      <td>1.000</td>\n",
       "      <td>0.323</td>\n",
       "      <td>1.000</td>\n",
       "      <td>0.003</td>\n",
       "      <td>1.000</td>\n",
       "      <td>0.004</td>\n",
       "      <td>0.000</td>\n",
       "      <td>0.677</td>\n",
       "    </tr>\n",
       "    <tr>\n",
       "      <th>1</th>\n",
       "      <td>Linear SVM</td>\n",
       "      <td>0.448</td>\n",
       "      <td>0.001</td>\n",
       "      <td>0.269</td>\n",
       "      <td>0.001</td>\n",
       "      <td>0.931</td>\n",
       "      <td>0.002</td>\n",
       "      <td>0.348</td>\n",
       "      <td>0.002</td>\n",
       "      <td>0.731</td>\n",
       "      <td>0.999</td>\n",
       "    </tr>\n",
       "    <tr>\n",
       "      <th>2</th>\n",
       "      <td>Decision Tree</td>\n",
       "      <td>1.000</td>\n",
       "      <td>0.001</td>\n",
       "      <td>1.000</td>\n",
       "      <td>0.257</td>\n",
       "      <td>0.999</td>\n",
       "      <td>0.001</td>\n",
       "      <td>1.000</td>\n",
       "      <td>0.001</td>\n",
       "      <td>0.000</td>\n",
       "      <td>0.743</td>\n",
       "    </tr>\n",
       "    <tr>\n",
       "      <th>3</th>\n",
       "      <td>Random Forest</td>\n",
       "      <td>1.000</td>\n",
       "      <td>0.003</td>\n",
       "      <td>1.000</td>\n",
       "      <td>0.413</td>\n",
       "      <td>1.000</td>\n",
       "      <td>0.004</td>\n",
       "      <td>1.000</td>\n",
       "      <td>0.002</td>\n",
       "      <td>0.000</td>\n",
       "      <td>0.587</td>\n",
       "    </tr>\n",
       "    <tr>\n",
       "      <th>4</th>\n",
       "      <td>Logisitc Regression</td>\n",
       "      <td>0.043</td>\n",
       "      <td>0.004</td>\n",
       "      <td>0.479</td>\n",
       "      <td>0.413</td>\n",
       "      <td>0.038</td>\n",
       "      <td>0.005</td>\n",
       "      <td>0.082</td>\n",
       "      <td>0.005</td>\n",
       "      <td>0.521</td>\n",
       "      <td>0.587</td>\n",
       "    </tr>\n",
       "    <tr>\n",
       "      <th>5</th>\n",
       "      <td>MLP NN</td>\n",
       "      <td>0.001</td>\n",
       "      <td>0.002</td>\n",
       "      <td>0.412</td>\n",
       "      <td>0.411</td>\n",
       "      <td>0.001</td>\n",
       "      <td>0.004</td>\n",
       "      <td>0.000</td>\n",
       "      <td>0.002</td>\n",
       "      <td>0.588</td>\n",
       "      <td>0.589</td>\n",
       "    </tr>\n",
       "    <tr>\n",
       "      <th>6</th>\n",
       "      <td>Ridge</td>\n",
       "      <td>0.058</td>\n",
       "      <td>0.003</td>\n",
       "      <td>0.469</td>\n",
       "      <td>0.415</td>\n",
       "      <td>0.048</td>\n",
       "      <td>0.004</td>\n",
       "      <td>0.124</td>\n",
       "      <td>0.002</td>\n",
       "      <td>0.531</td>\n",
       "      <td>0.585</td>\n",
       "    </tr>\n",
       "    <tr>\n",
       "      <th>7</th>\n",
       "      <td>Adaboost</td>\n",
       "      <td>0.001</td>\n",
       "      <td>0.002</td>\n",
       "      <td>0.409</td>\n",
       "      <td>0.411</td>\n",
       "      <td>0.002</td>\n",
       "      <td>0.003</td>\n",
       "      <td>0.001</td>\n",
       "      <td>0.001</td>\n",
       "      <td>0.591</td>\n",
       "      <td>0.589</td>\n",
       "    </tr>\n",
       "  </tbody>\n",
       "</table>\n",
       "</div>"
      ],
      "text/plain": [
       "                 Model  train f1  test f1  train accuracy  test accuracy  \\\n",
       "0                  Knn     1.000    0.003           1.000          0.323   \n",
       "1           Linear SVM     0.448    0.001           0.269          0.001   \n",
       "2        Decision Tree     1.000    0.001           1.000          0.257   \n",
       "3        Random Forest     1.000    0.003           1.000          0.413   \n",
       "4  Logisitc Regression     0.043    0.004           0.479          0.413   \n",
       "5               MLP NN     0.001    0.002           0.412          0.411   \n",
       "6                Ridge     0.058    0.003           0.469          0.415   \n",
       "7             Adaboost     0.001    0.002           0.409          0.411   \n",
       "\n",
       "   train recall  test recall  train precision  test precision  \\\n",
       "0         1.000        0.003            1.000           0.004   \n",
       "1         0.931        0.002            0.348           0.002   \n",
       "2         0.999        0.001            1.000           0.001   \n",
       "3         1.000        0.004            1.000           0.002   \n",
       "4         0.038        0.005            0.082           0.005   \n",
       "5         0.001        0.004            0.000           0.002   \n",
       "6         0.048        0.004            0.124           0.002   \n",
       "7         0.002        0.003            0.001           0.001   \n",
       "\n",
       "   train hamming loss  test hamming loss  \n",
       "0               0.000              0.677  \n",
       "1               0.731              0.999  \n",
       "2               0.000              0.743  \n",
       "3               0.000              0.587  \n",
       "4               0.521              0.587  \n",
       "5               0.588              0.589  \n",
       "6               0.531              0.585  \n",
       "7               0.591              0.589  "
      ]
     },
     "execution_count": 15,
     "metadata": {},
     "output_type": "execute_result"
    }
   ],
   "source": [
    "comparison = pd.DataFrame({\"Model\":total_names,\n",
    "                           \"train f1\": train_f1, \"test f1\": test_f1,\n",
    "                          \"train accuracy\":train_acc, \"test accuracy\": test_acc,\n",
    "                          \"train recall\": train_recall, \"test recall\": test_recall,\n",
    "                          \"train precision\": train_precision, \"test precision\": test_precision,\n",
    "                          \"train hamming loss\": train_hamming_loss, \"test hamming loss\": test_hamming_loss})\n",
    "comparison"
   ]
  },
  {
   "cell_type": "markdown",
   "id": "6255c1fc",
   "metadata": {},
   "source": [
    "### Method: One vs Rest classifier\n",
    "note: this one performs better without the extreme over sampling -> maybe a simple over sampling approach is preferred here. Over fitting is definitely occuring"
   ]
  },
  {
   "cell_type": "code",
   "execution_count": 16,
   "id": "a29f1caa",
   "metadata": {},
   "outputs": [],
   "source": [
    "ytrain = ytrain[targets]\n",
    "ytest = ytest[targets]\n",
    "yval = yval[targets]"
   ]
  },
  {
   "cell_type": "code",
   "execution_count": 17,
   "id": "18c6002d",
   "metadata": {},
   "outputs": [],
   "source": [
    "classifiers = [KNeighborsClassifier(weights='uniform', p=1,n_neighbors=50),SVC(kernel=\"linear\", C=0.025),SVC(C=1,gamma='scale', break_ties=True),\n",
    "               #GaussianProcessClassifier(1.0 * RBF(1.0)),\n",
    "               DecisionTreeClassifier(criterion='entropy', max_features='sqrt', class_weight='balanced', splitter='best'),\n",
    "               RandomForestClassifier(criterion='entropy',max_features='auto', class_weight=None, n_estimators=100),\n",
    "               LogisticRegression(max_iter=10000,multi_class='ovr',solver='newton-cg', C=1),\n",
    "               RidgeClassifier(alpha=1), AdaBoostClassifier(learning_rate=1), \n",
    "               XGBClassifier(booster='gbtree', n_estimators=100, max_depth=15, eval_metric='logloss',use_label_encoder=False)\n",
    "              ]#GaussianNB(), QuadraticDiscriminantAnalysis()]\n",
    "classifier_name = ['Knn', \"Linear SVM\", \"RBF SVM\", #\"Gaussian Process\",\n",
    "                   \"Decision Tree\", \"Random Forest\", \n",
    "                   \"Logisitc Regression\", 'Ridge', 'Adaboost', 'XGBoost' ]#,'Gaussian NB', 'QDA'\n",
    "                  "
   ]
  },
  {
   "cell_type": "code",
   "execution_count": 18,
   "id": "c754717b",
   "metadata": {},
   "outputs": [],
   "source": [
    "test_hamming_loss = []; train_hamming_loss = []\n",
    "test_acc = []; train_acc = []\n",
    "test_f1 = []; train_f1 = []\n",
    "test_precision = []; train_precision = []\n",
    "test_recall = []; train_recall = []"
   ]
  },
  {
   "cell_type": "code",
   "execution_count": 26,
   "id": "c4fbf46b",
   "metadata": {},
   "outputs": [
    {
     "name": "stderr",
     "output_type": "stream",
     "text": [
      "100%|██████████████████████████████████████████████████████████████████████████████████| 1/1 [26:36<00:00, 1596.63s/it]\n"
     ]
    }
   ],
   "source": [
    "classifiers = [XGBClassifier(booster='gbtree', n_estimators=100, max_depth=15, eval_metric='logloss',use_label_encoder=False)]\n",
    "for clf in tqdm(classifiers):\n",
    "    classifier = OneVsRestClassifier(clf)#, n_jobs=-1)\n",
    "    classifier.fit(Xtrain_vec.numpy(), ytrain)\n",
    "    predictions = classifier.predict(Xtest_vec.numpy())\n",
    "    train_preds = classifier.predict(Xtrain_vec.numpy())\n",
    "    test_acc.append(round(accuracy_score(ytest,predictions),3)); train_acc.append(round(accuracy_score(ytrain,train_preds),3))\n",
    "    test_f1.append(round(f1_score(ytest,predictions, average='macro',zero_division=0),3))\n",
    "    train_f1.append(round(f1_score(ytrain,train_preds, average='macro',zero_division=0),3))\n",
    "    test_precision.append(round(precision_score(ytest,predictions, average='macro', zero_division=0),3))\n",
    "    train_precision.append(round(precision_score(ytrain,train_preds, average='macro', zero_division=0),3))\n",
    "    test_recall.append(round(recall_score(ytest,predictions, average='macro', zero_division=0),3))\n",
    "    train_recall.append(round(recall_score(ytrain,train_preds, average='macro', zero_division=0),3))\n",
    "    test_hamming_loss.append(round(hamming_loss(ytest,predictions),3))\n",
    "    train_hamming_loss.append(round(hamming_loss(ytrain,train_preds),3))"
   ]
  },
  {
   "cell_type": "code",
   "execution_count": 27,
   "id": "59b0a0a6",
   "metadata": {},
   "outputs": [],
   "source": [
    "comparison = pd.DataFrame({\"Model\":classifier_name,\n",
    "                          \"train f1\": train_f1, \"test f1\": test_f1,\n",
    "                          \"train accuracy\":train_acc, \"test accuracy\": test_acc,\n",
    "                          \"train recall\": train_recall, \"test recall\": test_recall,\n",
    "                          \"train precision\": train_precision, \"test precision\": test_precision,\n",
    "                          \"train hamming loss\": train_hamming_loss, \"test hamming loss\": test_hamming_loss})"
   ]
  },
  {
   "cell_type": "code",
   "execution_count": 28,
   "id": "eb8b09d1",
   "metadata": {},
   "outputs": [
    {
     "data": {
      "text/html": [
       "<div>\n",
       "<style scoped>\n",
       "    .dataframe tbody tr th:only-of-type {\n",
       "        vertical-align: middle;\n",
       "    }\n",
       "\n",
       "    .dataframe tbody tr th {\n",
       "        vertical-align: top;\n",
       "    }\n",
       "\n",
       "    .dataframe thead th {\n",
       "        text-align: right;\n",
       "    }\n",
       "</style>\n",
       "<table border=\"1\" class=\"dataframe\">\n",
       "  <thead>\n",
       "    <tr style=\"text-align: right;\">\n",
       "      <th></th>\n",
       "      <th>Model</th>\n",
       "      <th>train f1</th>\n",
       "      <th>test f1</th>\n",
       "      <th>train accuracy</th>\n",
       "      <th>test accuracy</th>\n",
       "      <th>train recall</th>\n",
       "      <th>test recall</th>\n",
       "      <th>train precision</th>\n",
       "      <th>test precision</th>\n",
       "      <th>train hamming loss</th>\n",
       "      <th>test hamming loss</th>\n",
       "    </tr>\n",
       "  </thead>\n",
       "  <tbody>\n",
       "    <tr>\n",
       "      <th>0</th>\n",
       "      <td>Knn</td>\n",
       "      <td>0.856</td>\n",
       "      <td>0.231</td>\n",
       "      <td>0.709</td>\n",
       "      <td>0.320</td>\n",
       "      <td>0.825</td>\n",
       "      <td>0.254</td>\n",
       "      <td>0.890</td>\n",
       "      <td>0.221</td>\n",
       "      <td>0.033</td>\n",
       "      <td>0.138</td>\n",
       "    </tr>\n",
       "    <tr>\n",
       "      <th>1</th>\n",
       "      <td>Linear SVM</td>\n",
       "      <td>0.073</td>\n",
       "      <td>0.076</td>\n",
       "      <td>0.410</td>\n",
       "      <td>0.411</td>\n",
       "      <td>0.066</td>\n",
       "      <td>0.068</td>\n",
       "      <td>0.082</td>\n",
       "      <td>0.087</td>\n",
       "      <td>0.107</td>\n",
       "      <td>0.097</td>\n",
       "    </tr>\n",
       "    <tr>\n",
       "      <th>2</th>\n",
       "      <td>RBF SVM</td>\n",
       "      <td>0.871</td>\n",
       "      <td>0.156</td>\n",
       "      <td>0.760</td>\n",
       "      <td>0.404</td>\n",
       "      <td>0.785</td>\n",
       "      <td>0.117</td>\n",
       "      <td>0.983</td>\n",
       "      <td>0.306</td>\n",
       "      <td>0.024</td>\n",
       "      <td>0.098</td>\n",
       "    </tr>\n",
       "    <tr>\n",
       "      <th>3</th>\n",
       "      <td>Decision Tree</td>\n",
       "      <td>1.000</td>\n",
       "      <td>0.172</td>\n",
       "      <td>1.000</td>\n",
       "      <td>0.168</td>\n",
       "      <td>1.000</td>\n",
       "      <td>0.184</td>\n",
       "      <td>1.000</td>\n",
       "      <td>0.167</td>\n",
       "      <td>0.000</td>\n",
       "      <td>0.161</td>\n",
       "    </tr>\n",
       "    <tr>\n",
       "      <th>4</th>\n",
       "      <td>Random Forest</td>\n",
       "      <td>1.000</td>\n",
       "      <td>0.124</td>\n",
       "      <td>0.999</td>\n",
       "      <td>0.411</td>\n",
       "      <td>1.000</td>\n",
       "      <td>0.086</td>\n",
       "      <td>1.000</td>\n",
       "      <td>0.289</td>\n",
       "      <td>0.000</td>\n",
       "      <td>0.099</td>\n",
       "    </tr>\n",
       "    <tr>\n",
       "      <th>5</th>\n",
       "      <td>Logisitc Regression</td>\n",
       "      <td>0.321</td>\n",
       "      <td>0.170</td>\n",
       "      <td>0.413</td>\n",
       "      <td>0.400</td>\n",
       "      <td>0.235</td>\n",
       "      <td>0.130</td>\n",
       "      <td>0.775</td>\n",
       "      <td>0.353</td>\n",
       "      <td>0.092</td>\n",
       "      <td>0.098</td>\n",
       "    </tr>\n",
       "    <tr>\n",
       "      <th>6</th>\n",
       "      <td>MLP NN</td>\n",
       "      <td>0.128</td>\n",
       "      <td>0.105</td>\n",
       "      <td>0.413</td>\n",
       "      <td>0.408</td>\n",
       "      <td>0.096</td>\n",
       "      <td>0.078</td>\n",
       "      <td>0.311</td>\n",
       "      <td>0.277</td>\n",
       "      <td>0.104</td>\n",
       "      <td>0.097</td>\n",
       "    </tr>\n",
       "    <tr>\n",
       "      <th>7</th>\n",
       "      <td>Ridge</td>\n",
       "      <td>0.174</td>\n",
       "      <td>0.126</td>\n",
       "      <td>0.414</td>\n",
       "      <td>0.406</td>\n",
       "      <td>0.132</td>\n",
       "      <td>0.096</td>\n",
       "      <td>0.422</td>\n",
       "      <td>0.283</td>\n",
       "      <td>0.098</td>\n",
       "      <td>0.097</td>\n",
       "    </tr>\n",
       "    <tr>\n",
       "      <th>8</th>\n",
       "      <td>Adaboost</td>\n",
       "      <td>0.359</td>\n",
       "      <td>0.168</td>\n",
       "      <td>0.391</td>\n",
       "      <td>0.381</td>\n",
       "      <td>0.287</td>\n",
       "      <td>0.133</td>\n",
       "      <td>0.647</td>\n",
       "      <td>0.279</td>\n",
       "      <td>0.101</td>\n",
       "      <td>0.105</td>\n",
       "    </tr>\n",
       "    <tr>\n",
       "      <th>9</th>\n",
       "      <td>XGBoost</td>\n",
       "      <td>1.000</td>\n",
       "      <td>0.151</td>\n",
       "      <td>1.000</td>\n",
       "      <td>0.399</td>\n",
       "      <td>1.000</td>\n",
       "      <td>0.113</td>\n",
       "      <td>1.000</td>\n",
       "      <td>0.268</td>\n",
       "      <td>0.000</td>\n",
       "      <td>0.100</td>\n",
       "    </tr>\n",
       "  </tbody>\n",
       "</table>\n",
       "</div>"
      ],
      "text/plain": [
       "                 Model  train f1  test f1  train accuracy  test accuracy  \\\n",
       "0                  Knn     0.856    0.231           0.709          0.320   \n",
       "1           Linear SVM     0.073    0.076           0.410          0.411   \n",
       "2              RBF SVM     0.871    0.156           0.760          0.404   \n",
       "3        Decision Tree     1.000    0.172           1.000          0.168   \n",
       "4        Random Forest     1.000    0.124           0.999          0.411   \n",
       "5  Logisitc Regression     0.321    0.170           0.413          0.400   \n",
       "6               MLP NN     0.128    0.105           0.413          0.408   \n",
       "7                Ridge     0.174    0.126           0.414          0.406   \n",
       "8             Adaboost     0.359    0.168           0.391          0.381   \n",
       "9              XGBoost     1.000    0.151           1.000          0.399   \n",
       "\n",
       "   train recall  test recall  train precision  test precision  \\\n",
       "0         0.825        0.254            0.890           0.221   \n",
       "1         0.066        0.068            0.082           0.087   \n",
       "2         0.785        0.117            0.983           0.306   \n",
       "3         1.000        0.184            1.000           0.167   \n",
       "4         1.000        0.086            1.000           0.289   \n",
       "5         0.235        0.130            0.775           0.353   \n",
       "6         0.096        0.078            0.311           0.277   \n",
       "7         0.132        0.096            0.422           0.283   \n",
       "8         0.287        0.133            0.647           0.279   \n",
       "9         1.000        0.113            1.000           0.268   \n",
       "\n",
       "   train hamming loss  test hamming loss  \n",
       "0               0.033              0.138  \n",
       "1               0.107              0.097  \n",
       "2               0.024              0.098  \n",
       "3               0.000              0.161  \n",
       "4               0.000              0.099  \n",
       "5               0.092              0.098  \n",
       "6               0.104              0.097  \n",
       "7               0.098              0.097  \n",
       "8               0.101              0.105  \n",
       "9               0.000              0.100  "
      ]
     },
     "execution_count": 28,
     "metadata": {},
     "output_type": "execute_result"
    }
   ],
   "source": [
    "comparison"
   ]
  },
  {
   "cell_type": "markdown",
   "id": "d18cdc1f",
   "metadata": {},
   "source": [
    "# DNN"
   ]
  },
  {
   "cell_type": "code",
   "execution_count": 68,
   "id": "f6a409f0",
   "metadata": {},
   "outputs": [],
   "source": [
    "def build_model(features, num_neurons, drop_rate=0.5, num_layers=1, reg='dropout', LSTM=False, l1=0.01, l2=0.01, batch_norm=False, activation='tanh'):\n",
    "    if activation == 'tanh':\n",
    "        initializer = tf.keras.initializers.GlorotNormal()\n",
    "    elif activation == 'relu':\n",
    "        initializer = tf.keras.initializers.HeNormal()\n",
    "    USE_input = tf.keras.layers.Input(shape=[], dtype=tf.string, name='USE_input')\n",
    "    USE_layer = hub.KerasLayer('https://tfhub.dev/google/universal-sentence-encoder/4', \n",
    "                    trainable=True)(USE_input)\n",
    "    if LSTM:\n",
    "        USE_layer= tf.keras.layers.Reshape((1, 512))(USE_layer)\n",
    "        USE_output = tf.keras.layers.Bidirectional(tf.keras.layers.LSTM(256, dropout=0.3, recurrent_dropout=0.3, kernel_regularizer=tf.keras.regularizers.l2(0.01)))(USE_layer)\n",
    "    else:\n",
    "        USE_output = tf.keras.layers.Dense(17, activation='sigmoid')(USE_layer)\n",
    "        \n",
    "    meta_input = tf.keras.layers.Input(shape=(features,), name='meta_input')\n",
    "    combined_USE_meta = tf.keras.layers.Concatenate()([USE_output, meta_input])\n",
    "    prev_layer = combined_USE_meta\n",
    "    for i in range(num_layers):\n",
    "        if batch_norm == True:\n",
    "            prev_layer = tf.keras.layers.BatchNormalization()(prev_layer) # after layer before activation\n",
    "        if reg == 'dropout':\n",
    "            curr_layer = tf.keras.layers.Dense(num_neurons, activation=activation,kernel_initializer=initializer,#'he_uniform',\n",
    "                                 #kernel_regularizer=keras.regularizers.l2(0.01),\n",
    "                                 #bias_regularizer=keras.regularizers.l2(0.01)\n",
    "                                 )(prev_layer)\n",
    "            curr_layer = tf.keras.layers.Dropout(rate=drop_rate)(curr_layer)\n",
    "        elif reg == 'l1':\n",
    "            Curr_layer = tf.keras.layers.Dense(num_neurons, activation=activation,kernel_initializer=initializer,#'he_uniform',\n",
    "                                 kernel_regularizer=tf.keras.regularizers.l1(l1),\n",
    "                                 #bias_regularizer=keras.regularizers.l2(0.01)\n",
    "                                 )(prev_layer)\n",
    "        elif reg =='l2':\n",
    "            curr_layer = tf.keras.layers.Dense(num_neurons, activation=activation,kernel_initializer=initializer,#'he_uniform',\n",
    "                                 kernel_regularizer=tf.keras.regularizers.l2(l2),\n",
    "                                 #bias_regularizer=keras.regularizers.l2(0.01)\n",
    "                                 )(prev_layer)\n",
    "        \n",
    "        prev_layer = curr_layer\n",
    "    output = tf.keras.layers.Dense(17, activation='sigmoid')(prev_layer)\n",
    "    model = tf.keras.Model(inputs=[USE_input , meta_input], outputs=output)\n",
    "    return model\n"
   ]
  },
  {
   "cell_type": "code",
   "execution_count": 91,
   "id": "92f500a0",
   "metadata": {},
   "outputs": [
    {
     "name": "stdout",
     "output_type": "stream",
     "text": [
      "Model: \"model_6\"\n",
      "__________________________________________________________________________________________________\n",
      "Layer (type)                    Output Shape         Param #     Connected to                     \n",
      "==================================================================================================\n",
      "USE_input (InputLayer)          [(None,)]            0                                            \n",
      "__________________________________________________________________________________________________\n",
      "keras_layer_7 (KerasLayer)      (None, 512)          256797824   USE_input[0][0]                  \n",
      "__________________________________________________________________________________________________\n",
      "reshape_7 (Reshape)             (None, 1, 512)       0           keras_layer_7[0][0]              \n",
      "__________________________________________________________________________________________________\n",
      "bidirectional_7 (Bidirectional) (None, 512)          1574912     reshape_7[0][0]                  \n",
      "__________________________________________________________________________________________________\n",
      "meta_input (InputLayer)         [(None, 34)]         0                                            \n",
      "__________________________________________________________________________________________________\n",
      "concatenate_7 (Concatenate)     (None, 546)          0           bidirectional_7[0][0]            \n",
      "                                                                 meta_input[0][0]                 \n",
      "__________________________________________________________________________________________________\n",
      "batch_normalization_150 (BatchN (None, 546)          2184        concatenate_7[0][0]              \n",
      "__________________________________________________________________________________________________\n",
      "dense_316 (Dense)               (None, 500)          273500      batch_normalization_150[0][0]    \n",
      "__________________________________________________________________________________________________\n",
      "batch_normalization_151 (BatchN (None, 500)          2000        dense_316[0][0]                  \n",
      "__________________________________________________________________________________________________\n",
      "dense_317 (Dense)               (None, 500)          250500      batch_normalization_151[0][0]    \n",
      "__________________________________________________________________________________________________\n",
      "batch_normalization_152 (BatchN (None, 500)          2000        dense_317[0][0]                  \n",
      "__________________________________________________________________________________________________\n",
      "dense_318 (Dense)               (None, 500)          250500      batch_normalization_152[0][0]    \n",
      "__________________________________________________________________________________________________\n",
      "batch_normalization_153 (BatchN (None, 500)          2000        dense_318[0][0]                  \n",
      "__________________________________________________________________________________________________\n",
      "dense_319 (Dense)               (None, 500)          250500      batch_normalization_153[0][0]    \n",
      "__________________________________________________________________________________________________\n",
      "batch_normalization_154 (BatchN (None, 500)          2000        dense_319[0][0]                  \n",
      "__________________________________________________________________________________________________\n",
      "dense_320 (Dense)               (None, 500)          250500      batch_normalization_154[0][0]    \n",
      "__________________________________________________________________________________________________\n",
      "batch_normalization_155 (BatchN (None, 500)          2000        dense_320[0][0]                  \n",
      "__________________________________________________________________________________________________\n",
      "dense_321 (Dense)               (None, 500)          250500      batch_normalization_155[0][0]    \n",
      "__________________________________________________________________________________________________\n",
      "batch_normalization_156 (BatchN (None, 500)          2000        dense_321[0][0]                  \n",
      "__________________________________________________________________________________________________\n",
      "dense_322 (Dense)               (None, 500)          250500      batch_normalization_156[0][0]    \n",
      "__________________________________________________________________________________________________\n",
      "batch_normalization_157 (BatchN (None, 500)          2000        dense_322[0][0]                  \n",
      "__________________________________________________________________________________________________\n",
      "dense_323 (Dense)               (None, 500)          250500      batch_normalization_157[0][0]    \n",
      "__________________________________________________________________________________________________\n",
      "batch_normalization_158 (BatchN (None, 500)          2000        dense_323[0][0]                  \n",
      "__________________________________________________________________________________________________\n",
      "dense_324 (Dense)               (None, 500)          250500      batch_normalization_158[0][0]    \n",
      "__________________________________________________________________________________________________\n",
      "batch_normalization_159 (BatchN (None, 500)          2000        dense_324[0][0]                  \n",
      "__________________________________________________________________________________________________\n",
      "dense_325 (Dense)               (None, 500)          250500      batch_normalization_159[0][0]    \n",
      "__________________________________________________________________________________________________\n",
      "dense_326 (Dense)               (None, 17)           8517        dense_325[0][0]                  \n",
      "==================================================================================================\n",
      "Total params: 260,929,437\n",
      "Trainable params: 260,919,345\n",
      "Non-trainable params: 10,092\n",
      "__________________________________________________________________________________________________\n"
     ]
    }
   ],
   "source": [
    "model = build_model(features=len(predictors), num_neurons=500, num_layers=10, LSTM=True,reg='l2', activation='tanh', batch_norm=True)\n",
    "model.summary()"
   ]
  },
  {
   "cell_type": "code",
   "execution_count": 92,
   "id": "ccd02583",
   "metadata": {},
   "outputs": [],
   "source": [
    "import tensorflow_addons as tfa\n",
    "Hamming_loss=tfa.metrics.HammingLoss(mode='multilabel', threshold=0.6)"
   ]
  },
  {
   "cell_type": "code",
   "execution_count": 93,
   "id": "0cf099ad",
   "metadata": {},
   "outputs": [],
   "source": [
    "class_weights = {}\n",
    "for c in range(len(targets)):\n",
    "    class_weights[c] = ytrain.shape[0]/(2*np.count_nonzero(ytrain[targets[c]]==1))"
   ]
  },
  {
   "cell_type": "code",
   "execution_count": 100,
   "id": "0fe903f2",
   "metadata": {},
   "outputs": [],
   "source": [
    "mini_batch = 256\n",
    "num_epochs = 50\n",
    "lr = 1e-3\n",
    "# First we need to define the optimizer to be used. We use Adam here with default hyper-parameters\n",
    "\n",
    "optim = tf.keras.optimizers.Adam(learning_rate=lr)\n",
    "lr_schedule = tf.keras.optimizers.schedules.ExponentialDecay(\n",
    "    initial_learning_rate=1e-2,\n",
    "    decay_steps=10000,\n",
    "    decay_rate=0.9)\n",
    "# We define the learning rate decay as a callback\n",
    "reduce_lr = tf.keras.callbacks.ReduceLROnPlateau(monitor='val_loss', patience=5, factor=0.5)\n",
    "\n",
    "# then, we need to compile the model: this configures the model for training\n",
    "model.compile(loss='categorical_crossentropy',#loss_fn,#'categorical_crossentropy',\n",
    "              optimizer=optim, metrics=['accuracy',Hamming_loss])#, hamming_loss])"
   ]
  },
  {
   "cell_type": "code",
   "execution_count": 101,
   "id": "642cbed1",
   "metadata": {},
   "outputs": [],
   "source": [
    "X_train = {\"USE_input\": Xtrain, \"meta_input\": np.asarray(train_data[predictors]).astype(np.float32)}\n",
    "X_val = {\"USE_input\": Xval, \"meta_input\": np.asarray(val_data[predictors]).astype(np.float32)}\n",
    "training = model.fit(x=X_train, y=ytrain.astype(float), batch_size=mini_batch, \n",
    "                    epochs=num_epochs, shuffle=True, verbose=0, validation_data=(X_val, yval.astype(float)),\n",
    "                    class_weight=class_weights, callbacks=[reduce_lr])"
   ]
  },
  {
   "cell_type": "code",
   "execution_count": 102,
   "id": "2a4a00ca",
   "metadata": {},
   "outputs": [
    {
     "data": {
      "image/png": "[encoded data removed]",
      "text/plain": [
       "<Figure size 576x432 with 1 Axes>"
      ]
     },
     "metadata": {},
     "output_type": "display_data"
    },
    {
     "data": {
      "image/png": "[encoded data removed]",
      "text/plain": [
       "<Figure size 576x432 with 1 Axes>"
      ]
     },
     "metadata": {},
     "output_type": "display_data"
    },
    {
     "data": {
      "image/png": "[encoded data removed]",
      "text/plain": [
       "<Figure size 576x432 with 1 Axes>"
      ]
     },
     "metadata": {},
     "output_type": "display_data"
    }
   ],
   "source": [
    "# plot loss and accuracy\n",
    "plt.figure(figsize=(8, 6))\n",
    "FONT=14\n",
    "plt.plot(range(num_epochs), training.history['loss'], label='training loss')\n",
    "plt.plot(range(num_epochs), training.history['val_loss'], label='validation loss')\n",
    "plt.xlabel('Number of epochs', fontsize=FONT)\n",
    "plt.ylabel('Loss', fontsize=FONT)\n",
    "plt.legend(fontsize=FONT)\n",
    "plt.tick_params(axis='both', which='major', labelsize=FONT)\n",
    "plt.show()\n",
    "\n",
    "plt.figure(figsize=(8, 6))\n",
    "FONT=14\n",
    "plt.plot(range(num_epochs), training.history['accuracy'], label='training accuracy')\n",
    "plt.plot(range(num_epochs), training.history['val_accuracy'], label='validation accuracy')\n",
    "plt.xlabel('Number of epochs', fontsize=FONT)\n",
    "plt.ylabel('accuracy', fontsize=FONT)\n",
    "plt.legend(fontsize=FONT)\n",
    "plt.tick_params(axis='both', which='major', labelsize=FONT)\n",
    "\n",
    "plt.show()\n",
    "\n",
    "plt.figure(figsize=(8, 6))\n",
    "FONT=14\n",
    "plt.plot(range(num_epochs), training.history['hamming_loss'], label='training hamming loss')\n",
    "plt.plot(range(num_epochs), training.history['val_hamming_loss'], label='validation hamming loss')\n",
    "plt.xlabel('Number of epochs', fontsize=FONT)\n",
    "plt.ylabel('Hamming Loss', fontsize=FONT)\n",
    "plt.legend(fontsize=FONT)\n",
    "plt.tick_params(axis='both', which='major', labelsize=FONT)\n",
    "\n",
    "plt.show()"
   ]
  },
  {
   "cell_type": "code",
   "execution_count": 103,
   "id": "20acbc18",
   "metadata": {},
   "outputs": [],
   "source": [
    "test_hamming_loss = []; train_hamming_loss = []\n",
    "test_acc = []; train_acc = []\n",
    "test_f1 = []; train_f1 = []\n",
    "test_precision = []; train_precision = []\n",
    "test_recall = []; train_recall = []"
   ]
  },
  {
   "cell_type": "code",
   "execution_count": 104,
   "id": "76474651",
   "metadata": {
    "scrolled": true
   },
   "outputs": [
    {
     "name": "stdout",
     "output_type": "stream",
     "text": [
      "Hamming loss: 0.889\n",
      "Accuracy: 0.0\n",
      "Detail:\n",
      "              precision    recall  f1-score   support\n",
      "\n",
      "           0       0.17      1.00      0.29       787\n",
      "           1       0.32      1.00      0.48      1506\n",
      "           2       0.15      1.00      0.27       729\n",
      "           3       0.13      1.00      0.24       628\n",
      "           4       0.04      1.00      0.08       205\n",
      "           5       0.12      1.00      0.22       587\n",
      "           6       0.10      1.00      0.18       461\n",
      "           7       0.05      1.00      0.09       215\n",
      "           8       0.01      1.00      0.02        53\n",
      "           9       0.01      1.00      0.03        61\n",
      "          10       0.00      1.00      0.00         9\n",
      "          11       0.04      1.00      0.07       175\n",
      "          12       0.17      1.00      0.30       819\n",
      "          13       0.01      1.00      0.01        26\n",
      "          14       0.33      1.00      0.50      1566\n",
      "          15       0.03      1.00      0.05       132\n",
      "          16       0.19      1.00      0.32       905\n",
      "\n",
      "   micro avg       0.11      1.00      0.20      8864\n",
      "   macro avg       0.11      1.00      0.19      8864\n",
      "weighted avg       0.20      1.00      0.33      8864\n",
      " samples avg       0.11      0.59      0.17      8864\n",
      "\n"
     ]
    },
    {
     "data": {
      "image/png": "[encoded data removed]",
      "text/plain": [
       "<Figure size 576x396 with 1 Axes>"
      ]
     },
     "metadata": {},
     "output_type": "display_data"
    },
    {
     "data": {
      "image/png": "[encoded data removed]",
      "text/plain": [
       "<Figure size 576x396 with 1 Axes>"
      ]
     },
     "metadata": {},
     "output_type": "display_data"
    },
    {
     "data": {
      "image/png": "[encoded data removed]",
      "text/plain": [
       "<Figure size 576x396 with 1 Axes>"
      ]
     },
     "metadata": {},
     "output_type": "display_data"
    },
    {
     "data": {
      "image/png": "[encoded data removed]",
      "text/plain": [
       "<Figure size 576x396 with 1 Axes>"
      ]
     },
     "metadata": {},
     "output_type": "display_data"
    },
    {
     "data": {
      "image/png": "[encoded data removed]",
      "text/plain": [
       "<Figure size 576x396 with 1 Axes>"
      ]
     },
     "metadata": {},
     "output_type": "display_data"
    },
    {
     "data": {
      "image/png": "[encoded data removed]",
      "text/plain": [
       "<Figure size 576x396 with 1 Axes>"
      ]
     },
     "metadata": {},
     "output_type": "display_data"
    },
    {
     "data": {
      "image/png": "[encoded data removed]",
      "text/plain": [
       "<Figure size 576x396 with 1 Axes>"
      ]
     },
     "metadata": {},
     "output_type": "display_data"
    },
    {
     "data": {
      "image/png": "[encoded data removed]",
      "text/plain": [
       "<Figure size 576x396 with 1 Axes>"
      ]
     },
     "metadata": {},
     "output_type": "display_data"
    },
    {
     "data": {
      "image/png": "[encoded data removed]",
      "text/plain": [
       "<Figure size 576x396 with 1 Axes>"
      ]
     },
     "metadata": {},
     "output_type": "display_data"
    },
    {
     "data": {
      "image/png": "[encoded data removed]",
      "text/plain": [
       "<Figure size 576x396 with 1 Axes>"
      ]
     },
     "metadata": {},
     "output_type": "display_data"
    },
    {
     "data": {
      "image/png": "[encoded data removed]",
      "text/plain": [
       "<Figure size 576x396 with 1 Axes>"
      ]
     },
     "metadata": {},
     "output_type": "display_data"
    },
    {
     "data": {
      "image/png": "[encoded data removed]",
      "text/plain": [
       "<Figure size 576x396 with 1 Axes>"
      ]
     },
     "metadata": {},
     "output_type": "display_data"
    },
    {
     "data": {
      "image/png": "[encoded data removed]",
      "text/plain": [
       "<Figure size 576x396 with 1 Axes>"
      ]
     },
     "metadata": {},
     "output_type": "display_data"
    },
    {
     "data": {
      "image/png": "[encoded data removed]",
      "text/plain": [
       "<Figure size 576x396 with 1 Axes>"
      ]
     },
     "metadata": {},
     "output_type": "display_data"
    },
    {
     "data": {
      "image/png": "[encoded data removed]",
      "text/plain": [
       "<Figure size 576x396 with 1 Axes>"
      ]
     },
     "metadata": {},
     "output_type": "display_data"
    },
    {
     "data": {
      "image/png": "[encoded data removed]",
      "text/plain": [
       "<Figure size 576x396 with 1 Axes>"
      ]
     },
     "metadata": {},
     "output_type": "display_data"
    },
    {
     "data": {
      "image/png": "[encoded data removed]",
      "text/plain": [
       "<Figure size 576x396 with 1 Axes>"
      ]
     },
     "metadata": {},
     "output_type": "display_data"
    },
    {
     "data": {
      "image/png": "[encoded data removed]",
      "text/plain": [
       "<Figure size 1296x432 with 2 Axes>"
      ]
     },
     "metadata": {},
     "output_type": "display_data"
    }
   ],
   "source": [
    "## test\n",
    "X_test = {\"USE_input\": Xtest, \"meta_input\": np.asarray(test_data[predictors]).astype(np.float32)}\n",
    "predicted_raw = model.predict(X_test)\n",
    "predicted = np.around(predicted_raw)\n",
    "y_test_array = ytest.to_numpy()\n",
    "## Accuracy, Precision, Recall\n",
    "accuracy = accuracy_score(ytest, predicted)\n",
    "#auc_score = roc_auc_score(ytest, predicted, \n",
    "#                            multi_class=\"ovr\")\n",
    "print(\"Hamming loss:\", round(hamming_loss(ytest, predicted),3))\n",
    "print(\"Accuracy:\",  round(accuracy,3))\n",
    "#print(\"Auc:\", round(auc_score,3))\n",
    "print(\"Detail:\")\n",
    "print(classification_report(ytest, predicted,zero_division=0))\n",
    "\n",
    "predictions = np.around(model.predict(X_test))\n",
    "train_preds =np.around(model.predict(X_train))\n",
    "test_acc.append(round(accuracy_score(ytest,predictions),3)); train_acc.append(round(accuracy_score(ytrain,train_preds),3))\n",
    "test_f1.append(round(f1_score(ytest,predictions, average='macro',zero_division=0),3))\n",
    "train_f1.append(round(f1_score(ytrain,train_preds, average='macro',zero_division=0),3))\n",
    "test_precision.append(round(precision_score(ytest,predictions, average='macro', zero_division=0),3))\n",
    "train_precision.append(round(precision_score(ytrain,train_preds, average='macro', zero_division=0),3))\n",
    "test_recall.append(round(recall_score(ytest,predictions, average='macro', zero_division=0),3))\n",
    "train_recall.append(round(recall_score(ytrain,train_preds, average='macro', zero_division=0),3))\n",
    "test_hamming_loss.append(round(hamming_loss(ytest,predictions),3))\n",
    "train_hamming_loss.append(round(hamming_loss(ytrain,train_preds),3))\n",
    "## Plot confusion matrix\n",
    "\n",
    "ml_cm = multilabel_confusion_matrix(ytest.to_numpy(), predicted)\n",
    "i=0\n",
    "for cm in ml_cm:\n",
    "    fig, ax = plt.subplots()\n",
    "    sns.heatmap(cm, annot=True, fmt='d', ax=ax, cmap=plt.cm.Blues, \n",
    "                cbar=False)\n",
    "    ax.set(xlabel=\"Pred\", ylabel=\"True\", title=\"Confusion matrix \"+targets[i])\n",
    "    plt.yticks(rotation=0)\n",
    "    i+=1\n",
    "## Plot roc\n",
    "fig, ax = plt.subplots(nrows=1, ncols=2, figsize=(18,6))\n",
    "for i in range(len(targets)):\n",
    "    fpr, tpr, thresholds = roc_curve(y_test_array[:,i],  \n",
    "                           predicted[:,i])\n",
    "    ax[0].plot(fpr, tpr, lw=3, \n",
    "              label='{0} (area={1:0.2f})'.format(targets[i], \n",
    "                              auc(fpr, tpr))\n",
    "               )\n",
    "ax[0].plot([0,1], [0,1], color='navy', lw=3, linestyle='--')\n",
    "ax[0].set(xlim=[-0.05,1.0], ylim=[0.0,1.05], \n",
    "          xlabel='False Positive Rate', \n",
    "          ylabel=\"True Positive Rate (Recall)\", \n",
    "          title=\"Receiver operating characteristic\")\n",
    "ax[0].legend(loc=\"lower right\")\n",
    "ax[0].grid(True)\n",
    "    \n",
    "## Plot precision-recall curve\n",
    "for i in range(len(targets)):\n",
    "    precision, recall, thresholds = precision_recall_curve(\n",
    "                 y_test_array[:,i], predicted[:,i])\n",
    "    ax[1].plot(recall, precision, lw=3, \n",
    "               label='{0} (area={1:0.2f})'.format(targets[i], \n",
    "                                  auc(recall, precision))\n",
    "              )\n",
    "ax[1].set(xlim=[0.0,1.05], ylim=[0.0,1.05], xlabel='Recall', \n",
    "          ylabel=\"Precision\", title=\"Precision-Recall curve\")\n",
    "ax[1].legend(loc=\"best\")\n",
    "ax[1].grid(True)\n",
    "plt.show()"
   ]
  },
  {
   "cell_type": "code",
   "execution_count": 105,
   "id": "65a263e7",
   "metadata": {},
   "outputs": [
    {
     "data": {
      "text/html": [
       "<div>\n",
       "<style scoped>\n",
       "    .dataframe tbody tr th:only-of-type {\n",
       "        vertical-align: middle;\n",
       "    }\n",
       "\n",
       "    .dataframe tbody tr th {\n",
       "        vertical-align: top;\n",
       "    }\n",
       "\n",
       "    .dataframe thead th {\n",
       "        text-align: right;\n",
       "    }\n",
       "</style>\n",
       "<table border=\"1\" class=\"dataframe\">\n",
       "  <thead>\n",
       "    <tr style=\"text-align: right;\">\n",
       "      <th></th>\n",
       "      <th>train f1</th>\n",
       "      <th>test f1</th>\n",
       "      <th>train accuracy</th>\n",
       "      <th>test accuracy</th>\n",
       "      <th>train recall</th>\n",
       "      <th>test recall</th>\n",
       "      <th>train precision</th>\n",
       "      <th>test precision</th>\n",
       "      <th>train hamming loss</th>\n",
       "      <th>test hamming loss</th>\n",
       "    </tr>\n",
       "  </thead>\n",
       "  <tbody>\n",
       "    <tr>\n",
       "      <th>0</th>\n",
       "      <td>0.2</td>\n",
       "      <td>0.185</td>\n",
       "      <td>0.0</td>\n",
       "      <td>0.0</td>\n",
       "      <td>1.0</td>\n",
       "      <td>1.0</td>\n",
       "      <td>0.12</td>\n",
       "      <td>0.111</td>\n",
       "      <td>0.88</td>\n",
       "      <td>0.889</td>\n",
       "    </tr>\n",
       "  </tbody>\n",
       "</table>\n",
       "</div>"
      ],
      "text/plain": [
       "   train f1  test f1  train accuracy  test accuracy  train recall  \\\n",
       "0       0.2    0.185             0.0            0.0           1.0   \n",
       "\n",
       "   test recall  train precision  test precision  train hamming loss  \\\n",
       "0          1.0             0.12           0.111                0.88   \n",
       "\n",
       "   test hamming loss  \n",
       "0              0.889  "
      ]
     },
     "execution_count": 105,
     "metadata": {},
     "output_type": "execute_result"
    }
   ],
   "source": [
    "comparison = pd.DataFrame({\"train f1\": train_f1, \"test f1\": test_f1,\n",
    "                          \"train accuracy\":train_acc, \"test accuracy\": test_acc,\n",
    "                          \"train recall\": train_recall, \"test recall\": test_recall,\n",
    "                          \"train precision\": train_precision, \"test precision\": test_precision,\n",
    "                          \"train hamming loss\": train_hamming_loss, \"test hamming loss\": test_hamming_loss})\n",
    "comparison"
   ]
  },
  {
   "cell_type": "code",
   "execution_count": 39,
   "id": "bc92ca86",
   "metadata": {},
   "outputs": [
    {
     "name": "stderr",
     "output_type": "stream",
     "text": [
      "WARNING:absl:Function `_wrapped_model` contains input name(s) USE_input with unsupported characters which will be renamed to use_input in the SavedModel.\n"
     ]
    },
    {
     "name": "stdout",
     "output_type": "stream",
     "text": [
      "INFO:tensorflow:Assets written to: C:\\Users\\srandrad\\smart_nlp\\models\\USE_hazard_classification_model\\assets\n"
     ]
    },
    {
     "name": "stderr",
     "output_type": "stream",
     "text": [
      "INFO:tensorflow:Assets written to: C:\\Users\\srandrad\\smart_nlp\\models\\USE_hazard_classification_model\\assets\n"
     ]
    }
   ],
   "source": [
    "#model.save(os.path.join(os.path.dirname(os.getcwd()),'models','USE_hazard_classification_model'))"
   ]
  },
  {
   "cell_type": "code",
   "execution_count": 43,
   "id": "714dae82",
   "metadata": {},
   "outputs": [
    {
     "data": {
      "image/png": "[encoded data removed]",
      "text/plain": [
       "<IPython.core.display.Image object>"
      ]
     },
     "execution_count": 43,
     "metadata": {},
     "output_type": "execute_result"
    }
   ],
   "source": [
    "filename = os.path.join(os.path.dirname(os.getcwd()),'results','hazard_classification_model.png')\n",
    "tf.keras.utils.plot_model(model, to_file=filename, show_shapes=True)"
   ]
  },
  {
   "cell_type": "markdown",
   "id": "c19474e0",
   "metadata": {},
   "source": [
    "## Hyper parameter optimization - one vs rest"
   ]
  },
  {
   "cell_type": "markdown",
   "id": "8b40df0b",
   "metadata": {},
   "source": [
    "### KNN"
   ]
  },
  {
   "cell_type": "code",
   "execution_count": 24,
   "id": "9874f95f",
   "metadata": {},
   "outputs": [],
   "source": [
    "params = {'n_neighbors': [50]+[i for i in range(55,1055,100)],\n",
    "         #'weights':['uniform', 'distance'],\n",
    "         #'p':[1,2]}\n",
    "best_params = {'weights': 'uniform', 'p': 1}"
   ]
  },
  {
   "cell_type": "code",
   "execution_count": 25,
   "id": "a60c1977",
   "metadata": {},
   "outputs": [
    {
     "name": "stdout",
     "output_type": "stream",
     "text": [
      "{'n_neighbors': 50, 'weights': 'uniform', 'p': 1}\n"
     ]
    }
   ],
   "source": [
    "for param in params:\n",
    "    test_hamming_loss = []; train_hamming_loss = []\n",
    "    test_acc = []; train_acc = []\n",
    "    test_f1 = []; train_f1 = []\n",
    "    test_precision = []; train_precision = []\n",
    "    test_recall = []; train_recall = []\n",
    "    for val in params[param]:\n",
    "        test_params = {param:val}\n",
    "        test_params.update(best_params)\n",
    "        classifier = OneVsRestClassifier(KNeighborsClassifier(**test_params))#, n_jobs=-1)\n",
    "        classifier.fit(Xtrain_vec, ytrain)\n",
    "        predictions = classifier.predict(Xtest_vec)\n",
    "        train_preds = classifier.predict(Xtrain_vec)\n",
    "        test_acc.append(round(accuracy_score(ytest,predictions),3)); train_acc.append(round(accuracy_score(ytrain,train_preds),3))\n",
    "        test_f1.append(round(f1_score(ytest,predictions, average='macro',zero_division=0),3))\n",
    "        train_f1.append(round(f1_score(ytrain,train_preds, average='macro',zero_division=0),3))\n",
    "        test_precision.append(round(precision_score(ytest,predictions, average='macro', zero_division=0),3))\n",
    "        train_precision.append(round(precision_score(ytrain,train_preds, average='macro', zero_division=0),3))\n",
    "        test_recall.append(round(recall_score(ytest,predictions, average='macro', zero_division=0),3))\n",
    "        train_recall.append(round(recall_score(ytrain,train_preds, average='macro', zero_division=0),3))\n",
    "        test_hamming_loss.append(round(hamming_loss(ytest,predictions),3))\n",
    "        train_hamming_loss.append(round(hamming_loss(ytrain,train_preds),3))\n",
    "    best_params[param] = params[param][np.argmin(test_hamming_loss)]\n",
    "print(best_params)"
   ]
  },
  {
   "cell_type": "markdown",
   "id": "10670360",
   "metadata": {},
   "source": [
    "### SVM"
   ]
  },
  {
   "cell_type": "code",
   "execution_count": 11,
   "id": "a11d7189",
   "metadata": {},
   "outputs": [],
   "source": [
    "params = {'C': [1*(10**i) for i in range(0,2,1)],\n",
    "         'class_weight':[None, \"balanced\"],\n",
    "          'gamma': ['scale', 'auto',2],\n",
    "         'break_ties':[True,False]}\n",
    "best_params = {}"
   ]
  },
  {
   "cell_type": "code",
   "execution_count": 12,
   "id": "f1d0311b",
   "metadata": {},
   "outputs": [
    {
     "name": "stderr",
     "output_type": "stream",
     "text": [
      "  0%|                                                                                            | 0/4 [00:00<?, ?it/s]\n",
      "  0%|                                                                                            | 0/2 [00:00<?, ?it/s]\u001b[A\n",
      " 50%|███████████████████████████████████████                                       | 1/2 [1:23:08<1:23:08, 4988.81s/it]\u001b[A\n",
      "100%|████████████████████████████████████████████████████████████████████████████████| 2/2 [3:37:21<00:00, 6520.75s/it]\u001b[A\n",
      " 25%|███████████████████                                                         | 1/4 [3:37:21<10:52:04, 13041.51s/it]\n",
      "  0%|                                                                                            | 0/2 [00:00<?, ?it/s]\u001b[A\n",
      " 50%|███████████████████████████████████████                                       | 1/2 [1:01:04<1:01:04, 3664.18s/it]\u001b[A\n",
      "100%|████████████████████████████████████████████████████████████████████████████████| 2/2 [2:57:00<00:00, 5310.44s/it]\u001b[A\n",
      " 50%|██████████████████████████████████████▌                                      | 2/4 [6:34:22<6:27:15, 11617.62s/it]\n",
      "  0%|                                                                                            | 0/3 [00:00<?, ?it/s]\u001b[A\n",
      " 33%|██████████████████████████                                                    | 1/3 [1:10:22<2:20:44, 4222.04s/it]\u001b[A\n",
      " 67%|█████████████████████████████████████████████████████▎                          | 2/3 [1:55:06<55:17, 3317.72s/it]\u001b[A\n",
      "100%|████████████████████████████████████████████████████████████████████████████████| 3/3 [3:29:34<00:00, 4191.42s/it]\u001b[A\n",
      " 75%|█████████████████████████████████████████████████████████                   | 3/4 [10:03:56<3:20:54, 12054.45s/it]\n",
      "  0%|                                                                                            | 0/2 [00:00<?, ?it/s]\u001b[A\n",
      " 50%|███████████████████████████████████████                                       | 1/2 [1:00:50<1:00:50, 3650.09s/it]\u001b[A\n",
      "100%|████████████████████████████████████████████████████████████████████████████████| 2/2 [2:01:48<00:00, 3654.32s/it]\u001b[A\n",
      "100%|██████████████████████████████████████████████████████████████████████████████| 4/4 [12:05:45<00:00, 10886.33s/it]"
     ]
    },
    {
     "name": "stdout",
     "output_type": "stream",
     "text": [
      "{'C': 1, 'class_weight': None, 'gamma': 'scale', 'break_ties': True}\n"
     ]
    },
    {
     "name": "stderr",
     "output_type": "stream",
     "text": [
      "\n"
     ]
    }
   ],
   "source": [
    "for param in tqdm(params):\n",
    "    test_hamming_loss = []; train_hamming_loss = []\n",
    "    test_acc = []; train_acc = []\n",
    "    test_f1 = []; train_f1 = []\n",
    "    test_precision = []; train_precision = []\n",
    "    test_recall = []; train_recall = []\n",
    "    for val in tqdm(params[param]):\n",
    "        test_params = {param:val}\n",
    "        test_params.update(best_params)\n",
    "        classifier = OneVsRestClassifier(SVC(**test_params), n_jobs=-1)\n",
    "        classifier.fit(Xtrain_vec, ytrain)\n",
    "        predictions = classifier.predict(Xtest_vec)\n",
    "        train_preds = classifier.predict(Xtrain_vec)\n",
    "        test_acc.append(round(accuracy_score(ytest,predictions),3)); train_acc.append(round(accuracy_score(ytrain,train_preds),3))\n",
    "        test_f1.append(round(f1_score(ytest,predictions, average='macro',zero_division=0),3))\n",
    "        train_f1.append(round(f1_score(ytrain,train_preds, average='macro',zero_division=0),3))\n",
    "        test_precision.append(round(precision_score(ytest,predictions, average='macro', zero_division=0),3))\n",
    "        train_precision.append(round(precision_score(ytrain,train_preds, average='macro', zero_division=0),3))\n",
    "        test_recall.append(round(recall_score(ytest,predictions, average='macro', zero_division=0),3))\n",
    "        train_recall.append(round(recall_score(ytrain,train_preds, average='macro', zero_division=0),3))\n",
    "        test_hamming_loss.append(round(hamming_loss(ytest,predictions),3))\n",
    "        train_hamming_loss.append(round(hamming_loss(ytrain,train_preds),3))\n",
    "    best_params[param] = params[param][np.argmin(test_hamming_loss)]\n",
    "print(best_params)"
   ]
  },
  {
   "cell_type": "code",
   "execution_count": 13,
   "id": "50a6b478",
   "metadata": {},
   "outputs": [],
   "source": [
    "#C=1"
   ]
  },
  {
   "cell_type": "markdown",
   "id": "26052b20",
   "metadata": {},
   "source": [
    "### Decision Tree"
   ]
  },
  {
   "cell_type": "code",
   "execution_count": 14,
   "id": "47f7177b",
   "metadata": {},
   "outputs": [],
   "source": [
    "params = {'criterion':['gini', 'entropy'],\n",
    "         'max_features':['auto', 'sqrt', 'log2'],\n",
    "         'class_weight':[None, \"balanced\"],\n",
    "         'splitter':['best', 'random']}\n",
    "best_params = {}"
   ]
  },
  {
   "cell_type": "code",
   "execution_count": 15,
   "id": "bf62b5d2",
   "metadata": {},
   "outputs": [
    {
     "name": "stderr",
     "output_type": "stream",
     "text": [
      "  0%|                                                                                            | 0/4 [00:00<?, ?it/s]\n",
      "  0%|                                                                                            | 0/2 [00:00<?, ?it/s]\u001b[A\n",
      " 50%|█████████████████████████████████████████▌                                         | 1/2 [02:19<02:19, 139.50s/it]\u001b[A\n",
      "100%|███████████████████████████████████████████████████████████████████████████████████| 2/2 [03:26<00:00, 103.06s/it]\u001b[A\n",
      " 25%|████████████████████▊                                                              | 1/4 [03:26<10:18, 206.14s/it]\n",
      "  0%|                                                                                            | 0/3 [00:00<?, ?it/s]\u001b[A\n",
      " 33%|████████████████████████████                                                        | 1/3 [00:04<00:09,  4.73s/it]\u001b[A\n",
      " 67%|████████████████████████████████████████████████████████                            | 2/3 [00:09<00:04,  4.83s/it]\u001b[A\n",
      "100%|████████████████████████████████████████████████████████████████████████████████████| 3/3 [00:12<00:00,  4.13s/it]\u001b[A\n",
      " 50%|██████████████████████████████████████████                                          | 2/4 [03:38<03:04, 92.18s/it]\n",
      "  0%|                                                                                            | 0/2 [00:00<?, ?it/s]\u001b[A\n",
      " 50%|██████████████████████████████████████████                                          | 1/2 [00:04<00:04,  4.96s/it]\u001b[A\n",
      "100%|████████████████████████████████████████████████████████████████████████████████████| 2/2 [00:10<00:00,  5.06s/it]\u001b[A\n",
      " 75%|███████████████████████████████████████████████████████████████                     | 3/4 [03:48<00:54, 54.71s/it]\n",
      "  0%|                                                                                            | 0/2 [00:00<?, ?it/s]\u001b[A\n",
      " 50%|██████████████████████████████████████████                                          | 1/2 [00:05<00:05,  5.18s/it]\u001b[A\n",
      "100%|████████████████████████████████████████████████████████████████████████████████████| 2/2 [00:06<00:00,  3.48s/it]\u001b[A\n",
      "100%|████████████████████████████████████████████████████████████████████████████████████| 4/4 [03:55<00:00, 58.91s/it]"
     ]
    },
    {
     "name": "stdout",
     "output_type": "stream",
     "text": [
      "{'criterion': 'entropy', 'max_features': 'sqrt', 'class_weight': 'balanced', 'splitter': 'best'}\n"
     ]
    },
    {
     "name": "stderr",
     "output_type": "stream",
     "text": [
      "\n"
     ]
    }
   ],
   "source": [
    "for param in tqdm(params):\n",
    "    test_hamming_loss = []; train_hamming_loss = []\n",
    "    test_acc = []; train_acc = []\n",
    "    test_f1 = []; train_f1 = []\n",
    "    test_precision = []; train_precision = []\n",
    "    test_recall = []; train_recall = []\n",
    "    for val in tqdm(params[param]):\n",
    "        test_params = {param:val}\n",
    "        test_params.update(best_params)\n",
    "        classifier = OneVsRestClassifier(DecisionTreeClassifier(**test_params), n_jobs=-1)\n",
    "        classifier.fit(Xtrain_vec, ytrain)\n",
    "        predictions = classifier.predict(Xtest_vec)\n",
    "        train_preds = classifier.predict(Xtrain_vec)\n",
    "        test_acc.append(round(accuracy_score(ytest,predictions),3)); train_acc.append(round(accuracy_score(ytrain,train_preds),3))\n",
    "        test_f1.append(round(f1_score(ytest,predictions, average='macro',zero_division=0),3))\n",
    "        train_f1.append(round(f1_score(ytrain,train_preds, average='macro',zero_division=0),3))\n",
    "        test_precision.append(round(precision_score(ytest,predictions, average='macro', zero_division=0),3))\n",
    "        train_precision.append(round(precision_score(ytrain,train_preds, average='macro', zero_division=0),3))\n",
    "        test_recall.append(round(recall_score(ytest,predictions, average='macro', zero_division=0),3))\n",
    "        train_recall.append(round(recall_score(ytrain,train_preds, average='macro', zero_division=0),3))\n",
    "        test_hamming_loss.append(round(hamming_loss(ytest,predictions),3))\n",
    "        train_hamming_loss.append(round(hamming_loss(ytrain,train_preds),3))\n",
    "    best_params[param] = params[param][np.argmin(test_hamming_loss)]\n",
    "print(best_params)"
   ]
  },
  {
   "cell_type": "markdown",
   "id": "16834866",
   "metadata": {},
   "source": [
    "### Random Forest"
   ]
  },
  {
   "cell_type": "code",
   "execution_count": 16,
   "id": "2a5e2294",
   "metadata": {},
   "outputs": [],
   "source": [
    "params = {'criterion':['gini', 'entropy'],\n",
    "         'max_features':['auto', 'sqrt', 'log2'],\n",
    "         'class_weight':[None, \"balanced\"],\n",
    "         'n_estimators':[i for i in range(50, 550, 50)]}\n",
    "best_params = {}"
   ]
  },
  {
   "cell_type": "code",
   "execution_count": 17,
   "id": "26e30a09",
   "metadata": {},
   "outputs": [
    {
     "name": "stderr",
     "output_type": "stream",
     "text": [
      "  0%|                                                                                            | 0/4 [00:00<?, ?it/s]\n",
      "  0%|                                                                                            | 0/2 [00:00<?, ?it/s]\u001b[A\n",
      " 50%|█████████████████████████████████████████▌                                         | 1/2 [04:27<04:27, 267.13s/it]\u001b[A\n",
      "100%|███████████████████████████████████████████████████████████████████████████████████| 2/2 [08:25<00:00, 252.89s/it]\u001b[A\n",
      " 25%|████████████████████▊                                                              | 1/4 [08:25<25:17, 505.79s/it]\n",
      "  0%|                                                                                            | 0/3 [00:00<?, ?it/s]\u001b[A\n",
      " 33%|███████████████████████████▋                                                       | 1/3 [03:59<07:59, 239.96s/it]\u001b[A\n",
      " 67%|███████████████████████████████████████████████████████▎                           | 2/3 [07:59<03:59, 239.42s/it]\u001b[A\n",
      "100%|███████████████████████████████████████████████████████████████████████████████████| 3/3 [09:54<00:00, 198.08s/it]\u001b[A\n",
      " 50%|█████████████████████████████████████████▌                                         | 2/4 [18:20<18:35, 557.82s/it]\n",
      "  0%|                                                                                            | 0/2 [00:00<?, ?it/s]\u001b[A\n",
      " 50%|█████████████████████████████████████████▌                                         | 1/2 [04:01<04:01, 241.28s/it]\u001b[A\n",
      "100%|███████████████████████████████████████████████████████████████████████████████████| 2/2 [08:00<00:00, 240.41s/it]\u001b[A\n",
      " 75%|██████████████████████████████████████████████████████████████▎                    | 3/4 [26:20<08:42, 522.66s/it]\n",
      "  0%|                                                                                           | 0/10 [00:00<?, ?it/s]\u001b[A\n",
      " 10%|████████▏                                                                         | 1/10 [01:58<17:48, 118.69s/it]\u001b[A\n",
      " 20%|████████████████▍                                                                 | 2/10 [05:58<25:19, 189.90s/it]\u001b[A\n",
      " 30%|████████████████████████▌                                                         | 3/10 [11:56<31:08, 266.89s/it]\u001b[A\n",
      " 40%|████████████████████████████████▊                                                 | 4/10 [19:55<35:03, 350.55s/it]\u001b[A\n",
      " 50%|█████████████████████████████████████████                                         | 5/10 [29:58<36:48, 441.68s/it]\u001b[A\n",
      " 60%|█████████████████████████████████████████████████▏                                | 6/10 [42:10<36:00, 540.12s/it]\u001b[A\n",
      " 70%|█████████████████████████████████████████████████████████▍                        | 7/10 [56:17<32:01, 640.46s/it]\u001b[A\n",
      " 80%|████████████████████████████████████████████████████████████████                | 8/10 [1:12:27<24:51, 745.58s/it]\u001b[A\n",
      " 90%|████████████████████████████████████████████████████████████████████████        | 9/10 [1:30:47<14:16, 856.10s/it]\u001b[A\n",
      "100%|███████████████████████████████████████████████████████████████████████████████| 10/10 [1:51:10<00:00, 667.09s/it]\u001b[A\n",
      "100%|████████████████████████████████████████████████████████████████████████████████| 4/4 [2:17:31<00:00, 2062.94s/it]"
     ]
    },
    {
     "name": "stdout",
     "output_type": "stream",
     "text": [
      "{'criterion': 'entropy', 'max_features': 'auto', 'class_weight': None, 'n_estimators': 100}\n"
     ]
    },
    {
     "name": "stderr",
     "output_type": "stream",
     "text": [
      "\n"
     ]
    }
   ],
   "source": [
    "for param in tqdm(params):\n",
    "    test_hamming_loss = []; train_hamming_loss = []\n",
    "    test_acc = []; train_acc = []\n",
    "    test_f1 = []; train_f1 = []\n",
    "    test_precision = []; train_precision = []\n",
    "    test_recall = []; train_recall = []\n",
    "    for val in tqdm(params[param]):\n",
    "        test_params = {param:val}\n",
    "        test_params.update(best_params)\n",
    "        classifier = OneVsRestClassifier(RandomForestClassifier(**test_params), n_jobs=-1)\n",
    "        classifier.fit(Xtrain_vec, ytrain)\n",
    "        predictions = classifier.predict(Xtest_vec)\n",
    "        train_preds = classifier.predict(Xtrain_vec)\n",
    "        test_acc.append(round(accuracy_score(ytest,predictions),3)); train_acc.append(round(accuracy_score(ytrain,train_preds),3))\n",
    "        test_f1.append(round(f1_score(ytest,predictions, average='macro',zero_division=0),3))\n",
    "        train_f1.append(round(f1_score(ytrain,train_preds, average='macro',zero_division=0),3))\n",
    "        test_precision.append(round(precision_score(ytest,predictions, average='macro', zero_division=0),3))\n",
    "        train_precision.append(round(precision_score(ytrain,train_preds, average='macro', zero_division=0),3))\n",
    "        test_recall.append(round(recall_score(ytest,predictions, average='macro', zero_division=0),3))\n",
    "        train_recall.append(round(recall_score(ytrain,train_preds, average='macro', zero_division=0),3))\n",
    "        test_hamming_loss.append(round(hamming_loss(ytest,predictions),3))\n",
    "        train_hamming_loss.append(round(hamming_loss(ytrain,train_preds),3))\n",
    "    best_params[param] = params[param][np.argmin(test_hamming_loss)]\n",
    "print(best_params)"
   ]
  },
  {
   "cell_type": "code",
   "execution_count": 18,
   "id": "20f6f9aa",
   "metadata": {},
   "outputs": [],
   "source": [
    "rf = RandomForestClassifier(criterion='entropy',max_features='auto', class_weight='balanced', n_estimators=100)"
   ]
  },
  {
   "cell_type": "markdown",
   "id": "cc9cc85c",
   "metadata": {},
   "source": [
    "### Logistic Regression"
   ]
  },
  {
   "cell_type": "code",
   "execution_count": 19,
   "id": "ed19dbde",
   "metadata": {},
   "outputs": [],
   "source": [
    "params = {'solver':['newton-cg', 'lbfgs', 'sag', 'saga'],\n",
    "          'C': [i for i in range(1,11,1)],\n",
    "         'class_weight':[None, \"balanced\"]}\n",
    "best_params = {}"
   ]
  },
  {
   "cell_type": "code",
   "execution_count": 20,
   "id": "5f2fc091",
   "metadata": {},
   "outputs": [
    {
     "name": "stderr",
     "output_type": "stream",
     "text": [
      "  0%|                                                                                            | 0/3 [00:00<?, ?it/s]\n",
      "  0%|                                                                                            | 0/4 [00:00<?, ?it/s]\u001b[A\n",
      " 25%|████████████████████▊                                                              | 1/4 [02:20<07:02, 140.75s/it]\u001b[A\n",
      " 50%|██████████████████████████████████████████                                          | 2/4 [02:43<02:22, 71.34s/it]\u001b[A\n",
      " 75%|███████████████████████████████████████████████████████████████                     | 3/4 [02:52<00:42, 42.93s/it]\u001b[A\n",
      "100%|████████████████████████████████████████████████████████████████████████████████████| 4/4 [03:01<00:00, 45.45s/it]\u001b[A\n",
      " 33%|███████████████████████████▋                                                       | 1/3 [03:01<06:03, 181.81s/it]\n",
      "  0%|                                                                                           | 0/10 [00:00<?, ?it/s]\u001b[A\n",
      " 10%|████████▏                                                                         | 1/10 [02:22<21:24, 142.73s/it]\u001b[A\n",
      " 20%|████████████████▍                                                                 | 2/10 [05:06<20:39, 154.91s/it]\u001b[A\n",
      " 30%|████████████████████████▌                                                         | 3/10 [07:51<18:38, 159.78s/it]\u001b[A\n",
      " 40%|████████████████████████████████▊                                                 | 4/10 [10:55<16:55, 169.29s/it]\u001b[A\n",
      " 50%|█████████████████████████████████████████                                         | 5/10 [14:00<14:35, 175.01s/it]\u001b[A\n",
      " 60%|█████████████████████████████████████████████████▏                                | 6/10 [16:50<11:32, 173.15s/it]\u001b[A\n",
      " 70%|█████████████████████████████████████████████████████████▍                        | 7/10 [20:07<09:03, 181.01s/it]\u001b[A\n",
      " 80%|█████████████████████████████████████████████████████████████████▌                | 8/10 [23:10<06:03, 181.66s/it]\u001b[A\n",
      " 90%|█████████████████████████████████████████████████████████████████████████▊        | 9/10 [25:58<02:57, 177.29s/it]\u001b[A\n",
      "100%|█████████████████████████████████████████████████████████████████████████████████| 10/10 [29:11<00:00, 175.15s/it]\u001b[A\n",
      " 67%|██████████████████████████████████████████████████████▋                           | 2/3 [32:13<18:25, 1105.19s/it]\n",
      "  0%|                                                                                            | 0/2 [00:00<?, ?it/s]\u001b[A\n",
      " 50%|█████████████████████████████████████████▌                                         | 1/2 [02:18<02:18, 138.56s/it]\u001b[A\n",
      "100%|███████████████████████████████████████████████████████████████████████████████████| 2/2 [04:54<00:00, 147.11s/it]\u001b[A\n",
      "100%|███████████████████████████████████████████████████████████████████████████████████| 3/3 [37:07<00:00, 742.53s/it]"
     ]
    },
    {
     "name": "stdout",
     "output_type": "stream",
     "text": [
      "{'solver': 'newton-cg', 'C': 1, 'class_weight': None}\n"
     ]
    },
    {
     "name": "stderr",
     "output_type": "stream",
     "text": [
      "\n"
     ]
    }
   ],
   "source": [
    "for param in tqdm(params):\n",
    "    test_hamming_loss = []; train_hamming_loss = []\n",
    "    test_acc = []; train_acc = []\n",
    "    test_f1 = []; train_f1 = []\n",
    "    test_precision = []; train_precision = []\n",
    "    test_recall = []; train_recall = []\n",
    "    for val in tqdm(params[param]):\n",
    "        test_params = {param:val}\n",
    "        test_params.update(best_params)\n",
    "        classifier = OneVsRestClassifier(LogisticRegression(max_iter=10000,multi_class='ovr',**test_params), n_jobs=-1)\n",
    "        classifier.fit(Xtrain_vec, ytrain)\n",
    "        predictions = classifier.predict(Xtest_vec)\n",
    "        train_preds = classifier.predict(Xtrain_vec)\n",
    "        test_acc.append(round(accuracy_score(ytest,predictions),3)); train_acc.append(round(accuracy_score(ytrain,train_preds),3))\n",
    "        test_f1.append(round(f1_score(ytest,predictions, average='macro',zero_division=0),3))\n",
    "        train_f1.append(round(f1_score(ytrain,train_preds, average='macro',zero_division=0),3))\n",
    "        test_precision.append(round(precision_score(ytest,predictions, average='macro', zero_division=0),3))\n",
    "        train_precision.append(round(precision_score(ytrain,train_preds, average='macro', zero_division=0),3))\n",
    "        test_recall.append(round(recall_score(ytest,predictions, average='macro', zero_division=0),3))\n",
    "        train_recall.append(round(recall_score(ytrain,train_preds, average='macro', zero_division=0),3))\n",
    "        test_hamming_loss.append(round(hamming_loss(ytest,predictions),3))\n",
    "        train_hamming_loss.append(round(hamming_loss(ytrain,train_preds),3))\n",
    "    best_params[param] = params[param][np.argmin(test_hamming_loss)]\n",
    "print(best_params)"
   ]
  },
  {
   "cell_type": "markdown",
   "id": "dfdf5b6b",
   "metadata": {},
   "source": [
    "### MLP"
   ]
  },
  {
   "cell_type": "code",
   "execution_count": 21,
   "id": "b5f10bb4",
   "metadata": {},
   "outputs": [],
   "source": [
    "params = {'alpha': [1*((10)**(i)) for i in range(-4,3,1)],\n",
    "         'learning_rate':['constant', 'invscaling', 'adaptive'],\n",
    "          'hidden_layer_sizes':[(50,), (50,50), (50,50,50), (100,), (100,100), (100,100,100)]}\n",
    "best_params = {}"
   ]
  },
  {
   "cell_type": "code",
   "execution_count": 22,
   "id": "f35672ba",
   "metadata": {},
   "outputs": [
    {
     "name": "stderr",
     "output_type": "stream",
     "text": [
      "  0%|                                                                                            | 0/3 [00:00<?, ?it/s]\n",
      "  0%|                                                                                            | 0/7 [00:00<?, ?it/s]\u001b[A\n",
      " 14%|███████████▊                                                                       | 1/7 [04:04<24:26, 244.42s/it]\u001b[A\n",
      " 29%|███████████████████████▏                                                         | 2/7 [22:16<1:01:54, 742.96s/it]\u001b[A\n",
      " 43%|█████████████████████████████████▍                                            | 3/7 [1:07:21<1:49:16, 1639.00s/it]\u001b[A\n",
      " 57%|████████████████████████████████████████████▌                                 | 4/7 [1:31:29<1:18:11, 1563.68s/it]\u001b[A\n",
      " 71%|█████████████████████████████████████████████████████████▏                      | 5/7 [1:39:54<39:23, 1181.63s/it]\u001b[A\n",
      " 86%|████████████████████████████████████████████████████████████████████▌           | 6/7 [1:52:04<17:08, 1028.06s/it]\u001b[A\n",
      "100%|████████████████████████████████████████████████████████████████████████████████| 7/7 [2:05:56<00:00, 1079.56s/it]\u001b[A\n",
      " 33%|██████████████████████████                                                    | 1/3 [2:05:56<4:11:53, 7556.95s/it]\n",
      "  0%|                                                                                            | 0/3 [00:00<?, ?it/s]\u001b[A\n",
      " 33%|███████████████████████████▎                                                      | 1/3 [26:21<52:42, 1581.13s/it]\u001b[A\n",
      " 67%|██████████████████████████████████████████████████████▋                           | 2/3 [53:00<26:31, 1591.60s/it]\u001b[A\n",
      "100%|████████████████████████████████████████████████████████████████████████████████| 3/3 [1:16:12<00:00, 1524.11s/it]\u001b[A\n",
      " 67%|████████████████████████████████████████████████████                          | 2/3 [3:22:09<1:36:41, 5801.30s/it]\n",
      "  0%|                                                                                            | 0/6 [00:00<?, ?it/s]\u001b[A\n",
      " 17%|█████████████▌                                                                   | 1/6 [15:34<1:17:53, 934.77s/it]\u001b[A\n",
      " 33%|██████████████████████████▋                                                     | 2/6 [37:10<1:16:27, 1146.92s/it]\u001b[A\n",
      " 50%|███████████████████████████████████████                                       | 3/6 [1:09:51<1:15:56, 1518.82s/it]\u001b[A\n",
      " 67%|████████████████████████████████████████████████████                          | 4/6 [1:50:50<1:02:59, 1889.96s/it]\u001b[A\n",
      " 83%|██████████████████████████████████████████████████████████████████▋             | 5/6 [2:40:17<37:58, 2278.41s/it]\u001b[A\n",
      "100%|████████████████████████████████████████████████████████████████████████████████| 6/6 [3:24:27<00:00, 2044.56s/it]\u001b[A\n",
      "100%|████████████████████████████████████████████████████████████████████████████████| 3/3 [6:46:36<00:00, 8132.23s/it]"
     ]
    },
    {
     "name": "stdout",
     "output_type": "stream",
     "text": [
      "{'alpha': 0.1, 'learning_rate': 'invscaling', 'hidden_layer_sizes': (100,)}\n"
     ]
    },
    {
     "name": "stderr",
     "output_type": "stream",
     "text": [
      "\n"
     ]
    }
   ],
   "source": [
    "for param in tqdm(params):\n",
    "    test_hamming_loss = []; train_hamming_loss = []\n",
    "    test_acc = []; train_acc = []\n",
    "    test_f1 = []; train_f1 = []\n",
    "    test_precision = []; train_precision = []\n",
    "    test_recall = []; train_recall = []\n",
    "    for val in tqdm(params[param]):\n",
    "        test_params = {param:val}\n",
    "        test_params.update(best_params)\n",
    "        classifier = OneVsRestClassifier(MLPClassifier(max_iter=1000,**test_params), n_jobs=-1)\n",
    "        classifier.fit(Xtrain_vec, ytrain)\n",
    "        predictions = classifier.predict(Xtest_vec)\n",
    "        train_preds = classifier.predict(Xtrain_vec)\n",
    "        test_acc.append(round(accuracy_score(ytest,predictions),3)); train_acc.append(round(accuracy_score(ytrain,train_preds),3))\n",
    "        test_f1.append(round(f1_score(ytest,predictions, average='macro',zero_division=0),3))\n",
    "        train_f1.append(round(f1_score(ytrain,train_preds, average='macro',zero_division=0),3))\n",
    "        test_precision.append(round(precision_score(ytest,predictions, average='macro', zero_division=0),3))\n",
    "        train_precision.append(round(precision_score(ytrain,train_preds, average='macro', zero_division=0),3))\n",
    "        test_recall.append(round(recall_score(ytest,predictions, average='macro', zero_division=0),3))\n",
    "        train_recall.append(round(recall_score(ytrain,train_preds, average='macro', zero_division=0),3))\n",
    "        test_hamming_loss.append(round(hamming_loss(ytest,predictions),3))\n",
    "        train_hamming_loss.append(round(hamming_loss(ytrain,train_preds),3))\n",
    "    best_params[param] = params[param][np.argmin(test_hamming_loss)]\n",
    "print(best_params)"
   ]
  },
  {
   "cell_type": "markdown",
   "id": "072f3395",
   "metadata": {},
   "source": [
    "### Ridge"
   ]
  },
  {
   "cell_type": "code",
   "execution_count": 23,
   "id": "c7b964ba",
   "metadata": {},
   "outputs": [],
   "source": [
    "params = {'alpha': [1*((10)**(i)) for i in range(-4,3,1)],\n",
    "         'class_weight':[None, \"balanced\"]\n",
    "         }\n",
    "best_params = {}"
   ]
  },
  {
   "cell_type": "code",
   "execution_count": 24,
   "id": "84f029ab",
   "metadata": {},
   "outputs": [
    {
     "name": "stderr",
     "output_type": "stream",
     "text": [
      "  0%|                                                                                            | 0/2 [00:00<?, ?it/s]\n",
      "  0%|                                                                                            | 0/7 [00:00<?, ?it/s]\u001b[A\n",
      " 14%|████████████                                                                        | 1/7 [00:04<00:29,  4.92s/it]\u001b[A\n",
      " 29%|████████████████████████                                                            | 2/7 [00:07<00:18,  3.78s/it]\u001b[A\n",
      " 43%|████████████████████████████████████                                                | 3/7 [00:11<00:13,  3.47s/it]\u001b[A\n",
      " 57%|████████████████████████████████████████████████                                    | 4/7 [00:14<00:10,  3.34s/it]\u001b[A\n",
      " 71%|████████████████████████████████████████████████████████████                        | 5/7 [00:17<00:06,  3.23s/it]\u001b[A\n",
      " 86%|████████████████████████████████████████████████████████████████████████            | 6/7 [00:20<00:03,  3.17s/it]\u001b[A\n",
      "100%|████████████████████████████████████████████████████████████████████████████████████| 7/7 [00:23<00:00,  3.32s/it]\u001b[A\n",
      " 50%|██████████████████████████████████████████                                          | 1/2 [00:23<00:23, 23.22s/it]\n",
      "  0%|                                                                                            | 0/2 [00:00<?, ?it/s]\u001b[A\n",
      " 50%|██████████████████████████████████████████                                          | 1/2 [00:03<00:03,  3.20s/it]\u001b[A\n",
      "100%|████████████████████████████████████████████████████████████████████████████████████| 2/2 [00:06<00:00,  3.14s/it]\u001b[A\n",
      "100%|████████████████████████████████████████████████████████████████████████████████████| 2/2 [00:29<00:00, 14.77s/it]"
     ]
    },
    {
     "name": "stdout",
     "output_type": "stream",
     "text": [
      "{'alpha': 1, 'class_weight': None}\n"
     ]
    },
    {
     "name": "stderr",
     "output_type": "stream",
     "text": [
      "\n"
     ]
    }
   ],
   "source": [
    "for param in tqdm(params):\n",
    "    test_hamming_loss = []; train_hamming_loss = []\n",
    "    test_acc = []; train_acc = []\n",
    "    test_f1 = []; train_f1 = []\n",
    "    test_precision = []; train_precision = []\n",
    "    test_recall = []; train_recall = []\n",
    "    for val in tqdm(params[param]):\n",
    "        test_params = {param:val}\n",
    "        test_params.update(best_params)\n",
    "        classifier = OneVsRestClassifier(RidgeClassifier(**test_params), n_jobs=-1)\n",
    "        classifier.fit(Xtrain_vec, ytrain)\n",
    "        predictions = classifier.predict(Xtest_vec)\n",
    "        train_preds = classifier.predict(Xtrain_vec)\n",
    "        test_acc.append(round(accuracy_score(ytest,predictions),3)); train_acc.append(round(accuracy_score(ytrain,train_preds),3))\n",
    "        test_f1.append(round(f1_score(ytest,predictions, average='macro',zero_division=0),3))\n",
    "        train_f1.append(round(f1_score(ytrain,train_preds, average='macro',zero_division=0),3))\n",
    "        test_precision.append(round(precision_score(ytest,predictions, average='macro', zero_division=0),3))\n",
    "        train_precision.append(round(precision_score(ytrain,train_preds, average='macro', zero_division=0),3))\n",
    "        test_recall.append(round(recall_score(ytest,predictions, average='macro', zero_division=0),3))\n",
    "        train_recall.append(round(recall_score(ytrain,train_preds, average='macro', zero_division=0),3))\n",
    "        test_hamming_loss.append(round(hamming_loss(ytest,predictions),3))\n",
    "        train_hamming_loss.append(round(hamming_loss(ytrain,train_preds),3))\n",
    "    best_params[param] = params[param][np.argmin(test_hamming_loss)]\n",
    "print(best_params)"
   ]
  },
  {
   "cell_type": "markdown",
   "id": "957660a7",
   "metadata": {},
   "source": [
    "### XGBoost"
   ]
  },
  {
   "cell_type": "code",
   "execution_count": 25,
   "id": "70022d0f",
   "metadata": {},
   "outputs": [],
   "source": [
    "params = {'max_depth':[None]+[i for i in range(3,25)]}#'booster': ['gbtree', 'gblinear', 'dart'], 'n_estimators': [i for i in range(100, 500, 25)]}\n",
    "best_params = {'booster': 'gbtree','n_estimators':100}"
   ]
  },
  {
   "cell_type": "code",
   "execution_count": 26,
   "id": "e9c4e949",
   "metadata": {},
   "outputs": [
    {
     "name": "stderr",
     "output_type": "stream",
     "text": [
      "  0%|                                                                                            | 0/1 [00:00<?, ?it/s]\n",
      "  0%|                                                                                           | 0/23 [00:00<?, ?it/s]\u001b[A\n",
      "  4%|███▍                                                                            | 1/23 [13:10<4:49:59, 790.89s/it]\u001b[A\n",
      "  9%|██████▉                                                                         | 2/23 [20:04<3:19:02, 568.71s/it]\u001b[A\n",
      " 13%|██████████▍                                                                     | 3/23 [28:57<3:04:11, 552.57s/it]\u001b[A\n",
      " 17%|█████████████▉                                                                  | 4/23 [39:56<3:08:18, 594.64s/it]\u001b[A\n",
      " 22%|█████████████████▍                                                              | 5/23 [53:06<3:19:33, 665.20s/it]\u001b[A\n",
      " 26%|████████████████████▎                                                         | 6/23 [1:08:03<3:30:47, 743.97s/it]\u001b[A\n",
      " 30%|███████████████████████▋                                                      | 7/23 [1:24:22<3:38:50, 820.65s/it]\u001b[A\n",
      " 35%|███████████████████████████▏                                                  | 8/23 [1:41:29<3:41:35, 886.39s/it]\u001b[A\n",
      " 39%|██████████████████████████████▌                                               | 9/23 [2:00:00<3:43:12, 956.63s/it]\u001b[A\n",
      " 43%|█████████████████████████████████                                           | 10/23 [2:19:36<3:41:58, 1024.46s/it]\u001b[A\n",
      " 48%|████████████████████████████████████▎                                       | 11/23 [2:39:45<3:36:11, 1080.95s/it]\u001b[A\n",
      " 52%|███████████████████████████████████████▋                                    | 12/23 [3:00:40<3:27:50, 1133.67s/it]\u001b[A\n",
      " 57%|██████████████████████████████████████████▉                                 | 13/23 [3:21:25<3:14:34, 1167.44s/it]\u001b[A\n",
      " 61%|██████████████████████████████████████████████▎                             | 14/23 [3:42:48<3:00:21, 1202.44s/it]\u001b[A\n",
      " 65%|█████████████████████████████████████████████████▌                          | 15/23 [4:04:37<2:44:37, 1234.64s/it]\u001b[A\n",
      " 70%|████████████████████████████████████████████████████▊                       | 16/23 [4:26:43<2:27:13, 1261.91s/it]\u001b[A\n",
      " 74%|████████████████████████████████████████████████████████▏                   | 17/23 [5:04:06<2:35:42, 1557.12s/it]\u001b[A\n",
      " 78%|███████████████████████████████████████████████████████████▍                | 18/23 [5:27:00<2:05:09, 1501.92s/it]\u001b[A\n",
      " 83%|██████████████████████████████████████████████████████████████▊             | 19/23 [5:49:53<1:37:33, 1463.25s/it]\u001b[A\n",
      " 87%|██████████████████████████████████████████████████████████████████          | 20/23 [6:12:18<1:11:23, 1427.92s/it]\u001b[A\n",
      " 91%|███████████████████████████████████████████████████████████████████████▏      | 21/23 [6:35:24<47:10, 1415.09s/it]\u001b[A\n",
      " 96%|██████████████████████████████████████████████████████████████████████████▌   | 22/23 [6:58:40<23:29, 1409.35s/it]\u001b[A\n",
      "100%|██████████████████████████████████████████████████████████████████████████████| 23/23 [7:21:59<00:00, 1153.01s/it]\u001b[A\n",
      "100%|███████████████████████████████████████████████████████████████████████████████| 1/1 [7:21:59<00:00, 26519.34s/it]"
     ]
    },
    {
     "name": "stdout",
     "output_type": "stream",
     "text": [
      "{'booster': 'gbtree', 'n_estimators': 100, 'max_depth': 15}\n"
     ]
    },
    {
     "name": "stderr",
     "output_type": "stream",
     "text": [
      "\n"
     ]
    }
   ],
   "source": [
    "for param in tqdm(params):\n",
    "    test_hamming_loss = []; train_hamming_loss = []\n",
    "    test_acc = []; train_acc = []\n",
    "    test_f1 = []; train_f1 = []\n",
    "    test_precision = []; train_precision = []\n",
    "    test_recall = []; train_recall = []\n",
    "    for val in tqdm(params[param]):\n",
    "        test_params = {param:val}\n",
    "        test_params.update(best_params)\n",
    "        classifier = OneVsRestClassifier(XGBClassifier(**test_params), n_jobs=-1)\n",
    "        classifier.fit(Xtrain_vec, ytrain)\n",
    "        predictions = classifier.predict(Xtest_vec)\n",
    "        train_preds = classifier.predict(Xtrain_vec)\n",
    "        test_acc.append(round(accuracy_score(ytest,predictions),3)); train_acc.append(round(accuracy_score(ytrain,train_preds),3))\n",
    "        test_f1.append(round(f1_score(ytest,predictions, average='macro',zero_division=0),3))\n",
    "        train_f1.append(round(f1_score(ytrain,train_preds, average='macro',zero_division=0),3))\n",
    "        test_precision.append(round(precision_score(ytest,predictions, average='macro', zero_division=0),3))\n",
    "        train_precision.append(round(precision_score(ytrain,train_preds, average='macro', zero_division=0),3))\n",
    "        test_recall.append(round(recall_score(ytest,predictions, average='macro', zero_division=0),3))\n",
    "        train_recall.append(round(recall_score(ytrain,train_preds, average='macro', zero_division=0),3))\n",
    "        test_hamming_loss.append(round(hamming_loss(ytest,predictions),3))\n",
    "        train_hamming_loss.append(round(hamming_loss(ytrain,train_preds),3))\n",
    "    best_params[param] = params[param][np.argmin(test_hamming_loss)]\n",
    "print(best_params)"
   ]
  },
  {
   "cell_type": "markdown",
   "id": "08595d37",
   "metadata": {},
   "source": [
    "### Adaboost"
   ]
  },
  {
   "cell_type": "code",
   "execution_count": 27,
   "id": "afc25c0d",
   "metadata": {},
   "outputs": [],
   "source": [
    "params = {'base_estimator':[None, DecisionTreeClassifier(criterion='entropy', max_features='sqrt', class_weight=None, splitter='best')],\n",
    "          'n_estimators':[i for i in range(50, 550, 50)],\n",
    "          'learning_rate':[1*((10)**(i)) for i in range(-4,2,1)]\n",
    "         }\n",
    "best_params = {}"
   ]
  },
  {
   "cell_type": "code",
   "execution_count": null,
   "id": "72468a6b",
   "metadata": {
    "scrolled": true
   },
   "outputs": [
    {
     "name": "stderr",
     "output_type": "stream",
     "text": [
      "  0%|                                                                                            | 0/3 [00:00<?, ?it/s]\n",
      "  0%|                                                                                            | 0/2 [00:00<?, ?it/s]\u001b[A\n",
      " 50%|█████████████████████████████████████████▌                                         | 1/2 [06:34<06:34, 394.78s/it]\u001b[A"
     ]
    }
   ],
   "source": [
    "for param in tqdm(params):\n",
    "    test_hamming_loss = []; train_hamming_loss = []\n",
    "    test_acc = []; train_acc = []\n",
    "    test_f1 = []; train_f1 = []\n",
    "    test_precision = []; train_precision = []\n",
    "    test_recall = []; train_recall = []\n",
    "    for val in tqdm(params[param]):\n",
    "        test_params = {param:val}\n",
    "        test_params.update(best_params)\n",
    "        classifier = OneVsRestClassifier(AdaBoostClassifier(**test_params), n_jobs=-1)\n",
    "        classifier.fit(Xtrain_vec, ytrain)\n",
    "        predictions = classifier.predict(Xtest_vec)\n",
    "        train_preds = classifier.predict(Xtrain_vec)\n",
    "        test_acc.append(round(accuracy_score(ytest,predictions),3)); train_acc.append(round(accuracy_score(ytrain,train_preds),3))\n",
    "        test_f1.append(round(f1_score(ytest,predictions, average='macro',zero_division=0),3))\n",
    "        train_f1.append(round(f1_score(ytrain,train_preds, average='macro',zero_division=0),3))\n",
    "        test_precision.append(round(precision_score(ytest,predictions, average='macro', zero_division=0),3))\n",
    "        train_precision.append(round(precision_score(ytrain,train_preds, average='macro', zero_division=0),3))\n",
    "        test_recall.append(round(recall_score(ytest,predictions, average='macro', zero_division=0),3))\n",
    "        train_recall.append(round(recall_score(ytrain,train_preds, average='macro', zero_division=0),3))\n",
    "        test_hamming_loss.append(round(hamming_loss(ytest,predictions),3))\n",
    "        train_hamming_loss.append(round(hamming_loss(ytrain,train_preds),3))\n",
    "    best_params[param] = params[param][np.argmin(test_hamming_loss)]\n",
    "print(best_params)"
   ]
  },
  {
   "cell_type": "code",
   "execution_count": null,
   "id": "46436f73",
   "metadata": {},
   "outputs": [],
   "source": [
    "AdaBoostClassifier('learning_rate'=1)"
   ]
  },
  {
   "cell_type": "markdown",
   "id": "1cdc1177",
   "metadata": {},
   "source": [
    "## Hyper parameter optimization - classifier chain"
   ]
  },
  {
   "cell_type": "markdown",
   "id": "9ae92039",
   "metadata": {},
   "source": [
    "### KNN"
   ]
  },
  {
   "cell_type": "code",
   "execution_count": null,
   "id": "fc0dfa29",
   "metadata": {},
   "outputs": [],
   "source": [
    "params = {'n_neighbors': [1]+[i for i in range(5,55,5)],\n",
    "         'weights':['uniform', 'distance'],\n",
    "         'p':[1,2]}\n",
    "best_params = {}"
   ]
  },
  {
   "cell_type": "code",
   "execution_count": null,
   "id": "36ac193a",
   "metadata": {},
   "outputs": [],
   "source": [
    "for param in params:\n",
    "    test_hamming_loss = []; train_hamming_loss = []\n",
    "    test_acc = []; train_acc = []\n",
    "    test_f1 = []; train_f1 = []\n",
    "    test_precision = []; train_precision = []\n",
    "    test_recall = []; train_recall = []\n",
    "    for val in params[param]:\n",
    "        test_params = {param:val}\n",
    "        test_params.update(best_params)\n",
    "        classifier = ClassifierChain(KNeighborsClassifier(**test_params), n_jobs=-1)\n",
    "        classifier.fit(Xtrain_vec, ytrain)\n",
    "        predictions = classifier.predict(Xtest_vec)\n",
    "        train_preds = classifier.predict(Xtrain_vec)\n",
    "        test_acc.append(round(accuracy_score(ytest,predictions),3)); train_acc.append(round(accuracy_score(ytrain,train_preds),3))\n",
    "        test_f1.append(round(f1_score(ytest,predictions, average='macro',zero_division=0),3))\n",
    "        train_f1.append(round(f1_score(ytrain,train_preds, average='macro',zero_division=0),3))\n",
    "        test_precision.append(round(precision_score(ytest,predictions, average='macro', zero_division=0),3))\n",
    "        train_precision.append(round(precision_score(ytrain,train_preds, average='macro', zero_division=0),3))\n",
    "        test_recall.append(round(recall_score(ytest,predictions, average='macro', zero_division=0),3))\n",
    "        train_recall.append(round(recall_score(ytrain,train_preds, average='macro', zero_division=0),3))\n",
    "        test_hamming_loss.append(round(hamming_loss(ytest,predictions),3))\n",
    "        train_hamming_loss.append(round(hamming_loss(ytrain,train_preds),3))\n",
    "    best_params[param] = params[param][np.argmin(test_hamming_loss)]\n",
    "print(best_params)"
   ]
  },
  {
   "cell_type": "markdown",
   "id": "18fd08d1",
   "metadata": {},
   "source": [
    "### SVM"
   ]
  },
  {
   "cell_type": "code",
   "execution_count": null,
   "id": "9e01d8cf",
   "metadata": {},
   "outputs": [],
   "source": [
    "params = {'C': [1*(10**i) for i in range(-4,2,1)],\n",
    "         'class_weight':[None, \"balanced\"],\n",
    "          'gamma': ['scale', 'auto',2],\n",
    "         'break_ties':[True,False]}\n",
    "best_params = {}"
   ]
  },
  {
   "cell_type": "code",
   "execution_count": null,
   "id": "10c50261",
   "metadata": {},
   "outputs": [],
   "source": [
    "for param in tqdm(params):\n",
    "    test_hamming_loss = []; train_hamming_loss = []\n",
    "    test_acc = []; train_acc = []\n",
    "    test_f1 = []; train_f1 = []\n",
    "    test_precision = []; train_precision = []\n",
    "    test_recall = []; train_recall = []\n",
    "    for val in tqdm(params[param]):\n",
    "        test_params = {param:val}\n",
    "        test_params.update(best_params)\n",
    "        classifier = ClassifierChain(SVC(**test_params), n_jobs=-1)\n",
    "        classifier.fit(Xtrain_vec, ytrain)\n",
    "        predictions = classifier.predict(Xtest_vec)\n",
    "        train_preds = classifier.predict(Xtrain_vec)\n",
    "        test_acc.append(round(accuracy_score(ytest,predictions),3)); train_acc.append(round(accuracy_score(ytrain,train_preds),3))\n",
    "        test_f1.append(round(f1_score(ytest,predictions, average='macro',zero_division=0),3))\n",
    "        train_f1.append(round(f1_score(ytrain,train_preds, average='macro',zero_division=0),3))\n",
    "        test_precision.append(round(precision_score(ytest,predictions, average='macro', zero_division=0),3))\n",
    "        train_precision.append(round(precision_score(ytrain,train_preds, average='macro', zero_division=0),3))\n",
    "        test_recall.append(round(recall_score(ytest,predictions, average='macro', zero_division=0),3))\n",
    "        train_recall.append(round(recall_score(ytrain,train_preds, average='macro', zero_division=0),3))\n",
    "        test_hamming_loss.append(round(hamming_loss(ytest,predictions),3))\n",
    "        train_hamming_loss.append(round(hamming_loss(ytrain,train_preds),3))\n",
    "    best_params[param] = params[param][np.argmin(test_hamming_loss)]\n",
    "print(best_params)"
   ]
  },
  {
   "cell_type": "markdown",
   "id": "7e7c7f86",
   "metadata": {},
   "source": [
    "### Decision Tree"
   ]
  },
  {
   "cell_type": "code",
   "execution_count": null,
   "id": "c8d18af7",
   "metadata": {},
   "outputs": [],
   "source": [
    "params = {'criterion':['gini', 'entropy'],\n",
    "         'max_features':['auto', 'sqrt', 'log2'],\n",
    "         'class_weight':[None, \"balanced\"],\n",
    "         'splitter':['best', 'random']}\n",
    "best_params = {}"
   ]
  },
  {
   "cell_type": "code",
   "execution_count": null,
   "id": "5d4ace49",
   "metadata": {},
   "outputs": [],
   "source": [
    "for param in tqdm(params):\n",
    "    test_hamming_loss = []; train_hamming_loss = []\n",
    "    test_acc = []; train_acc = []\n",
    "    test_f1 = []; train_f1 = []\n",
    "    test_precision = []; train_precision = []\n",
    "    test_recall = []; train_recall = []\n",
    "    for val in tqdm(params[param]):\n",
    "        test_params = {param:val}\n",
    "        test_params.update(best_params)\n",
    "        classifier = ClassifierChain(DecisionTreeClassifier(**test_params), n_jobs=-1)\n",
    "        classifier.fit(Xtrain_vec, ytrain)\n",
    "        predictions = classifier.predict(Xtest_vec)\n",
    "        train_preds = classifier.predict(Xtrain_vec)\n",
    "        test_acc.append(round(accuracy_score(ytest,predictions),3)); train_acc.append(round(accuracy_score(ytrain,train_preds),3))\n",
    "        test_f1.append(round(f1_score(ytest,predictions, average='macro',zero_division=0),3))\n",
    "        train_f1.append(round(f1_score(ytrain,train_preds, average='macro',zero_division=0),3))\n",
    "        test_precision.append(round(precision_score(ytest,predictions, average='macro', zero_division=0),3))\n",
    "        train_precision.append(round(precision_score(ytrain,train_preds, average='macro', zero_division=0),3))\n",
    "        test_recall.append(round(recall_score(ytest,predictions, average='macro', zero_division=0),3))\n",
    "        train_recall.append(round(recall_score(ytrain,train_preds, average='macro', zero_division=0),3))\n",
    "        test_hamming_loss.append(round(hamming_loss(ytest,predictions),3))\n",
    "        train_hamming_loss.append(round(hamming_loss(ytrain,train_preds),3))\n",
    "    best_params[param] = params[param][np.argmin(test_hamming_loss)]\n",
    "print(best_params)"
   ]
  },
  {
   "cell_type": "markdown",
   "id": "b7942867",
   "metadata": {},
   "source": [
    "### Random Forest"
   ]
  },
  {
   "cell_type": "code",
   "execution_count": null,
   "id": "7f2c4c15",
   "metadata": {},
   "outputs": [],
   "source": [
    "params = {'criterion':['gini', 'entropy'],\n",
    "         'max_features':['auto', 'sqrt', 'log2'],\n",
    "         'class_weight':[None, \"balanced\"],\n",
    "         'n_estimators':[i for i in range(50, 550, 50)]}\n",
    "best_params = {}"
   ]
  },
  {
   "cell_type": "code",
   "execution_count": null,
   "id": "2df9ceab",
   "metadata": {},
   "outputs": [],
   "source": [
    "for param in tqdm(params):\n",
    "    test_hamming_loss = []; train_hamming_loss = []\n",
    "    test_acc = []; train_acc = []\n",
    "    test_f1 = []; train_f1 = []\n",
    "    test_precision = []; train_precision = []\n",
    "    test_recall = []; train_recall = []\n",
    "    for val in tqdm(params[param]):\n",
    "        test_params = {param:val}\n",
    "        test_params.update(best_params)\n",
    "        classifier = ClassifierChain(RandomForestClassifier(**test_params), n_jobs=-1)\n",
    "        classifier.fit(Xtrain_vec, ytrain)\n",
    "        predictions = classifier.predict(Xtest_vec)\n",
    "        train_preds = classifier.predict(Xtrain_vec)\n",
    "        test_acc.append(round(accuracy_score(ytest,predictions),3)); train_acc.append(round(accuracy_score(ytrain,train_preds),3))\n",
    "        test_f1.append(round(f1_score(ytest,predictions, average='macro',zero_division=0),3))\n",
    "        train_f1.append(round(f1_score(ytrain,train_preds, average='macro',zero_division=0),3))\n",
    "        test_precision.append(round(precision_score(ytest,predictions, average='macro', zero_division=0),3))\n",
    "        train_precision.append(round(precision_score(ytrain,train_preds, average='macro', zero_division=0),3))\n",
    "        test_recall.append(round(recall_score(ytest,predictions, average='macro', zero_division=0),3))\n",
    "        train_recall.append(round(recall_score(ytrain,train_preds, average='macro', zero_division=0),3))\n",
    "        test_hamming_loss.append(round(hamming_loss(ytest,predictions),3))\n",
    "        train_hamming_loss.append(round(hamming_loss(ytrain,train_preds),3))\n",
    "    best_params[param] = params[param][np.argmin(test_hamming_loss)]\n",
    "print(best_params)"
   ]
  },
  {
   "cell_type": "code",
   "execution_count": null,
   "id": "d1c04707",
   "metadata": {},
   "outputs": [],
   "source": [
    "rf = RandomForestClassifier(criterion='entropy',max_features='auto', class_weight='balanced', n_estimators=100)"
   ]
  },
  {
   "cell_type": "markdown",
   "id": "5a100cb5",
   "metadata": {},
   "source": [
    "### Logistic Regression"
   ]
  },
  {
   "cell_type": "code",
   "execution_count": null,
   "id": "0fd0e329",
   "metadata": {},
   "outputs": [],
   "source": [
    "params = {'solver':['newton-cg', 'lbfgs', 'sag', 'saga'],\n",
    "          'C': [i for i in range(1,11,1)],\n",
    "         'class_weight':[None, \"balanced\"]}\n",
    "best_params = {}"
   ]
  },
  {
   "cell_type": "code",
   "execution_count": null,
   "id": "551ad194",
   "metadata": {},
   "outputs": [],
   "source": [
    "for param in tqdm(params):\n",
    "    test_hamming_loss = []; train_hamming_loss = []\n",
    "    test_acc = []; train_acc = []\n",
    "    test_f1 = []; train_f1 = []\n",
    "    test_precision = []; train_precision = []\n",
    "    test_recall = []; train_recall = []\n",
    "    for val in tqdm(params[param]):\n",
    "        test_params = {param:val}\n",
    "        test_params.update(best_params)\n",
    "        classifier = ClassifierChain(LogisticRegression(max_iter=10000,multi_class='ovr',**test_params), n_jobs=-1)\n",
    "        classifier.fit(Xtrain_vec, ytrain)\n",
    "        predictions = classifier.predict(Xtest_vec)\n",
    "        train_preds = classifier.predict(Xtrain_vec)\n",
    "        test_acc.append(round(accuracy_score(ytest,predictions),3)); train_acc.append(round(accuracy_score(ytrain,train_preds),3))\n",
    "        test_f1.append(round(f1_score(ytest,predictions, average='macro',zero_division=0),3))\n",
    "        train_f1.append(round(f1_score(ytrain,train_preds, average='macro',zero_division=0),3))\n",
    "        test_precision.append(round(precision_score(ytest,predictions, average='macro', zero_division=0),3))\n",
    "        train_precision.append(round(precision_score(ytrain,train_preds, average='macro', zero_division=0),3))\n",
    "        test_recall.append(round(recall_score(ytest,predictions, average='macro', zero_division=0),3))\n",
    "        train_recall.append(round(recall_score(ytrain,train_preds, average='macro', zero_division=0),3))\n",
    "        test_hamming_loss.append(round(hamming_loss(ytest,predictions),3))\n",
    "        train_hamming_loss.append(round(hamming_loss(ytrain,train_preds),3))\n",
    "    best_params[param] = params[param][np.argmin(test_hamming_loss)]\n",
    "print(best_params)"
   ]
  },
  {
   "cell_type": "markdown",
   "id": "cbdbb513",
   "metadata": {},
   "source": [
    "### MLP"
   ]
  },
  {
   "cell_type": "code",
   "execution_count": null,
   "id": "de84e01e",
   "metadata": {},
   "outputs": [],
   "source": [
    "params = {'alpha': [1*((10)**(i)) for i in range(-4,3,1)],\n",
    "         'learning_rate':['constant', 'invscaling', 'adaptive'],\n",
    "          'hidden_layer_sizes':[(50,), (50,50), (50,50,50), (100,), (100,100), (100,100,100)]}\n",
    "best_params = {}"
   ]
  },
  {
   "cell_type": "code",
   "execution_count": null,
   "id": "c286dfb9",
   "metadata": {},
   "outputs": [],
   "source": [
    "for param in tqdm(params):\n",
    "    test_hamming_loss = []; train_hamming_loss = []\n",
    "    test_acc = []; train_acc = []\n",
    "    test_f1 = []; train_f1 = []\n",
    "    test_precision = []; train_precision = []\n",
    "    test_recall = []; train_recall = []\n",
    "    for val in tqdm(params[param]):\n",
    "        test_params = {param:val}\n",
    "        test_params.update(best_params)\n",
    "        classifier = ClassifierChain(MLPClassifier(max_iter=1000,**test_params), n_jobs=-1)\n",
    "        classifier.fit(Xtrain_vec, ytrain)\n",
    "        predictions = classifier.predict(Xtest_vec)\n",
    "        train_preds = classifier.predict(Xtrain_vec)\n",
    "        test_acc.append(round(accuracy_score(ytest,predictions),3)); train_acc.append(round(accuracy_score(ytrain,train_preds),3))\n",
    "        test_f1.append(round(f1_score(ytest,predictions, average='macro',zero_division=0),3))\n",
    "        train_f1.append(round(f1_score(ytrain,train_preds, average='macro',zero_division=0),3))\n",
    "        test_precision.append(round(precision_score(ytest,predictions, average='macro', zero_division=0),3))\n",
    "        train_precision.append(round(precision_score(ytrain,train_preds, average='macro', zero_division=0),3))\n",
    "        test_recall.append(round(recall_score(ytest,predictions, average='macro', zero_division=0),3))\n",
    "        train_recall.append(round(recall_score(ytrain,train_preds, average='macro', zero_division=0),3))\n",
    "        test_hamming_loss.append(round(hamming_loss(ytest,predictions),3))\n",
    "        train_hamming_loss.append(round(hamming_loss(ytrain,train_preds),3))\n",
    "    best_params[param] = params[param][np.argmin(test_hamming_loss)]\n",
    "print(best_params)"
   ]
  },
  {
   "cell_type": "markdown",
   "id": "20be6628",
   "metadata": {},
   "source": [
    "### Ridge"
   ]
  },
  {
   "cell_type": "code",
   "execution_count": null,
   "id": "fd49ca88",
   "metadata": {},
   "outputs": [],
   "source": [
    "params = {'alpha': [1*((10)**(i)) for i in range(-4,3,1)],\n",
    "         'class_weight':[None, \"balanced\"]\n",
    "         }\n",
    "best_params = {}"
   ]
  },
  {
   "cell_type": "code",
   "execution_count": null,
   "id": "39d6521c",
   "metadata": {},
   "outputs": [],
   "source": [
    "for param in tqdm(params):\n",
    "    test_hamming_loss = []; train_hamming_loss = []\n",
    "    test_acc = []; train_acc = []\n",
    "    test_f1 = []; train_f1 = []\n",
    "    test_precision = []; train_precision = []\n",
    "    test_recall = []; train_recall = []\n",
    "    for val in tqdm(params[param]):\n",
    "        test_params = {param:val}\n",
    "        test_params.update(best_params)\n",
    "        classifier = ClassifierChain(RidgeClassifier(**test_params), n_jobs=-1)\n",
    "        classifier.fit(Xtrain_vec, ytrain)\n",
    "        predictions = classifier.predict(Xtest_vec)\n",
    "        train_preds = classifier.predict(Xtrain_vec)\n",
    "        test_acc.append(round(accuracy_score(ytest,predictions),3)); train_acc.append(round(accuracy_score(ytrain,train_preds),3))\n",
    "        test_f1.append(round(f1_score(ytest,predictions, average='macro',zero_division=0),3))\n",
    "        train_f1.append(round(f1_score(ytrain,train_preds, average='macro',zero_division=0),3))\n",
    "        test_precision.append(round(precision_score(ytest,predictions, average='macro', zero_division=0),3))\n",
    "        train_precision.append(round(precision_score(ytrain,train_preds, average='macro', zero_division=0),3))\n",
    "        test_recall.append(round(recall_score(ytest,predictions, average='macro', zero_division=0),3))\n",
    "        train_recall.append(round(recall_score(ytrain,train_preds, average='macro', zero_division=0),3))\n",
    "        test_hamming_loss.append(round(hamming_loss(ytest,predictions),3))\n",
    "        train_hamming_loss.append(round(hamming_loss(ytrain,train_preds),3))\n",
    "    best_params[param] = params[param][np.argmin(test_hamming_loss)]\n",
    "print(best_params)"
   ]
  },
  {
   "cell_type": "markdown",
   "id": "b4146890",
   "metadata": {},
   "source": [
    "### XGBoost"
   ]
  },
  {
   "cell_type": "code",
   "execution_count": null,
   "id": "4134e4bd",
   "metadata": {},
   "outputs": [],
   "source": [
    "params = {'max_depth':[None]+[i for i in range(3,25)]}#'booster': ['gbtree', 'gblinear', 'dart'], 'n_estimators': [i for i in range(100, 500, 25)]}\n",
    "best_params = {'booster': 'gbtree','n_estimators':100}"
   ]
  },
  {
   "cell_type": "code",
   "execution_count": null,
   "id": "e636a037",
   "metadata": {},
   "outputs": [],
   "source": [
    "for param in tqdm(params):\n",
    "    test_hamming_loss = []; train_hamming_loss = []\n",
    "    test_acc = []; train_acc = []\n",
    "    test_f1 = []; train_f1 = []\n",
    "    test_precision = []; train_precision = []\n",
    "    test_recall = []; train_recall = []\n",
    "    for val in tqdm(params[param]):\n",
    "        test_params = {param:val}\n",
    "        test_params.update(best_params)\n",
    "        classifier = ClassifierChain(XGBClassifier(**test_params), n_jobs=-1)\n",
    "        classifier.fit(Xtrain_vec, ytrain)\n",
    "        predictions = classifier.predict(Xtest_vec)\n",
    "        train_preds = classifier.predict(Xtrain_vec)\n",
    "        test_acc.append(round(accuracy_score(ytest,predictions),3)); train_acc.append(round(accuracy_score(ytrain,train_preds),3))\n",
    "        test_f1.append(round(f1_score(ytest,predictions, average='macro',zero_division=0),3))\n",
    "        train_f1.append(round(f1_score(ytrain,train_preds, average='macro',zero_division=0),3))\n",
    "        test_precision.append(round(precision_score(ytest,predictions, average='macro', zero_division=0),3))\n",
    "        train_precision.append(round(precision_score(ytrain,train_preds, average='macro', zero_division=0),3))\n",
    "        test_recall.append(round(recall_score(ytest,predictions, average='macro', zero_division=0),3))\n",
    "        train_recall.append(round(recall_score(ytrain,train_preds, average='macro', zero_division=0),3))\n",
    "        test_hamming_loss.append(round(hamming_loss(ytest,predictions),3))\n",
    "        train_hamming_loss.append(round(hamming_loss(ytrain,train_preds),3))\n",
    "    best_params[param] = params[param][np.argmin(test_hamming_loss)]\n",
    "print(best_params)"
   ]
  },
  {
   "cell_type": "markdown",
   "id": "2c133826",
   "metadata": {},
   "source": [
    "### Adaboost"
   ]
  },
  {
   "cell_type": "code",
   "execution_count": null,
   "id": "3afcafab",
   "metadata": {},
   "outputs": [],
   "source": [
    "params = {'base_estimator':[None, DecisionTreeClassifier(criterion='entropy', max_features='sqrt', class_weight=None, splitter='best')],\n",
    "          'n_estimators':[i for i in range(50, 550, 50)],\n",
    "          'learning_rate':[1*((10)**(i)) for i in range(-4,2,1)]\n",
    "         }\n",
    "best_params = {}"
   ]
  },
  {
   "cell_type": "code",
   "execution_count": null,
   "id": "39feface",
   "metadata": {
    "scrolled": true
   },
   "outputs": [],
   "source": [
    "for param in tqdm(params):\n",
    "    test_hamming_loss = []; train_hamming_loss = []\n",
    "    test_acc = []; train_acc = []\n",
    "    test_f1 = []; train_f1 = []\n",
    "    test_precision = []; train_precision = []\n",
    "    test_recall = []; train_recall = []\n",
    "    for val in tqdm(params[param]):\n",
    "        test_params = {param:val}\n",
    "        test_params.update(best_params)\n",
    "        classifier = ClassifierChain(AdaBoostClassifier(**test_params), n_jobs=-1)\n",
    "        classifier.fit(Xtrain_vec, ytrain)\n",
    "        predictions = classifier.predict(Xtest_vec)\n",
    "        train_preds = classifier.predict(Xtrain_vec)\n",
    "        test_acc.append(round(accuracy_score(ytest,predictions),3)); train_acc.append(round(accuracy_score(ytrain,train_preds),3))\n",
    "        test_f1.append(round(f1_score(ytest,predictions, average='macro',zero_division=0),3))\n",
    "        train_f1.append(round(f1_score(ytrain,train_preds, average='macro',zero_division=0),3))\n",
    "        test_precision.append(round(precision_score(ytest,predictions, average='macro', zero_division=0),3))\n",
    "        train_precision.append(round(precision_score(ytrain,train_preds, average='macro', zero_division=0),3))\n",
    "        test_recall.append(round(recall_score(ytest,predictions, average='macro', zero_division=0),3))\n",
    "        train_recall.append(round(recall_score(ytrain,train_preds, average='macro', zero_division=0),3))\n",
    "        test_hamming_loss.append(round(hamming_loss(ytest,predictions),3))\n",
    "        train_hamming_loss.append(round(hamming_loss(ytrain,train_preds),3))\n",
    "    best_params[param] = params[param][np.argmin(test_hamming_loss)]\n",
    "print(best_params)"
   ]
  },
  {
   "cell_type": "code",
   "execution_count": null,
   "id": "92842884",
   "metadata": {},
   "outputs": [],
   "source": [
    "AdaBoostClassifier('learning_rate'=1)"
   ]
  },
  {
   "cell_type": "code",
   "execution_count": null,
   "id": "0dbcc511",
   "metadata": {},
   "outputs": [],
   "source": []
  },
  {
   "cell_type": "markdown",
   "id": "68a132c2",
   "metadata": {},
   "source": [
    "## Hyper parameter optimization - Label Powerset"
   ]
  },
  {
   "cell_type": "markdown",
   "id": "ce107faf",
   "metadata": {},
   "source": [
    "### KNN"
   ]
  },
  {
   "cell_type": "code",
   "execution_count": null,
   "id": "ff58c197",
   "metadata": {},
   "outputs": [],
   "source": [
    "params = {'n_neighbors': [1]+[i for i in range(5,55,5)],\n",
    "         'weights':['uniform', 'distance'],\n",
    "         'p':[1,2]}\n",
    "best_params = {}"
   ]
  },
  {
   "cell_type": "code",
   "execution_count": null,
   "id": "4692fbea",
   "metadata": {},
   "outputs": [],
   "source": [
    "for param in params:\n",
    "    test_hamming_loss = []; train_hamming_loss = []\n",
    "    test_acc = []; train_acc = []\n",
    "    test_f1 = []; train_f1 = []\n",
    "    test_precision = []; train_precision = []\n",
    "    test_recall = []; train_recall = []\n",
    "    for val in params[param]:\n",
    "        test_params = {param:val}\n",
    "        test_params.update(best_params)\n",
    "        classifier = KNeighborsClassifier(**test_params)#, n_jobs=-1)\n",
    "        classifier.fit(Xtrain_vec, ytrain['powerlabel'])\n",
    "        predictions = classifier.predict(Xtest_vec)\n",
    "        train_preds = classifier.predict(Xtrain_vec)\n",
    "        test_acc.append(round(accuracy_score(ytest['powerlabel'],predictions),3)); train_acc.append(round(accuracy_score(ytrain['powerlabel'],train_preds),3))\n",
    "        test_f1.append(round(f1_score(ytest['powerlabel'],predictions, average='macro',zero_division=0),3))\n",
    "        train_f1.append(round(f1_score(ytrain['powerlabel'],train_preds, average='macro',zero_division=0),3))\n",
    "        test_precision.append(round(precision_score(ytest['powerlabel'],predictions, average='macro', zero_division=0),3))\n",
    "        train_precision.append(round(precision_score(ytrain['powerlabel'],train_preds, average='macro', zero_division=0),3))\n",
    "        test_recall.append(round(recall_score(ytest['powerlabel'],predictions, average='macro', zero_division=0),3))\n",
    "        train_recall.append(round(recall_score(ytrain['powerlabel'],train_preds, average='macro', zero_division=0),3))\n",
    "        test_hamming_loss.append(round(hamming_loss(ytest['powerlabel'],predictions),3))\n",
    "        train_hamming_loss.append(round(hamming_loss(ytrain['powerlabel'],train_preds),3))\n",
    "    best_params[param] = params[param][np.argmin(test_hamming_loss)]\n",
    "print(best_params)"
   ]
  },
  {
   "cell_type": "markdown",
   "id": "c3e93597",
   "metadata": {},
   "source": [
    "### SVM"
   ]
  },
  {
   "cell_type": "code",
   "execution_count": null,
   "id": "dd1ebc91",
   "metadata": {},
   "outputs": [],
   "source": [
    "params = {'C': [1*(10**i) for i in range(-4,2,1)],\n",
    "         'class_weight':[None, \"balanced\"],\n",
    "          'gamma': ['scale', 'auto',2],\n",
    "         'break_ties':[True,False]}\n",
    "best_params = {}"
   ]
  },
  {
   "cell_type": "code",
   "execution_count": null,
   "id": "797f4938",
   "metadata": {},
   "outputs": [],
   "source": [
    "for param in tqdm(params):\n",
    "    test_hamming_loss = []; train_hamming_loss = []\n",
    "    test_acc = []; train_acc = []\n",
    "    test_f1 = []; train_f1 = []\n",
    "    test_precision = []; train_precision = []\n",
    "    test_recall = []; train_recall = []\n",
    "    for val in tqdm(params[param]):\n",
    "        test_params = {param:val}\n",
    "        test_params.update(best_params)\n",
    "        classifier = SVC(**test_params)#, n_jobs=-1)\n",
    "        classifier.fit(Xtrain_vec, ytrain['powerlabel'])\n",
    "        predictions = classifier.predict(Xtest_vec)\n",
    "        train_preds = classifier.predict(Xtrain_vec)\n",
    "        test_acc.append(round(accuracy_score(ytest['powerlabel'],predictions),3)); train_acc.append(round(accuracy_score(ytrain['powerlabel'],train_preds),3))\n",
    "        test_f1.append(round(f1_score(ytest['powerlabel'],predictions, average='macro',zero_division=0),3))\n",
    "        train_f1.append(round(f1_score(ytrain['powerlabel'],train_preds, average='macro',zero_division=0),3))\n",
    "        test_precision.append(round(precision_score(ytest['powerlabel'],predictions, average='macro', zero_division=0),3))\n",
    "        train_precision.append(round(precision_score(ytrain['powerlabel'],train_preds, average='macro', zero_division=0),3))\n",
    "        test_recall.append(round(recall_score(ytest['powerlabel'],predictions, average='macro', zero_division=0),3))\n",
    "        train_recall.append(round(recall_score(ytrain['powerlabel'],train_preds, average='macro', zero_division=0),3))\n",
    "        test_hamming_loss.append(round(hamming_loss(ytest['powerlabel'],predictions),3))\n",
    "        train_hamming_loss.append(round(hamming_loss(ytrain['powerlabel'],train_preds),3))\n",
    "    best_params[param] = params[param][np.argmin(test_hamming_loss)]\n",
    "print(best_params)"
   ]
  },
  {
   "cell_type": "markdown",
   "id": "ecce5a7d",
   "metadata": {},
   "source": [
    "### Decision Tree"
   ]
  },
  {
   "cell_type": "code",
   "execution_count": null,
   "id": "15297191",
   "metadata": {},
   "outputs": [],
   "source": [
    "params = {'criterion':['gini', 'entropy'],\n",
    "         'max_features':['auto', 'sqrt', 'log2'],\n",
    "         'class_weight':[None, \"balanced\"],\n",
    "         'splitter':['best', 'random']}\n",
    "best_params = {}"
   ]
  },
  {
   "cell_type": "code",
   "execution_count": null,
   "id": "d686218c",
   "metadata": {},
   "outputs": [],
   "source": [
    "for param in tqdm(params):\n",
    "    test_hamming_loss = []; train_hamming_loss = []\n",
    "    test_acc = []; train_acc = []\n",
    "    test_f1 = []; train_f1 = []\n",
    "    test_precision = []; train_precision = []\n",
    "    test_recall = []; train_recall = []\n",
    "    for val in tqdm(params[param]):\n",
    "        test_params = {param:val}\n",
    "        test_params.update(best_params)\n",
    "        classifier = DecisionTreeClassifier(**test_params)#, n_jobs=-1)\n",
    "        classifier.fit(Xtrain_vec, ytrain['powerlabel'])\n",
    "        predictions = classifier.predict(Xtest_vec)\n",
    "        train_preds = classifier.predict(Xtrain_vec)\n",
    "        test_acc.append(round(accuracy_score(ytest['powerlabel'],predictions),3)); train_acc.append(round(accuracy_score(ytrain['powerlabel'],train_preds),3))\n",
    "        test_f1.append(round(f1_score(ytest['powerlabel'],predictions, average='macro',zero_division=0),3))\n",
    "        train_f1.append(round(f1_score(ytrain['powerlabel'],train_preds, average='macro',zero_division=0),3))\n",
    "        test_precision.append(round(precision_score(ytest['powerlabel'],predictions, average='macro', zero_division=0),3))\n",
    "        train_precision.append(round(precision_score(ytrain['powerlabel'],train_preds, average='macro', zero_division=0),3))\n",
    "        test_recall.append(round(recall_score(ytest['powerlabel'],predictions, average='macro', zero_division=0),3))\n",
    "        train_recall.append(round(recall_score(ytrain['powerlabel'],train_preds, average='macro', zero_division=0),3))\n",
    "        test_hamming_loss.append(round(hamming_loss(ytest['powerlabel'],predictions),3))\n",
    "        train_hamming_loss.append(round(hamming_loss(ytrain['powerlabel'],train_preds),3))\n",
    "    best_params[param] = params[param][np.argmin(test_hamming_loss)]\n",
    "print(best_params)"
   ]
  },
  {
   "cell_type": "markdown",
   "id": "c6ce9dd2",
   "metadata": {},
   "source": [
    "### Random Forest"
   ]
  },
  {
   "cell_type": "code",
   "execution_count": null,
   "id": "0e7e8848",
   "metadata": {},
   "outputs": [],
   "source": [
    "params = {'criterion':['gini', 'entropy'],\n",
    "         'max_features':['auto', 'sqrt', 'log2'],\n",
    "         'class_weight':[None, \"balanced\"],\n",
    "         'n_estimators':[i for i in range(50, 550, 50)]}\n",
    "best_params = {}"
   ]
  },
  {
   "cell_type": "code",
   "execution_count": null,
   "id": "bcb5d937",
   "metadata": {},
   "outputs": [],
   "source": [
    "for param in tqdm(params):\n",
    "    test_hamming_loss = []; train_hamming_loss = []\n",
    "    test_acc = []; train_acc = []\n",
    "    test_f1 = []; train_f1 = []\n",
    "    test_precision = []; train_precision = []\n",
    "    test_recall = []; train_recall = []\n",
    "    for val in tqdm(params[param]):\n",
    "        test_params = {param:val}\n",
    "        test_params.update(best_params)\n",
    "        classifier = RandomForestClassifier(**test_params)#, n_jobs=-1)\n",
    "        classifier.fit(Xtrain_vec, ytrain['powerlabel'])\n",
    "        predictions = classifier.predict(Xtest_vec)\n",
    "        train_preds = classifier.predict(Xtrain_vec)\n",
    "        test_acc.append(round(accuracy_score(ytest['powerlabel'],predictions),3)); train_acc.append(round(accuracy_score(ytrain['powerlabel'],train_preds),3))\n",
    "        test_f1.append(round(f1_score(ytest['powerlabel'],predictions, average='macro',zero_division=0),3))\n",
    "        train_f1.append(round(f1_score(ytrain['powerlabel'],train_preds, average='macro',zero_division=0),3))\n",
    "        test_precision.append(round(precision_score(ytest['powerlabel'],predictions, average='macro', zero_division=0),3))\n",
    "        train_precision.append(round(precision_score(ytrain['powerlabel'],train_preds, average='macro', zero_division=0),3))\n",
    "        test_recall.append(round(recall_score(ytest['powerlabel'],predictions, average='macro', zero_division=0),3))\n",
    "        train_recall.append(round(recall_score(ytrain['powerlabel'],train_preds, average='macro', zero_division=0),3))\n",
    "        test_hamming_loss.append(round(hamming_loss(ytest['powerlabel'],predictions),3))\n",
    "        train_hamming_loss.append(round(hamming_loss(ytrain['powerlabel'],train_preds),3))\n",
    "    best_params[param] = params[param][np.argmin(test_hamming_loss)]\n",
    "print(best_params)"
   ]
  },
  {
   "cell_type": "code",
   "execution_count": null,
   "id": "046e553d",
   "metadata": {},
   "outputs": [],
   "source": [
    "rf = RandomForestClassifier(criterion='entropy',max_features='auto', class_weight='balanced', n_estimators=100)"
   ]
  },
  {
   "cell_type": "markdown",
   "id": "9cd98554",
   "metadata": {},
   "source": [
    "### Logistic Regression"
   ]
  },
  {
   "cell_type": "code",
   "execution_count": null,
   "id": "59ed3b3c",
   "metadata": {},
   "outputs": [],
   "source": [
    "params = {'solver':['newton-cg', 'lbfgs', 'sag', 'saga'],\n",
    "          'C': [i for i in range(1,11,1)],\n",
    "         'class_weight':[None, \"balanced\"]}\n",
    "best_params = {}"
   ]
  },
  {
   "cell_type": "code",
   "execution_count": null,
   "id": "bbd067ce",
   "metadata": {},
   "outputs": [],
   "source": [
    "for param in tqdm(params):\n",
    "    test_hamming_loss = []; train_hamming_loss = []\n",
    "    test_acc = []; train_acc = []\n",
    "    test_f1 = []; train_f1 = []\n",
    "    test_precision = []; train_precision = []\n",
    "    test_recall = []; train_recall = []\n",
    "    for val in tqdm(params[param]):\n",
    "        test_params = {param:val}\n",
    "        test_params.update(best_params)\n",
    "        classifier = LogisticRegression(max_iter=10000,multi_class='ovr',**test_params)#, n_jobs=-1)\n",
    "        classifier.fit(Xtrain_vec, ytrain['powerlabel'])\n",
    "        predictions = classifier.predict(Xtest_vec)\n",
    "        train_preds = classifier.predict(Xtrain_vec)\n",
    "        test_acc.append(round(accuracy_score(ytest['powerlabel'],predictions),3)); train_acc.append(round(accuracy_score(ytrain['powerlabel'],train_preds),3))\n",
    "        test_f1.append(round(f1_score(ytest['powerlabel'],predictions, average='macro',zero_division=0),3))\n",
    "        train_f1.append(round(f1_score(ytrain['powerlabel'],train_preds, average='macro',zero_division=0),3))\n",
    "        test_precision.append(round(precision_score(ytest['powerlabel'],predictions, average='macro', zero_division=0),3))\n",
    "        train_precision.append(round(precision_score(ytrain['powerlabel'],train_preds, average='macro', zero_division=0),3))\n",
    "        test_recall.append(round(recall_score(ytest['powerlabel'],predictions, average='macro', zero_division=0),3))\n",
    "        train_recall.append(round(recall_score(ytrain['powerlabel'],train_preds, average='macro', zero_division=0),3))\n",
    "        test_hamming_loss.append(round(hamming_loss(ytest['powerlabel'],predictions),3))\n",
    "        train_hamming_loss.append(round(hamming_loss(ytrain['powerlabel'],train_preds),3))\n",
    "    best_params[param] = params[param][np.argmin(test_hamming_loss)]\n",
    "print(best_params)"
   ]
  },
  {
   "cell_type": "markdown",
   "id": "a5b56961",
   "metadata": {},
   "source": [
    "### MLP"
   ]
  },
  {
   "cell_type": "code",
   "execution_count": null,
   "id": "5690bce5",
   "metadata": {},
   "outputs": [],
   "source": [
    "params = {'alpha': [1*((10)**(i)) for i in range(-4,3,1)],\n",
    "         'learning_rate':['constant', 'invscaling', 'adaptive'],\n",
    "          'hidden_layer_sizes':[(50,), (50,50), (50,50,50), (100,), (100,100), (100,100,100)]}\n",
    "best_params = {}"
   ]
  },
  {
   "cell_type": "code",
   "execution_count": null,
   "id": "f2d88dfc",
   "metadata": {},
   "outputs": [],
   "source": [
    "for param in tqdm(params):\n",
    "    test_hamming_loss = []; train_hamming_loss = []\n",
    "    test_acc = []; train_acc = []\n",
    "    test_f1 = []; train_f1 = []\n",
    "    test_precision = []; train_precision = []\n",
    "    test_recall = []; train_recall = []\n",
    "    for val in tqdm(params[param]):\n",
    "        test_params = {param:val}\n",
    "        test_params.update(best_params)\n",
    "        classifier = MLPClassifier(max_iter=1000,**test_params)#, n_jobs=-1)\n",
    "        classifier.fit(Xtrain_vec, ytrain['powerlabel'])\n",
    "        predictions = classifier.predict(Xtest_vec)\n",
    "        train_preds = classifier.predict(Xtrain_vec)\n",
    "        test_acc.append(round(accuracy_score(ytest['powerlabel'],predictions),3)); train_acc.append(round(accuracy_score(ytrain['powerlabel'],train_preds),3))\n",
    "        test_f1.append(round(f1_score(ytest['powerlabel'],predictions, average='macro',zero_division=0),3))\n",
    "        train_f1.append(round(f1_score(ytrain['powerlabel'],train_preds, average='macro',zero_division=0),3))\n",
    "        test_precision.append(round(precision_score(ytest['powerlabel'],predictions, average='macro', zero_division=0),3))\n",
    "        train_precision.append(round(precision_score(ytrain['powerlabel'],train_preds, average='macro', zero_division=0),3))\n",
    "        test_recall.append(round(recall_score(ytest['powerlabel'],predictions, average='macro', zero_division=0),3))\n",
    "        train_recall.append(round(recall_score(ytrain['powerlabel'],train_preds, average='macro', zero_division=0),3))\n",
    "        test_hamming_loss.append(round(hamming_loss(ytest['powerlabel'],predictions),3))\n",
    "        train_hamming_loss.append(round(hamming_loss(ytrain['powerlabel'],train_preds),3))\n",
    "    best_params[param] = params[param][np.argmin(test_hamming_loss)]\n",
    "print(best_params)"
   ]
  },
  {
   "cell_type": "markdown",
   "id": "868a6942",
   "metadata": {},
   "source": [
    "### Ridge"
   ]
  },
  {
   "cell_type": "code",
   "execution_count": null,
   "id": "18ea29f1",
   "metadata": {},
   "outputs": [],
   "source": [
    "params = {'alpha': [1*((10)**(i)) for i in range(-4,3,1)],\n",
    "         'class_weight':[None, \"balanced\"]\n",
    "         }\n",
    "best_params = {}"
   ]
  },
  {
   "cell_type": "code",
   "execution_count": null,
   "id": "41f65841",
   "metadata": {},
   "outputs": [],
   "source": [
    "for param in tqdm(params):\n",
    "    test_hamming_loss = []; train_hamming_loss = []\n",
    "    test_acc = []; train_acc = []\n",
    "    test_f1 = []; train_f1 = []\n",
    "    test_precision = []; train_precision = []\n",
    "    test_recall = []; train_recall = []\n",
    "    for val in tqdm(params[param]):\n",
    "        test_params = {param:val}\n",
    "        test_params.update(best_params)\n",
    "        classifier = RidgeClassifier(**test_params)#, n_jobs=-1)\n",
    "        classifier.fit(Xtrain_vec, ytrain['powerlabel'])\n",
    "        predictions = classifier.predict(Xtest_vec)\n",
    "        train_preds = classifier.predict(Xtrain_vec)\n",
    "        test_acc.append(round(accuracy_score(ytest['powerlabel'],predictions),3)); train_acc.append(round(accuracy_score(ytrain['powerlabel'],train_preds),3))\n",
    "        test_f1.append(round(f1_score(ytest['powerlabel'],predictions, average='macro',zero_division=0),3))\n",
    "        train_f1.append(round(f1_score(ytrain['powerlabel'],train_preds, average='macro',zero_division=0),3))\n",
    "        test_precision.append(round(precision_score(ytest['powerlabel'],predictions, average='macro', zero_division=0),3))\n",
    "        train_precision.append(round(precision_score(ytrain['powerlabel'],train_preds, average='macro', zero_division=0),3))\n",
    "        test_recall.append(round(recall_score(ytest['powerlabel'],predictions, average='macro', zero_division=0),3))\n",
    "        train_recall.append(round(recall_score(ytrain['powerlabel'],train_preds, average='macro', zero_division=0),3))\n",
    "        test_hamming_loss.append(round(hamming_loss(ytest['powerlabel'],predictions),3))\n",
    "        train_hamming_loss.append(round(hamming_loss(ytrain['powerlabel'],train_preds),3))\n",
    "    best_params[param] = params[param][np.argmin(test_hamming_loss)]\n",
    "print(best_params)"
   ]
  },
  {
   "cell_type": "markdown",
   "id": "fc97ac9b",
   "metadata": {},
   "source": [
    "### XGBoost"
   ]
  },
  {
   "cell_type": "code",
   "execution_count": null,
   "id": "f10a5869",
   "metadata": {},
   "outputs": [],
   "source": [
    "params = {'max_depth':[None]+[i for i in range(3,25)]}#'booster': ['gbtree', 'gblinear', 'dart'], 'n_estimators': [i for i in range(100, 500, 25)]}\n",
    "best_params = {'booster': 'gbtree','n_estimators':100}"
   ]
  },
  {
   "cell_type": "code",
   "execution_count": null,
   "id": "c4118298",
   "metadata": {},
   "outputs": [],
   "source": [
    "for param in tqdm(params):\n",
    "    test_hamming_loss = []; train_hamming_loss = []\n",
    "    test_acc = []; train_acc = []\n",
    "    test_f1 = []; train_f1 = []\n",
    "    test_precision = []; train_precision = []\n",
    "    test_recall = []; train_recall = []\n",
    "    for val in tqdm(params[param]):\n",
    "        test_params = {param:val}\n",
    "        test_params.update(best_params)\n",
    "        classifier = XGBClassifier(**test_params)#, n_jobs=-1)\n",
    "        classifier.fit(Xtrain_vec, ytrain['powerlabel'])\n",
    "        predictions = classifier.predict(Xtest_vec)\n",
    "        train_preds = classifier.predict(Xtrain_vec)\n",
    "        test_acc.append(round(accuracy_score(ytest['powerlabel'],predictions),3)); train_acc.append(round(accuracy_score(ytrain['powerlabel'],train_preds),3))\n",
    "        test_f1.append(round(f1_score(ytest['powerlabel'],predictions, average='macro',zero_division=0),3))\n",
    "        train_f1.append(round(f1_score(ytrain['powerlabel'],train_preds, average='macro',zero_division=0),3))\n",
    "        test_precision.append(round(precision_score(ytest['powerlabel'],predictions, average='macro', zero_division=0),3))\n",
    "        train_precision.append(round(precision_score(ytrain['powerlabel'],train_preds, average='macro', zero_division=0),3))\n",
    "        test_recall.append(round(recall_score(ytest['powerlabel'],predictions, average='macro', zero_division=0),3))\n",
    "        train_recall.append(round(recall_score(ytrain['powerlabel'],train_preds, average='macro', zero_division=0),3))\n",
    "        test_hamming_loss.append(round(hamming_loss(ytest['powerlabel'],predictions),3))\n",
    "        train_hamming_loss.append(round(hamming_loss(ytrain['powerlabel'],train_preds),3))\n",
    "    best_params[param] = params[param][np.argmin(test_hamming_loss)]\n",
    "print(best_params)"
   ]
  },
  {
   "cell_type": "markdown",
   "id": "0439a983",
   "metadata": {},
   "source": [
    "### Adaboost"
   ]
  },
  {
   "cell_type": "code",
   "execution_count": null,
   "id": "ad2e31b0",
   "metadata": {},
   "outputs": [],
   "source": [
    "params = {'base_estimator':[None, DecisionTreeClassifier(criterion='entropy', max_features='sqrt', class_weight=None, splitter='best')],\n",
    "          'n_estimators':[i for i in range(50, 550, 50)],\n",
    "          'learning_rate':[1*((10)**(i)) for i in range(-4,2,1)]\n",
    "         }\n",
    "best_params = {}"
   ]
  },
  {
   "cell_type": "code",
   "execution_count": null,
   "id": "ef3a69d7",
   "metadata": {
    "scrolled": true
   },
   "outputs": [],
   "source": [
    "for param in tqdm(params):\n",
    "    test_hamming_loss = []; train_hamming_loss = []\n",
    "    test_acc = []; train_acc = []\n",
    "    test_f1 = []; train_f1 = []\n",
    "    test_precision = []; train_precision = []\n",
    "    test_recall = []; train_recall = []\n",
    "    for val in tqdm(params[param]):\n",
    "        test_params = {param:val}\n",
    "        test_params.update(best_params)\n",
    "        classifier = AdaBoostClassifier(**test_params)#, n_jobs=-1)\n",
    "        classifier.fit(Xtrain_vec, ytrain['powerlabel'])\n",
    "        predictions = classifier.predict(Xtest_vec)\n",
    "        train_preds = classifier.predict(Xtrain_vec)\n",
    "        test_acc.append(round(accuracy_score(ytest['powerlabel'],predictions),3)); train_acc.append(round(accuracy_score(ytrain['powerlabel'],train_preds),3))\n",
    "        test_f1.append(round(f1_score(ytest['powerlabel'],predictions, average='macro',zero_division=0),3))\n",
    "        train_f1.append(round(f1_score(ytrain['powerlabel'],train_preds, average='macro',zero_division=0),3))\n",
    "        test_precision.append(round(precision_score(ytest['powerlabel'],predictions, average='macro', zero_division=0),3))\n",
    "        train_precision.append(round(precision_score(ytrain['powerlabel'],train_preds, average='macro', zero_division=0),3))\n",
    "        test_recall.append(round(recall_score(ytest['powerlabel'],predictions, average='macro', zero_division=0),3))\n",
    "        train_recall.append(round(recall_score(ytrain['powerlabel'],train_preds, average='macro', zero_division=0),3))\n",
    "        test_hamming_loss.append(round(hamming_loss(ytest['powerlabel'],predictions),3))\n",
    "        train_hamming_loss.append(round(hamming_loss(ytrain['powerlabel'],train_preds),3))\n",
    "    best_params[param] = params[param][np.argmin(test_hamming_loss)]\n",
    "print(best_params)"
   ]
  },
  {
   "cell_type": "code",
   "execution_count": null,
   "id": "029ba6ea",
   "metadata": {},
   "outputs": [],
   "source": [
    "AdaBoostClassifier('learning_rate'=1)"
   ]
  },
  {
   "cell_type": "code",
   "execution_count": null,
   "id": "3e34627d",
   "metadata": {},
   "outputs": [],
   "source": []
  },
  {
   "cell_type": "code",
   "execution_count": null,
   "id": "43ef9d32",
   "metadata": {},
   "outputs": [],
   "source": []
  },
  {
   "cell_type": "code",
   "execution_count": null,
   "id": "ea58793a",
   "metadata": {},
   "outputs": [],
   "source": []
  },
  {
   "cell_type": "code",
   "execution_count": null,
   "id": "91c88159",
   "metadata": {},
   "outputs": [],
   "source": []
  }
 ],
 "metadata": {
  "kernelspec": {
   "display_name": "Python 3 (ipykernel)",
   "language": "python",
   "name": "python3"
  },
  "language_info": {
   "codemirror_mode": {
    "name": "ipython",
    "version": 3
   },
   "file_extension": ".py",
   "mimetype": "text/x-python",
   "name": "python",
   "nbconvert_exporter": "python",
   "pygments_lexer": "ipython3",
   "version": "3.8.5"
  }
 },
 "nbformat": 4,
 "nbformat_minor": 5
}
